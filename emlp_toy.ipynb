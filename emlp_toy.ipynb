{
 "cells": [
  {
   "cell_type": "code",
   "execution_count": 1,
   "metadata": {},
   "outputs": [],
   "source": [
    "%load_ext autoreload\n",
    "%autoreload 2"
   ]
  },
  {
   "cell_type": "code",
   "execution_count": 7,
   "metadata": {},
   "outputs": [],
   "source": [
    "from emlp.equivariant_subspaces import T,Scalar,Matrix,Vector,Quad,repsize\n",
    "from emlp.mlp import MLP, EMLP,LieLinear\n",
    "import itertools\n",
    "import numpy as np\n",
    "import torch\n",
    "from emlp.datasets import Inertia"
   ]
  },
  {
   "cell_type": "code",
   "execution_count": 8,
   "metadata": {},
   "outputs": [],
   "source": [
    "# A = np.zeros((3,3))\n",
    "# rots = [np.copy(A) for i in [1,2,3]]\n",
    "# rots[0][0,1] = 1\n",
    "# rots[1][1,2] =1\n",
    "# rots[2][2,0] = 1\n",
    "# rots = [Ai-Ai.T for Ai in rots]\n",
    "\n",
    "e3 = np.zeros((3,3,3))\n",
    "for n,(i,j,k) in enumerate(itertools.permutations((0,1,2))):\n",
    "    e3[i,j,k] = 2*((n+1)%2-.5)\n",
    "    \n",
    "e2 = np.zeros((1,2,2))\n",
    "for n,(i,j) in enumerate(itertools.permutations((0,1))):\n",
    "    e2[0,i,j] = 2*((n+1)%2-.5)\n",
    "    \n",
    "A = np.zeros((4,4))\n",
    "rots = [np.copy(A) for i in [1,2,3]]\n",
    "rots[0][1,2] = 1\n",
    "rots[1][2,3] =1\n",
    "rots[2][3,1] = 1\n",
    "rots = [Ai-Ai.T for Ai in rots]\n",
    "lorentzs = [np.copy(A) for i in [1,2,3]]\n",
    "lorentzs[0][0,1] = 1\n",
    "lorentzs[1][0,2] =1\n",
    "lorentzs[2][0,3] = 1\n",
    "lorentzs = [Ai+Ai.T for Ai in lorentzs]\n",
    "e4 = lorentzs+rots"
   ]
  },
  {
   "cell_type": "code",
   "execution_count": 3,
   "metadata": {},
   "outputs": [
    {
     "data": {
      "text/plain": [
       "array([[[ 0.,  1.],\n",
       "        [-1.,  0.]]])"
      ]
     },
     "execution_count": 3,
     "metadata": {},
     "output_type": "execute_result"
    }
   ],
   "source": [
    "e2"
   ]
  },
  {
   "cell_type": "code",
   "execution_count": 4,
   "metadata": {},
   "outputs": [],
   "source": [
    "# ds = Inertia(10)\n",
    "# repmiddle = 100*T(0)+30*T(1)+10*T(2)+3*T(3)#+1*T(4)\n",
    "# model = EMLP(ds.rep_in,ds.rep_out,repmiddle,3,e3)"
   ]
  },
  {
   "cell_type": "code",
   "execution_count": 19,
   "metadata": {},
   "outputs": [],
   "source": [
    "import torch\n",
    "from torch.utils.data import DataLoader\n",
    "from torch.optim import SGD,AdamW\n",
    "from oil.utils.utils import LoaderTo, cosLr, islice, export,FixedNumpySeed\n",
    "from oil.tuning.study import train_trial\n",
    "from oil.datasetup.datasets import split_dataset\n",
    "from oil.model_trainers.classifier import Regressor\n",
    "from functools import partial\n",
    "\n",
    "repmiddle = 100*T(0)+30*T(1)+10*T(2)+3*T(3)#+1*T(4)\n",
    "\n",
    "def makeTrainer(*,dataset=Inertia,network=EMLP,num_epochs=500,ndata=1000,seed=2020,\n",
    "                bs=200,lr=1e-2,optim=AdamW,device='cuda',split={'train':-1,'test':.2},\n",
    "                net_config={'rep_middle':repmiddle,'num_layers':4,'algebra':e3},opt_config={'weight_decay':3e-6},\n",
    "                trainer_config={'log_dir':None,'log_args':{'minPeriod':.02}},save=False):\n",
    "\n",
    "    # Prep the datasets splits, model, and dataloaders\n",
    "    with FixedNumpySeed(seed):\n",
    "        datasets = split_dataset(dataset(ndata),splits=split)\n",
    "\n",
    "    device = torch.device(device)\n",
    "    model = network(datasets['train'].rep_in,datasets['train'].rep_out,**net_config).to(device)\n",
    "    dataloaders = {k:LoaderTo(DataLoader(v,batch_size=bs,shuffle=(k=='train'),\n",
    "                num_workers=0,pin_memory=False),device) for k,v in datasets.items()}\n",
    "    dataloaders['Train'] = dataloaders['train']\n",
    "    opt_constr = partial(optim, lr=lr, **opt_config)\n",
    "    lr_sched = cosLr(num_epochs)\n",
    "    return Regressor(model,dataloaders,opt_constr,lr_sched,**trainer_config)"
   ]
  },
  {
   "cell_type": "code",
   "execution_count": null,
   "metadata": {},
   "outputs": [],
   "source": [
    "trainer = makeTrainer(network=EMLP)\n",
    "trainer.train(500)"
   ]
  },
  {
   "cell_type": "code",
   "execution_count": null,
   "metadata": {},
   "outputs": [],
   "source": []
  },
  {
   "cell_type": "code",
   "execution_count": 20,
   "metadata": {},
   "outputs": [
    {
     "name": "stdout",
     "output_type": "stream",
     "text": [
      "W components:90900 dim:8605 shape:(404, 225) rep:4290T(0)+5905T(1)+2780T(2)+740T(3)+205T(4)+30T(5) @ d=3\n",
      "bias components:404 dim:156 shape:143T(0)+30T(1)+10T(2)+3T(3) @ d=3 rep:143T(0)+30T(1)+10T(2)+3T(3) @ d=3\n",
      "W components:309060 dim:47296 shape:(404, 765) rep:34749T(0)+15870T(1)+7090T(2)+2787T(3)+560T(4)+120T(5)+18T(6) @ d=3\n",
      "bias components:404 dim:156 shape:143T(0)+30T(1)+10T(2)+3T(3) @ d=3 rep:143T(0)+30T(1)+10T(2)+3T(3) @ d=3\n",
      "W components:309060 dim:47296 shape:(404, 765) rep:34749T(0)+15870T(1)+7090T(2)+2787T(3)+560T(4)+120T(5)+18T(6) @ d=3\n",
      "bias components:404 dim:156 shape:143T(0)+30T(1)+10T(2)+3T(3) @ d=3 rep:143T(0)+30T(1)+10T(2)+3T(3) @ d=3\n",
      "W components:3249 dim:178 shape:(9, 361) rep:100T(2)+30T(3)+10T(4)+3T(5) @ d=3\n",
      "bias components:9 dim:1 shape:T(2) @ d=3 rep:T(2) @ d=3\n"
     ]
    },
    {
     "data": {
      "application/vnd.jupyter.widget-view+json": {
       "model_id": "98e7892cdaee45f7b51a24c7815596dd",
       "version_major": 2,
       "version_minor": 0
      },
      "text/plain": [
       "HBox(children=(FloatProgress(value=0.0, description='train', max=500.0, style=ProgressStyle(description_width=…"
      ]
     },
     "metadata": {},
     "output_type": "display_data"
    },
    {
     "name": "stdout",
     "output_type": "stream",
     "text": [
      "   Minibatch_Loss    Train_MSE   lr0     test_MSE\n",
      "0      213.636185  4602.244995  0.01  4892.752441\n",
      "    Minibatch_Loss  Train_MSE      lr0  test_MSE\n",
      "42         7.74065   7.543746  0.00999  7.909051\n",
      "    Minibatch_Loss  Train_MSE       lr0  test_MSE\n",
      "85        5.355159   4.785778  0.009957  5.879098\n",
      "     Minibatch_Loss  Train_MSE       lr0  test_MSE\n",
      "128        2.676827   2.725759  0.009901  4.363717\n",
      "     Minibatch_Loss  Train_MSE       lr0  test_MSE\n",
      "171        2.262783   2.013654  0.009823  2.924067\n",
      "     Minibatch_Loss  Train_MSE       lr0  test_MSE\n",
      "213        1.493011   1.441303  0.009725  2.180519\n",
      "     Minibatch_Loss  Train_MSE       lr0  test_MSE\n",
      "256        1.041512   0.873893  0.009604  1.702954\n",
      "     Minibatch_Loss  Train_MSE       lr0  test_MSE\n",
      "299        0.950244   0.699837  0.009462  1.288331\n",
      "     Minibatch_Loss  Train_MSE     lr0  test_MSE\n",
      "342        0.589097   0.541179  0.0093   0.88115\n",
      "     Minibatch_Loss  Train_MSE       lr0  test_MSE\n",
      "385        0.460797   0.371463  0.009118  0.785957\n",
      "     Minibatch_Loss  Train_MSE       lr0  test_MSE\n",
      "428         0.46872   0.309165  0.008917  0.627644\n",
      "     Minibatch_Loss  Train_MSE       lr0  test_MSE\n",
      "471        0.293415   0.252995  0.008698  0.526038\n",
      "     Minibatch_Loss  Train_MSE       lr0  test_MSE\n",
      "514         0.29893   0.237799  0.008463  0.581461\n",
      "     Minibatch_Loss  Train_MSE       lr0  test_MSE\n",
      "556        0.238362   0.196276  0.008217  0.480377\n",
      "     Minibatch_Loss  Train_MSE       lr0  test_MSE\n",
      "598         0.26013   0.160818  0.007958   0.46739\n",
      "     Minibatch_Loss  Train_MSE       lr0  test_MSE\n",
      "641         0.16754   0.143238  0.007679  0.436428\n",
      "     Minibatch_Loss  Train_MSE       lr0  test_MSE\n",
      "684        0.203022   0.132849  0.007388   0.42558\n",
      "     Minibatch_Loss  Train_MSE       lr0  test_MSE\n",
      "727        0.243641   0.169702  0.007086  0.410582\n",
      "     Minibatch_Loss  Train_MSE       lr0  test_MSE\n",
      "769        0.278362   0.109473  0.006782  0.374887\n",
      "     Minibatch_Loss  Train_MSE       lr0  test_MSE\n",
      "812        0.134641   0.102286  0.006463  0.352324\n",
      "     Minibatch_Loss  Train_MSE       lr0  test_MSE\n",
      "854        0.187358   0.135413  0.006144  0.354045\n",
      "     Minibatch_Loss  Train_MSE       lr0  test_MSE\n",
      "897        0.176008     0.1304  0.005813  0.339144\n",
      "     Minibatch_Loss  Train_MSE       lr0  test_MSE\n",
      "939        0.179009   0.101147  0.005486  0.343655\n",
      "     Minibatch_Loss  Train_MSE       lr0  test_MSE\n",
      "981         0.11878   0.075667  0.005157  0.300007\n",
      "      Minibatch_Loss  Train_MSE       lr0  test_MSE\n",
      "1023        0.167725    0.08218  0.004827  0.296121\n",
      "      Minibatch_Loss  Train_MSE       lr0  test_MSE\n",
      "1065        0.127462   0.080696  0.004498  0.280737\n",
      "      Minibatch_Loss  Train_MSE       lr0  test_MSE\n",
      "1108        0.095132   0.069048  0.004164  0.266853\n",
      "      Minibatch_Loss  Train_MSE      lr0  test_MSE\n",
      "1150        0.160542   0.080831  0.00384   0.27152\n",
      "      Minibatch_Loss  Train_MSE       lr0  test_MSE\n",
      "1192        0.108041   0.060002  0.003522  0.266809\n",
      "      Minibatch_Loss  Train_MSE       lr0  test_MSE\n",
      "1233        0.131371   0.060099  0.003218  0.244592\n",
      "      Minibatch_Loss  Train_MSE       lr0  test_MSE\n",
      "1276        0.117728   0.055642  0.002907  0.245108\n",
      "      Minibatch_Loss  Train_MSE       lr0  test_MSE\n",
      "1318        0.122939    0.05617  0.002612  0.250227\n",
      "      Minibatch_Loss  Train_MSE       lr0  test_MSE\n",
      "1361         0.11552   0.054655  0.002321  0.247711\n",
      "      Minibatch_Loss  Train_MSE       lr0  test_MSE\n",
      "1403        0.089169   0.053116  0.002048  0.237514\n",
      "      Minibatch_Loss  Train_MSE       lr0  test_MSE\n",
      "1445         0.10686   0.051628  0.001789  0.221268\n",
      "      Minibatch_Loss  Train_MSE       lr0  test_MSE\n",
      "1487        0.092609    0.05073  0.001543  0.221405\n",
      "      Minibatch_Loss  Train_MSE       lr0  test_MSE\n",
      "1529        0.105697   0.048041  0.001312  0.222756\n",
      "      Minibatch_Loss  Train_MSE       lr0  test_MSE\n",
      "1571        0.108325   0.047227  0.001098  0.221254\n",
      "      Minibatch_Loss  Train_MSE     lr0  test_MSE\n",
      "1613        0.139078   0.048119  0.0009  0.222479\n",
      "      Minibatch_Loss  Train_MSE      lr0  test_MSE\n",
      "1655        0.075316   0.046197  0.00072  0.218258\n",
      "      Minibatch_Loss  Train_MSE       lr0  test_MSE\n",
      "1697        0.093134   0.048276  0.000559  0.223054\n",
      "      Minibatch_Loss  Train_MSE       lr0  test_MSE\n",
      "1740        0.089225   0.045763  0.000414   0.22098\n",
      "      Minibatch_Loss  Train_MSE       lr0  test_MSE\n",
      "1782        0.068081   0.045166  0.000293   0.22287\n",
      "      Minibatch_Loss  Train_MSE       lr0  test_MSE\n",
      "1824         0.07102   0.045622  0.000192  0.219695\n",
      "      Minibatch_Loss  Train_MSE      lr0  test_MSE\n",
      "1867        0.153036   0.044736  0.00011  0.218162\n",
      "      Minibatch_Loss  Train_MSE       lr0  test_MSE\n",
      "1909        0.095308   0.045322  0.000052  0.219877\n",
      "      Minibatch_Loss  Train_MSE       lr0  test_MSE\n",
      "1951        0.086402   0.044454  0.000015  0.219769\n",
      "      Minibatch_Loss  Train_MSE      lr0  test_MSE\n",
      "1994        0.129414   0.045143  0.00001   0.22124\n",
      "\n",
      "      Minibatch_Loss  Train_MSE      lr0  test_MSE\n",
      "1999             NaN    0.04489  0.00001  0.219184\n"
     ]
    }
   ],
   "source": []
  },
  {
   "cell_type": "code",
   "execution_count": 21,
   "metadata": {},
   "outputs": [],
   "source": [
    "import scipy as sp\n",
    "from scipy.linalg import expm"
   ]
  },
  {
   "cell_type": "code",
   "execution_count": 22,
   "metadata": {},
   "outputs": [],
   "source": [
    "x = next(iter(trainer.dataloaders['test']))[0]\n",
    "xsmall = x[:1]"
   ]
  },
  {
   "cell_type": "code",
   "execution_count": 23,
   "metadata": {},
   "outputs": [],
   "source": [
    "R = expm(e3[0])\n",
    "Rin = torch.from_numpy(trainer.dataloaders['train'].dataset.rep_in.rho(R)).to(x.device,x.dtype)\n",
    "Rout = torch.from_numpy(trainer.dataloaders['train'].dataset.rep_out.rho(R)).to(x.device,x.dtype)\n",
    "from oil.utils.utils import Eval\n",
    "with Eval(trainer.model):\n",
    "    print(trainer.model(xsmall@Rin.T))\n",
    "    print(trainer.model(xsmall)@Rout.T)"
   ]
  },
  {
   "cell_type": "code",
   "execution_count": 25,
   "metadata": {},
   "outputs": [
    {
     "name": "stdout",
     "output_type": "stream",
     "text": [
      "tensor([[ 2.2257, -2.1078,  1.3550, -2.1366,  6.4356,  0.7728,  1.3129,  0.9820,\n",
      "          7.0528]], device='cuda:0', grad_fn=<SqueezeBackward1>)\n",
      "tensor([[ 2.2257, -2.1078,  1.3550, -2.1366,  6.4356,  0.7728,  1.3129,  0.9820,\n",
      "          7.0528]], device='cuda:0', grad_fn=<MmBackward>)\n"
     ]
    }
   ],
   "source": []
  },
  {
   "cell_type": "code",
   "execution_count": 21,
   "metadata": {},
   "outputs": [],
   "source": [
    "#repmiddle = 30*T(0)+10*T(1)+5*T(2)+2*T(3)#+2*T(3,0)+2*T(2,1)+2*T(1,2)+2*T(0,3)\n",
    "repmiddle =100*T(0)+30*T(1)+10*T(2)+3*T(3)#+2*T(3,0)+2*T(2,1)+2*T(1,2)+2*T(0,3)"
   ]
  },
  {
   "cell_type": "code",
   "execution_count": 22,
   "metadata": {},
   "outputs": [
    {
     "data": {
      "text/plain": [
       "2T(0)+2T(1)+2T(2)+T(3)+T(4) @ d=2"
      ]
     },
     "execution_count": 22,
     "metadata": {},
     "output_type": "execute_result"
    }
   ],
   "source": [
    "repmiddle(e2)"
   ]
  },
  {
   "cell_type": "code",
   "execution_count": 23,
   "metadata": {},
   "outputs": [],
   "source": [
    "#(repmiddle*repmiddle.T).symmetric_subspace()[0]"
   ]
  },
  {
   "cell_type": "code",
   "execution_count": 24,
   "metadata": {},
   "outputs": [],
   "source": [
    "#(repmiddle*repmiddle.T).size()"
   ]
  },
  {
   "cell_type": "code",
   "execution_count": 25,
   "metadata": {},
   "outputs": [
    {
     "data": {
      "text/plain": [
       "4T(0)+8T(1)+12T(2)+12T(3)+12T(4)+8T(5)+5T(6)+2T(7)+T(8) @ d=2"
      ]
     },
     "execution_count": 25,
     "metadata": {},
     "output_type": "execute_result"
    }
   ],
   "source": [
    "repmiddle*repmiddle#.T"
   ]
  },
  {
   "cell_type": "code",
   "execution_count": 26,
   "metadata": {},
   "outputs": [],
   "source": [
    "from emlp.mlp import capped_tensor_product"
   ]
  },
  {
   "cell_type": "code",
   "execution_count": 27,
   "metadata": {},
   "outputs": [],
   "source": [
    "v = repmiddle.show_subspace()"
   ]
  },
  {
   "cell_type": "code",
   "execution_count": 28,
   "metadata": {},
   "outputs": [
    {
     "data": {
      "text/plain": [
       "tensor([  1.0000,   2.0000,   0.0000,   0.0000,   0.0000,   0.0000,  -3.5000,\n",
       "         -0.5000,   0.5000,  -3.5000,  -5.5000,  -0.5000,   0.5000,  -5.5000,\n",
       "          0.0000,   0.0000,   0.0000,   0.0000,   0.0000,   0.0000,   0.0000,\n",
       "          0.0000,  -1.0970,  11.2701,  -7.3964,  -7.3549,  -2.3831,   5.8674,\n",
       "          0.3905,   1.4907,  -1.4907,   0.3905,   5.8674,   2.3831,  -7.3549,\n",
       "          7.3964, -11.2701,  -1.0970])"
      ]
     },
     "execution_count": 28,
     "metadata": {},
     "output_type": "execute_result"
    }
   ],
   "source": [
    "v"
   ]
  },
  {
   "cell_type": "code",
   "execution_count": 29,
   "metadata": {},
   "outputs": [],
   "source": [
    "outrep,outv = cappedTensorProduct(repmiddle,v,repmiddle)"
   ]
  },
  {
   "cell_type": "code",
   "execution_count": 30,
   "metadata": {},
   "outputs": [],
   "source": [
    "#(repmiddle*repmiddle).ranks"
   ]
  },
  {
   "cell_type": "code",
   "execution_count": 31,
   "metadata": {},
   "outputs": [
    {
     "data": {
      "text/plain": [
       "[(0, 0),\n",
       " (0, 0),\n",
       " (1, 0),\n",
       " (1, 0),\n",
       " (2, 0),\n",
       " (2, 0),\n",
       " (3, 0),\n",
       " (4, 0),\n",
       " (0, 0),\n",
       " (0, 0),\n",
       " (1, 0),\n",
       " (1, 0),\n",
       " (2, 0),\n",
       " (2, 0),\n",
       " (3, 0),\n",
       " (4, 0)]"
      ]
     },
     "execution_count": 31,
     "metadata": {},
     "output_type": "execute_result"
    }
   ],
   "source": [
    "outrep.ranks"
   ]
  },
  {
   "cell_type": "code",
   "execution_count": 32,
   "metadata": {},
   "outputs": [
    {
     "data": {
      "text/plain": [
       "tensor([  1.0000,   2.0000,   0.0000,   0.0000,   0.0000,   0.0000,  -3.5000,\n",
       "         -0.5000,   0.5000,  -3.5000,  -5.5000,  -0.5000,   0.5000,  -5.5000,\n",
       "          0.0000,   0.0000,   0.0000,   0.0000,   0.0000,   0.0000,   0.0000,\n",
       "          0.0000,  -1.0970,  11.2701,  -7.3964,  -7.3549,  -2.3831,   5.8674,\n",
       "          0.3905,   1.4907,  -1.4907,   0.3905,   5.8674,   2.3831,  -7.3549,\n",
       "          7.3964, -11.2701,  -1.0970])"
      ]
     },
     "execution_count": 32,
     "metadata": {},
     "output_type": "execute_result"
    }
   ],
   "source": [
    "v"
   ]
  },
  {
   "cell_type": "code",
   "execution_count": 33,
   "metadata": {},
   "outputs": [
    {
     "data": {
      "text/plain": [
       "tensor([  1.0000,   2.0000,   0.0000,   0.0000,   0.0000,   0.0000,  -3.5000,\n",
       "         -0.5000,   0.5000,  -3.5000,  -5.5000,  -0.5000,   0.5000,  -5.5000,\n",
       "          0.0000,   0.0000,   0.0000,   0.0000,   0.0000,   0.0000,   0.0000,\n",
       "          0.0000,  -1.0970,  11.2701,  -7.3964,  -7.3549,  -2.3831,   5.8674,\n",
       "          0.3905,   1.4907,  -1.4907,   0.3905,   5.8674,   2.3831,  -7.3549,\n",
       "          7.3964, -11.2701,  -1.0970,   1.0000,   1.0000,   0.0000,   0.0000,\n",
       "          0.0000,   0.0000,   0.0000,   0.0000,   0.0000,   0.0000,   0.0000,\n",
       "          0.0000,   0.0000,   0.0000,   0.0000,   0.0000,   0.0000,   0.0000,\n",
       "          0.0000,   0.0000,   0.0000,   0.0000,   0.0000,   0.0000,   0.0000,\n",
       "          0.0000,   0.0000,   0.0000,   0.0000,   0.0000,   0.0000,   0.0000,\n",
       "          0.0000,   0.0000,   0.0000,   0.0000,   0.0000,   0.0000])"
      ]
     },
     "execution_count": 33,
     "metadata": {},
     "output_type": "execute_result"
    }
   ],
   "source": [
    "outv"
   ]
  },
  {
   "cell_type": "code",
   "execution_count": 34,
   "metadata": {},
   "outputs": [
    {
     "data": {
      "text/plain": [
       "array([ 0.00000000e+00,  0.00000000e+00,  0.00000000e+00,  0.00000000e+00,\n",
       "        0.00000000e+00,  0.00000000e+00,  0.00000000e+00,  0.00000000e+00,\n",
       "        0.00000000e+00,  0.00000000e+00,  0.00000000e+00,  0.00000000e+00,\n",
       "        0.00000000e+00,  0.00000000e+00,  0.00000000e+00,  0.00000000e+00,\n",
       "        0.00000000e+00,  0.00000000e+00,  0.00000000e+00,  0.00000000e+00,\n",
       "        0.00000000e+00,  0.00000000e+00, -2.38418579e-07,  2.38418579e-07,\n",
       "        2.38418579e-07,  2.38418579e-07,  2.38418579e-07,  2.38418579e-07,\n",
       "        2.38418579e-07, -2.38418579e-07,  2.38418579e-07,  2.38418579e-07,\n",
       "        2.38418579e-07, -2.38418579e-07,  2.38418579e-07, -2.38418579e-07,\n",
       "       -2.38418579e-07, -2.38418579e-07,  0.00000000e+00,  0.00000000e+00,\n",
       "        0.00000000e+00,  0.00000000e+00,  0.00000000e+00,  0.00000000e+00,\n",
       "        0.00000000e+00,  0.00000000e+00,  0.00000000e+00,  0.00000000e+00,\n",
       "        0.00000000e+00,  0.00000000e+00,  0.00000000e+00,  0.00000000e+00,\n",
       "        0.00000000e+00,  0.00000000e+00,  0.00000000e+00,  0.00000000e+00,\n",
       "        0.00000000e+00,  0.00000000e+00,  0.00000000e+00,  0.00000000e+00,\n",
       "        0.00000000e+00,  0.00000000e+00,  0.00000000e+00,  0.00000000e+00,\n",
       "        0.00000000e+00,  0.00000000e+00,  0.00000000e+00,  0.00000000e+00,\n",
       "        0.00000000e+00,  0.00000000e+00,  0.00000000e+00,  0.00000000e+00,\n",
       "        0.00000000e+00,  0.00000000e+00,  0.00000000e+00,  0.00000000e+00])"
      ]
     },
     "execution_count": 34,
     "metadata": {},
     "output_type": "execute_result"
    }
   ],
   "source": [
    "outrep.drho(e2[0])@outv.numpy()"
   ]
  },
  {
   "cell_type": "code",
   "execution_count": 21,
   "metadata": {},
   "outputs": [
    {
     "data": {
      "text/plain": [
       "(16, 16)"
      ]
     },
     "execution_count": 21,
     "metadata": {},
     "output_type": "execute_result"
    }
   ],
   "source": [
    "outrep.drho(e2[0]).shape"
   ]
  },
  {
   "cell_type": "markdown",
   "metadata": {},
   "source": [
    "$SO(2): \\quad 1,\\_, \\delta_{ij},\\_, \\epsilon_{ij}, ...$"
   ]
  },
  {
   "cell_type": "code",
   "execution_count": 12,
   "metadata": {
    "scrolled": true
   },
   "outputs": [
    {
     "name": "stdout",
     "output_type": "stream",
     "text": [
      "T(0): 1\n",
      "T(1): 0\n",
      "T(2): 2\n",
      "T(3): 0\n",
      "T(4): 6\n",
      "T(5): 0\n",
      "T(6): 20\n",
      "T(7): 0\n"
     ]
    }
   ],
   "source": [
    "for i in range(8):\n",
    "    print(f\"T({i}): {T(i)(e2).symmetric_subspace()[0]}\")"
   ]
  },
  {
   "cell_type": "code",
   "execution_count": 13,
   "metadata": {},
   "outputs": [
    {
     "name": "stdout",
     "output_type": "stream",
     "text": [
      "T(4): tensor([[[[-0.2377,  4.8377],\n",
      "          [-3.4782, -2.0066]],\n",
      "\n",
      "         [[ 0.0995,  1.9364],\n",
      "          [-0.1675,  1.4590]]],\n",
      "\n",
      "\n",
      "        [[[-1.4590, -0.1675],\n",
      "          [ 1.9364, -0.0995]],\n",
      "\n",
      "         [[-2.0066,  3.4782],\n",
      "          [-4.8377, -0.2377]]]])\n"
     ]
    }
   ],
   "source": [
    "print(f\"T({4}): {T(4)(e2).show_subspace().reshape(2,2,2,2)}\")"
   ]
  },
  {
   "cell_type": "markdown",
   "metadata": {},
   "source": [
    "$SO(3): \\quad 1, \\_, \\delta_{ij}, \\epsilon_{ijk}, \\delta_{ij}\\delta_{k\\ell}, \\delta_{ik}\\delta_{j\\ell}, \\delta_{jk}\\delta_{i\\ell}, ...$"
   ]
  },
  {
   "cell_type": "code",
   "execution_count": 11,
   "metadata": {
    "scrolled": true
   },
   "outputs": [
    {
     "name": "stdout",
     "output_type": "stream",
     "text": [
      "T(0): 1\n",
      "T(1): 0\n",
      "T(2): 1\n",
      "T(3): 1\n",
      "T(4): 3\n",
      "T(5): 6\n",
      "T(6): 15\n",
      "T(7): 36\n"
     ]
    }
   ],
   "source": [
    "for i in range(8):\n",
    "    print(f\"T({i}): {T(i)(e3).symmetric_subspace()[0]}\")"
   ]
  },
  {
   "cell_type": "markdown",
   "metadata": {},
   "source": [
    "$SO^+(1,3): \\quad 1, \\_, \\delta_{\\mu}^\\nu, \\eta_{\\mu\\nu}, \\eta^{\\mu\\nu},\\_,\\epsilon_{\\mu\\nu\\sigma\\tau},\\eta_{\\mu\\nu}\\eta_{\\sigma\\tau},...$"
   ]
  },
  {
   "cell_type": "code",
   "execution_count": null,
   "metadata": {},
   "outputs": [],
   "source": [
    "for i in range(6):\n",
    "    for j in range(i+1):\n",
    "        print(f\"T{i-j,j}: {T(i-j,j)(e4).symmetric_subspace()[0]}\")"
   ]
  },
  {
   "cell_type": "markdown",
   "metadata": {},
   "source": [
    "#### $SO(2)_{xy}$ in $\\mathbb{R}^3$"
   ]
  },
  {
   "cell_type": "code",
   "execution_count": 7,
   "metadata": {},
   "outputs": [
    {
     "name": "stdout",
     "output_type": "stream",
     "text": [
      "T(0): 1\n",
      "T(1): 1\n",
      "T(2): 3\n",
      "T(3): 7\n",
      "T(4): 19\n",
      "T(5): 51\n",
      "T(6): 141\n",
      "T(7): 393\n"
     ]
    }
   ],
   "source": [
    "for i in range(8):\n",
    "    print(f\"T({i}): {T(i)(e3[:1]).symmetric_subspace()[0]}\")"
   ]
  },
  {
   "cell_type": "code",
   "execution_count": 15,
   "metadata": {},
   "outputs": [
    {
     "name": "stdout",
     "output_type": "stream",
     "text": [
      "T(0): 1\n",
      "T(1): 3\n",
      "T(2): 9\n",
      "T(3): 27\n",
      "T(4): 81\n",
      "T(5): 243\n",
      "T(6): 729\n",
      "T(7): 2187\n"
     ]
    }
   ],
   "source": [
    "for i in range(8):\n",
    "    print(f\"T({i}): {T(i)(0*e3[:1]).symmetric_subspace()[0]}\")"
   ]
  },
  {
   "cell_type": "code",
   "execution_count": 2,
   "metadata": {},
   "outputs": [
    {
     "data": {
      "text/plain": [
       "<function _VariableFunctionsClass.cat>"
      ]
     },
     "execution_count": 2,
     "metadata": {},
     "output_type": "execute_result"
    }
   ],
   "source": [
    "import torch\n",
    "torch.cat"
   ]
  },
  {
   "cell_type": "code",
   "execution_count": 9,
   "metadata": {},
   "outputs": [],
   "source": [
    "import numpy as np"
   ]
  },
  {
   "cell_type": "code",
   "execution_count": 10,
   "metadata": {},
   "outputs": [
    {
     "data": {
      "text/plain": [
       "array([[ 0., -1.,  1.],\n",
       "       [-1.,  0.,  1.],\n",
       "       [-1.,  1.,  0.]])"
      ]
     },
     "execution_count": 10,
     "metadata": {},
     "output_type": "execute_result"
    }
   ],
   "source": [
    "np.ones(3)@e3"
   ]
  },
  {
   "cell_type": "code",
   "execution_count": 11,
   "metadata": {},
   "outputs": [
    {
     "data": {
      "text/plain": [
       "(3, 3, 3)"
      ]
     },
     "execution_count": 11,
     "metadata": {},
     "output_type": "execute_result"
    }
   ],
   "source": [
    "e3.shape"
   ]
  },
  {
   "cell_type": "code",
   "execution_count": 1,
   "metadata": {},
   "outputs": [],
   "source": [
    "from emlp.groups import *"
   ]
  },
  {
   "cell_type": "code",
   "execution_count": 6,
   "metadata": {},
   "outputs": [],
   "source": [
    "M = O13.sample()"
   ]
  },
  {
   "cell_type": "code",
   "execution_count": 7,
   "metadata": {},
   "outputs": [],
   "source": [
    "eta = np.eye(4)\n",
    "eta[0,0]=-1"
   ]
  },
  {
   "cell_type": "code",
   "execution_count": 8,
   "metadata": {},
   "outputs": [
    {
     "data": {
      "text/plain": [
       "array([[-1.11022302e-15, -5.01459875e-16, -1.71810289e-16,\n",
       "         1.19624964e-16],\n",
       "       [-5.01459875e-16, -3.33066907e-16, -1.36956663e-16,\n",
       "        -9.35976936e-17],\n",
       "       [-1.71810289e-16, -1.36956663e-16,  2.22044605e-16,\n",
       "         6.47558888e-17],\n",
       "       [ 1.19624964e-16, -9.35976936e-17,  6.47558888e-17,\n",
       "         0.00000000e+00]])"
      ]
     },
     "execution_count": 8,
     "metadata": {},
     "output_type": "execute_result"
    }
   ],
   "source": [
    "M.T@eta@M-eta"
   ]
  },
  {
   "cell_type": "code",
   "execution_count": 31,
   "metadata": {},
   "outputs": [],
   "source": [
    "A = SO(2).sample()"
   ]
  },
  {
   "cell_type": "code",
   "execution_count": 32,
   "metadata": {},
   "outputs": [
    {
     "data": {
      "text/plain": [
       "array([[1.00000000e+00, 7.21013798e-17],\n",
       "       [7.21013798e-17, 1.00000000e+00]])"
      ]
     },
     "execution_count": 32,
     "metadata": {},
     "output_type": "execute_result"
    }
   ],
   "source": [
    "A@A.T"
   ]
  },
  {
   "cell_type": "code",
   "execution_count": null,
   "metadata": {},
   "outputs": [],
   "source": []
  }
 ],
 "metadata": {
  "kernelspec": {
   "display_name": "Python 3",
   "language": "python",
   "name": "python3"
  },
  "language_info": {
   "codemirror_mode": {
    "name": "ipython",
    "version": 3
   },
   "file_extension": ".py",
   "mimetype": "text/x-python",
   "name": "python",
   "nbconvert_exporter": "python",
   "pygments_lexer": "ipython3",
   "version": "3.7.4"
  }
 },
 "nbformat": 4,
 "nbformat_minor": 2
}
