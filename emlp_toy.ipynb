{
 "cells": [
  {
   "cell_type": "code",
   "execution_count": 1,
   "metadata": {},
   "outputs": [],
   "source": [
    "%load_ext autoreload\n",
    "%autoreload 2"
   ]
  },
  {
   "cell_type": "code",
   "execution_count": 1,
   "metadata": {},
   "outputs": [],
   "source": [
    "from emlp.equivariant_subspaces import T,Scalar,Matrix,Vector,Quad,repsize\n",
    "from emlp.groups import SO,O,Trivial,Lorentz,O13,SO13,SO13p\n",
    "from emlp.mlp import MLP, EMLP,LieLinear\n",
    "import itertools\n",
    "import numpy as np\n",
    "import torch\n",
    "from emlp.datasets import Inertia,Fr,ParticleInteraction"
   ]
  },
  {
   "cell_type": "code",
   "execution_count": null,
   "metadata": {},
   "outputs": [],
   "source": [
    "100*T(0)+30*T(1)+10*T(2)+3*T(3)+1*T(4)"
   ]
  },
  {
   "cell_type": "code",
   "execution_count": 2,
   "metadata": {},
   "outputs": [],
   "source": [
    "import torch\n",
    "from torch.utils.data import DataLoader\n",
    "from torch.optim import SGD,AdamW\n",
    "from oil.utils.utils import LoaderTo, cosLr, islice, export,FixedNumpySeed\n",
    "from oil.tuning.study import train_trial\n",
    "from oil.datasetup.datasets import split_dataset\n",
    "from oil.model_trainers.classifier import Regressor\n",
    "from functools import partial\n",
    "import torch.nn as nn\n",
    "#repmiddle = 100*T(0)+30*T(1)+10*T(2)+3*T(3)#+1*T(4)\n",
    "\n",
    "def makeTrainer(*,dataset=ParticleInteraction,network=EMLP,num_epochs=500,ndata=1000+1000,seed=2020,aug=False,\n",
    "                bs=500,lr=1e-2,optim=AdamW,device='cuda',split={'train':-1,'test':1000},\n",
    "                net_config={'num_layers':3,'group':SO13p()},opt_config={'weight_decay':0*3e-6},\n",
    "                trainer_config={'log_dir':None,'log_args':{'minPeriod':.02}},save=False):\n",
    "\n",
    "    # Prep the datasets splits, model, and dataloaders\n",
    "    torch.manual_seed(seed)\n",
    "    with FixedNumpySeed(seed):\n",
    "        datasets = split_dataset(dataset(ndata),splits=split)\n",
    "    device = torch.device(device)\n",
    "    model = network(datasets['train'].rep_in,datasets['train'].rep_out,**net_config).to(device)\n",
    "    if aug: model = nn.Sequential(datasets['train'].default_aug_layers(),model)\n",
    "    dataloaders = {k:LoaderTo(DataLoader(v,batch_size=bs,#shuffle=(k=='train'),\n",
    "                num_workers=0,pin_memory=False),device) for k,v in datasets.items()}\n",
    "    dataloaders['Train'] = dataloaders['train']\n",
    "    opt_constr = partial(optim, lr=lr, **opt_config)\n",
    "    lr_sched = cosLr(num_epochs)\n",
    "    return Regressor(model,dataloaders,opt_constr,lr_sched,**trainer_config)"
   ]
  },
  {
   "cell_type": "code",
   "execution_count": 3,
   "metadata": {},
   "outputs": [
    {
     "data": {
      "application/vnd.jupyter.widget-view+json": {
       "model_id": "01f35ce9f5eb482686e15a5b1662cefa",
       "version_major": 2,
       "version_minor": 0
      },
      "text/plain": [
       "HBox(children=(FloatProgress(value=0.0, description='train', max=500.0, style=ProgressStyle(description_width=…"
      ]
     },
     "metadata": {},
     "output_type": "display_data"
    },
    {
     "name": "stderr",
     "output_type": "stream",
     "text": [
      "/home/marc/anaconda3/envs/default/lib/python3.7/site-packages/torch/optim/lr_scheduler.py:231: UserWarning: To get the last learning rate computed by the scheduler, please use `get_last_lr()`.\n",
      "  warnings.warn(\"To get the last learning rate computed by the scheduler, \"\n",
      "/home/marc/anaconda3/envs/default/lib/python3.7/site-packages/torch/optim/lr_scheduler.py:143: UserWarning: The epoch parameter in `scheduler.step()` was not necessary and is being deprecated where possible. Please use `scheduler.step()` to step the scheduler. During the deprecation, if epoch is different from None, the closed form is used instead of the new chainable form, where available. Please open an issue if you are unable to replicate your use case: https://github.com/pytorch/pytorch/issues/new/choose.\n",
      "  warnings.warn(EPOCH_DEPRECATION_WARNING, UserWarning)\n"
     ]
    },
    {
     "name": "stdout",
     "output_type": "stream",
     "text": [
      "   Minibatch_Loss  Train_MSE    lr0  test_MSE\n",
      "0        0.713237   0.714136  0.001   0.90733\n",
      "     Minibatch_Loss  Train_MSE      lr0  test_MSE\n",
      "236        0.002633   0.003487  0.00087  0.577112\n",
      "     Minibatch_Loss  Train_MSE       lr0  test_MSE\n",
      "477    1.172617e-07   0.001087  0.000538  0.578226\n",
      "     Minibatch_Loss  Train_MSE       lr0  test_MSE\n",
      "723    1.168669e-08   0.001087  0.000179  0.578191\n",
      "     Minibatch_Loss  Train_MSE       lr0  test_MSE\n",
      "968    2.225221e-08   0.001093  0.000003  0.578177\n",
      "\n",
      "     Minibatch_Loss  Train_MSE       lr0  test_MSE\n",
      "999             NaN   0.001087  0.000001  0.578186\n"
     ]
    }
   ],
   "source": [
    "#trainer = makeTrainer(network=EMLP,lr=3e-3)\n",
    "trainer = makeTrainer(network=MLP,lr=1e-3,aug=False)\n",
    "trainer.train(500)"
   ]
  },
  {
   "cell_type": "code",
   "execution_count": 4,
   "metadata": {},
   "outputs": [
    {
     "name": "stdout",
     "output_type": "stream",
     "text": [
      "tensor([ 0.3418, -0.2717, -0.1706,  ...,  0.0805,  0.1657,  0.0475])\n"
     ]
    }
   ],
   "source": [
    "print(trainer.dataloaders['train'].dataset.Y)"
   ]
  },
  {
   "cell_type": "code",
   "execution_count": 6,
   "metadata": {},
   "outputs": [
    {
     "name": "stdout",
     "output_type": "stream",
     "text": [
      "[4T(1, 0) @ d=4, 112T(0, 0)+14T(0, 1)+14T(1, 0)+2T(0, 2)+2T(1, 1)+2T(2, 0)+T(0, 3) @ d=4, 112T(0, 0)+14T(0, 1)+14T(1, 0)+2T(0, 2)+2T(1, 1)+2T(2, 0)+T(0, 3) @ d=4, 112T(0, 0)+14T(0, 1)+14T(1, 0)+2T(0, 2)+2T(1, 1)+2T(2, 0)+T(0, 3) @ d=4]\n",
      "BiW components:6704 dim:0 shape:(419, 16) rep:588T(0, 1)+56T(0, 2)+56T(1, 1)+8T(0, 3)+8T(1, 2)+8T(2, 1)+4T(0, 4) @ d=4\n",
      "BiW components:160896 dim:33852 shape:(419, 384) rep:16464T(0, 0)+3626T(1, 0)+3626T(0, 1)+714T(2, 0)+910T(1, 1)+714T(0, 2)+203T(3, 0)+112T(2, 1)+112T(1, 2)+168T(0, 3)+22T(3, 1)+18T(4, 0)+12T(2, 2)+22T(1, 3)+18T(0, 4)+2T(3, 2)+2T(4, 1)+2T(5, 0)+2T(2, 3)+2T(1, 4)+2T(0, 5)+T(3, 3) @ d=4\n",
      "BiW components:160896 dim:33852 shape:(419, 384) rep:16464T(0, 0)+3626T(1, 0)+3626T(0, 1)+714T(2, 0)+910T(1, 1)+714T(0, 2)+203T(3, 0)+112T(2, 1)+112T(1, 2)+168T(0, 3)+22T(3, 1)+18T(4, 0)+12T(2, 2)+22T(1, 3)+18T(0, 4)+2T(3, 2)+2T(4, 1)+2T(5, 0)+2T(2, 3)+2T(1, 4)+2T(0, 5)+T(3, 3) @ d=4\n"
     ]
    },
    {
     "data": {
      "application/vnd.jupyter.widget-view+json": {
       "model_id": "24f60426defe429289aeccde20753ef9",
       "version_major": 2,
       "version_minor": 0
      },
      "text/plain": [
       "HBox(children=(FloatProgress(value=0.0, description='train', max=500.0, style=ProgressStyle(description_width=…"
      ]
     },
     "metadata": {},
     "output_type": "display_data"
    },
    {
     "name": "stdout",
     "output_type": "stream",
     "text": [
      "   Minibatch_Loss  Train_MSE     lr0  test_MSE\n",
      "0        0.641174   0.708882  0.0001  0.902093\n",
      "   Minibatch_Loss  Train_MSE     lr0  test_MSE\n",
      "4        0.589038   0.708314  0.0001  0.901527\n",
      "   Minibatch_Loss  Train_MSE     lr0  test_MSE\n",
      "8        0.543397   0.707798  0.0001  0.901014\n",
      "    Minibatch_Loss  Train_MSE     lr0  test_MSE\n",
      "12         0.50262   0.707303  0.0001   0.90052\n",
      "    Minibatch_Loss  Train_MSE     lr0  test_MSE\n",
      "16        0.466091   0.706813  0.0001  0.900033\n",
      "    Minibatch_Loss  Train_MSE     lr0  test_MSE\n",
      "20        0.433319   0.706298  0.0001  0.899521\n",
      "    Minibatch_Loss  Train_MSE     lr0  test_MSE\n",
      "24        0.403871   0.705678  0.0001  0.898906\n",
      "    Minibatch_Loss  Train_MSE     lr0  test_MSE\n",
      "28        0.377351    0.70491  0.0001  0.898146\n",
      "    Minibatch_Loss  Train_MSE     lr0  test_MSE\n",
      "32        0.353399    0.70397  0.0001  0.897216\n",
      "    Minibatch_Loss  Train_MSE     lr0  test_MSE\n",
      "36        0.331684   0.702397  0.0001  0.895662\n",
      "    Minibatch_Loss  Train_MSE     lr0  test_MSE\n",
      "40        0.311904    0.69948  0.0001  0.892774\n",
      "    Minibatch_Loss  Train_MSE     lr0  test_MSE\n",
      "44        0.293797   0.694734  0.0001  0.888068\n",
      "    Minibatch_Loss  Train_MSE       lr0  test_MSE\n",
      "48        0.277143   0.686927  0.000099  0.880338\n",
      "    Minibatch_Loss  Train_MSE       lr0  test_MSE\n",
      "52        0.261765   0.670991  0.000099  0.864571\n",
      "    Minibatch_Loss  Train_MSE       lr0  test_MSE\n",
      "56        0.247525   0.643941  0.000099   0.83769\n",
      "    Minibatch_Loss  Train_MSE       lr0  test_MSE\n",
      "60        0.234312   0.599028  0.000099  0.792852\n",
      "    Minibatch_Loss  Train_MSE       lr0  test_MSE\n",
      "64        0.222046    0.62148  0.000099  0.813408\n",
      "    Minibatch_Loss  Train_MSE       lr0  test_MSE\n",
      "68        0.210673   1.194281  0.000099  1.379077\n",
      "    Minibatch_Loss  Train_MSE       lr0  test_MSE\n",
      "72        0.200157   2.961305  0.000099  3.131304\n",
      "    Minibatch_Loss  Train_MSE       lr0  test_MSE\n",
      "76        0.190471   3.803097  0.000099  3.962536\n",
      "    Minibatch_Loss  Train_MSE       lr0   test_MSE\n",
      "80        0.181584  11.418261  0.000098  11.524103\n",
      "    Minibatch_Loss  Train_MSE       lr0  test_MSE\n",
      "84         0.17345    9.35771  0.000098   9.41311\n",
      "    Minibatch_Loss  Train_MSE       lr0   test_MSE\n",
      "88        0.166001    14.9887  0.000098  14.906425\n",
      "    Minibatch_Loss  Train_MSE       lr0  test_MSE\n",
      "92        0.159145   0.468255  0.000098  0.611754\n"
     ]
    },
    {
     "ename": "KeyboardInterrupt",
     "evalue": "",
     "output_type": "error",
     "traceback": [
      "\u001b[0;31m---------------------------------------------------------------------------\u001b[0m",
      "\u001b[0;31mKeyboardInterrupt\u001b[0m                         Traceback (most recent call last)",
      "\u001b[0;32m<ipython-input-6-2532bde147bf>\u001b[0m in \u001b[0;36m<module>\u001b[0;34m\u001b[0m\n\u001b[1;32m      1\u001b[0m \u001b[0mtrainer\u001b[0m \u001b[0;34m=\u001b[0m \u001b[0mmakeTrainer\u001b[0m\u001b[0;34m(\u001b[0m\u001b[0mnetwork\u001b[0m\u001b[0;34m=\u001b[0m\u001b[0mEMLP\u001b[0m\u001b[0;34m,\u001b[0m\u001b[0mlr\u001b[0m\u001b[0;34m=\u001b[0m\u001b[0;36m1e-4\u001b[0m\u001b[0;34m)\u001b[0m\u001b[0;34m\u001b[0m\u001b[0;34m\u001b[0m\u001b[0m\n\u001b[0;32m----> 2\u001b[0;31m \u001b[0mtrainer\u001b[0m\u001b[0;34m.\u001b[0m\u001b[0mtrain\u001b[0m\u001b[0;34m(\u001b[0m\u001b[0;36m500\u001b[0m\u001b[0;34m)\u001b[0m\u001b[0;34m\u001b[0m\u001b[0;34m\u001b[0m\u001b[0m\n\u001b[0m",
      "\u001b[0;32m~/olive-oil-ml/oil/model_trainers/trainer.py\u001b[0m in \u001b[0;36mtrain\u001b[0;34m(self, num_epochs)\u001b[0m\n\u001b[1;32m     50\u001b[0m                 \u001b[0;32mwith\u001b[0m \u001b[0mself\u001b[0m\u001b[0;34m.\u001b[0m\u001b[0mlogger\u001b[0m \u001b[0;32mas\u001b[0m \u001b[0mdo_log\u001b[0m\u001b[0;34m:\u001b[0m\u001b[0;34m\u001b[0m\u001b[0;34m\u001b[0m\u001b[0m\n\u001b[1;32m     51\u001b[0m                    \u001b[0;32mif\u001b[0m \u001b[0mdo_log\u001b[0m\u001b[0;34m:\u001b[0m \u001b[0mself\u001b[0m\u001b[0;34m.\u001b[0m\u001b[0mlogStuff\u001b[0m\u001b[0;34m(\u001b[0m\u001b[0mstep\u001b[0m\u001b[0;34m,\u001b[0m \u001b[0mminibatch\u001b[0m\u001b[0;34m)\u001b[0m\u001b[0;34m\u001b[0m\u001b[0;34m\u001b[0m\u001b[0m\n\u001b[0;32m---> 52\u001b[0;31m                 \u001b[0mself\u001b[0m\u001b[0;34m.\u001b[0m\u001b[0mstep\u001b[0m\u001b[0;34m(\u001b[0m\u001b[0mminibatch\u001b[0m\u001b[0;34m)\u001b[0m\u001b[0;34m\u001b[0m\u001b[0;34m\u001b[0m\u001b[0m\n\u001b[0m\u001b[1;32m     53\u001b[0m                 \u001b[0;34m[\u001b[0m\u001b[0msched\u001b[0m\u001b[0;34m.\u001b[0m\u001b[0mstep\u001b[0m\u001b[0;34m(\u001b[0m\u001b[0mstep\u001b[0m\u001b[0;34m/\u001b[0m\u001b[0msteps_per_epoch\u001b[0m\u001b[0;34m)\u001b[0m \u001b[0;32mfor\u001b[0m \u001b[0msched\u001b[0m \u001b[0;32min\u001b[0m \u001b[0mself\u001b[0m\u001b[0;34m.\u001b[0m\u001b[0mlr_schedulers\u001b[0m\u001b[0;34m]\u001b[0m\u001b[0;34m\u001b[0m\u001b[0;34m\u001b[0m\u001b[0m\n\u001b[1;32m     54\u001b[0m         \u001b[0mself\u001b[0m\u001b[0;34m.\u001b[0m\u001b[0mlogStuff\u001b[0m\u001b[0;34m(\u001b[0m\u001b[0mstep\u001b[0m\u001b[0;34m)\u001b[0m\u001b[0;34m\u001b[0m\u001b[0;34m\u001b[0m\u001b[0m\n",
      "\u001b[0;32m~/olive-oil-ml/oil/model_trainers/trainer.py\u001b[0m in \u001b[0;36mstep\u001b[0;34m(self, minibatch)\u001b[0m\n\u001b[1;32m     57\u001b[0m         \u001b[0mself\u001b[0m\u001b[0;34m.\u001b[0m\u001b[0moptimizer\u001b[0m\u001b[0;34m.\u001b[0m\u001b[0mzero_grad\u001b[0m\u001b[0;34m(\u001b[0m\u001b[0;34m)\u001b[0m\u001b[0;34m\u001b[0m\u001b[0;34m\u001b[0m\u001b[0m\n\u001b[1;32m     58\u001b[0m         \u001b[0mloss\u001b[0m \u001b[0;34m=\u001b[0m \u001b[0mself\u001b[0m\u001b[0;34m.\u001b[0m\u001b[0mloss\u001b[0m\u001b[0;34m(\u001b[0m\u001b[0mminibatch\u001b[0m\u001b[0;34m)\u001b[0m\u001b[0;34m\u001b[0m\u001b[0;34m\u001b[0m\u001b[0m\n\u001b[0;32m---> 59\u001b[0;31m         \u001b[0mloss\u001b[0m\u001b[0;34m.\u001b[0m\u001b[0mbackward\u001b[0m\u001b[0;34m(\u001b[0m\u001b[0;34m)\u001b[0m\u001b[0;34m\u001b[0m\u001b[0;34m\u001b[0m\u001b[0m\n\u001b[0m\u001b[1;32m     60\u001b[0m         \u001b[0mself\u001b[0m\u001b[0;34m.\u001b[0m\u001b[0moptimizer\u001b[0m\u001b[0;34m.\u001b[0m\u001b[0mstep\u001b[0m\u001b[0;34m(\u001b[0m\u001b[0;34m)\u001b[0m\u001b[0;34m\u001b[0m\u001b[0;34m\u001b[0m\u001b[0m\n\u001b[1;32m     61\u001b[0m         \u001b[0;32mreturn\u001b[0m \u001b[0mloss\u001b[0m\u001b[0;34m\u001b[0m\u001b[0;34m\u001b[0m\u001b[0m\n",
      "\u001b[0;32m~/anaconda3/envs/default/lib/python3.7/site-packages/torch/tensor.py\u001b[0m in \u001b[0;36mbackward\u001b[0;34m(self, gradient, retain_graph, create_graph)\u001b[0m\n\u001b[1;32m    196\u001b[0m                 \u001b[0mproducts\u001b[0m\u001b[0;34m.\u001b[0m \u001b[0mDefaults\u001b[0m \u001b[0mto\u001b[0m\u001b[0;31m \u001b[0m\u001b[0;31m`\u001b[0m\u001b[0;31m`\u001b[0m\u001b[0;32mFalse\u001b[0m\u001b[0;31m`\u001b[0m\u001b[0;31m`\u001b[0m\u001b[0;34m.\u001b[0m\u001b[0;34m\u001b[0m\u001b[0;34m\u001b[0m\u001b[0m\n\u001b[1;32m    197\u001b[0m         \"\"\"\n\u001b[0;32m--> 198\u001b[0;31m         \u001b[0mtorch\u001b[0m\u001b[0;34m.\u001b[0m\u001b[0mautograd\u001b[0m\u001b[0;34m.\u001b[0m\u001b[0mbackward\u001b[0m\u001b[0;34m(\u001b[0m\u001b[0mself\u001b[0m\u001b[0;34m,\u001b[0m \u001b[0mgradient\u001b[0m\u001b[0;34m,\u001b[0m \u001b[0mretain_graph\u001b[0m\u001b[0;34m,\u001b[0m \u001b[0mcreate_graph\u001b[0m\u001b[0;34m)\u001b[0m\u001b[0;34m\u001b[0m\u001b[0;34m\u001b[0m\u001b[0m\n\u001b[0m\u001b[1;32m    199\u001b[0m \u001b[0;34m\u001b[0m\u001b[0m\n\u001b[1;32m    200\u001b[0m     \u001b[0;32mdef\u001b[0m \u001b[0mregister_hook\u001b[0m\u001b[0;34m(\u001b[0m\u001b[0mself\u001b[0m\u001b[0;34m,\u001b[0m \u001b[0mhook\u001b[0m\u001b[0;34m)\u001b[0m\u001b[0;34m:\u001b[0m\u001b[0;34m\u001b[0m\u001b[0;34m\u001b[0m\u001b[0m\n",
      "\u001b[0;32m~/anaconda3/envs/default/lib/python3.7/site-packages/torch/autograd/__init__.py\u001b[0m in \u001b[0;36mbackward\u001b[0;34m(tensors, grad_tensors, retain_graph, create_graph, grad_variables)\u001b[0m\n\u001b[1;32m     98\u001b[0m     Variable._execution_engine.run_backward(\n\u001b[1;32m     99\u001b[0m         \u001b[0mtensors\u001b[0m\u001b[0;34m,\u001b[0m \u001b[0mgrad_tensors\u001b[0m\u001b[0;34m,\u001b[0m \u001b[0mretain_graph\u001b[0m\u001b[0;34m,\u001b[0m \u001b[0mcreate_graph\u001b[0m\u001b[0;34m,\u001b[0m\u001b[0;34m\u001b[0m\u001b[0;34m\u001b[0m\u001b[0m\n\u001b[0;32m--> 100\u001b[0;31m         allow_unreachable=True)  # allow_unreachable flag\n\u001b[0m\u001b[1;32m    101\u001b[0m \u001b[0;34m\u001b[0m\u001b[0m\n\u001b[1;32m    102\u001b[0m \u001b[0;34m\u001b[0m\u001b[0m\n",
      "\u001b[0;31mKeyboardInterrupt\u001b[0m: "
     ]
    }
   ],
   "source": [
    "trainer = makeTrainer(network=EMLP,lr=1e-4)\n",
    "trainer.train(500)"
   ]
  },
  {
   "cell_type": "code",
   "execution_count": 7,
   "metadata": {},
   "outputs": [],
   "source": [
    "x,y = next(iter(trainer.dataloaders['train']))"
   ]
  },
  {
   "cell_type": "code",
   "execution_count": 10,
   "metadata": {},
   "outputs": [],
   "source": [
    "rep = trainer.dataloaders['train'].dataset.rep_in"
   ]
  },
  {
   "cell_type": "code",
   "execution_count": 15,
   "metadata": {},
   "outputs": [
    {
     "data": {
      "text/plain": [
       "(500, 3, 3)"
      ]
     },
     "execution_count": 15,
     "metadata": {},
     "output_type": "execute_result"
    }
   ],
   "source": [
    "SO(3).samples(x.shape[0]).shape"
   ]
  },
  {
   "cell_type": "code",
   "execution_count": null,
   "metadata": {},
   "outputs": [],
   "source": [
    "rep.rho("
   ]
  },
  {
   "cell_type": "markdown",
   "metadata": {},
   "source": [
    "Why is there a disconnect between MBLoss and Train_MSE for the standard MLP and EMLP? Why does train stall. (seems to be a small batch size small dataset size issue?)\n",
    "Why do the EMLP models perform so much better with a small number of scalars?\n"
   ]
  },
  {
   "cell_type": "code",
   "execution_count": 4,
   "metadata": {},
   "outputs": [],
   "source": [
    "import scipy as sp\n",
    "from scipy.linalg import expm"
   ]
  },
  {
   "cell_type": "code",
   "execution_count": 9,
   "metadata": {},
   "outputs": [
    {
     "name": "stdout",
     "output_type": "stream",
     "text": [
      "tensor([0.2587], device='cuda:0', grad_fn=<SqueezeBackward1>)\n",
      "tensor([0.2587], device='cuda:0', grad_fn=<SqueezeBackward3>)\n"
     ]
    }
   ],
   "source": [
    "x = next(iter(trainer.dataloaders['test']))[0]\n",
    "xsmall = x[:1]\n",
    "R = SO(3).sample()\n",
    "Rin = torch.from_numpy(trainer.dataloaders['train'].dataset.rep_in.rho(R)).to(x.device,x.dtype)\n",
    "Rout = torch.from_numpy(trainer.dataloaders['train'].dataset.rep_out.rho(R)).to(x.device,x.dtype)\n",
    "from oil.utils.utils import Eval\n",
    "with Eval(trainer.model):\n",
    "    print(trainer.model(xsmall@Rin.T))\n",
    "    print(trainer.model(xsmall)@Rout.T)"
   ]
  },
  {
   "cell_type": "code",
   "execution_count": null,
   "metadata": {},
   "outputs": [],
   "source": []
  },
  {
   "cell_type": "code",
   "execution_count": 9,
   "metadata": {},
   "outputs": [
    {
     "name": "stdout",
     "output_type": "stream",
     "text": [
      "\r",
      "BiW components:400 dim:125 shape:(20, 20) rep:25T(0)+50T(1)+25T(2) @ d=3\n",
      "\r",
      "tensor([[ 0.0000,  0.0000,  0.0000,  0.0000,  0.0000,  6.3432, -6.5503,  0.0089,\n",
      "          0.8346,  5.1796, -3.5075, -2.9687,  0.5283,  1.5695, -2.7642,  4.2946,\n",
      "          3.0159, -2.1696, -3.3314,  4.1213]], device='cuda:0',\n",
      "       grad_fn=<SqueezeBackward1>)\n",
      "\r",
      "tensor([[ 0.0000,  0.0000,  0.0000,  0.0000,  0.0000,  6.3432, -6.5503,  0.0089,\n",
      "          0.8346,  5.1796, -3.5075, -2.9687,  0.5283,  1.5695, -2.7642,  4.2946,\n",
      "          3.0159, -2.1696, -3.3314,  4.1213]], device='cuda:0',\n",
      "       grad_fn=<MmBackward>)\n"
     ]
    }
   ],
   "source": [
    "from emlp.mlp import BiLinear\n",
    "x = next(iter(trainer.dataloaders['test']))[0]\n",
    "xsmall = x[:1]\n",
    "R = SO(3).sample()\n",
    "\n",
    "repin = trainer.dataloaders['train'].dataset.rep_in\n",
    "repout = trainer.dataloaders['train'].dataset.rep_out\n",
    "\n",
    "repout = repin\n",
    "B = BiLinear(repin,repout)\n",
    "B.cuda()\n",
    "Rin = torch.from_numpy(repin.rho(R)).to(x.device,x.dtype)\n",
    "Rout = torch.from_numpy(repout.rho(R)).to(x.device,x.dtype)\n",
    "from oil.utils.utils import Eval\n",
    "\n",
    "print(B(xsmall@Rin.T))\n",
    "print(B(xsmall)@Rout.T)"
   ]
  },
  {
   "cell_type": "code",
   "execution_count": 27,
   "metadata": {},
   "outputs": [],
   "source": [
    "import matplotlib.pyplot as plt\n",
    "import seaborn as sns\n",
    "import pandas as pd\n",
    "df_mlp['Model']=\"MLP\"\n",
    "df_e[\"Model\"]=\"EMLP\"\n",
    "df_all = pd.concat([df_mlp,df_e])"
   ]
  },
  {
   "cell_type": "code",
   "execution_count": 38,
   "metadata": {},
   "outputs": [
    {
     "data": {
      "image/png": "[encoded data removed]",
      "text/plain": [
       "<Figure size 432x288 with 1 Axes>"
      ]
     },
     "metadata": {
      "needs_background": "light"
     },
     "output_type": "display_data"
    }
   ],
   "source": [
    "df_mlp.plot()\n",
    "plt.yscale('log')"
   ]
  },
  {
   "cell_type": "code",
   "execution_count": 39,
   "metadata": {},
   "outputs": [
    {
     "data": {
      "image/png": "[encoded data removed]",
      "text/plain": [
       "<Figure size 432x288 with 1 Axes>"
      ]
     },
     "metadata": {
      "needs_background": "light"
     },
     "output_type": "display_data"
    }
   ],
   "source": [
    "df_e.plot()\n",
    "plt.yscale('log')"
   ]
  },
  {
   "cell_type": "code",
   "execution_count": 28,
   "metadata": {},
   "outputs": [
    {
     "ename": "ValueError",
     "evalue": "Either both or neither of `x` and `y` must be specified (but try passing to `data`, which is more flexible).",
     "output_type": "error",
     "traceback": [
      "\u001b[0;31m---------------------------------------------------------------------------\u001b[0m",
      "\u001b[0;31mValueError\u001b[0m                                Traceback (most recent call last)",
      "\u001b[0;32m<ipython-input-28-ebd85dc34839>\u001b[0m in \u001b[0;36m<module>\u001b[0;34m\u001b[0m\n\u001b[1;32m      1\u001b[0m \u001b[0;31m#df_e = trainer.logger.scalar_frame\u001b[0m\u001b[0;34m\u001b[0m\u001b[0;34m\u001b[0m\u001b[0;34m\u001b[0m\u001b[0m\n\u001b[1;32m      2\u001b[0m \u001b[0;34m\u001b[0m\u001b[0m\n\u001b[0;32m----> 3\u001b[0;31m \u001b[0msns\u001b[0m\u001b[0;34m.\u001b[0m\u001b[0mlineplot\u001b[0m\u001b[0;34m(\u001b[0m\u001b[0my\u001b[0m\u001b[0;34m=\u001b[0m\u001b[0;34m'test_MSE'\u001b[0m\u001b[0;34m,\u001b[0m\u001b[0mdata\u001b[0m\u001b[0;34m=\u001b[0m\u001b[0mdf_all\u001b[0m\u001b[0;34m,\u001b[0m\u001b[0mhue\u001b[0m\u001b[0;34m=\u001b[0m\u001b[0;34m\"Model\"\u001b[0m\u001b[0;34m)\u001b[0m\u001b[0;34m\u001b[0m\u001b[0;34m\u001b[0m\u001b[0m\n\u001b[0m\u001b[1;32m      4\u001b[0m \u001b[0mplt\u001b[0m\u001b[0;34m.\u001b[0m\u001b[0myscale\u001b[0m\u001b[0;34m(\u001b[0m\u001b[0;34m'log'\u001b[0m\u001b[0;34m)\u001b[0m\u001b[0;34m\u001b[0m\u001b[0;34m\u001b[0m\u001b[0m\n\u001b[1;32m      5\u001b[0m \u001b[0mplt\u001b[0m\u001b[0;34m.\u001b[0m\u001b[0mshow\u001b[0m\u001b[0;34m(\u001b[0m\u001b[0;34m)\u001b[0m\u001b[0;34m\u001b[0m\u001b[0;34m\u001b[0m\u001b[0m\n",
      "\u001b[0;32m~/anaconda3/envs/default/lib/python3.7/site-packages/seaborn/relational.py\u001b[0m in \u001b[0;36mlineplot\u001b[0;34m(x, y, hue, size, style, data, palette, hue_order, hue_norm, sizes, size_order, size_norm, dashes, markers, style_order, units, estimator, ci, n_boot, sort, err_style, err_kws, legend, ax, **kwargs)\u001b[0m\n\u001b[1;32m   1076\u001b[0m         \u001b[0mdashes\u001b[0m\u001b[0;34m=\u001b[0m\u001b[0mdashes\u001b[0m\u001b[0;34m,\u001b[0m \u001b[0mmarkers\u001b[0m\u001b[0;34m=\u001b[0m\u001b[0mmarkers\u001b[0m\u001b[0;34m,\u001b[0m \u001b[0mstyle_order\u001b[0m\u001b[0;34m=\u001b[0m\u001b[0mstyle_order\u001b[0m\u001b[0;34m,\u001b[0m\u001b[0;34m\u001b[0m\u001b[0;34m\u001b[0m\u001b[0m\n\u001b[1;32m   1077\u001b[0m         \u001b[0munits\u001b[0m\u001b[0;34m=\u001b[0m\u001b[0munits\u001b[0m\u001b[0;34m,\u001b[0m \u001b[0mestimator\u001b[0m\u001b[0;34m=\u001b[0m\u001b[0mestimator\u001b[0m\u001b[0;34m,\u001b[0m \u001b[0mci\u001b[0m\u001b[0;34m=\u001b[0m\u001b[0mci\u001b[0m\u001b[0;34m,\u001b[0m \u001b[0mn_boot\u001b[0m\u001b[0;34m=\u001b[0m\u001b[0mn_boot\u001b[0m\u001b[0;34m,\u001b[0m\u001b[0;34m\u001b[0m\u001b[0;34m\u001b[0m\u001b[0m\n\u001b[0;32m-> 1078\u001b[0;31m         \u001b[0msort\u001b[0m\u001b[0;34m=\u001b[0m\u001b[0msort\u001b[0m\u001b[0;34m,\u001b[0m \u001b[0merr_style\u001b[0m\u001b[0;34m=\u001b[0m\u001b[0merr_style\u001b[0m\u001b[0;34m,\u001b[0m \u001b[0merr_kws\u001b[0m\u001b[0;34m=\u001b[0m\u001b[0merr_kws\u001b[0m\u001b[0;34m,\u001b[0m \u001b[0mlegend\u001b[0m\u001b[0;34m=\u001b[0m\u001b[0mlegend\u001b[0m\u001b[0;34m,\u001b[0m\u001b[0;34m\u001b[0m\u001b[0;34m\u001b[0m\u001b[0m\n\u001b[0m\u001b[1;32m   1079\u001b[0m     )\n\u001b[1;32m   1080\u001b[0m \u001b[0;34m\u001b[0m\u001b[0m\n",
      "\u001b[0;32m~/anaconda3/envs/default/lib/python3.7/site-packages/seaborn/relational.py\u001b[0m in \u001b[0;36m__init__\u001b[0;34m(self, x, y, hue, size, style, data, palette, hue_order, hue_norm, sizes, size_order, size_norm, dashes, markers, style_order, units, estimator, ci, n_boot, sort, err_style, err_kws, legend)\u001b[0m\n\u001b[1;32m    661\u001b[0m \u001b[0;34m\u001b[0m\u001b[0m\n\u001b[1;32m    662\u001b[0m         plot_data = self.establish_variables(\n\u001b[0;32m--> 663\u001b[0;31m             \u001b[0mx\u001b[0m\u001b[0;34m,\u001b[0m \u001b[0my\u001b[0m\u001b[0;34m,\u001b[0m \u001b[0mhue\u001b[0m\u001b[0;34m,\u001b[0m \u001b[0msize\u001b[0m\u001b[0;34m,\u001b[0m \u001b[0mstyle\u001b[0m\u001b[0;34m,\u001b[0m \u001b[0munits\u001b[0m\u001b[0;34m,\u001b[0m \u001b[0mdata\u001b[0m\u001b[0;34m\u001b[0m\u001b[0;34m\u001b[0m\u001b[0m\n\u001b[0m\u001b[1;32m    664\u001b[0m         )\n\u001b[1;32m    665\u001b[0m \u001b[0;34m\u001b[0m\u001b[0m\n",
      "\u001b[0;32m~/anaconda3/envs/default/lib/python3.7/site-packages/seaborn/relational.py\u001b[0m in \u001b[0;36mestablish_variables\u001b[0;34m(self, x, y, hue, size, style, units, data)\u001b[0m\n\u001b[1;32m    164\u001b[0m             err = (\"Either both or neither of `x` and `y` must be specified \"\n\u001b[1;32m    165\u001b[0m                    \"(but try passing to `data`, which is more flexible).\")\n\u001b[0;32m--> 166\u001b[0;31m             \u001b[0;32mraise\u001b[0m \u001b[0mValueError\u001b[0m\u001b[0;34m(\u001b[0m\u001b[0merr\u001b[0m\u001b[0;34m)\u001b[0m\u001b[0;34m\u001b[0m\u001b[0;34m\u001b[0m\u001b[0m\n\u001b[0m\u001b[1;32m    167\u001b[0m \u001b[0;34m\u001b[0m\u001b[0m\n\u001b[1;32m    168\u001b[0m         \u001b[0;31m# ---- Post-processing\u001b[0m\u001b[0;34m\u001b[0m\u001b[0;34m\u001b[0m\u001b[0;34m\u001b[0m\u001b[0m\n",
      "\u001b[0;31mValueError\u001b[0m: Either both or neither of `x` and `y` must be specified (but try passing to `data`, which is more flexible)."
     ]
    }
   ],
   "source": [
    "\n",
    "#df_e = trainer.logger.scalar_frame\n",
    "\n",
    "sns.lineplot(y='test_MSE',data=df_all,hue=\"Model\")\n",
    "plt.yscale('log')\n",
    "plt.show()"
   ]
  },
  {
   "cell_type": "code",
   "execution_count": 21,
   "metadata": {},
   "outputs": [],
   "source": [
    "#repmiddle = 30*T(0)+10*T(1)+5*T(2)+2*T(3)#+2*T(3,0)+2*T(2,1)+2*T(1,2)+2*T(0,3)\n",
    "repmiddle =100*T(0)+30*T(1)+10*T(2)+3*T(3)#+2*T(3,0)+2*T(2,1)+2*T(1,2)+2*T(0,3)"
   ]
  },
  {
   "cell_type": "code",
   "execution_count": 22,
   "metadata": {},
   "outputs": [
    {
     "data": {
      "text/plain": [
       "2T(0)+2T(1)+2T(2)+T(3)+T(4) @ d=2"
      ]
     },
     "execution_count": 22,
     "metadata": {},
     "output_type": "execute_result"
    }
   ],
   "source": [
    "repmiddle(e2)"
   ]
  },
  {
   "cell_type": "code",
   "execution_count": 23,
   "metadata": {},
   "outputs": [],
   "source": [
    "#(repmiddle*repmiddle.T).symmetric_subspace()[0]"
   ]
  },
  {
   "cell_type": "code",
   "execution_count": 24,
   "metadata": {},
   "outputs": [],
   "source": [
    "#(repmiddle*repmiddle.T).size()"
   ]
  },
  {
   "cell_type": "code",
   "execution_count": 25,
   "metadata": {},
   "outputs": [
    {
     "data": {
      "text/plain": [
       "4T(0)+8T(1)+12T(2)+12T(3)+12T(4)+8T(5)+5T(6)+2T(7)+T(8) @ d=2"
      ]
     },
     "execution_count": 25,
     "metadata": {},
     "output_type": "execute_result"
    }
   ],
   "source": [
    "repmiddle*repmiddle#.T"
   ]
  },
  {
   "cell_type": "code",
   "execution_count": 26,
   "metadata": {},
   "outputs": [],
   "source": [
    "from emlp.mlp import capped_tensor_product"
   ]
  },
  {
   "cell_type": "code",
   "execution_count": 27,
   "metadata": {},
   "outputs": [],
   "source": [
    "v = repmiddle.show_subspace()"
   ]
  },
  {
   "cell_type": "code",
   "execution_count": 28,
   "metadata": {},
   "outputs": [
    {
     "data": {
      "text/plain": [
       "tensor([  1.0000,   2.0000,   0.0000,   0.0000,   0.0000,   0.0000,  -3.5000,\n",
       "         -0.5000,   0.5000,  -3.5000,  -5.5000,  -0.5000,   0.5000,  -5.5000,\n",
       "          0.0000,   0.0000,   0.0000,   0.0000,   0.0000,   0.0000,   0.0000,\n",
       "          0.0000,  -1.0970,  11.2701,  -7.3964,  -7.3549,  -2.3831,   5.8674,\n",
       "          0.3905,   1.4907,  -1.4907,   0.3905,   5.8674,   2.3831,  -7.3549,\n",
       "          7.3964, -11.2701,  -1.0970])"
      ]
     },
     "execution_count": 28,
     "metadata": {},
     "output_type": "execute_result"
    }
   ],
   "source": [
    "v"
   ]
  },
  {
   "cell_type": "code",
   "execution_count": 29,
   "metadata": {},
   "outputs": [],
   "source": [
    "outrep,outv = cappedTensorProduct(repmiddle,v,repmiddle)"
   ]
  },
  {
   "cell_type": "code",
   "execution_count": 30,
   "metadata": {},
   "outputs": [],
   "source": [
    "#(repmiddle*repmiddle).ranks"
   ]
  },
  {
   "cell_type": "code",
   "execution_count": 31,
   "metadata": {},
   "outputs": [
    {
     "data": {
      "text/plain": [
       "[(0, 0),\n",
       " (0, 0),\n",
       " (1, 0),\n",
       " (1, 0),\n",
       " (2, 0),\n",
       " (2, 0),\n",
       " (3, 0),\n",
       " (4, 0),\n",
       " (0, 0),\n",
       " (0, 0),\n",
       " (1, 0),\n",
       " (1, 0),\n",
       " (2, 0),\n",
       " (2, 0),\n",
       " (3, 0),\n",
       " (4, 0)]"
      ]
     },
     "execution_count": 31,
     "metadata": {},
     "output_type": "execute_result"
    }
   ],
   "source": [
    "outrep.ranks"
   ]
  },
  {
   "cell_type": "code",
   "execution_count": 32,
   "metadata": {},
   "outputs": [
    {
     "data": {
      "text/plain": [
       "tensor([  1.0000,   2.0000,   0.0000,   0.0000,   0.0000,   0.0000,  -3.5000,\n",
       "         -0.5000,   0.5000,  -3.5000,  -5.5000,  -0.5000,   0.5000,  -5.5000,\n",
       "          0.0000,   0.0000,   0.0000,   0.0000,   0.0000,   0.0000,   0.0000,\n",
       "          0.0000,  -1.0970,  11.2701,  -7.3964,  -7.3549,  -2.3831,   5.8674,\n",
       "          0.3905,   1.4907,  -1.4907,   0.3905,   5.8674,   2.3831,  -7.3549,\n",
       "          7.3964, -11.2701,  -1.0970])"
      ]
     },
     "execution_count": 32,
     "metadata": {},
     "output_type": "execute_result"
    }
   ],
   "source": [
    "v"
   ]
  },
  {
   "cell_type": "code",
   "execution_count": 33,
   "metadata": {},
   "outputs": [
    {
     "data": {
      "text/plain": [
       "tensor([  1.0000,   2.0000,   0.0000,   0.0000,   0.0000,   0.0000,  -3.5000,\n",
       "         -0.5000,   0.5000,  -3.5000,  -5.5000,  -0.5000,   0.5000,  -5.5000,\n",
       "          0.0000,   0.0000,   0.0000,   0.0000,   0.0000,   0.0000,   0.0000,\n",
       "          0.0000,  -1.0970,  11.2701,  -7.3964,  -7.3549,  -2.3831,   5.8674,\n",
       "          0.3905,   1.4907,  -1.4907,   0.3905,   5.8674,   2.3831,  -7.3549,\n",
       "          7.3964, -11.2701,  -1.0970,   1.0000,   1.0000,   0.0000,   0.0000,\n",
       "          0.0000,   0.0000,   0.0000,   0.0000,   0.0000,   0.0000,   0.0000,\n",
       "          0.0000,   0.0000,   0.0000,   0.0000,   0.0000,   0.0000,   0.0000,\n",
       "          0.0000,   0.0000,   0.0000,   0.0000,   0.0000,   0.0000,   0.0000,\n",
       "          0.0000,   0.0000,   0.0000,   0.0000,   0.0000,   0.0000,   0.0000,\n",
       "          0.0000,   0.0000,   0.0000,   0.0000,   0.0000,   0.0000])"
      ]
     },
     "execution_count": 33,
     "metadata": {},
     "output_type": "execute_result"
    }
   ],
   "source": [
    "outv"
   ]
  },
  {
   "cell_type": "code",
   "execution_count": 34,
   "metadata": {},
   "outputs": [
    {
     "data": {
      "text/plain": [
       "array([ 0.00000000e+00,  0.00000000e+00,  0.00000000e+00,  0.00000000e+00,\n",
       "        0.00000000e+00,  0.00000000e+00,  0.00000000e+00,  0.00000000e+00,\n",
       "        0.00000000e+00,  0.00000000e+00,  0.00000000e+00,  0.00000000e+00,\n",
       "        0.00000000e+00,  0.00000000e+00,  0.00000000e+00,  0.00000000e+00,\n",
       "        0.00000000e+00,  0.00000000e+00,  0.00000000e+00,  0.00000000e+00,\n",
       "        0.00000000e+00,  0.00000000e+00, -2.38418579e-07,  2.38418579e-07,\n",
       "        2.38418579e-07,  2.38418579e-07,  2.38418579e-07,  2.38418579e-07,\n",
       "        2.38418579e-07, -2.38418579e-07,  2.38418579e-07,  2.38418579e-07,\n",
       "        2.38418579e-07, -2.38418579e-07,  2.38418579e-07, -2.38418579e-07,\n",
       "       -2.38418579e-07, -2.38418579e-07,  0.00000000e+00,  0.00000000e+00,\n",
       "        0.00000000e+00,  0.00000000e+00,  0.00000000e+00,  0.00000000e+00,\n",
       "        0.00000000e+00,  0.00000000e+00,  0.00000000e+00,  0.00000000e+00,\n",
       "        0.00000000e+00,  0.00000000e+00,  0.00000000e+00,  0.00000000e+00,\n",
       "        0.00000000e+00,  0.00000000e+00,  0.00000000e+00,  0.00000000e+00,\n",
       "        0.00000000e+00,  0.00000000e+00,  0.00000000e+00,  0.00000000e+00,\n",
       "        0.00000000e+00,  0.00000000e+00,  0.00000000e+00,  0.00000000e+00,\n",
       "        0.00000000e+00,  0.00000000e+00,  0.00000000e+00,  0.00000000e+00,\n",
       "        0.00000000e+00,  0.00000000e+00,  0.00000000e+00,  0.00000000e+00,\n",
       "        0.00000000e+00,  0.00000000e+00,  0.00000000e+00,  0.00000000e+00])"
      ]
     },
     "execution_count": 34,
     "metadata": {},
     "output_type": "execute_result"
    }
   ],
   "source": [
    "outrep.drho(e2[0])@outv.numpy()"
   ]
  },
  {
   "cell_type": "code",
   "execution_count": 21,
   "metadata": {},
   "outputs": [
    {
     "data": {
      "text/plain": [
       "(16, 16)"
      ]
     },
     "execution_count": 21,
     "metadata": {},
     "output_type": "execute_result"
    }
   ],
   "source": [
    "outrep.drho(e2[0]).shape"
   ]
  },
  {
   "cell_type": "markdown",
   "metadata": {},
   "source": [
    "$SO(2): \\quad 1,\\_, \\delta_{ij},\\_, \\epsilon_{ij}, ...$"
   ]
  },
  {
   "cell_type": "code",
   "execution_count": 14,
   "metadata": {
    "scrolled": true
   },
   "outputs": [
    {
     "name": "stdout",
     "output_type": "stream",
     "text": [
      "T(0): 1\n",
      "T(1): 0\n",
      "T(2): 0\n",
      "T(3): 0\n",
      "T(4): 0\n",
      "T(5): 0\n",
      "T(6): 0\n",
      "T(7): 0\n"
     ]
    }
   ],
   "source": [
    "for i in range(8):\n",
    "    print(f\"T({i}): {T(i)(O(2)).symmetric_subspace()[0]}\")"
   ]
  },
  {
   "cell_type": "code",
   "execution_count": 1,
   "metadata": {},
   "outputs": [],
   "source": [
    "from emlp.equivariant_subspaces import T\n",
    "from emlp.groups import SO,O,C,D,Scaling,Parity,TimeReversal,Lorentz,SO13p,SO13,Symplectic,Permutation\n",
    "rep = T(2)(C(6))\n",
    "A = rep.show_subspace()"
   ]
  },
  {
   "cell_type": "code",
   "execution_count": 2,
   "metadata": {},
   "outputs": [
    {
     "data": {
      "text/plain": [
       "T(2) @ d=2"
      ]
     },
     "execution_count": 2,
     "metadata": {},
     "output_type": "execute_result"
    }
   ],
   "source": [
    "T(0,2)(C(6))"
   ]
  },
  {
   "cell_type": "code",
   "execution_count": 4,
   "metadata": {},
   "outputs": [
    {
     "data": {
      "text/plain": [
       "nan"
      ]
     },
     "execution_count": 4,
     "metadata": {},
     "output_type": "execute_result"
    }
   ],
   "source": [
    "import numpy as np\n",
    "np.mean(np.zeros((0,3)))"
   ]
  },
  {
   "cell_type": "code",
   "execution_count": 5,
   "metadata": {},
   "outputs": [
    {
     "name": "stdout",
     "output_type": "stream",
     "text": [
      "[-0.70710677  1.41421354 -1.41421354 -0.70710677]\n",
      "tensor([-0.7071,  1.4142, -1.4142, -0.7071])\n"
     ]
    }
   ],
   "source": [
    "R = rep.G.sample()\n",
    "Rrep = rep.rho(R)\n",
    "print(Rrep@A.numpy())\n",
    "print(A)"
   ]
  },
  {
   "cell_type": "code",
   "execution_count": 6,
   "metadata": {},
   "outputs": [
    {
     "ename": "NameError",
     "evalue": "name 'e2' is not defined",
     "output_type": "error",
     "traceback": [
      "\u001b[0;31m---------------------------------------------------------------------------\u001b[0m",
      "\u001b[0;31mNameError\u001b[0m                                 Traceback (most recent call last)",
      "\u001b[0;32m<ipython-input-6-fe77abfb07fa>\u001b[0m in \u001b[0;36m<module>\u001b[0;34m\u001b[0m\n\u001b[0;32m----> 1\u001b[0;31m \u001b[0mprint\u001b[0m\u001b[0;34m(\u001b[0m\u001b[0;34mf\"T({4}): {T(4)(e2).show_subspace().reshape(2,2,2,2)}\"\u001b[0m\u001b[0;34m)\u001b[0m\u001b[0;34m\u001b[0m\u001b[0;34m\u001b[0m\u001b[0m\n\u001b[0m",
      "\u001b[0;31mNameError\u001b[0m: name 'e2' is not defined"
     ]
    }
   ],
   "source": [
    "print(f\"T({4}): {T(4)(e2).show_subspace().reshape(2,2,2,2)}\")"
   ]
  },
  {
   "cell_type": "markdown",
   "metadata": {},
   "source": [
    "$SO(3): \\quad 1, \\_, \\delta_{ij}, \\epsilon_{ijk}, \\delta_{ij}\\delta_{k\\ell}, \\delta_{ik}\\delta_{j\\ell}, \\delta_{jk}\\delta_{i\\ell}, ...$"
   ]
  },
  {
   "cell_type": "code",
   "execution_count": 11,
   "metadata": {
    "scrolled": true
   },
   "outputs": [
    {
     "name": "stdout",
     "output_type": "stream",
     "text": [
      "T(0): 1\n",
      "T(1): 0\n",
      "T(2): 1\n",
      "T(3): 1\n",
      "T(4): 3\n",
      "T(5): 6\n",
      "T(6): 15\n",
      "T(7): 36\n"
     ]
    }
   ],
   "source": [
    "for i in range(8):\n",
    "    print(f\"T({i}): {T(i)(e3).symmetric_subspace()[0]}\")"
   ]
  },
  {
   "cell_type": "markdown",
   "metadata": {},
   "source": [
    "$SO^+(1,3): \\quad 1, \\_, \\delta_{\\mu}^\\nu, \\eta_{\\mu\\nu}, \\eta^{\\mu\\nu},\\_,\\epsilon_{\\mu\\nu\\sigma\\tau},\\eta_{\\mu\\nu}\\eta_{\\sigma\\tau},...$"
   ]
  },
  {
   "cell_type": "code",
   "execution_count": 1,
   "metadata": {},
   "outputs": [
    {
     "name": "stdout",
     "output_type": "stream",
     "text": [
      "T(0, 0): 1\n",
      "T(1, 0): 0\n",
      "T(0, 1): 0\n",
      "T(2, 0): 1\n",
      "T(1, 1): 1\n",
      "T(0, 2): 1\n",
      "T(3, 0): 0\n",
      "T(2, 1): 0\n",
      "T(1, 2): 0\n",
      "T(0, 3): 0\n",
      "T(4, 0): 3\n",
      "T(3, 1): 3\n",
      "T(2, 2): 3\n",
      "T(1, 3): 3\n",
      "T(0, 4): 3\n",
      "T(5, 0): 0\n",
      "T(4, 1): 0\n",
      "T(3, 2): 0\n",
      "T(2, 3): 0\n",
      "T(1, 4): 0\n",
      "T(0, 5): 0\n"
     ]
    }
   ],
   "source": [
    "from emlp.equivariant_subspaces import T\n",
    "from emlp.utils import NoCache as nocache\n",
    "from emlp.groups import SO,O,C,D,Scaling,Parity,TimeReversal,Lorentz,SO13p,SO13,Symplectic,Permutation,Trivial\n",
    "for i in range(6):\n",
    "    for j in range(i+1):\n",
    "        print(f\"T{i-j,j}: {T(i-j,j)(SO13).symmetric_subspace()[0]}\")"
   ]
  },
  {
   "cell_type": "code",
   "execution_count": 2,
   "metadata": {},
   "outputs": [
    {
     "name": "stdout",
     "output_type": "stream",
     "text": [
      "T(0, 0): 1\n",
      "T(1, 0): 0\n",
      "T(0, 1): 0\n",
      "T(2, 0): 1\n",
      "T(1, 1): 1\n",
      "T(0, 2): 1\n",
      "T(3, 0): 0\n",
      "T(2, 1): 0\n",
      "T(1, 2): 0\n",
      "T(0, 3): 0\n",
      "T(4, 0): 4\n",
      "T(3, 1): 4\n",
      "T(2, 2): 4\n",
      "T(1, 3): 4\n",
      "T(0, 4): 4\n",
      "T(5, 0): 0\n",
      "T(4, 1): 0\n",
      "T(3, 2): 0\n",
      "T(2, 3): 0\n",
      "T(1, 4): 0\n",
      "T(0, 5): 0\n"
     ]
    }
   ],
   "source": [
    "for i in range(6):\n",
    "    for j in range(i+1):\n",
    "        print(f\"T{i-j,j}: {T(i-j,j)(SO13p()).symmetric_subspace()[0]}\")"
   ]
  },
  {
   "cell_type": "markdown",
   "metadata": {},
   "source": [
    "#### $SO(2)_{xy}$ in $\\mathbb{R}^3$"
   ]
  },
  {
   "cell_type": "code",
   "execution_count": 7,
   "metadata": {},
   "outputs": [
    {
     "ename": "NameError",
     "evalue": "name 'e3' is not defined",
     "output_type": "error",
     "traceback": [
      "\u001b[0;31m---------------------------------------------------------------------------\u001b[0m",
      "\u001b[0;31mNameError\u001b[0m                                 Traceback (most recent call last)",
      "\u001b[0;32m<ipython-input-7-b34770b3dfcf>\u001b[0m in \u001b[0;36m<module>\u001b[0;34m\u001b[0m\n\u001b[1;32m      1\u001b[0m \u001b[0;32mfor\u001b[0m \u001b[0mi\u001b[0m \u001b[0;32min\u001b[0m \u001b[0mrange\u001b[0m\u001b[0;34m(\u001b[0m\u001b[0;36m8\u001b[0m\u001b[0;34m)\u001b[0m\u001b[0;34m:\u001b[0m\u001b[0;34m\u001b[0m\u001b[0;34m\u001b[0m\u001b[0m\n\u001b[0;32m----> 2\u001b[0;31m     \u001b[0mprint\u001b[0m\u001b[0;34m(\u001b[0m\u001b[0;34mf\"T({i}): {T(i)(e3[:1]).symmetric_subspace()[0]}\"\u001b[0m\u001b[0;34m)\u001b[0m\u001b[0;34m\u001b[0m\u001b[0;34m\u001b[0m\u001b[0m\n\u001b[0m",
      "\u001b[0;31mNameError\u001b[0m: name 'e3' is not defined"
     ]
    }
   ],
   "source": [
    "# for i in range(8):\n",
    "#     print(f\"T({i}): {T(i)(e3[:1]).symmetric_subspace()[0]}\")"
   ]
  },
  {
   "cell_type": "markdown",
   "metadata": {},
   "source": [
    "Trivial in $\\mathbb{R}^3$"
   ]
  },
  {
   "cell_type": "code",
   "execution_count": 3,
   "metadata": {},
   "outputs": [
    {
     "name": "stdout",
     "output_type": "stream",
     "text": [
      "T(0): 1\n",
      "T(1): 3\n",
      "T(2): 9\n",
      "T(3): 27\n",
      "T(4): 81\n",
      "T(5): 243\n",
      "T(6): 729\n",
      "T(7): 2187\n"
     ]
    }
   ],
   "source": [
    "for i in range(8):\n",
    "    print(f\"T({i}): {T(i)(Trivial(3)).symmetric_subspace()[0]}\")"
   ]
  },
  {
   "cell_type": "markdown",
   "metadata": {},
   "source": [
    "$\\mathrm{Sp}(1)$ Symplectic group"
   ]
  },
  {
   "cell_type": "code",
   "execution_count": 4,
   "metadata": {},
   "outputs": [
    {
     "name": "stdout",
     "output_type": "stream",
     "text": [
      "T(0, 0): 1\n",
      "T(1, 0): 0\n",
      "T(0, 1): 0\n",
      "T(2, 0): 1\n",
      "T(1, 1): 1\n",
      "T(0, 2): 1\n",
      "T(3, 0): 0\n",
      "T(2, 1): 0\n",
      "T(1, 2): 0\n",
      "T(0, 3): 0\n",
      "T(4, 0): 3\n",
      "T(3, 1): 3\n",
      "T(2, 2): 3\n",
      "T(1, 3): 3\n",
      "T(0, 4): 3\n",
      "T(5, 0): 0\n",
      "T(4, 1): 0\n",
      "T(3, 2): 0\n",
      "T(2, 3): 0\n",
      "T(1, 4): 0\n",
      "T(0, 5): 0\n"
     ]
    }
   ],
   "source": [
    "for i in range(6):\n",
    "    for j in range(i+1):\n",
    "        print(f\"T{i-j,j}: {T(i-j,j)(Symplectic(2)).symmetric_subspace()[0]}\")"
   ]
  },
  {
   "cell_type": "code",
   "execution_count": null,
   "metadata": {},
   "outputs": [],
   "source": [
    "import pandas as pd"
   ]
  },
  {
   "cell_type": "code",
   "execution_count": 7,
   "metadata": {},
   "outputs": [
    {
     "name": "stdout",
     "output_type": "stream",
     "text": [
      "        n=2   n=3   n=4   n=5   n=6   n=7   n=8  b(k)\n",
      "     __________________________________________\n",
      " k=0|     1     1     1     1     1     1     1|   1\n",
      " k=1|     1     1     1     1     1     1     1|   1\n",
      " k=2|     2     2     2     2     2     2     2|   2\n",
      " k=3|     4     5     5     5     5     5     5|   5\n",
      " k=4|     8    14    15    15    15    15    15|  15\n",
      " k=5|    16    41    51    52                  |  52\n",
      " k=6|    32   122   187                        | 203\n",
      " k=7|    64   365                              | 877\n",
      "\n"
     ]
    }
   ],
   "source": [
    "bell_numbers = [1,1,2,5,15,52,203,877]\n",
    "k_max= 8\n",
    "n_max=9\n",
    "printstr = \"\"\n",
    "#with nocache():\n",
    "printstr+=\"       \"\n",
    "for n in range(2,n_max):\n",
    "    printstr+=\" n={:1d}\".format(n)\n",
    "    printstr+=\"  \"\n",
    "printstr+=\"b(k)\\n\"\n",
    "printstr+=\"     \"+\"______\"*(n_max-2)+\"\\n\"\n",
    "for k in range(k_max):\n",
    "\n",
    "    printstr+=\" k={:1d}|\".format(k)\n",
    "    for n in range(2,n_max):\n",
    "        printstr+=\"  \"\n",
    "        if n**k<7000: printstr+=\"{:4d}\".format(T(k)(Permutation(n)).symmetric_subspace()[0])\n",
    "        else: printstr+=\"    \"\n",
    "        \n",
    "        #print(f\"S{n} T({k}): {T(k)(Permutation(n)).symmetric_subspace()[0]}\")\n",
    "    printstr+=\"| {:3d}\\n\".format(bell_numbers[k])\n",
    "print(printstr)"
   ]
  },
  {
   "cell_type": "code",
   "execution_count": 21,
   "metadata": {},
   "outputs": [
    {
     "data": {
      "text/plain": [
       "tensor([-1.2343,  0.0000,  0.0000,  0.0000,  0.0000, -0.9449, -0.2894,  0.0000,\n",
       "         0.0000, -0.2894, -0.9449,  0.0000,  0.0000,  0.0000,  0.0000, -1.2343])"
      ]
     },
     "execution_count": 21,
     "metadata": {},
     "output_type": "execute_result"
    }
   ],
   "source": [
    "T(2,0)(Symplectic(2)).show_subspace()"
   ]
  },
  {
   "cell_type": "code",
   "execution_count": 9,
   "metadata": {},
   "outputs": [],
   "source": [
    "import numpy as np"
   ]
  },
  {
   "cell_type": "code",
   "execution_count": 10,
   "metadata": {},
   "outputs": [
    {
     "data": {
      "text/plain": [
       "array([[ 0., -1.,  1.],\n",
       "       [-1.,  0.,  1.],\n",
       "       [-1.,  1.,  0.]])"
      ]
     },
     "execution_count": 10,
     "metadata": {},
     "output_type": "execute_result"
    }
   ],
   "source": [
    "np.ones(3)@e3"
   ]
  },
  {
   "cell_type": "code",
   "execution_count": 11,
   "metadata": {},
   "outputs": [
    {
     "data": {
      "text/plain": [
       "(3, 3, 3)"
      ]
     },
     "execution_count": 11,
     "metadata": {},
     "output_type": "execute_result"
    }
   ],
   "source": [
    "e3.shape"
   ]
  },
  {
   "cell_type": "code",
   "execution_count": 1,
   "metadata": {},
   "outputs": [],
   "source": [
    "from emlp.groups import *"
   ]
  },
  {
   "cell_type": "code",
   "execution_count": 6,
   "metadata": {},
   "outputs": [],
   "source": [
    "M = O13.sample()"
   ]
  },
  {
   "cell_type": "code",
   "execution_count": 7,
   "metadata": {},
   "outputs": [],
   "source": [
    "eta = np.eye(4)\n",
    "eta[0,0]=-1"
   ]
  },
  {
   "cell_type": "code",
   "execution_count": 8,
   "metadata": {},
   "outputs": [
    {
     "data": {
      "text/plain": [
       "array([[-1.11022302e-15, -5.01459875e-16, -1.71810289e-16,\n",
       "         1.19624964e-16],\n",
       "       [-5.01459875e-16, -3.33066907e-16, -1.36956663e-16,\n",
       "        -9.35976936e-17],\n",
       "       [-1.71810289e-16, -1.36956663e-16,  2.22044605e-16,\n",
       "         6.47558888e-17],\n",
       "       [ 1.19624964e-16, -9.35976936e-17,  6.47558888e-17,\n",
       "         0.00000000e+00]])"
      ]
     },
     "execution_count": 8,
     "metadata": {},
     "output_type": "execute_result"
    }
   ],
   "source": [
    "M.T@eta@M-eta"
   ]
  },
  {
   "cell_type": "code",
   "execution_count": 31,
   "metadata": {},
   "outputs": [],
   "source": [
    "A = SO(2).sample()"
   ]
  },
  {
   "cell_type": "code",
   "execution_count": 32,
   "metadata": {},
   "outputs": [
    {
     "data": {
      "text/plain": [
       "array([[1.00000000e+00, 7.21013798e-17],\n",
       "       [7.21013798e-17, 1.00000000e+00]])"
      ]
     },
     "execution_count": 32,
     "metadata": {},
     "output_type": "execute_result"
    }
   ],
   "source": [
    "A@A.T"
   ]
  },
  {
   "cell_type": "code",
   "execution_count": 8,
   "metadata": {},
   "outputs": [
    {
     "data": {
      "text/plain": [
       "[0, 0, 1, 0, 1, 2]"
      ]
     },
     "execution_count": 8,
     "metadata": {},
     "output_type": "execute_result"
    }
   ],
   "source": [
    "sum([[i for i in range(j)] for j in range(4)],[])"
   ]
  },
  {
   "cell_type": "code",
   "execution_count": 5,
   "metadata": {},
   "outputs": [
    {
     "data": {
      "text/plain": [
       "array([[[-1., -0.],\n",
       "        [-0., -1.]]])"
      ]
     },
     "execution_count": 5,
     "metadata": {},
     "output_type": "execute_result"
    }
   ],
   "source": [
    "O(2).discrete_generators"
   ]
  },
  {
   "cell_type": "code",
   "execution_count": 11,
   "metadata": {},
   "outputs": [
    {
     "data": {
      "text/plain": [
       "array([[0., 0., 0., 0.],\n",
       "       [0., 0., 0., 0.],\n",
       "       [0., 0., 0., 0.]])"
      ]
     },
     "execution_count": 11,
     "metadata": {},
     "output_type": "execute_result"
    }
   ],
   "source": [
    "import numpy as np\n",
    "np.concatenate([np.zeros((3,4)),np.zeros((0,4))])"
   ]
  },
  {
   "cell_type": "code",
   "execution_count": 4,
   "metadata": {},
   "outputs": [
    {
     "data": {
      "text/plain": [
       "array([[0, 1, 2],\n",
       "       [5, 6, 7]])"
      ]
     },
     "execution_count": 4,
     "metadata": {},
     "output_type": "execute_result"
    }
   ],
   "source": [
    "np.concatenate([np.arange(3),5+np.arange(3)]).reshape(2,3)"
   ]
  },
  {
   "cell_type": "code",
   "execution_count": 14,
   "metadata": {},
   "outputs": [],
   "source": [
    "import collections\n",
    "from emlp.equivariant_subspaces import size\n",
    "def tensor_indices_dict(rep):\n",
    "    index_dict = collections.defaultdict(list)\n",
    "    i=0\n",
    "    for rank in rep.ranks:\n",
    "        i_end = i+size(rank,rep.d)\n",
    "        index_dict[rank].append(np.arange(i,i_end))\n",
    "        i = i_end\n",
    "    return {rank:np.concatenate(ids) for rank,ids in index_dict.items()}"
   ]
  },
  {
   "cell_type": "code",
   "execution_count": 16,
   "metadata": {},
   "outputs": [
    {
     "data": {
      "text/plain": [
       "{(0, 0): array([ 0, 34]),\n",
       " (2,\n",
       "  0): array([ 1,  2,  3,  4,  5,  6,  7,  8,  9, 10, 11, 12, 13, 14, 15, 16, 17,\n",
       "        18, 19, 20, 21, 22, 23, 24, 25, 26, 27]),\n",
       " (1, 0): array([28, 29, 30, 31, 32, 33])}"
      ]
     },
     "execution_count": 16,
     "metadata": {},
     "output_type": "execute_result"
    }
   ],
   "source": [
    "tensor_indices_dict((T(0)+3*T(2)+2*T(1)+T(0))(SO(3)))"
   ]
  },
  {
   "cell_type": "code",
   "execution_count": null,
   "metadata": {},
   "outputs": [],
   "source": []
  },
  {
   "cell_type": "code",
   "execution_count": 1,
   "metadata": {},
   "outputs": [],
   "source": []
  },
  {
   "cell_type": "code",
   "execution_count": 9,
   "metadata": {},
   "outputs": [],
   "source": [
    "import pandas as pd\n",
    "import seaborn as sns\n",
    "import numpy as np\n",
    "import os\n",
    "import matplotlib.pyplot as plt\n",
    "import dill,pickle"
   ]
  },
  {
   "cell_type": "code",
   "execution_count": 18,
   "metadata": {},
   "outputs": [],
   "source": [
    "with open(os.path.expanduser('~/equivariant-MLP/experiments/EMLP_synthetic_study/results.df'),'rb') as f:\n",
    "    df = pickle.load(f)"
   ]
  },
  {
   "cell_type": "code",
   "execution_count": 29,
   "metadata": {},
   "outputs": [],
   "source": [
    "with open(os.path.expanduser('~/equivariant-MLP/experiments/EMLP_synthetic_study_aug/results.df'),'rb') as f:\n",
    "    df2 = pickle.load(f)\n",
    "    df2['group']='MLP+Aug'\n",
    "    df2['dataset']='Fr'"
   ]
  },
  {
   "cell_type": "code",
   "execution_count": 30,
   "metadata": {},
   "outputs": [
    {
     "name": "stderr",
     "output_type": "stream",
     "text": [
      "/home/marc/anaconda3/envs/default/lib/python3.7/site-packages/ipykernel_launcher.py:4: FutureWarning: Sorting because non-concatenation axis is not aligned. A future version\n",
      "of pandas will change to not sort by default.\n",
      "\n",
      "To accept the future behavior, pass 'sort=False'.\n",
      "\n",
      "To retain the current behavior and silence the warning, pass 'sort=True'.\n",
      "\n",
      "  after removing the cwd from sys.path.\n"
     ]
    }
   ],
   "source": [
    "df.loc[df['network']=='MLP','group']='MLP'\n",
    "df_fr = df[df['dataset']=='Fr']\n",
    "df_i = df[df['dataset']=='Inertia']\n",
    "df_frwaug = pd.concat([df_fr,df2])"
   ]
  },
  {
   "cell_type": "code",
   "execution_count": 24,
   "metadata": {},
   "outputs": [
    {
     "data": {
      "text/html": [
       "<div>\n",
       "<style scoped>\n",
       "    .dataframe tbody tr th:only-of-type {\n",
       "        vertical-align: middle;\n",
       "    }\n",
       "\n",
       "    .dataframe tbody tr th {\n",
       "        vertical-align: top;\n",
       "    }\n",
       "\n",
       "    .dataframe thead th {\n",
       "        text-align: right;\n",
       "    }\n",
       "</style>\n",
       "<table border=\"1\" class=\"dataframe\">\n",
       "  <thead>\n",
       "    <tr style=\"text-align: right;\">\n",
       "      <th></th>\n",
       "      <th>num_epochs</th>\n",
       "      <th>train</th>\n",
       "      <th>log_suffix</th>\n",
       "      <th>Minibatch_Loss</th>\n",
       "      <th>Train_MSE</th>\n",
       "      <th>lr0</th>\n",
       "      <th>test_MSE</th>\n",
       "      <th>group</th>\n",
       "    </tr>\n",
       "  </thead>\n",
       "  <tbody>\n",
       "    <tr>\n",
       "      <td>0</td>\n",
       "      <td>12000</td>\n",
       "      <td>25</td>\n",
       "      <td>trial0/</td>\n",
       "      <td>NaN</td>\n",
       "      <td>0.067273</td>\n",
       "      <td>0.000003</td>\n",
       "      <td>3.406097</td>\n",
       "      <td>MLP</td>\n",
       "    </tr>\n",
       "    <tr>\n",
       "      <td>1</td>\n",
       "      <td>6000</td>\n",
       "      <td>50</td>\n",
       "      <td>trial1/</td>\n",
       "      <td>NaN</td>\n",
       "      <td>0.014250</td>\n",
       "      <td>0.000003</td>\n",
       "      <td>1.671468</td>\n",
       "      <td>MLP</td>\n",
       "    </tr>\n",
       "    <tr>\n",
       "      <td>2</td>\n",
       "      <td>3000</td>\n",
       "      <td>100</td>\n",
       "      <td>trial2/</td>\n",
       "      <td>NaN</td>\n",
       "      <td>0.019037</td>\n",
       "      <td>0.000003</td>\n",
       "      <td>0.216648</td>\n",
       "      <td>MLP</td>\n",
       "    </tr>\n",
       "    <tr>\n",
       "      <td>3</td>\n",
       "      <td>750</td>\n",
       "      <td>400</td>\n",
       "      <td>trial3/</td>\n",
       "      <td>NaN</td>\n",
       "      <td>0.026743</td>\n",
       "      <td>0.000003</td>\n",
       "      <td>0.054095</td>\n",
       "      <td>MLP</td>\n",
       "    </tr>\n",
       "    <tr>\n",
       "      <td>4</td>\n",
       "      <td>300</td>\n",
       "      <td>1000</td>\n",
       "      <td>trial4/</td>\n",
       "      <td>0.225931</td>\n",
       "      <td>0.021691</td>\n",
       "      <td>0.000003</td>\n",
       "      <td>0.038507</td>\n",
       "      <td>MLP</td>\n",
       "    </tr>\n",
       "    <tr>\n",
       "      <td>5</td>\n",
       "      <td>100</td>\n",
       "      <td>3000</td>\n",
       "      <td>trial5/</td>\n",
       "      <td>NaN</td>\n",
       "      <td>0.044350</td>\n",
       "      <td>0.000003</td>\n",
       "      <td>0.063002</td>\n",
       "      <td>MLP</td>\n",
       "    </tr>\n",
       "    <tr>\n",
       "      <td>6</td>\n",
       "      <td>30</td>\n",
       "      <td>10000</td>\n",
       "      <td>trial6/</td>\n",
       "      <td>NaN</td>\n",
       "      <td>0.034367</td>\n",
       "      <td>0.000003</td>\n",
       "      <td>0.024869</td>\n",
       "      <td>MLP</td>\n",
       "    </tr>\n",
       "    <tr>\n",
       "      <td>7</td>\n",
       "      <td>12000</td>\n",
       "      <td>25</td>\n",
       "      <td>trial7/</td>\n",
       "      <td>NaN</td>\n",
       "      <td>0.041029</td>\n",
       "      <td>0.000003</td>\n",
       "      <td>3.349329</td>\n",
       "      <td>MLP</td>\n",
       "    </tr>\n",
       "    <tr>\n",
       "      <td>8</td>\n",
       "      <td>6000</td>\n",
       "      <td>50</td>\n",
       "      <td>trial8/</td>\n",
       "      <td>NaN</td>\n",
       "      <td>0.023225</td>\n",
       "      <td>0.000003</td>\n",
       "      <td>1.004375</td>\n",
       "      <td>MLP</td>\n",
       "    </tr>\n",
       "    <tr>\n",
       "      <td>9</td>\n",
       "      <td>3000</td>\n",
       "      <td>100</td>\n",
       "      <td>trial9/</td>\n",
       "      <td>NaN</td>\n",
       "      <td>0.019851</td>\n",
       "      <td>0.000003</td>\n",
       "      <td>0.228475</td>\n",
       "      <td>MLP</td>\n",
       "    </tr>\n",
       "    <tr>\n",
       "      <td>10</td>\n",
       "      <td>750</td>\n",
       "      <td>400</td>\n",
       "      <td>trial10/</td>\n",
       "      <td>NaN</td>\n",
       "      <td>0.021716</td>\n",
       "      <td>0.000003</td>\n",
       "      <td>0.033869</td>\n",
       "      <td>MLP</td>\n",
       "    </tr>\n",
       "    <tr>\n",
       "      <td>11</td>\n",
       "      <td>300</td>\n",
       "      <td>1000</td>\n",
       "      <td>trial11/</td>\n",
       "      <td>NaN</td>\n",
       "      <td>0.033925</td>\n",
       "      <td>0.000003</td>\n",
       "      <td>0.054045</td>\n",
       "      <td>MLP</td>\n",
       "    </tr>\n",
       "    <tr>\n",
       "      <td>12</td>\n",
       "      <td>100</td>\n",
       "      <td>3000</td>\n",
       "      <td>trial12/</td>\n",
       "      <td>NaN</td>\n",
       "      <td>0.036648</td>\n",
       "      <td>0.000003</td>\n",
       "      <td>0.053803</td>\n",
       "      <td>MLP</td>\n",
       "    </tr>\n",
       "    <tr>\n",
       "      <td>13</td>\n",
       "      <td>30</td>\n",
       "      <td>10000</td>\n",
       "      <td>trial13/</td>\n",
       "      <td>NaN</td>\n",
       "      <td>0.034434</td>\n",
       "      <td>0.000003</td>\n",
       "      <td>0.021295</td>\n",
       "      <td>MLP</td>\n",
       "    </tr>\n",
       "    <tr>\n",
       "      <td>14</td>\n",
       "      <td>12000</td>\n",
       "      <td>25</td>\n",
       "      <td>trial14/</td>\n",
       "      <td>NaN</td>\n",
       "      <td>0.021903</td>\n",
       "      <td>0.000003</td>\n",
       "      <td>3.670200</td>\n",
       "      <td>MLP</td>\n",
       "    </tr>\n",
       "    <tr>\n",
       "      <td>15</td>\n",
       "      <td>6000</td>\n",
       "      <td>50</td>\n",
       "      <td>trial15/</td>\n",
       "      <td>NaN</td>\n",
       "      <td>0.015326</td>\n",
       "      <td>0.000003</td>\n",
       "      <td>1.140595</td>\n",
       "      <td>MLP</td>\n",
       "    </tr>\n",
       "    <tr>\n",
       "      <td>16</td>\n",
       "      <td>3000</td>\n",
       "      <td>100</td>\n",
       "      <td>trial16/</td>\n",
       "      <td>NaN</td>\n",
       "      <td>0.037672</td>\n",
       "      <td>0.000003</td>\n",
       "      <td>0.239934</td>\n",
       "      <td>MLP</td>\n",
       "    </tr>\n",
       "    <tr>\n",
       "      <td>17</td>\n",
       "      <td>750</td>\n",
       "      <td>400</td>\n",
       "      <td>trial17/</td>\n",
       "      <td>NaN</td>\n",
       "      <td>0.019582</td>\n",
       "      <td>0.000003</td>\n",
       "      <td>0.035786</td>\n",
       "      <td>MLP</td>\n",
       "    </tr>\n",
       "    <tr>\n",
       "      <td>18</td>\n",
       "      <td>300</td>\n",
       "      <td>1000</td>\n",
       "      <td>trial18/</td>\n",
       "      <td>0.233303</td>\n",
       "      <td>0.022067</td>\n",
       "      <td>0.000003</td>\n",
       "      <td>0.035810</td>\n",
       "      <td>MLP</td>\n",
       "    </tr>\n",
       "    <tr>\n",
       "      <td>19</td>\n",
       "      <td>100</td>\n",
       "      <td>3000</td>\n",
       "      <td>trial19/</td>\n",
       "      <td>NaN</td>\n",
       "      <td>0.034379</td>\n",
       "      <td>0.000003</td>\n",
       "      <td>0.037557</td>\n",
       "      <td>MLP</td>\n",
       "    </tr>\n",
       "    <tr>\n",
       "      <td>20</td>\n",
       "      <td>30</td>\n",
       "      <td>10000</td>\n",
       "      <td>trial20/</td>\n",
       "      <td>NaN</td>\n",
       "      <td>0.034003</td>\n",
       "      <td>0.000003</td>\n",
       "      <td>0.023846</td>\n",
       "      <td>MLP</td>\n",
       "    </tr>\n",
       "  </tbody>\n",
       "</table>\n",
       "</div>"
      ],
      "text/plain": [
       "   num_epochs  train log_suffix  Minibatch_Loss  Train_MSE       lr0  \\\n",
       "0       12000     25    trial0/             NaN   0.067273  0.000003   \n",
       "1        6000     50    trial1/             NaN   0.014250  0.000003   \n",
       "2        3000    100    trial2/             NaN   0.019037  0.000003   \n",
       "3         750    400    trial3/             NaN   0.026743  0.000003   \n",
       "4         300   1000    trial4/        0.225931   0.021691  0.000003   \n",
       "5         100   3000    trial5/             NaN   0.044350  0.000003   \n",
       "6          30  10000    trial6/             NaN   0.034367  0.000003   \n",
       "7       12000     25    trial7/             NaN   0.041029  0.000003   \n",
       "8        6000     50    trial8/             NaN   0.023225  0.000003   \n",
       "9        3000    100    trial9/             NaN   0.019851  0.000003   \n",
       "10        750    400   trial10/             NaN   0.021716  0.000003   \n",
       "11        300   1000   trial11/             NaN   0.033925  0.000003   \n",
       "12        100   3000   trial12/             NaN   0.036648  0.000003   \n",
       "13         30  10000   trial13/             NaN   0.034434  0.000003   \n",
       "14      12000     25   trial14/             NaN   0.021903  0.000003   \n",
       "15       6000     50   trial15/             NaN   0.015326  0.000003   \n",
       "16       3000    100   trial16/             NaN   0.037672  0.000003   \n",
       "17        750    400   trial17/             NaN   0.019582  0.000003   \n",
       "18        300   1000   trial18/        0.233303   0.022067  0.000003   \n",
       "19        100   3000   trial19/             NaN   0.034379  0.000003   \n",
       "20         30  10000   trial20/             NaN   0.034003  0.000003   \n",
       "\n",
       "    test_MSE group  \n",
       "0   3.406097   MLP  \n",
       "1   1.671468   MLP  \n",
       "2   0.216648   MLP  \n",
       "3   0.054095   MLP  \n",
       "4   0.038507   MLP  \n",
       "5   0.063002   MLP  \n",
       "6   0.024869   MLP  \n",
       "7   3.349329   MLP  \n",
       "8   1.004375   MLP  \n",
       "9   0.228475   MLP  \n",
       "10  0.033869   MLP  \n",
       "11  0.054045   MLP  \n",
       "12  0.053803   MLP  \n",
       "13  0.021295   MLP  \n",
       "14  3.670200   MLP  \n",
       "15  1.140595   MLP  \n",
       "16  0.239934   MLP  \n",
       "17  0.035786   MLP  \n",
       "18  0.035810   MLP  \n",
       "19  0.037557   MLP  \n",
       "20  0.023846   MLP  "
      ]
     },
     "execution_count": 24,
     "metadata": {},
     "output_type": "execute_result"
    }
   ],
   "source": []
  },
  {
   "cell_type": "code",
   "execution_count": 21,
   "metadata": {},
   "outputs": [
    {
     "data": {
      "text/plain": [
       "Text(0.5, 1.0, 'Fitting Moment of Inertia (5 point masses)')"
      ]
     },
     "execution_count": 21,
     "metadata": {},
     "output_type": "execute_result"
    },
    {
     "data": {
      "image/png": "[encoded data removed]",
      "text/plain": [
       "<Figure size 432x288 with 1 Axes>"
      ]
     },
     "metadata": {},
     "output_type": "display_data"
    }
   ],
   "source": [
    "sns.set(style='whitegrid')\n",
    "sns.lineplot(data=df_i,x='train',y='test_MSE',hue='group')\n",
    "plt.xlabel('Training Examples')\n",
    "plt.yscale('log')\n",
    "plt.xscale('log')\n",
    "plt.title(\"Fitting Moment of Inertia (5 point masses)\")\n",
    "#plt.xlim(25,10**4)"
   ]
  },
  {
   "cell_type": "code",
   "execution_count": 193,
   "metadata": {},
   "outputs": [
    {
     "data": {
      "image/png": "[encoded data removed]",
      "text/plain": [
       "<Figure size 432x288 with 1 Axes>"
      ]
     },
     "metadata": {},
     "output_type": "display_data"
    }
   ],
   "source": [
    "sns.lineplot(data=df_i,x='train',y='Train_MSE',hue='group')\n",
    "plt.yscale('log')\n",
    "plt.xscale('log')"
   ]
  },
  {
   "cell_type": "code",
   "execution_count": 32,
   "metadata": {},
   "outputs": [
    {
     "data": {
      "image/png": "[encoded data removed]",
      "text/plain": [
       "<Figure size 432x288 with 1 Axes>"
      ]
     },
     "metadata": {},
     "output_type": "display_data"
    }
   ],
   "source": [
    "plt.title(r\"Fitting $f(x1,x2) = \\mathrm{sin}(\\||x1\\||)-\\||x_2\\||^3/2$\")\n",
    "sns.lineplot(data=df_frwaug,x='train',y='test_MSE',hue='group')\n",
    "plt.xlabel('Training Examples')\n",
    "plt.yscale('log')\n",
    "plt.xscale('log')"
   ]
  },
  {
   "cell_type": "code",
   "execution_count": 195,
   "metadata": {},
   "outputs": [
    {
     "data": {
      "image/png": "[encoded data removed]",
      "text/plain": [
       "<Figure size 432x288 with 1 Axes>"
      ]
     },
     "metadata": {},
     "output_type": "display_data"
    }
   ],
   "source": [
    "sns.lineplot(data=df_fr,x='train',y='Train_MSE',hue='group')\n",
    "plt.yscale('log')\n",
    "plt.xscale('log')"
   ]
  },
  {
   "cell_type": "code",
   "execution_count": 1,
   "metadata": {},
   "outputs": [],
   "source": [
    "from emlp.groups import Symplectic"
   ]
  },
  {
   "cell_type": "code",
   "execution_count": 11,
   "metadata": {},
   "outputs": [],
   "source": [
    "Sp = Symplectic(2)"
   ]
  },
  {
   "cell_type": "code",
   "execution_count": 12,
   "metadata": {},
   "outputs": [],
   "source": [
    "S = Sp.sample()"
   ]
  },
  {
   "cell_type": "code",
   "execution_count": 4,
   "metadata": {},
   "outputs": [],
   "source": [
    "import numpy as np"
   ]
  },
  {
   "cell_type": "code",
   "execution_count": 14,
   "metadata": {},
   "outputs": [],
   "source": [
    "J = np.array([[0, 1],[-1.,0]])\n",
    "Omega = np.kron(J,np.eye(2))"
   ]
  },
  {
   "cell_type": "code",
   "execution_count": 15,
   "metadata": {},
   "outputs": [
    {
     "data": {
      "text/plain": [
       "array([[-1.36100489e-16, -9.54867495e-17,  0.00000000e+00,\n",
       "         8.70343569e-18],\n",
       "       [-2.75402255e-17, -7.19633725e-17,  6.39748495e-17,\n",
       "         2.22044605e-16],\n",
       "       [-2.22044605e-16, -7.59323587e-17,  1.59813831e-17,\n",
       "         1.96336273e-16],\n",
       "       [ 9.48105133e-17, -2.22044605e-16, -2.14029412e-16,\n",
       "         1.67250872e-17]])"
      ]
     },
     "execution_count": 15,
     "metadata": {},
     "output_type": "execute_result"
    }
   ],
   "source": [
    "S.T@Omega@S-Omega"
   ]
  },
  {
   "cell_type": "code",
   "execution_count": 23,
   "metadata": {},
   "outputs": [
    {
     "data": {
      "text/plain": [
       "[]"
      ]
     },
     "execution_count": 23,
     "metadata": {},
     "output_type": "execute_result"
    }
   ],
   "source": [
    "0*[1]"
   ]
  },
  {
   "cell_type": "code",
   "execution_count": 8,
   "metadata": {},
   "outputs": [],
   "source": [
    "from emlp.mlp import uniform_rep,uniform_allocation\n",
    "from emlp.groups import Symplectic,Lorentz,SO,O"
   ]
  },
  {
   "cell_type": "code",
   "execution_count": 9,
   "metadata": {},
   "outputs": [],
   "source": [
    "SO3 = SO(3)"
   ]
  },
  {
   "cell_type": "code",
   "execution_count": 10,
   "metadata": {},
   "outputs": [
    {
     "data": {
      "text/plain": [
       "102T(0)+34T(1)+11T(2)+3T(3) @ d=3"
      ]
     },
     "execution_count": 10,
     "metadata": {},
     "output_type": "execute_result"
    }
   ],
   "source": [
    "uniform_rep(384,SO3)"
   ]
  },
  {
   "cell_type": "code",
   "execution_count": 7,
   "metadata": {},
   "outputs": [
    {
     "data": {
      "text/plain": [
       "384"
      ]
     },
     "execution_count": 7,
     "metadata": {},
     "output_type": "execute_result"
    }
   ],
   "source": [
    "uniform_rep(384,Lorentz).size()"
   ]
  },
  {
   "cell_type": "code",
   "execution_count": 6,
   "metadata": {},
   "outputs": [
    {
     "data": {
      "text/plain": [
       "8"
      ]
     },
     "execution_count": 6,
     "metadata": {},
     "output_type": "execute_result"
    }
   ],
   "source": [
    "143//2**4"
   ]
  },
  {
   "cell_type": "code",
   "execution_count": 1,
   "metadata": {},
   "outputs": [],
   "source": [
    "import scipy as sp\n",
    "import scipy.special\n",
    "from emlp.equivariant_subspaces import T"
   ]
  },
  {
   "cell_type": "code",
   "execution_count": 2,
   "metadata": {},
   "outputs": [
    {
     "data": {
      "text/plain": [
       "4.0"
      ]
     },
     "execution_count": 2,
     "metadata": {},
     "output_type": "execute_result"
    }
   ],
   "source": [
    "sp.special.binom(4,3)"
   ]
  },
  {
   "cell_type": "code",
   "execution_count": 3,
   "metadata": {},
   "outputs": [
    {
     "ename": "NameError",
     "evalue": "name 'np' is not defined",
     "output_type": "error",
     "traceback": [
      "\u001b[0;31m---------------------------------------------------------------------------\u001b[0m",
      "\u001b[0;31mNameError\u001b[0m                                 Traceback (most recent call last)",
      "\u001b[0;32m<ipython-input-3-efc3a14f6f19>\u001b[0m in \u001b[0;36m<module>\u001b[0;34m\u001b[0m\n\u001b[0;32m----> 1\u001b[0;31m \u001b[0mnp\u001b[0m\u001b[0;34m.\u001b[0m\u001b[0mzeros\u001b[0m\u001b[0;34m(\u001b[0m\u001b[0;34m(\u001b[0m\u001b[0;36m3\u001b[0m\u001b[0;34m,\u001b[0m\u001b[0;36m4\u001b[0m\u001b[0;34m)\u001b[0m\u001b[0;34m)\u001b[0m\u001b[0;34m.\u001b[0m\u001b[0mreshape\u001b[0m\u001b[0;34m(\u001b[0m\u001b[0;34m[\u001b[0m\u001b[0;36m4\u001b[0m\u001b[0;34m,\u001b[0m\u001b[0;36m3\u001b[0m\u001b[0;34m]\u001b[0m\u001b[0;34m)\u001b[0m\u001b[0;34m\u001b[0m\u001b[0;34m\u001b[0m\u001b[0m\n\u001b[0m",
      "\u001b[0;31mNameError\u001b[0m: name 'np' is not defined"
     ]
    }
   ],
   "source": [
    "np.zeros((3,4)).reshape([4,3])"
   ]
  },
  {
   "cell_type": "code",
   "execution_count": 1,
   "metadata": {},
   "outputs": [],
   "source": [
    "from emlp.equivariant_subspaces import drho, drho_lazy, T, rho,rho_lazy\n",
    "from emlp.groups import Lorentz,O,SO\n",
    "import numpy as np"
   ]
  },
  {
   "cell_type": "code",
   "execution_count": 40,
   "metadata": {},
   "outputs": [],
   "source": [
    "rank = (3,3)\n",
    "G = Lorentz\n",
    "M = (np.random.randn(G.lie_algebra.shape[0])[:,None,None]*G.lie_algebra).sum(0)\n",
    "\n",
    "#dr2 = drho_lazy(M,rank)*np.eye(G.d**sum(rank))"
   ]
  },
  {
   "cell_type": "code",
   "execution_count": 41,
   "metadata": {},
   "outputs": [],
   "source": [
    "drl = drho_lazy(M,rank)"
   ]
  },
  {
   "cell_type": "code",
   "execution_count": 42,
   "metadata": {},
   "outputs": [],
   "source": [
    "import scipy\n",
    "import scipy.sparse\n",
    "import numpy as np\n",
    "U,S,V = scipy.sparse.linalg.svds(drl,which='SM',k=90,tol=1e-5)"
   ]
  },
  {
   "cell_type": "code",
   "execution_count": 43,
   "metadata": {},
   "outputs": [
    {
     "ename": "ValueError",
     "evalue": "Error in inverting M: function gmres_loose did not converge (info = 40960).",
     "output_type": "error",
     "traceback": [
      "\u001b[0;31m---------------------------------------------------------------------------\u001b[0m",
      "\u001b[0;31mValueError\u001b[0m                                Traceback (most recent call last)",
      "\u001b[0;32m<ipython-input-43-02c020cc906a>\u001b[0m in \u001b[0;36m<module>\u001b[0;34m\u001b[0m\n\u001b[0;32m----> 1\u001b[0;31m \u001b[0m_\u001b[0m\u001b[0;34m,\u001b[0m\u001b[0mQ\u001b[0m \u001b[0;34m=\u001b[0m \u001b[0mscipy\u001b[0m\u001b[0;34m.\u001b[0m\u001b[0msparse\u001b[0m\u001b[0;34m.\u001b[0m\u001b[0mlinalg\u001b[0m\u001b[0;34m.\u001b[0m\u001b[0meigsh\u001b[0m\u001b[0;34m(\u001b[0m\u001b[0mdrl\u001b[0m\u001b[0;34m.\u001b[0m\u001b[0mT\u001b[0m\u001b[0;34m@\u001b[0m\u001b[0mdrl\u001b[0m\u001b[0;34m,\u001b[0m\u001b[0msigma\u001b[0m\u001b[0;34m=\u001b[0m\u001b[0;36m0\u001b[0m\u001b[0;34m,\u001b[0m\u001b[0mk\u001b[0m\u001b[0;34m=\u001b[0m\u001b[0;36m90\u001b[0m\u001b[0;34m)\u001b[0m\u001b[0;34m\u001b[0m\u001b[0;34m\u001b[0m\u001b[0m\n\u001b[0m",
      "\u001b[0;32m~/anaconda3/envs/default/lib/python3.7/site-packages/scipy/sparse/linalg/eigen/arpack/arpack.py\u001b[0m in \u001b[0;36meigsh\u001b[0;34m(A, k, M, sigma, which, v0, ncv, maxiter, tol, return_eigenvectors, Minv, OPinv, mode)\u001b[0m\n\u001b[1;32m   1685\u001b[0m     \u001b[0;32mwith\u001b[0m \u001b[0m_ARPACK_LOCK\u001b[0m\u001b[0;34m:\u001b[0m\u001b[0;34m\u001b[0m\u001b[0;34m\u001b[0m\u001b[0m\n\u001b[1;32m   1686\u001b[0m         \u001b[0;32mwhile\u001b[0m \u001b[0;32mnot\u001b[0m \u001b[0mparams\u001b[0m\u001b[0;34m.\u001b[0m\u001b[0mconverged\u001b[0m\u001b[0;34m:\u001b[0m\u001b[0;34m\u001b[0m\u001b[0;34m\u001b[0m\u001b[0m\n\u001b[0;32m-> 1687\u001b[0;31m             \u001b[0mparams\u001b[0m\u001b[0;34m.\u001b[0m\u001b[0miterate\u001b[0m\u001b[0;34m(\u001b[0m\u001b[0;34m)\u001b[0m\u001b[0;34m\u001b[0m\u001b[0;34m\u001b[0m\u001b[0m\n\u001b[0m\u001b[1;32m   1688\u001b[0m \u001b[0;34m\u001b[0m\u001b[0m\n\u001b[1;32m   1689\u001b[0m         \u001b[0;32mreturn\u001b[0m \u001b[0mparams\u001b[0m\u001b[0;34m.\u001b[0m\u001b[0mextract\u001b[0m\u001b[0;34m(\u001b[0m\u001b[0mreturn_eigenvectors\u001b[0m\u001b[0;34m)\u001b[0m\u001b[0;34m\u001b[0m\u001b[0;34m\u001b[0m\u001b[0m\n",
      "\u001b[0;32m~/anaconda3/envs/default/lib/python3.7/site-packages/scipy/sparse/linalg/eigen/arpack/arpack.py\u001b[0m in \u001b[0;36miterate\u001b[0;34m(self)\u001b[0m\n\u001b[1;32m    558\u001b[0m             \u001b[0;32melse\u001b[0m\u001b[0;34m:\u001b[0m\u001b[0;34m\u001b[0m\u001b[0;34m\u001b[0m\u001b[0m\n\u001b[1;32m    559\u001b[0m                 \u001b[0mBxslice\u001b[0m \u001b[0;34m=\u001b[0m \u001b[0mslice\u001b[0m\u001b[0;34m(\u001b[0m\u001b[0mself\u001b[0m\u001b[0;34m.\u001b[0m\u001b[0mipntr\u001b[0m\u001b[0;34m[\u001b[0m\u001b[0;36m2\u001b[0m\u001b[0;34m]\u001b[0m \u001b[0;34m-\u001b[0m \u001b[0;36m1\u001b[0m\u001b[0;34m,\u001b[0m \u001b[0mself\u001b[0m\u001b[0;34m.\u001b[0m\u001b[0mipntr\u001b[0m\u001b[0;34m[\u001b[0m\u001b[0;36m2\u001b[0m\u001b[0;34m]\u001b[0m \u001b[0;34m-\u001b[0m \u001b[0;36m1\u001b[0m \u001b[0;34m+\u001b[0m \u001b[0mself\u001b[0m\u001b[0;34m.\u001b[0m\u001b[0mn\u001b[0m\u001b[0;34m)\u001b[0m\u001b[0;34m\u001b[0m\u001b[0;34m\u001b[0m\u001b[0m\n\u001b[0;32m--> 560\u001b[0;31m                 \u001b[0mself\u001b[0m\u001b[0;34m.\u001b[0m\u001b[0mworkd\u001b[0m\u001b[0;34m[\u001b[0m\u001b[0myslice\u001b[0m\u001b[0;34m]\u001b[0m \u001b[0;34m=\u001b[0m \u001b[0mself\u001b[0m\u001b[0;34m.\u001b[0m\u001b[0mOPa\u001b[0m\u001b[0;34m(\u001b[0m\u001b[0mself\u001b[0m\u001b[0;34m.\u001b[0m\u001b[0mworkd\u001b[0m\u001b[0;34m[\u001b[0m\u001b[0mBxslice\u001b[0m\u001b[0;34m]\u001b[0m\u001b[0;34m)\u001b[0m\u001b[0;34m\u001b[0m\u001b[0;34m\u001b[0m\u001b[0m\n\u001b[0m\u001b[1;32m    561\u001b[0m         \u001b[0;32melif\u001b[0m \u001b[0mself\u001b[0m\u001b[0;34m.\u001b[0m\u001b[0mido\u001b[0m \u001b[0;34m==\u001b[0m \u001b[0;36m2\u001b[0m\u001b[0;34m:\u001b[0m\u001b[0;34m\u001b[0m\u001b[0;34m\u001b[0m\u001b[0m\n\u001b[1;32m    562\u001b[0m             \u001b[0mself\u001b[0m\u001b[0;34m.\u001b[0m\u001b[0mworkd\u001b[0m\u001b[0;34m[\u001b[0m\u001b[0myslice\u001b[0m\u001b[0;34m]\u001b[0m \u001b[0;34m=\u001b[0m \u001b[0mself\u001b[0m\u001b[0;34m.\u001b[0m\u001b[0mB\u001b[0m\u001b[0;34m(\u001b[0m\u001b[0mself\u001b[0m\u001b[0;34m.\u001b[0m\u001b[0mworkd\u001b[0m\u001b[0;34m[\u001b[0m\u001b[0mxslice\u001b[0m\u001b[0;34m]\u001b[0m\u001b[0;34m)\u001b[0m\u001b[0;34m\u001b[0m\u001b[0;34m\u001b[0m\u001b[0m\n",
      "\u001b[0;32m~/anaconda3/envs/default/lib/python3.7/site-packages/scipy/sparse/linalg/interface.py\u001b[0m in \u001b[0;36mmatvec\u001b[0;34m(self, x)\u001b[0m\n\u001b[1;32m    227\u001b[0m             \u001b[0;32mraise\u001b[0m \u001b[0mValueError\u001b[0m\u001b[0;34m(\u001b[0m\u001b[0;34m'dimension mismatch'\u001b[0m\u001b[0;34m)\u001b[0m\u001b[0;34m\u001b[0m\u001b[0;34m\u001b[0m\u001b[0m\n\u001b[1;32m    228\u001b[0m \u001b[0;34m\u001b[0m\u001b[0m\n\u001b[0;32m--> 229\u001b[0;31m         \u001b[0my\u001b[0m \u001b[0;34m=\u001b[0m \u001b[0mself\u001b[0m\u001b[0;34m.\u001b[0m\u001b[0m_matvec\u001b[0m\u001b[0;34m(\u001b[0m\u001b[0mx\u001b[0m\u001b[0;34m)\u001b[0m\u001b[0;34m\u001b[0m\u001b[0;34m\u001b[0m\u001b[0m\n\u001b[0m\u001b[1;32m    230\u001b[0m \u001b[0;34m\u001b[0m\u001b[0m\n\u001b[1;32m    231\u001b[0m         \u001b[0;32mif\u001b[0m \u001b[0misinstance\u001b[0m\u001b[0;34m(\u001b[0m\u001b[0mx\u001b[0m\u001b[0;34m,\u001b[0m \u001b[0mnp\u001b[0m\u001b[0;34m.\u001b[0m\u001b[0mmatrix\u001b[0m\u001b[0;34m)\u001b[0m\u001b[0;34m:\u001b[0m\u001b[0;34m\u001b[0m\u001b[0;34m\u001b[0m\u001b[0m\n",
      "\u001b[0;32m~/anaconda3/envs/default/lib/python3.7/site-packages/scipy/sparse/linalg/eigen/arpack/arpack.py\u001b[0m in \u001b[0;36m_matvec\u001b[0;34m(self, x)\u001b[0m\n\u001b[1;32m    979\u001b[0m             raise ValueError(\"Error in inverting M: function \"\n\u001b[1;32m    980\u001b[0m                              \u001b[0;34m\"%s did not converge (info = %i).\"\u001b[0m\u001b[0;34m\u001b[0m\u001b[0;34m\u001b[0m\u001b[0m\n\u001b[0;32m--> 981\u001b[0;31m                              % (self.ifunc.__name__, info))\n\u001b[0m\u001b[1;32m    982\u001b[0m         \u001b[0;32mreturn\u001b[0m \u001b[0mb\u001b[0m\u001b[0;34m\u001b[0m\u001b[0;34m\u001b[0m\u001b[0m\n\u001b[1;32m    983\u001b[0m \u001b[0;34m\u001b[0m\u001b[0m\n",
      "\u001b[0;31mValueError\u001b[0m: Error in inverting M: function gmres_loose did not converge (info = 40960)."
     ]
    }
   ],
   "source": [
    "L,Q = scipy.sparse.linalg.eigsh(drl.T@drl,sigma=0,k=90)"
   ]
  },
  {
   "cell_type": "code",
   "execution_count": null,
   "metadata": {},
   "outputs": [],
   "source": []
  },
  {
   "cell_type": "code",
   "execution_count": 37,
   "metadata": {},
   "outputs": [
    {
     "ename": "ValueError",
     "evalue": "A and b have incompatible dimensions",
     "output_type": "error",
     "traceback": [
      "\u001b[0;31m---------------------------------------------------------------------------\u001b[0m",
      "\u001b[0;31mValueError\u001b[0m                                Traceback (most recent call last)",
      "\u001b[0;32m<ipython-input-37-ca99dab48c0b>\u001b[0m in \u001b[0;36m<module>\u001b[0;34m\u001b[0m\n\u001b[0;32m----> 1\u001b[0;31m \u001b[0mQ\u001b[0m \u001b[0;34m=\u001b[0m \u001b[0mscipy\u001b[0m\u001b[0;34m.\u001b[0m\u001b[0msparse\u001b[0m\u001b[0;34m.\u001b[0m\u001b[0mlinalg\u001b[0m\u001b[0;34m.\u001b[0m\u001b[0mminres\u001b[0m\u001b[0;34m(\u001b[0m\u001b[0mdrl\u001b[0m\u001b[0;34m.\u001b[0m\u001b[0mT\u001b[0m\u001b[0;34m@\u001b[0m\u001b[0mdrl\u001b[0m\u001b[0;34m,\u001b[0m\u001b[0mnp\u001b[0m\u001b[0;34m.\u001b[0m\u001b[0mzeros\u001b[0m\u001b[0;34m(\u001b[0m\u001b[0;34m(\u001b[0m\u001b[0mdrl\u001b[0m\u001b[0;34m.\u001b[0m\u001b[0mshape\u001b[0m\u001b[0;34m[\u001b[0m\u001b[0;36m1\u001b[0m\u001b[0;34m]\u001b[0m\u001b[0;34m,\u001b[0m\u001b[0;36m42\u001b[0m\u001b[0;34m)\u001b[0m\u001b[0;34m)\u001b[0m\u001b[0;34m)\u001b[0m\u001b[0;34m\u001b[0m\u001b[0;34m\u001b[0m\u001b[0m\n\u001b[0m",
      "\u001b[0;32m~/anaconda3/envs/default/lib/python3.7/site-packages/scipy/sparse/linalg/isolve/minres.py\u001b[0m in \u001b[0;36mminres\u001b[0;34m(A, b, x0, shift, tol, maxiter, M, callback, show, check)\u001b[0m\n\u001b[1;32m     69\u001b[0m \u001b[0;34m\u001b[0m\u001b[0m\n\u001b[1;32m     70\u001b[0m     \"\"\"\n\u001b[0;32m---> 71\u001b[0;31m     \u001b[0mA\u001b[0m\u001b[0;34m,\u001b[0m \u001b[0mM\u001b[0m\u001b[0;34m,\u001b[0m \u001b[0mx\u001b[0m\u001b[0;34m,\u001b[0m \u001b[0mb\u001b[0m\u001b[0;34m,\u001b[0m \u001b[0mpostprocess\u001b[0m \u001b[0;34m=\u001b[0m \u001b[0mmake_system\u001b[0m\u001b[0;34m(\u001b[0m\u001b[0mA\u001b[0m\u001b[0;34m,\u001b[0m \u001b[0mM\u001b[0m\u001b[0;34m,\u001b[0m \u001b[0mx0\u001b[0m\u001b[0;34m,\u001b[0m \u001b[0mb\u001b[0m\u001b[0;34m)\u001b[0m\u001b[0;34m\u001b[0m\u001b[0;34m\u001b[0m\u001b[0m\n\u001b[0m\u001b[1;32m     72\u001b[0m \u001b[0;34m\u001b[0m\u001b[0m\n\u001b[1;32m     73\u001b[0m     \u001b[0mmatvec\u001b[0m \u001b[0;34m=\u001b[0m \u001b[0mA\u001b[0m\u001b[0;34m.\u001b[0m\u001b[0mmatvec\u001b[0m\u001b[0;34m\u001b[0m\u001b[0;34m\u001b[0m\u001b[0m\n",
      "\u001b[0;32m~/anaconda3/envs/default/lib/python3.7/site-packages/scipy/sparse/linalg/isolve/utils.py\u001b[0m in \u001b[0;36mmake_system\u001b[0;34m(A, M, x0, b)\u001b[0m\n\u001b[1;32m     74\u001b[0m \u001b[0;34m\u001b[0m\u001b[0m\n\u001b[1;32m     75\u001b[0m     \u001b[0;32mif\u001b[0m \u001b[0;32mnot\u001b[0m \u001b[0;34m(\u001b[0m\u001b[0mb\u001b[0m\u001b[0;34m.\u001b[0m\u001b[0mshape\u001b[0m \u001b[0;34m==\u001b[0m \u001b[0;34m(\u001b[0m\u001b[0mN\u001b[0m\u001b[0;34m,\u001b[0m\u001b[0;36m1\u001b[0m\u001b[0;34m)\u001b[0m \u001b[0;32mor\u001b[0m \u001b[0mb\u001b[0m\u001b[0;34m.\u001b[0m\u001b[0mshape\u001b[0m \u001b[0;34m==\u001b[0m \u001b[0;34m(\u001b[0m\u001b[0mN\u001b[0m\u001b[0;34m,\u001b[0m\u001b[0;34m)\u001b[0m\u001b[0;34m)\u001b[0m\u001b[0;34m:\u001b[0m\u001b[0;34m\u001b[0m\u001b[0;34m\u001b[0m\u001b[0m\n\u001b[0;32m---> 76\u001b[0;31m         \u001b[0;32mraise\u001b[0m \u001b[0mValueError\u001b[0m\u001b[0;34m(\u001b[0m\u001b[0;34m'A and b have incompatible dimensions'\u001b[0m\u001b[0;34m)\u001b[0m\u001b[0;34m\u001b[0m\u001b[0;34m\u001b[0m\u001b[0m\n\u001b[0m\u001b[1;32m     77\u001b[0m \u001b[0;34m\u001b[0m\u001b[0m\n\u001b[1;32m     78\u001b[0m     \u001b[0;32mif\u001b[0m \u001b[0mb\u001b[0m\u001b[0;34m.\u001b[0m\u001b[0mdtype\u001b[0m\u001b[0;34m.\u001b[0m\u001b[0mchar\u001b[0m \u001b[0;32mnot\u001b[0m \u001b[0;32min\u001b[0m \u001b[0;34m'fdFD'\u001b[0m\u001b[0;34m:\u001b[0m\u001b[0;34m\u001b[0m\u001b[0;34m\u001b[0m\u001b[0m\n",
      "\u001b[0;31mValueError\u001b[0m: A and b have incompatible dimensions"
     ]
    }
   ],
   "source": [
    "Q = scipy.sparse.linalg.minres(drl.T@drl,np.zeros((drl.shape[1],42)))"
   ]
  },
  {
   "cell_type": "code",
   "execution_count": 9,
   "metadata": {},
   "outputs": [
    {
     "data": {
      "text/plain": [
       "48"
      ]
     },
     "execution_count": 9,
     "metadata": {},
     "output_type": "execute_result"
    }
   ],
   "source": [
    "(S>1e-3).sum()"
   ]
  },
  {
   "cell_type": "code",
   "execution_count": 16,
   "metadata": {},
   "outputs": [
    {
     "data": {
      "text/plain": [
       "(90, 65536)"
      ]
     },
     "execution_count": 16,
     "metadata": {},
     "output_type": "execute_result"
    }
   ],
   "source": [
    "V.shape"
   ]
  },
  {
   "cell_type": "code",
   "execution_count": 19,
   "metadata": {},
   "outputs": [],
   "source": [
    "a = (drl@V.T)"
   ]
  },
  {
   "cell_type": "code",
   "execution_count": 31,
   "metadata": {},
   "outputs": [
    {
     "data": {
      "text/plain": [
       "array([0.00049378, 0.00049163, 0.00049717, 0.0004959 , 0.00049454,\n",
       "       0.00049651, 0.00049194, 0.00048909, 0.00049317, 0.00049607,\n",
       "       0.00049382, 0.0004957 , 0.00050339, 0.00049546, 0.00049036,\n",
       "       0.00049405, 0.00049981, 0.00048893, 0.00049454, 0.00049405,\n",
       "       0.00049449, 0.00049556, 0.00049875, 0.00049513, 0.00049029,\n",
       "       0.00049397, 0.00048986, 0.00048615, 0.00049308, 0.00049599,\n",
       "       0.00049725, 0.00048554, 0.00049619, 0.0004951 , 0.0004974 ,\n",
       "       0.00049785, 0.00048609, 0.00049357, 0.00049869, 0.00050101,\n",
       "       0.00049311, 0.00049581])"
      ]
     },
     "execution_count": 31,
     "metadata": {},
     "output_type": "execute_result"
    }
   ],
   "source": [
    "(a[:,(S<1e-5)]**2).mean(0)"
   ]
  },
  {
   "cell_type": "code",
   "execution_count": 6,
   "metadata": {},
   "outputs": [
    {
     "name": "stdout",
     "output_type": "stream",
     "text": [
      "2.42 s ± 4.49 ms per loop (mean ± std. dev. of 7 runs, 1 loop each)\n"
     ]
    }
   ],
   "source": [
    "dr = drho(M,rank)\n",
    "%timeit np.linalg.svd(dr,full_matrices=False)"
   ]
  },
  {
   "cell_type": "code",
   "execution_count": 7,
   "metadata": {},
   "outputs": [],
   "source": [
    "a,b,c = np.linalg.svd(dr,full_matrices=False)"
   ]
  },
  {
   "cell_type": "code",
   "execution_count": 17,
   "metadata": {},
   "outputs": [
    {
     "data": {
      "text/plain": [
       "(2187, 2187)"
      ]
     },
     "execution_count": 17,
     "metadata": {},
     "output_type": "execute_result"
    }
   ],
   "source": [
    "c.shape"
   ]
  },
  {
   "cell_type": "code",
   "execution_count": 12,
   "metadata": {},
   "outputs": [
    {
     "data": {
      "text/plain": [
       "393"
      ]
     },
     "execution_count": 12,
     "metadata": {},
     "output_type": "execute_result"
    }
   ],
   "source": [
    "(b<1e-8).sum()"
   ]
  },
  {
   "cell_type": "code",
   "execution_count": 13,
   "metadata": {},
   "outputs": [
    {
     "data": {
      "text/plain": [
       "1794"
      ]
     },
     "execution_count": 13,
     "metadata": {},
     "output_type": "execute_result"
    }
   ],
   "source": [
    "(b>1e-6).sum()"
   ]
  },
  {
   "cell_type": "code",
   "execution_count": 23,
   "metadata": {},
   "outputs": [
    {
     "data": {
      "text/plain": [
       "(27, 27)"
      ]
     },
     "execution_count": 23,
     "metadata": {},
     "output_type": "execute_result"
    }
   ],
   "source": [
    "U2.shape"
   ]
  },
  {
   "cell_type": "code",
   "execution_count": 24,
   "metadata": {},
   "outputs": [
    {
     "data": {
      "text/plain": [
       "(27, 10)"
      ]
     },
     "execution_count": 24,
     "metadata": {},
     "output_type": "execute_result"
    }
   ],
   "source": [
    "U.shape"
   ]
  },
  {
   "cell_type": "code",
   "execution_count": 27,
   "metadata": {},
   "outputs": [
    {
     "data": {
      "text/plain": [
       "array([[ 0.53620943, -0.00256057, -0.17947038, -0.1647883 ,  0.26363003,\n",
       "        -0.26291738,  0.26373772,  0.31729468, -0.05550727,  0.02657079,\n",
       "         0.06667226,  0.2736735 ,  0.4268051 ,  0.03756258,  0.12234059,\n",
       "        -0.22068874, -0.05171853,  0.17194761,  0.26701322, -0.35167309,\n",
       "         0.58496815, -0.09815643, -0.05719358, -0.07701386,  0.25301376,\n",
       "         0.12877441, -0.03385442],\n",
       "       [ 0.52912226,  0.06865191,  0.01351972,  0.37797441,  0.26863571,\n",
       "        -0.23249508, -0.01799347, -0.06405006,  0.16600934, -0.06765509,\n",
       "        -0.2914878 , -0.35895634,  0.04625461,  0.34979808, -0.12254849,\n",
       "        -0.39726869,  0.41801148,  0.01168394, -0.55212132,  0.47692821,\n",
       "        -0.12886704,  0.28722357, -0.43194779, -0.29775601,  0.12794596,\n",
       "         0.49714715,  0.21220599],\n",
       "       [ 0.14126866, -0.07154802,  0.58171284,  0.13713865, -0.18712019,\n",
       "        -0.11761939,  0.08561837,  0.31238878,  0.33441877,  0.1033827 ,\n",
       "        -0.07411729,  0.17562329, -0.07541426, -0.11108516,  0.10277286,\n",
       "         0.0468984 , -0.38664784,  0.27549056, -0.25089387,  0.16334767,\n",
       "         0.09252539,  0.15949959,  0.00585973, -0.60657124,  0.23441916,\n",
       "        -0.00829557, -0.36174665],\n",
       "       [ 0.33303878, -0.11879745,  0.21131247,  0.20691665, -0.46720649,\n",
       "         0.07164059, -0.17197683, -0.18595651,  0.08316737, -0.27634184,\n",
       "         0.08970454, -0.03238207, -0.02569513, -0.07747268, -0.2351065 ,\n",
       "        -0.5438836 ,  0.44922028, -0.31353331,  0.27686209, -0.24212759,\n",
       "        -0.16824531, -0.09823996,  0.18574071, -0.08929664,  0.08778125,\n",
       "         0.13137037, -0.23288342],\n",
       "       [ 0.33519005, -0.15296871,  0.12965479, -0.13960556, -0.27077951,\n",
       "         0.25891154, -0.30610904,  0.5177245 , -0.0087385 ,  0.19364696,\n",
       "        -0.06543599, -0.30897002,  0.20734865, -0.17909746, -0.81773902,\n",
       "        -0.18296329, -0.51073444, -0.34661544,  0.33155889,  0.11401397,\n",
       "         0.05295317,  0.37417562, -0.12381337,  0.13382858,  0.07441713,\n",
       "         0.12853082,  0.08541744],\n",
       "       [-0.18647889, -0.43380126, -0.18133596,  0.1584166 ,  0.07951914,\n",
       "        -0.30092091, -0.15828118,  0.21296437,  0.95356618,  0.22071033,\n",
       "        -0.4024069 ,  0.16097735,  0.30323886,  0.09284696, -0.09877534,\n",
       "         0.33480355,  0.05446167, -0.14383597,  0.12452302,  0.19550769,\n",
       "         0.11328498, -0.0234141 , -0.02028273,  0.09340777, -0.34722739,\n",
       "        -0.08088109, -0.2577043 ]])"
      ]
     },
     "execution_count": 27,
     "metadata": {},
     "output_type": "execute_result"
    }
   ],
   "source": [
    "U2[-6:]-U[:,:6]"
   ]
  },
  {
   "cell_type": "code",
   "execution_count": 3,
   "metadata": {},
   "outputs": [
    {
     "data": {
      "text/plain": [
       "0.0"
      ]
     },
     "execution_count": 3,
     "metadata": {},
     "output_type": "execute_result"
    }
   ],
   "source": [
    "np.linalg.norm(dr2-dr)/(np.linalg.norm(dr2)+np.linalg.norm(dr))"
   ]
  },
  {
   "cell_type": "code",
   "execution_count": 4,
   "metadata": {},
   "outputs": [
    {
     "data": {
      "text/plain": [
       "array([[ 0.        , -0.41294998, -0.02023324, -0.60958842],\n",
       "       [-0.41294998,  0.        , -0.06949501,  0.99914336],\n",
       "       [-0.02023324,  0.06949501,  0.        , -0.63595889],\n",
       "       [-0.60958842, -0.99914336,  0.63595889,  0.        ]])"
      ]
     },
     "execution_count": 4,
     "metadata": {},
     "output_type": "execute_result"
    }
   ],
   "source": [
    "dr"
   ]
  },
  {
   "cell_type": "code",
   "execution_count": 5,
   "metadata": {},
   "outputs": [
    {
     "data": {
      "text/plain": [
       "array([[ 0.        , -0.41294998, -0.02023324, -0.60958842],\n",
       "       [-0.41294998,  0.        , -0.06949501,  0.99914336],\n",
       "       [-0.02023324,  0.06949501,  0.        , -0.63595889],\n",
       "       [-0.60958842, -0.99914336,  0.63595889,  0.        ]])"
      ]
     },
     "execution_count": 5,
     "metadata": {},
     "output_type": "execute_result"
    }
   ],
   "source": [
    "dr2"
   ]
  },
  {
   "cell_type": "code",
   "execution_count": 39,
   "metadata": {},
   "outputs": [
    {
     "data": {
      "text/plain": [
       "5103"
      ]
     },
     "execution_count": 39,
     "metadata": {},
     "output_type": "execute_result"
    }
   ],
   "source": [
    "7*3**6"
   ]
  },
  {
   "cell_type": "code",
   "execution_count": null,
   "metadata": {},
   "outputs": [],
   "source": []
  }
 ],
 "metadata": {
  "kernelspec": {
   "display_name": "Python 3",
   "language": "python",
   "name": "python3"
  },
  "language_info": {
   "codemirror_mode": {
    "name": "ipython",
    "version": 3
   },
   "file_extension": ".py",
   "mimetype": "text/x-python",
   "name": "python",
   "nbconvert_exporter": "python",
   "pygments_lexer": "ipython3",
   "version": "3.7.4"
  }
 },
 "nbformat": 4,
 "nbformat_minor": 2
}
