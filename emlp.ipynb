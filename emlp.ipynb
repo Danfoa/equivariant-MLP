{
  "nbformat": 4,
  "nbformat_minor": 0,
  "metadata": {
    "colab": {
      "name": "emlp.ipynb",
      "provenance": [],
      "authorship_tag": "ABX9TyPZ2FZWybnqoMD974zhuAW/",
      "include_colab_link": true
    },
    "kernelspec": {
      "name": "python3",
      "display_name": "Python 3"
    },
    "accelerator": "GPU",
    "widgets": {
      "application/vnd.jupyter.widget-state+json": {
        "d68b083d7a4642768951febf2e91ac16": {
          "model_module": "@jupyter-widgets/controls",
          "model_name": "HBoxModel",
          "state": {
            "_view_name": "HBoxView",
            "_dom_classes": [],
            "_model_name": "HBoxModel",
            "_view_module": "@jupyter-widgets/controls",
            "_model_module_version": "1.5.0",
            "_view_count": null,
            "_view_module_version": "1.5.0",
            "box_style": "",
            "layout": "IPY_MODEL_27cbfd2cf0d34421a559aaa790cd68af",
            "_model_module": "@jupyter-widgets/controls",
            "children": [
              "IPY_MODEL_4ed2e8497c4947dfbe2e9fa71d2cf376",
              "IPY_MODEL_788728f6730a4d3c86b0a7da2cb9f440"
            ]
          }
        },
        "27cbfd2cf0d34421a559aaa790cd68af": {
          "model_module": "@jupyter-widgets/base",
          "model_name": "LayoutModel",
          "state": {
            "_view_name": "LayoutView",
            "grid_template_rows": null,
            "right": null,
            "justify_content": null,
            "_view_module": "@jupyter-widgets/base",
            "overflow": null,
            "_model_module_version": "1.2.0",
            "_view_count": null,
            "flex_flow": null,
            "width": null,
            "min_width": null,
            "border": null,
            "align_items": null,
            "bottom": null,
            "_model_module": "@jupyter-widgets/base",
            "top": null,
            "grid_column": null,
            "overflow_y": null,
            "overflow_x": null,
            "grid_auto_flow": null,
            "grid_area": null,
            "grid_template_columns": null,
            "flex": null,
            "_model_name": "LayoutModel",
            "justify_items": null,
            "grid_row": null,
            "max_height": null,
            "align_content": null,
            "visibility": null,
            "align_self": null,
            "height": null,
            "min_height": null,
            "padding": null,
            "grid_auto_rows": null,
            "grid_gap": null,
            "max_width": null,
            "order": null,
            "_view_module_version": "1.2.0",
            "grid_template_areas": null,
            "object_position": null,
            "object_fit": null,
            "grid_auto_columns": null,
            "margin": null,
            "display": null,
            "left": null
          }
        },
        "4ed2e8497c4947dfbe2e9fa71d2cf376": {
          "model_module": "@jupyter-widgets/controls",
          "model_name": "FloatProgressModel",
          "state": {
            "_view_name": "ProgressView",
            "style": "IPY_MODEL_331dc1030e3c4a44af6f1febb2b9bba3",
            "_dom_classes": [],
            "description": "sparsifying basis: 100%",
            "_model_name": "FloatProgressModel",
            "bar_style": "success",
            "max": 3000,
            "_view_module": "@jupyter-widgets/controls",
            "_model_module_version": "1.5.0",
            "value": 3000,
            "_view_count": null,
            "_view_module_version": "1.5.0",
            "orientation": "horizontal",
            "min": 0,
            "description_tooltip": null,
            "_model_module": "@jupyter-widgets/controls",
            "layout": "IPY_MODEL_c889cdadca784372af43ad59cb1e298d"
          }
        },
        "788728f6730a4d3c86b0a7da2cb9f440": {
          "model_module": "@jupyter-widgets/controls",
          "model_name": "HTMLModel",
          "state": {
            "_view_name": "HTMLView",
            "style": "IPY_MODEL_ae585fb470ac4d0fa1c1ec4defeb3a9e",
            "_dom_classes": [],
            "description": "",
            "_model_name": "HTMLModel",
            "placeholder": "​",
            "_view_module": "@jupyter-widgets/controls",
            "_model_module_version": "1.5.0",
            "value": " 3000/3000 [00:04&lt;00:00, 629.66it/s]",
            "_view_count": null,
            "_view_module_version": "1.5.0",
            "description_tooltip": null,
            "_model_module": "@jupyter-widgets/controls",
            "layout": "IPY_MODEL_2a23a1556a0745e1a290e57bbf43509c"
          }
        },
        "331dc1030e3c4a44af6f1febb2b9bba3": {
          "model_module": "@jupyter-widgets/controls",
          "model_name": "ProgressStyleModel",
          "state": {
            "_view_name": "StyleView",
            "_model_name": "ProgressStyleModel",
            "description_width": "initial",
            "_view_module": "@jupyter-widgets/base",
            "_model_module_version": "1.5.0",
            "_view_count": null,
            "_view_module_version": "1.2.0",
            "bar_color": null,
            "_model_module": "@jupyter-widgets/controls"
          }
        },
        "c889cdadca784372af43ad59cb1e298d": {
          "model_module": "@jupyter-widgets/base",
          "model_name": "LayoutModel",
          "state": {
            "_view_name": "LayoutView",
            "grid_template_rows": null,
            "right": null,
            "justify_content": null,
            "_view_module": "@jupyter-widgets/base",
            "overflow": null,
            "_model_module_version": "1.2.0",
            "_view_count": null,
            "flex_flow": null,
            "width": null,
            "min_width": null,
            "border": null,
            "align_items": null,
            "bottom": null,
            "_model_module": "@jupyter-widgets/base",
            "top": null,
            "grid_column": null,
            "overflow_y": null,
            "overflow_x": null,
            "grid_auto_flow": null,
            "grid_area": null,
            "grid_template_columns": null,
            "flex": null,
            "_model_name": "LayoutModel",
            "justify_items": null,
            "grid_row": null,
            "max_height": null,
            "align_content": null,
            "visibility": null,
            "align_self": null,
            "height": null,
            "min_height": null,
            "padding": null,
            "grid_auto_rows": null,
            "grid_gap": null,
            "max_width": null,
            "order": null,
            "_view_module_version": "1.2.0",
            "grid_template_areas": null,
            "object_position": null,
            "object_fit": null,
            "grid_auto_columns": null,
            "margin": null,
            "display": null,
            "left": null
          }
        },
        "ae585fb470ac4d0fa1c1ec4defeb3a9e": {
          "model_module": "@jupyter-widgets/controls",
          "model_name": "DescriptionStyleModel",
          "state": {
            "_view_name": "StyleView",
            "_model_name": "DescriptionStyleModel",
            "description_width": "",
            "_view_module": "@jupyter-widgets/base",
            "_model_module_version": "1.5.0",
            "_view_count": null,
            "_view_module_version": "1.2.0",
            "_model_module": "@jupyter-widgets/controls"
          }
        },
        "2a23a1556a0745e1a290e57bbf43509c": {
          "model_module": "@jupyter-widgets/base",
          "model_name": "LayoutModel",
          "state": {
            "_view_name": "LayoutView",
            "grid_template_rows": null,
            "right": null,
            "justify_content": null,
            "_view_module": "@jupyter-widgets/base",
            "overflow": null,
            "_model_module_version": "1.2.0",
            "_view_count": null,
            "flex_flow": null,
            "width": null,
            "min_width": null,
            "border": null,
            "align_items": null,
            "bottom": null,
            "_model_module": "@jupyter-widgets/base",
            "top": null,
            "grid_column": null,
            "overflow_y": null,
            "overflow_x": null,
            "grid_auto_flow": null,
            "grid_area": null,
            "grid_template_columns": null,
            "flex": null,
            "_model_name": "LayoutModel",
            "justify_items": null,
            "grid_row": null,
            "max_height": null,
            "align_content": null,
            "visibility": null,
            "align_self": null,
            "height": null,
            "min_height": null,
            "padding": null,
            "grid_auto_rows": null,
            "grid_gap": null,
            "max_width": null,
            "order": null,
            "_view_module_version": "1.2.0",
            "grid_template_areas": null,
            "object_position": null,
            "object_fit": null,
            "grid_auto_columns": null,
            "margin": null,
            "display": null,
            "left": null
          }
        }
      }
    }
  },
  "cells": [
    {
      "cell_type": "markdown",
      "metadata": {
        "id": "view-in-github",
        "colab_type": "text"
      },
      "source": [
        "<a href=\"https://colab.research.google.com/github/mfinzi/equivariant-MLP/blob/master/emlp.ipynb\" target=\"_parent\"><img src=\"https://colab.research.google.com/assets/colab-badge.svg\" alt=\"Open In Colab\"/></a>"
      ]
    },
    {
      "cell_type": "markdown",
      "metadata": {
        "id": "O4697-KMiQmH"
      },
      "source": [
        "# EMLP Quickstart"
      ]
    },
    {
      "cell_type": "code",
      "metadata": {
        "id": "fvZy_wOJiPjY"
      },
      "source": [
        "%%capture\r\n",
        "!pip install git+https://github.com/mfinzi/equivariant-MLP.git"
      ],
      "execution_count": null,
      "outputs": []
    },
    {
      "cell_type": "code",
      "metadata": {
        "id": "T4hji4vhiiHC"
      },
      "source": [
        "\r\n",
        "from emlp.solver.representation import T,V,sparsify_basis\r\n",
        "from emlp.solver.groups import *\r\n",
        "import jax.numpy as jnp\r\n",
        "import logging\r\n",
        "logging.getLogger().setLevel(logging.INFO)"
      ],
      "execution_count": null,
      "outputs": []
    },
    {
      "cell_type": "markdown",
      "metadata": {
        "id": "5DytObS_Gz0-"
      },
      "source": [
        "EMLP computes the symmetric subspace for a linear representation $\\rho$ and a matrix group $G$, solving the constraint to find an element $v\\in V$ that satisfies$$\\forall g\\in G: \\ \\ \\rho(g)v=v$$."
      ]
    },
    {
      "cell_type": "markdown",
      "metadata": {
        "id": "p1DztomXHoLL"
      },
      "source": [
        "For example, we can find invariant vectors of the cyclic translation group $\\mathbb{Z}_n$ which is just the constant $\\vec{1}$ scaled to have unit norm. "
      ]
    },
    {
      "cell_type": "code",
      "metadata": {
        "colab": {
          "base_uri": "https://localhost:8080/"
        },
        "id": "t37WsBHFH3IE",
        "outputId": "ed036ff9-91a3-44e5-ba11-32241c4c245e"
      },
      "source": [
        "V(Z(5)).symmetric_basis()"
      ],
      "execution_count": null,
      "outputs": [
        {
          "output_type": "execute_result",
          "data": {
            "text/plain": [
              "DeviceArray([[0.44721365],\n",
              "             [0.44721362],\n",
              "             [0.44721365],\n",
              "             [0.44721365],\n",
              "             [0.44721365]], dtype=float32)"
            ]
          },
          "metadata": {
            "tags": []
          },
          "execution_count": 32
        }
      ]
    },
    {
      "cell_type": "markdown",
      "metadata": {
        "id": "i5N9u1HJGFnq"
      },
      "source": [
        "Each implemented group comes with a faithful 'base' representation $V$. Because faithful representations are one-to-one, we can build any representation by transforming this base representation.\r\n",
        "\r\n",
        "We provide several operators to transform and construct representations in different ways built and later go on to show how to do this more generally. In our type system, representations can be combined with the direct sum $\\rho_a \\oplus\\rho_b$ operator, the tensor product $\\rho_a\\otimes\\rho_b$, the dual $\\rho^*$. We implement these with the python operators `+`, `*`, and `.T`.\r\n",
        "\r\n"
      ]
    },
    {
      "cell_type": "code",
      "metadata": {
        "colab": {
          "base_uri": "https://localhost:8080/"
        },
        "id": "JadIWFClGje-",
        "outputId": "c63ac0a6-57bc-4361-c12f-cf1fa10b23fd"
      },
      "source": [
        "V+V,  V*V,  V.T"
      ],
      "execution_count": null,
      "outputs": [
        {
          "output_type": "execute_result",
          "data": {
            "text/plain": [
              "((V+V), V⊗V, V*)"
            ]
          },
          "metadata": {
            "tags": []
          },
          "execution_count": 39
        }
      ]
    },
    {
      "cell_type": "markdown",
      "metadata": {
        "id": "k1IL0ZeWKscF"
      },
      "source": [
        "We can combine and use these operators interchangeably:"
      ]
    },
    {
      "cell_type": "code",
      "metadata": {
        "colab": {
          "base_uri": "https://localhost:8080/"
        },
        "id": "_Xl69BHxKiqV",
        "outputId": "463da8c3-1898-42b2-b60a-67e2fbe6c7e0"
      },
      "source": [
        "(V+V.T)*(V*V.T+V)"
      ],
      "execution_count": null,
      "outputs": [
        {
          "output_type": "execute_result",
          "data": {
            "text/plain": [
              "(V+V*)⊗(V⊗V*+V)"
            ]
          },
          "metadata": {
            "tags": []
          },
          "execution_count": 40
        }
      ]
    },
    {
      "cell_type": "markdown",
      "metadata": {
        "id": "h2TL8UUtLP12"
      },
      "source": [
        "We use the shorthand $cV$ can be used for $V\\oplus V\\oplus...\\oplus V$ and $V^c = V\\otimes V\\otimes...\\otimes V$, not that this different from the typical notation with cartesian products of sets."
      ]
    },
    {
      "cell_type": "code",
      "metadata": {
        "colab": {
          "base_uri": "https://localhost:8080/"
        },
        "id": "kT6Rc_AELLDv",
        "outputId": "5151d174-b4c9-4f6c-bfdf-582c3d91de85"
      },
      "source": [
        "5*V*2"
      ],
      "execution_count": null,
      "outputs": [
        {
          "output_type": "execute_result",
          "data": {
            "text/plain": [
              "(V+V+V+V+V+V+V+V+V+V)"
            ]
          },
          "metadata": {
            "tags": []
          },
          "execution_count": 41
        }
      ]
    },
    {
      "cell_type": "code",
      "metadata": {
        "colab": {
          "base_uri": "https://localhost:8080/"
        },
        "id": "lvNXkGmRLzCf",
        "outputId": "f047b6fa-dc0a-46a6-dd4f-f829adc845af"
      },
      "source": [
        "2*V**3"
      ],
      "execution_count": null,
      "outputs": [
        {
          "output_type": "execute_result",
          "data": {
            "text/plain": [
              "(V⊗V⊗V+V⊗V⊗V)"
            ]
          },
          "metadata": {
            "tags": []
          },
          "execution_count": 42
        }
      ]
    },
    {
      "cell_type": "markdown",
      "metadata": {
        "id": "wjZRQ7c_LGuI"
      },
      "source": [
        "When a particular symmetry group is specified, the representation can be collapsed down to a more compact form:"
      ]
    },
    {
      "cell_type": "code",
      "metadata": {
        "colab": {
          "base_uri": "https://localhost:8080/"
        },
        "id": "9qVCTlM5LF-E",
        "outputId": "e38733ca-5726-40e3-8507-c04908d439b9"
      },
      "source": [
        "2*V(G)**3"
      ],
      "execution_count": null,
      "outputs": [
        {
          "output_type": "execute_result",
          "data": {
            "text/plain": [
              "2V³"
            ]
          },
          "metadata": {
            "tags": []
          },
          "execution_count": 43
        }
      ]
    },
    {
      "cell_type": "code",
      "metadata": {
        "colab": {
          "base_uri": "https://localhost:8080/"
        },
        "id": "eMe535URKlMz",
        "outputId": "d94cce80-cbf2-41b7-851e-5a8e9bbc7887"
      },
      "source": [
        "(2*V**3)(G)"
      ],
      "execution_count": null,
      "outputs": [
        {
          "output_type": "execute_result",
          "data": {
            "text/plain": [
              "2V³"
            ]
          },
          "metadata": {
            "tags": []
          },
          "execution_count": 44
        }
      ]
    },
    {
      "cell_type": "markdown",
      "metadata": {
        "id": "tr9zyWOoFy_k"
      },
      "source": [
        "Linear maps from $V_1\\rightarrow V_2$ have the type $V_2\\otimes V_1^*$. The `V>>W` is shorthand for `W*V.T` and produces linear maps from `V` to `W`."
      ]
    },
    {
      "cell_type": "markdown",
      "metadata": {
        "id": "FuGSmqYMEffL"
      },
      "source": [
        "Imposing (cyclic) Translation Equivariance $G=\\mathbb{Z}_n$ on linear maps $V\\rightarrow V$ yields circular convolutions (circulant matrices) which can be expressed as a linear combination of $n$ basis elements of size $n\\times n$."
      ]
    },
    {
      "cell_type": "code",
      "metadata": {
        "colab": {
          "base_uri": "https://localhost:8080/"
        },
        "id": "v7vhWyB2E2kX",
        "outputId": "cb733164-9538-41a2-f2be-757cde88ca69"
      },
      "source": [
        "G = Z(6)\r\n",
        "repin = V(G)\r\n",
        "repout = V(G)\r\n",
        "conv_basis = (repin>>repout).symmetric_basis()\r\n",
        "print(conv_basis.shape)"
      ],
      "execution_count": null,
      "outputs": [
        {
          "output_type": "stream",
          "text": [
            "(36, 6)\n"
          ],
          "name": "stdout"
        }
      ]
    },
    {
      "cell_type": "markdown",
      "metadata": {
        "id": "Cwrc_z24N11G"
      },
      "source": [
        "While we provide an orthogonal basis, these bases are not always easy to make sense of as an array of numbers (any rotation of an orthogonal basis is still an orthogonal basis)"
      ]
    },
    {
      "cell_type": "code",
      "metadata": {
        "colab": {
          "base_uri": "https://localhost:8080/"
        },
        "id": "Q9ZdMajENzqr",
        "outputId": "f6efe0c2-7024-45de-8e1a-292af35939d2"
      },
      "source": [
        "conv_basis[:,0]"
      ],
      "execution_count": null,
      "outputs": [
        {
          "output_type": "execute_result",
          "data": {
            "text/plain": [
              "DeviceArray([-0.00200776, -0.25157794,  0.31927773,  0.0072209 ,\n",
              "             -0.03698727,  0.00357165,  0.00357159, -0.00200781,\n",
              "             -0.25157797,  0.31927782,  0.00722108, -0.03698722,\n",
              "             -0.03698726,  0.00357183, -0.00200774, -0.2515779 ,\n",
              "              0.31927767,  0.00722109,  0.00722104, -0.03698728,\n",
              "              0.00357171, -0.00200778, -0.25157782,  0.31927767,\n",
              "              0.3192777 ,  0.00722104, -0.03698733,  0.00357174,\n",
              "             -0.00200774, -0.2515779 , -0.25157785,  0.3192777 ,\n",
              "              0.00722107, -0.03698731,  0.00357177, -0.0020077 ],            dtype=float32)"
            ]
          },
          "metadata": {
            "tags": []
          },
          "execution_count": 50
        }
      ]
    },
    {
      "cell_type": "markdown",
      "metadata": {
        "id": "CkSPReyhOQe6"
      },
      "source": [
        "However, we provide a utility function to sparsify the basis and visualize the results. If the program succeeds and the basis can be separated into disjoint vectors, then we can plot the different basis elements super imposed as different colors. Below is the familiar circulant convolution matrix."
      ]
    },
    {
      "cell_type": "code",
      "metadata": {
        "colab": {
          "base_uri": "https://localhost:8080/",
          "height": 248
        },
        "id": "CLQ9vuMVM9_B",
        "outputId": "6e9d2904-193a-4713-cd3a-0f9f3b70674d"
      },
      "source": [
        "(repin>>repout).visualize(repout.size(),repin.size())"
      ],
      "execution_count": null,
      "outputs": [
        {
          "output_type": "display_data",
          "data": {
            "image/png": "[encoded data removed]",
            "text/plain": [
              "<Figure size 432x288 with 1 Axes>"
            ]
          },
          "metadata": {
            "tags": [],
            "needs_background": "light"
          }
        }
      ]
    },
    {
      "cell_type": "markdown",
      "metadata": {
        "id": "f2hvLHxhFG-v"
      },
      "source": [
        "2D translation equivariange $G=\\mathbb{Z}_n\\times \\mathbb{Z}_n$ yields 2D convolutions (bicurculant matrices)"
      ]
    },
    {
      "cell_type": "code",
      "metadata": {
        "colab": {
          "base_uri": "https://localhost:8080/",
          "height": 248
        },
        "id": "BkoeLrqOFSrb",
        "outputId": "4ffd857e-c3c6-4a85-e457-e4fe3ee26e36"
      },
      "source": [
        "G = Z(3)*Z(4)\r\n",
        "repin = V(G)\r\n",
        "repout = V(G)\r\n",
        "(repin>>repout).visualize(repout.size(),repin.size())"
      ],
      "execution_count": null,
      "outputs": [
        {
          "output_type": "display_data",
          "data": {
            "image/png": "[encoded data removed]",
            "text/plain": [
              "<Figure size 432x288 with 1 Axes>"
            ]
          },
          "metadata": {
            "tags": [],
            "needs_background": "light"
          }
        }
      ]
    },
    {
      "cell_type": "markdown",
      "metadata": {
        "id": "CB77Ovu6PFpi"
      },
      "source": [
        "How about the permutation group $G=S_n$, where the vector space $V$ represents a set of elements? In deep sets it was shown there are only two basis elements for equivariant linear maps $V\\rightarrow V$."
      ]
    },
    {
      "cell_type": "code",
      "metadata": {
        "colab": {
          "base_uri": "https://localhost:8080/",
          "height": 248
        },
        "id": "ok0edVaLPYMp",
        "outputId": "d17deddf-ad23-4d92-f946-74087e6cf4bb"
      },
      "source": [
        "repin = V(S(6))\r\n",
        "repout = V(S(6))\r\n",
        "(repin>>repout).visualize(repout.size(),repin.size())"
      ],
      "execution_count": null,
      "outputs": [
        {
          "output_type": "display_data",
          "data": {
            "image/png": "[encoded data removed]",
            "text/plain": [
              "<Figure size 432x288 with 1 Axes>"
            ]
          },
          "metadata": {
            "tags": [],
            "needs_background": "light"
          }
        }
      ]
    },
    {
      "cell_type": "markdown",
      "metadata": {
        "id": "OOEar1nIPaiC"
      },
      "source": [
        "What about graphs, which are composed both of sets as well as adjacency matrices or graph laplacians? These matrices are examples of objects from $V\\otimes V$ with $G=S_n$, and in Invariant and Equivariant Graph Networks () it was shown through a challenging proof that there are at most 15 basis elements which were derived analytically. We can solve for them here:"
      ]
    },
    {
      "cell_type": "code",
      "metadata": {
        "colab": {
          "base_uri": "https://localhost:8080/",
          "height": 265
        },
        "id": "nqO1ZQOxC3Jz",
        "outputId": "ae536e6d-9bfc-40c7-c56e-46201bff17c9"
      },
      "source": [
        "repin = V(S(6))**2\r\n",
        "repout = V(S(6))**2\r\n",
        "print((repin>>repout).symmetric_basis().shape)\r\n",
        "(repin>>repout).visualize(repout.size(),repin.size())"
      ],
      "execution_count": null,
      "outputs": [
        {
          "output_type": "stream",
          "text": [
            "(1296, 15)\n"
          ],
          "name": "stdout"
        },
        {
          "output_type": "display_data",
          "data": {
            "image/png": "[encoded data removed]",
            "text/plain": [
              "<Figure size 432x288 with 1 Axes>"
            ]
          },
          "metadata": {
            "tags": [],
            "needs_background": "light"
          }
        }
      ]
    },
    {
      "cell_type": "markdown",
      "metadata": {
        "id": "Mo24-rclQ4za"
      },
      "source": [
        "How about maps from graphs to sets? Lets say a graph consists of one node feature and one edge feature which can be represented with the $\\oplus$ operator."
      ]
    },
    {
      "cell_type": "code",
      "metadata": {
        "colab": {
          "base_uri": "https://localhost:8080/",
          "height": 96
        },
        "id": "NvDHowBRDjfO",
        "outputId": "6e935261-0755-4b0d-9fbf-83cb802467f0"
      },
      "source": [
        "W = V(S(6))\r\n",
        "repin = W+W**2\r\n",
        "repout = W\r\n",
        "print((repin>>repout).symmetric_basis().shape)\r\n",
        "(repin>>repout).visualize(repout.size(),repin.size())"
      ],
      "execution_count": null,
      "outputs": [
        {
          "output_type": "stream",
          "text": [
            "(252, 7)\n"
          ],
          "name": "stdout"
        },
        {
          "output_type": "display_data",
          "data": {
            "image/png": "[encoded data removed]",
            "text/plain": [
              "<Figure size 432x288 with 1 Axes>"
            ]
          },
          "metadata": {
            "tags": [],
            "needs_background": "light"
          }
        }
      ]
    },
    {
      "cell_type": "markdown",
      "metadata": {
        "id": "mFKf2K8yRmDs"
      },
      "source": [
        "But more fun than continuous groups are discrete groups!\r\n",
        "How about the $2$D rotation group $SO(3)$. It's well known that the only equivariant object for the vector space $V^{\\otimes 3}$ is the Levi-Civita symbol $\\epsilon_{ijk}$. Here color inverses denote 1,-1 pairs."
      ]
    },
    {
      "cell_type": "code",
      "metadata": {
        "colab": {
          "base_uri": "https://localhost:8080/",
          "height": 160
        },
        "id": "Kik_owp4Ri-u",
        "outputId": "2273b87c-3f91-4c1c-91fe-1134ce12efd0"
      },
      "source": [
        "W = V(SO(3))\r\n",
        "repin = W**2\r\n",
        "repout = W\r\n",
        "Q = (repin>>repout).symmetric_basis()\r\n",
        "print(Q.shape)\r\n",
        "(repin>>repout).visualize(repout.size(),repin.size())"
      ],
      "execution_count": null,
      "outputs": [
        {
          "output_type": "stream",
          "text": [
            "(27, 1)\n"
          ],
          "name": "stdout"
        },
        {
          "output_type": "display_data",
          "data": {
            "image/png": "[encoded data removed]",
            "text/plain": [
              "<Figure size 432x288 with 1 Axes>"
            ]
          },
          "metadata": {
            "tags": [],
            "needs_background": "light"
          }
        }
      ]
    },
    {
      "cell_type": "code",
      "metadata": {
        "colab": {
          "base_uri": "https://localhost:8080/"
        },
        "id": "zOm8qMWISear",
        "outputId": "e4d3dc00-2a6c-4981-ca8a-e212f4604353"
      },
      "source": [
        "print(sparsify_basis(Q).reshape(3,3,3))"
      ],
      "execution_count": null,
      "outputs": [
        {
          "output_type": "stream",
          "text": [
            "[[[ 0.  0.  0.]\n",
            "  [ 0.  0.  1.]\n",
            "  [ 0. -1.  0.]]\n",
            "\n",
            " [[ 0.  0. -1.]\n",
            "  [ 0.  0.  0.]\n",
            "  [ 1.  0.  0.]]\n",
            "\n",
            " [[ 0.  1.  0.]\n",
            "  [-1.  0.  0.]\n",
            "  [ 0.  0.  0.]]]\n"
          ],
          "name": "stdout"
        }
      ]
    },
    {
      "cell_type": "markdown",
      "metadata": {
        "id": "XnDhvsNCDCE1"
      },
      "source": [
        "# Mixing representations from different groups"
      ]
    },
    {
      "cell_type": "code",
      "metadata": {
        "id": "FoQyfp1i7hsv"
      },
      "source": [
        "rep = 2*T(1)(Z(3))*T(1)(S(4))+T(1)(SO(2))"
      ],
      "execution_count": null,
      "outputs": []
    },
    {
      "cell_type": "code",
      "metadata": {
        "colab": {
          "base_uri": "https://localhost:8080/"
        },
        "id": "tDBnArKh736M",
        "outputId": "88d0778d-9c47-4938-bf5e-226f9d51afdc"
      },
      "source": [
        "(rep>>rep)"
      ],
      "execution_count": null,
      "outputs": [
        {
          "output_type": "execute_result",
          "data": {
            "text/plain": [
              "V²+4V_S(4)⊗V_SO(2)⊗V_Z(3)+4V²_S(4)⊗V²_Z(3)"
            ]
          },
          "metadata": {
            "tags": []
          },
          "execution_count": 85
        }
      ]
    },
    {
      "cell_type": "code",
      "metadata": {
        "id": "E0aG1P4hVYoY"
      },
      "source": [
        "import matplotlib.pyplot as plt\r\n",
        "import numpy as np"
      ],
      "execution_count": null,
      "outputs": []
    },
    {
      "cell_type": "code",
      "metadata": {
        "id": "HQQRvIy3VbEb"
      },
      "source": [
        "P = (rep>>rep).symmetric_projector()\r\n",
        "v= np.random.rand(P.shape[-1])-.5\r\n",
        "v=P@v"
      ],
      "execution_count": null,
      "outputs": []
    },
    {
      "cell_type": "code",
      "metadata": {
        "colab": {
          "base_uri": "https://localhost:8080/",
          "height": 265
        },
        "id": "PNU6DfrxVqnB",
        "outputId": "c1118b59-b270-4a99-d9f8-cd3944fe4985"
      },
      "source": [
        "plt.imshow(v.reshape(rep.size(),rep.size()))\r\n",
        "plt.axis('off')"
      ],
      "execution_count": null,
      "outputs": [
        {
          "output_type": "execute_result",
          "data": {
            "text/plain": [
              "(-0.5, 25.5, 25.5, -0.5)"
            ]
          },
          "metadata": {
            "tags": []
          },
          "execution_count": 116
        },
        {
          "output_type": "display_data",
          "data": {
            "image/png": "[encoded data removed]",
            "text/plain": [
              "<Figure size 432x288 with 1 Axes>"
            ]
          },
          "metadata": {
            "tags": [],
            "needs_background": "light"
          }
        }
      ]
    },
    {
      "cell_type": "code",
      "metadata": {
        "colab": {
          "base_uri": "https://localhost:8080/"
        },
        "id": "ntxFHnTSBdwj",
        "outputId": "e933dbf4-fc1b-4473-9bf3-4b358f29fb10"
      },
      "source": [
        "repin,repout = T(1)(SO(3))*T(2)(S(4)),T(2)(SO(3))*T(1)(S(4))\r\n",
        "repin>>repout"
      ],
      "execution_count": null,
      "outputs": [
        {
          "output_type": "execute_result",
          "data": {
            "text/plain": [
              "V³_SO(3)⊗V³_S(4)"
            ]
          },
          "metadata": {
            "tags": []
          },
          "execution_count": 122
        }
      ]
    },
    {
      "cell_type": "code",
      "metadata": {
        "colab": {
          "base_uri": "https://localhost:8080/",
          "height": 297,
          "referenced_widgets": [
            "d68b083d7a4642768951febf2e91ac16",
            "27cbfd2cf0d34421a559aaa790cd68af",
            "4ed2e8497c4947dfbe2e9fa71d2cf376",
            "788728f6730a4d3c86b0a7da2cb9f440",
            "331dc1030e3c4a44af6f1febb2b9bba3",
            "c889cdadca784372af43ad59cb1e298d",
            "ae585fb470ac4d0fa1c1ec4defeb3a9e",
            "2a23a1556a0745e1a290e57bbf43509c"
          ]
        },
        "id": "Z9TJ2GcoB6wq",
        "outputId": "e2cfb1ee-2a21-497b-b991-4f6eb1506d71"
      },
      "source": [
        "(repin>>repout).visualize(repout.size(),repin.size())"
      ],
      "execution_count": null,
      "outputs": [
        {
          "output_type": "display_data",
          "data": {
            "application/vnd.jupyter.widget-view+json": {
              "model_id": "d68b083d7a4642768951febf2e91ac16",
              "version_minor": 0,
              "version_major": 2
            },
            "text/plain": [
              "HBox(children=(FloatProgress(value=0.0, description='sparsifying basis', max=3000.0, style=ProgressStyle(descr…"
            ]
          },
          "metadata": {
            "tags": []
          }
        },
        {
          "output_type": "stream",
          "text": [
            "\n"
          ],
          "name": "stdout"
        },
        {
          "output_type": "display_data",
          "data": {
            "image/png": "[encoded data removed]",
            "text/plain": [
              "<Figure size 432x288 with 1 Axes>"
            ]
          },
          "metadata": {
            "tags": [],
            "needs_background": "light"
          }
        }
      ]
    },
    {
      "cell_type": "code",
      "metadata": {
        "id": "mRDfIgPOB9T6"
      },
      "source": [
        ""
      ],
      "execution_count": null,
      "outputs": []
    },
    {
      "cell_type": "markdown",
      "metadata": {
        "id": "CV9ffkypTRPL"
      },
      "source": [
        "# Multilinear Maps"
      ]
    },
    {
      "cell_type": "markdown",
      "metadata": {
        "id": "osU0T6ZyTU6v"
      },
      "source": [
        "Since `a>>b` is a linear map, you may think to extrapolate `a>>(b>>c)` as multilinear, and this works!"
      ]
    },
    {
      "cell_type": "code",
      "metadata": {
        "id": "ftnVxZrxTT-X"
      },
      "source": [
        ""
      ],
      "execution_count": null,
      "outputs": []
    }
  ]
}