{
  "nbformat": 4,
  "nbformat_minor": 0,
  "metadata": {
    "colab": {
      "name": "Copy of emlp.ipynb",
      "provenance": [],
      "authorship_tag": "ABX9TyPEreliwGb5LTj5IkHNC+RY",
      "include_colab_link": true
    },
    "kernelspec": {
      "name": "python3",
      "display_name": "Python 3"
    },
    "accelerator": "GPU",
    "widgets": {
      "application/vnd.jupyter.widget-state+json": {
        "9339e65a02ee415fb73d5f85dead733e": {
          "model_module": "@jupyter-widgets/controls",
          "model_name": "HBoxModel",
          "state": {
            "_view_name": "HBoxView",
            "_dom_classes": [],
            "_model_name": "HBoxModel",
            "_view_module": "@jupyter-widgets/controls",
            "_model_module_version": "1.5.0",
            "_view_count": null,
            "_view_module_version": "1.5.0",
            "box_style": "",
            "layout": "IPY_MODEL_65b10e4177e24dd19b4934f68fca3711",
            "_model_module": "@jupyter-widgets/controls",
            "children": [
              "IPY_MODEL_66263fa172d44373a8d7d94a513fb928",
              "IPY_MODEL_2c8a341b316f4569804c6ba30477ae1a"
            ]
          }
        },
        "65b10e4177e24dd19b4934f68fca3711": {
          "model_module": "@jupyter-widgets/base",
          "model_name": "LayoutModel",
          "state": {
            "_view_name": "LayoutView",
            "grid_template_rows": null,
            "right": null,
            "justify_content": null,
            "_view_module": "@jupyter-widgets/base",
            "overflow": null,
            "_model_module_version": "1.2.0",
            "_view_count": null,
            "flex_flow": null,
            "width": null,
            "min_width": null,
            "border": null,
            "align_items": null,
            "bottom": null,
            "_model_module": "@jupyter-widgets/base",
            "top": null,
            "grid_column": null,
            "overflow_y": null,
            "overflow_x": null,
            "grid_auto_flow": null,
            "grid_area": null,
            "grid_template_columns": null,
            "flex": null,
            "_model_name": "LayoutModel",
            "justify_items": null,
            "grid_row": null,
            "max_height": null,
            "align_content": null,
            "visibility": null,
            "align_self": null,
            "height": null,
            "min_height": null,
            "padding": null,
            "grid_auto_rows": null,
            "grid_gap": null,
            "max_width": null,
            "order": null,
            "_view_module_version": "1.2.0",
            "grid_template_areas": null,
            "object_position": null,
            "object_fit": null,
            "grid_auto_columns": null,
            "margin": null,
            "display": null,
            "left": null
          }
        },
        "66263fa172d44373a8d7d94a513fb928": {
          "model_module": "@jupyter-widgets/controls",
          "model_name": "FloatProgressModel",
          "state": {
            "_view_name": "ProgressView",
            "style": "IPY_MODEL_dd09bc3b8a7242ce819bf570dc2dfea5",
            "_dom_classes": [],
            "description": "sparsifying basis: 100%",
            "_model_name": "FloatProgressModel",
            "bar_style": "success",
            "max": 3000,
            "_view_module": "@jupyter-widgets/controls",
            "_model_module_version": "1.5.0",
            "value": 3000,
            "_view_count": null,
            "_view_module_version": "1.5.0",
            "orientation": "horizontal",
            "min": 0,
            "description_tooltip": null,
            "_model_module": "@jupyter-widgets/controls",
            "layout": "IPY_MODEL_922393c8498d4db89dfc232f8ab4b250"
          }
        },
        "2c8a341b316f4569804c6ba30477ae1a": {
          "model_module": "@jupyter-widgets/controls",
          "model_name": "HTMLModel",
          "state": {
            "_view_name": "HTMLView",
            "style": "IPY_MODEL_2628dfe602ad4cd69b43c831460748d5",
            "_dom_classes": [],
            "description": "",
            "_model_name": "HTMLModel",
            "placeholder": "​",
            "_view_module": "@jupyter-widgets/controls",
            "_model_module_version": "1.5.0",
            "value": " 3000/3000 [00:10&lt;00:00, 276.67it/s]",
            "_view_count": null,
            "_view_module_version": "1.5.0",
            "description_tooltip": null,
            "_model_module": "@jupyter-widgets/controls",
            "layout": "IPY_MODEL_78fea255560b41a7bd3d73586c77d592"
          }
        },
        "dd09bc3b8a7242ce819bf570dc2dfea5": {
          "model_module": "@jupyter-widgets/controls",
          "model_name": "ProgressStyleModel",
          "state": {
            "_view_name": "StyleView",
            "_model_name": "ProgressStyleModel",
            "description_width": "initial",
            "_view_module": "@jupyter-widgets/base",
            "_model_module_version": "1.5.0",
            "_view_count": null,
            "_view_module_version": "1.2.0",
            "bar_color": null,
            "_model_module": "@jupyter-widgets/controls"
          }
        },
        "922393c8498d4db89dfc232f8ab4b250": {
          "model_module": "@jupyter-widgets/base",
          "model_name": "LayoutModel",
          "state": {
            "_view_name": "LayoutView",
            "grid_template_rows": null,
            "right": null,
            "justify_content": null,
            "_view_module": "@jupyter-widgets/base",
            "overflow": null,
            "_model_module_version": "1.2.0",
            "_view_count": null,
            "flex_flow": null,
            "width": null,
            "min_width": null,
            "border": null,
            "align_items": null,
            "bottom": null,
            "_model_module": "@jupyter-widgets/base",
            "top": null,
            "grid_column": null,
            "overflow_y": null,
            "overflow_x": null,
            "grid_auto_flow": null,
            "grid_area": null,
            "grid_template_columns": null,
            "flex": null,
            "_model_name": "LayoutModel",
            "justify_items": null,
            "grid_row": null,
            "max_height": null,
            "align_content": null,
            "visibility": null,
            "align_self": null,
            "height": null,
            "min_height": null,
            "padding": null,
            "grid_auto_rows": null,
            "grid_gap": null,
            "max_width": null,
            "order": null,
            "_view_module_version": "1.2.0",
            "grid_template_areas": null,
            "object_position": null,
            "object_fit": null,
            "grid_auto_columns": null,
            "margin": null,
            "display": null,
            "left": null
          }
        },
        "2628dfe602ad4cd69b43c831460748d5": {
          "model_module": "@jupyter-widgets/controls",
          "model_name": "DescriptionStyleModel",
          "state": {
            "_view_name": "StyleView",
            "_model_name": "DescriptionStyleModel",
            "description_width": "",
            "_view_module": "@jupyter-widgets/base",
            "_model_module_version": "1.5.0",
            "_view_count": null,
            "_view_module_version": "1.2.0",
            "_model_module": "@jupyter-widgets/controls"
          }
        },
        "78fea255560b41a7bd3d73586c77d592": {
          "model_module": "@jupyter-widgets/base",
          "model_name": "LayoutModel",
          "state": {
            "_view_name": "LayoutView",
            "grid_template_rows": null,
            "right": null,
            "justify_content": null,
            "_view_module": "@jupyter-widgets/base",
            "overflow": null,
            "_model_module_version": "1.2.0",
            "_view_count": null,
            "flex_flow": null,
            "width": null,
            "min_width": null,
            "border": null,
            "align_items": null,
            "bottom": null,
            "_model_module": "@jupyter-widgets/base",
            "top": null,
            "grid_column": null,
            "overflow_y": null,
            "overflow_x": null,
            "grid_auto_flow": null,
            "grid_area": null,
            "grid_template_columns": null,
            "flex": null,
            "_model_name": "LayoutModel",
            "justify_items": null,
            "grid_row": null,
            "max_height": null,
            "align_content": null,
            "visibility": null,
            "align_self": null,
            "height": null,
            "min_height": null,
            "padding": null,
            "grid_auto_rows": null,
            "grid_gap": null,
            "max_width": null,
            "order": null,
            "_view_module_version": "1.2.0",
            "grid_template_areas": null,
            "object_position": null,
            "object_fit": null,
            "grid_auto_columns": null,
            "margin": null,
            "display": null,
            "left": null
          }
        },
        "c761d8fe620244d3a14278b91cb4bb3d": {
          "model_module": "@jupyter-widgets/controls",
          "model_name": "HBoxModel",
          "state": {
            "_view_name": "HBoxView",
            "_dom_classes": [],
            "_model_name": "HBoxModel",
            "_view_module": "@jupyter-widgets/controls",
            "_model_module_version": "1.5.0",
            "_view_count": null,
            "_view_module_version": "1.5.0",
            "box_style": "",
            "layout": "IPY_MODEL_9cc379c2f09a4b9a8345b6f82e0e6af3",
            "_model_module": "@jupyter-widgets/controls",
            "children": [
              "IPY_MODEL_130b1dab4ce1428abf4703608d3426f8",
              "IPY_MODEL_3b0aca99a3044d5a80fc191d8b79fa3b"
            ]
          }
        },
        "9cc379c2f09a4b9a8345b6f82e0e6af3": {
          "model_module": "@jupyter-widgets/base",
          "model_name": "LayoutModel",
          "state": {
            "_view_name": "LayoutView",
            "grid_template_rows": null,
            "right": null,
            "justify_content": null,
            "_view_module": "@jupyter-widgets/base",
            "overflow": null,
            "_model_module_version": "1.2.0",
            "_view_count": null,
            "flex_flow": null,
            "width": null,
            "min_width": null,
            "border": null,
            "align_items": null,
            "bottom": null,
            "_model_module": "@jupyter-widgets/base",
            "top": null,
            "grid_column": null,
            "overflow_y": null,
            "overflow_x": null,
            "grid_auto_flow": null,
            "grid_area": null,
            "grid_template_columns": null,
            "flex": null,
            "_model_name": "LayoutModel",
            "justify_items": null,
            "grid_row": null,
            "max_height": null,
            "align_content": null,
            "visibility": null,
            "align_self": null,
            "height": null,
            "min_height": null,
            "padding": null,
            "grid_auto_rows": null,
            "grid_gap": null,
            "max_width": null,
            "order": null,
            "_view_module_version": "1.2.0",
            "grid_template_areas": null,
            "object_position": null,
            "object_fit": null,
            "grid_auto_columns": null,
            "margin": null,
            "display": null,
            "left": null
          }
        },
        "130b1dab4ce1428abf4703608d3426f8": {
          "model_module": "@jupyter-widgets/controls",
          "model_name": "FloatProgressModel",
          "state": {
            "_view_name": "ProgressView",
            "style": "IPY_MODEL_b04ee0aabbcc41248dc1a84518594f9b",
            "_dom_classes": [],
            "description": "Krylov Solving for Equivariant Subspace r&lt;=10:   1%",
            "_model_name": "FloatProgressModel",
            "bar_style": "danger",
            "max": 20000,
            "_view_module": "@jupyter-widgets/controls",
            "_model_module_version": "1.5.0",
            "value": 230,
            "_view_count": null,
            "_view_module_version": "1.5.0",
            "orientation": "horizontal",
            "min": 0,
            "description_tooltip": null,
            "_model_module": "@jupyter-widgets/controls",
            "layout": "IPY_MODEL_f3f4cac73a4f42b9ba60a5aba18cf903"
          }
        },
        "3b0aca99a3044d5a80fc191d8b79fa3b": {
          "model_module": "@jupyter-widgets/controls",
          "model_name": "HTMLModel",
          "state": {
            "_view_name": "HTMLView",
            "style": "IPY_MODEL_73daa5b448da41e694e7c95ad3f0dadc",
            "_dom_classes": [],
            "description": "",
            "_model_name": "HTMLModel",
            "placeholder": "​",
            "_view_module": "@jupyter-widgets/controls",
            "_model_module_version": "1.5.0",
            "value": " 230/20000 [00:16&lt;31:35, 10.43it/s]",
            "_view_count": null,
            "_view_module_version": "1.5.0",
            "description_tooltip": null,
            "_model_module": "@jupyter-widgets/controls",
            "layout": "IPY_MODEL_6b671c1c8f2c4e81ba96da4cde154ccf"
          }
        },
        "b04ee0aabbcc41248dc1a84518594f9b": {
          "model_module": "@jupyter-widgets/controls",
          "model_name": "ProgressStyleModel",
          "state": {
            "_view_name": "StyleView",
            "_model_name": "ProgressStyleModel",
            "description_width": "initial",
            "_view_module": "@jupyter-widgets/base",
            "_model_module_version": "1.5.0",
            "_view_count": null,
            "_view_module_version": "1.2.0",
            "bar_color": null,
            "_model_module": "@jupyter-widgets/controls"
          }
        },
        "f3f4cac73a4f42b9ba60a5aba18cf903": {
          "model_module": "@jupyter-widgets/base",
          "model_name": "LayoutModel",
          "state": {
            "_view_name": "LayoutView",
            "grid_template_rows": null,
            "right": null,
            "justify_content": null,
            "_view_module": "@jupyter-widgets/base",
            "overflow": null,
            "_model_module_version": "1.2.0",
            "_view_count": null,
            "flex_flow": null,
            "width": null,
            "min_width": null,
            "border": null,
            "align_items": null,
            "bottom": null,
            "_model_module": "@jupyter-widgets/base",
            "top": null,
            "grid_column": null,
            "overflow_y": null,
            "overflow_x": null,
            "grid_auto_flow": null,
            "grid_area": null,
            "grid_template_columns": null,
            "flex": null,
            "_model_name": "LayoutModel",
            "justify_items": null,
            "grid_row": null,
            "max_height": null,
            "align_content": null,
            "visibility": null,
            "align_self": null,
            "height": null,
            "min_height": null,
            "padding": null,
            "grid_auto_rows": null,
            "grid_gap": null,
            "max_width": null,
            "order": null,
            "_view_module_version": "1.2.0",
            "grid_template_areas": null,
            "object_position": null,
            "object_fit": null,
            "grid_auto_columns": null,
            "margin": null,
            "display": null,
            "left": null
          }
        },
        "73daa5b448da41e694e7c95ad3f0dadc": {
          "model_module": "@jupyter-widgets/controls",
          "model_name": "DescriptionStyleModel",
          "state": {
            "_view_name": "StyleView",
            "_model_name": "DescriptionStyleModel",
            "description_width": "",
            "_view_module": "@jupyter-widgets/base",
            "_model_module_version": "1.5.0",
            "_view_count": null,
            "_view_module_version": "1.2.0",
            "_model_module": "@jupyter-widgets/controls"
          }
        },
        "6b671c1c8f2c4e81ba96da4cde154ccf": {
          "model_module": "@jupyter-widgets/base",
          "model_name": "LayoutModel",
          "state": {
            "_view_name": "LayoutView",
            "grid_template_rows": null,
            "right": null,
            "justify_content": null,
            "_view_module": "@jupyter-widgets/base",
            "overflow": null,
            "_model_module_version": "1.2.0",
            "_view_count": null,
            "flex_flow": null,
            "width": null,
            "min_width": null,
            "border": null,
            "align_items": null,
            "bottom": null,
            "_model_module": "@jupyter-widgets/base",
            "top": null,
            "grid_column": null,
            "overflow_y": null,
            "overflow_x": null,
            "grid_auto_flow": null,
            "grid_area": null,
            "grid_template_columns": null,
            "flex": null,
            "_model_name": "LayoutModel",
            "justify_items": null,
            "grid_row": null,
            "max_height": null,
            "align_content": null,
            "visibility": null,
            "align_self": null,
            "height": null,
            "min_height": null,
            "padding": null,
            "grid_auto_rows": null,
            "grid_gap": null,
            "max_width": null,
            "order": null,
            "_view_module_version": "1.2.0",
            "grid_template_areas": null,
            "object_position": null,
            "object_fit": null,
            "grid_auto_columns": null,
            "margin": null,
            "display": null,
            "left": null
          }
        },
        "d68b083d7a4642768951febf2e91ac16": {
          "model_module": "@jupyter-widgets/controls",
          "model_name": "HBoxModel",
          "state": {
            "_view_name": "HBoxView",
            "_dom_classes": [],
            "_model_name": "HBoxModel",
            "_view_module": "@jupyter-widgets/controls",
            "_model_module_version": "1.5.0",
            "_view_count": null,
            "_view_module_version": "1.5.0",
            "box_style": "",
            "layout": "IPY_MODEL_27cbfd2cf0d34421a559aaa790cd68af",
            "_model_module": "@jupyter-widgets/controls",
            "children": [
              "IPY_MODEL_4ed2e8497c4947dfbe2e9fa71d2cf376",
              "IPY_MODEL_788728f6730a4d3c86b0a7da2cb9f440"
            ]
          }
        },
        "27cbfd2cf0d34421a559aaa790cd68af": {
          "model_module": "@jupyter-widgets/base",
          "model_name": "LayoutModel",
          "state": {
            "_view_name": "LayoutView",
            "grid_template_rows": null,
            "right": null,
            "justify_content": null,
            "_view_module": "@jupyter-widgets/base",
            "overflow": null,
            "_model_module_version": "1.2.0",
            "_view_count": null,
            "flex_flow": null,
            "width": null,
            "min_width": null,
            "border": null,
            "align_items": null,
            "bottom": null,
            "_model_module": "@jupyter-widgets/base",
            "top": null,
            "grid_column": null,
            "overflow_y": null,
            "overflow_x": null,
            "grid_auto_flow": null,
            "grid_area": null,
            "grid_template_columns": null,
            "flex": null,
            "_model_name": "LayoutModel",
            "justify_items": null,
            "grid_row": null,
            "max_height": null,
            "align_content": null,
            "visibility": null,
            "align_self": null,
            "height": null,
            "min_height": null,
            "padding": null,
            "grid_auto_rows": null,
            "grid_gap": null,
            "max_width": null,
            "order": null,
            "_view_module_version": "1.2.0",
            "grid_template_areas": null,
            "object_position": null,
            "object_fit": null,
            "grid_auto_columns": null,
            "margin": null,
            "display": null,
            "left": null
          }
        },
        "4ed2e8497c4947dfbe2e9fa71d2cf376": {
          "model_module": "@jupyter-widgets/controls",
          "model_name": "FloatProgressModel",
          "state": {
            "_view_name": "ProgressView",
            "style": "IPY_MODEL_331dc1030e3c4a44af6f1febb2b9bba3",
            "_dom_classes": [],
            "description": "sparsifying basis: 100%",
            "_model_name": "FloatProgressModel",
            "bar_style": "success",
            "max": 3000,
            "_view_module": "@jupyter-widgets/controls",
            "_model_module_version": "1.5.0",
            "value": 3000,
            "_view_count": null,
            "_view_module_version": "1.5.0",
            "orientation": "horizontal",
            "min": 0,
            "description_tooltip": null,
            "_model_module": "@jupyter-widgets/controls",
            "layout": "IPY_MODEL_c889cdadca784372af43ad59cb1e298d"
          }
        },
        "788728f6730a4d3c86b0a7da2cb9f440": {
          "model_module": "@jupyter-widgets/controls",
          "model_name": "HTMLModel",
          "state": {
            "_view_name": "HTMLView",
            "style": "IPY_MODEL_ae585fb470ac4d0fa1c1ec4defeb3a9e",
            "_dom_classes": [],
            "description": "",
            "_model_name": "HTMLModel",
            "placeholder": "​",
            "_view_module": "@jupyter-widgets/controls",
            "_model_module_version": "1.5.0",
            "value": " 3000/3000 [00:04&lt;00:00, 629.66it/s]",
            "_view_count": null,
            "_view_module_version": "1.5.0",
            "description_tooltip": null,
            "_model_module": "@jupyter-widgets/controls",
            "layout": "IPY_MODEL_2a23a1556a0745e1a290e57bbf43509c"
          }
        },
        "331dc1030e3c4a44af6f1febb2b9bba3": {
          "model_module": "@jupyter-widgets/controls",
          "model_name": "ProgressStyleModel",
          "state": {
            "_view_name": "StyleView",
            "_model_name": "ProgressStyleModel",
            "description_width": "initial",
            "_view_module": "@jupyter-widgets/base",
            "_model_module_version": "1.5.0",
            "_view_count": null,
            "_view_module_version": "1.2.0",
            "bar_color": null,
            "_model_module": "@jupyter-widgets/controls"
          }
        },
        "c889cdadca784372af43ad59cb1e298d": {
          "model_module": "@jupyter-widgets/base",
          "model_name": "LayoutModel",
          "state": {
            "_view_name": "LayoutView",
            "grid_template_rows": null,
            "right": null,
            "justify_content": null,
            "_view_module": "@jupyter-widgets/base",
            "overflow": null,
            "_model_module_version": "1.2.0",
            "_view_count": null,
            "flex_flow": null,
            "width": null,
            "min_width": null,
            "border": null,
            "align_items": null,
            "bottom": null,
            "_model_module": "@jupyter-widgets/base",
            "top": null,
            "grid_column": null,
            "overflow_y": null,
            "overflow_x": null,
            "grid_auto_flow": null,
            "grid_area": null,
            "grid_template_columns": null,
            "flex": null,
            "_model_name": "LayoutModel",
            "justify_items": null,
            "grid_row": null,
            "max_height": null,
            "align_content": null,
            "visibility": null,
            "align_self": null,
            "height": null,
            "min_height": null,
            "padding": null,
            "grid_auto_rows": null,
            "grid_gap": null,
            "max_width": null,
            "order": null,
            "_view_module_version": "1.2.0",
            "grid_template_areas": null,
            "object_position": null,
            "object_fit": null,
            "grid_auto_columns": null,
            "margin": null,
            "display": null,
            "left": null
          }
        },
        "ae585fb470ac4d0fa1c1ec4defeb3a9e": {
          "model_module": "@jupyter-widgets/controls",
          "model_name": "DescriptionStyleModel",
          "state": {
            "_view_name": "StyleView",
            "_model_name": "DescriptionStyleModel",
            "description_width": "",
            "_view_module": "@jupyter-widgets/base",
            "_model_module_version": "1.5.0",
            "_view_count": null,
            "_view_module_version": "1.2.0",
            "_model_module": "@jupyter-widgets/controls"
          }
        },
        "2a23a1556a0745e1a290e57bbf43509c": {
          "model_module": "@jupyter-widgets/base",
          "model_name": "LayoutModel",
          "state": {
            "_view_name": "LayoutView",
            "grid_template_rows": null,
            "right": null,
            "justify_content": null,
            "_view_module": "@jupyter-widgets/base",
            "overflow": null,
            "_model_module_version": "1.2.0",
            "_view_count": null,
            "flex_flow": null,
            "width": null,
            "min_width": null,
            "border": null,
            "align_items": null,
            "bottom": null,
            "_model_module": "@jupyter-widgets/base",
            "top": null,
            "grid_column": null,
            "overflow_y": null,
            "overflow_x": null,
            "grid_auto_flow": null,
            "grid_area": null,
            "grid_template_columns": null,
            "flex": null,
            "_model_name": "LayoutModel",
            "justify_items": null,
            "grid_row": null,
            "max_height": null,
            "align_content": null,
            "visibility": null,
            "align_self": null,
            "height": null,
            "min_height": null,
            "padding": null,
            "grid_auto_rows": null,
            "grid_gap": null,
            "max_width": null,
            "order": null,
            "_view_module_version": "1.2.0",
            "grid_template_areas": null,
            "object_position": null,
            "object_fit": null,
            "grid_auto_columns": null,
            "margin": null,
            "display": null,
            "left": null
          }
        }
      }
    }
  },
  "cells": [
    {
      "cell_type": "markdown",
      "metadata": {
        "id": "view-in-github",
        "colab_type": "text"
      },
      "source": [
        "<a href=\"https://colab.research.google.com/github/mfinzi/equivariant-MLP/blob/master/emlp_.ipynb\" target=\"_parent\"><img src=\"https://colab.research.google.com/assets/colab-badge.svg\" alt=\"Open In Colab\"/></a>"
      ]
    },
    {
      "cell_type": "markdown",
      "metadata": {
        "id": "O4697-KMiQmH"
      },
      "source": [
        "# EMLP Quickstart"
      ]
    },
    {
      "cell_type": "code",
      "metadata": {
        "id": "fvZy_wOJiPjY"
      },
      "source": [
        "%%capture\r\n",
        "!pip install git+https://github.com/mfinzi/equivariant-MLP.git"
      ],
      "execution_count": null,
      "outputs": []
    },
    {
      "cell_type": "code",
      "metadata": {
        "id": "T4hji4vhiiHC"
      },
      "source": [
        "\r\n",
        "from emlp.solver.representation import T,V,sparsify_basis\r\n",
        "from emlp.solver.groups import *\r\n",
        "import jax.numpy as jnp\r\n",
        "import logging\r\n",
        "logging.getLogger().setLevel(logging.INFO)"
      ],
      "execution_count": null,
      "outputs": []
    },
    {
      "cell_type": "markdown",
      "metadata": {
        "id": "5DytObS_Gz0-"
      },
      "source": [
        "EMLP computes the symmetric subspace for a linear representation $\\rho$ and a matrix group $G$, solving the constraint to find an element $v\\in V$ that satisfies$$\\forall g\\in G: \\ \\ \\rho(g)v=v$$."
      ]
    },
    {
      "cell_type": "markdown",
      "metadata": {
        "id": "p1DztomXHoLL"
      },
      "source": [
        "For example, we can find invariant vectors of the cyclic translation group $\\mathbb{Z}_n$ which is just the constant $\\vec{1}$ scaled to have unit norm. "
      ]
    },
    {
      "cell_type": "code",
      "metadata": {
        "colab": {
          "base_uri": "https://localhost:8080/"
        },
        "id": "t37WsBHFH3IE",
        "outputId": "71d4208b-3f67-49c3-9a33-0b12c0816075"
      },
      "source": [
        "V(Z(5)).symmetric_basis()"
      ],
      "execution_count": null,
      "outputs": [
        {
          "output_type": "stream",
          "text": [
            "INFO:root:V cache miss\n",
            "INFO:root:Solving basis for V, for G=Z(5)\n"
          ],
          "name": "stderr"
        },
        {
          "output_type": "execute_result",
          "data": {
            "text/plain": [
              "DeviceArray([[0.44721365],\n",
              "             [0.44721362],\n",
              "             [0.44721365],\n",
              "             [0.44721365],\n",
              "             [0.44721365]], dtype=float32)"
            ]
          },
          "metadata": {
            "tags": []
          },
          "execution_count": 4
        }
      ]
    },
    {
      "cell_type": "markdown",
      "metadata": {
        "id": "i5N9u1HJGFnq"
      },
      "source": [
        "Each implemented group comes with a faithful 'base' representation $V$. Because faithful representations are one-to-one, we can build any representation by transforming this base representation.\r\n",
        "\r\n",
        "We provide several operators to transform and construct representations in different ways built and later go on to show how to do this more generally. In our type system, representations can be combined with the direct sum $\\rho_a \\oplus\\rho_b$ operator, the tensor product $\\rho_a\\otimes\\rho_b$, the dual $\\rho^*$. We implement these with the python operators `+`, `*`, and `.T`.\r\n",
        "\r\n"
      ]
    },
    {
      "cell_type": "code",
      "metadata": {
        "colab": {
          "base_uri": "https://localhost:8080/"
        },
        "id": "JadIWFClGje-",
        "outputId": "cb5f091b-b3bb-41ae-d9c5-b0430659de2f"
      },
      "source": [
        "V+V,  V*V,  V.T"
      ],
      "execution_count": null,
      "outputs": [
        {
          "output_type": "execute_result",
          "data": {
            "text/plain": [
              "((V+V), V⊗V, V*)"
            ]
          },
          "metadata": {
            "tags": []
          },
          "execution_count": 5
        }
      ]
    },
    {
      "cell_type": "markdown",
      "metadata": {
        "id": "k1IL0ZeWKscF"
      },
      "source": [
        "We can combine and use these operators interchangeably:"
      ]
    },
    {
      "cell_type": "code",
      "metadata": {
        "colab": {
          "base_uri": "https://localhost:8080/"
        },
        "id": "_Xl69BHxKiqV",
        "outputId": "4c994a91-3dd6-432a-bc11-1dd79887cc33"
      },
      "source": [
        "(V+V.T)*(V*V.T+V)"
      ],
      "execution_count": null,
      "outputs": [
        {
          "output_type": "execute_result",
          "data": {
            "text/plain": [
              "(V+V*)⊗(V⊗V*+V)"
            ]
          },
          "metadata": {
            "tags": []
          },
          "execution_count": 6
        }
      ]
    },
    {
      "cell_type": "markdown",
      "metadata": {
        "id": "h2TL8UUtLP12"
      },
      "source": [
        "We use the shorthand $cV$ can be used for $V\\oplus V\\oplus...\\oplus V$ and $V^c = V\\otimes V\\otimes...\\otimes V$, not that this different from the typical notation with cartesian products of sets."
      ]
    },
    {
      "cell_type": "code",
      "metadata": {
        "colab": {
          "base_uri": "https://localhost:8080/"
        },
        "id": "kT6Rc_AELLDv",
        "outputId": "5ff3f126-ba12-4ca6-e260-832230e74631"
      },
      "source": [
        "5*V*2"
      ],
      "execution_count": null,
      "outputs": [
        {
          "output_type": "execute_result",
          "data": {
            "text/plain": [
              "(V+V+V+V+V+V+V+V+V+V)"
            ]
          },
          "metadata": {
            "tags": []
          },
          "execution_count": 7
        }
      ]
    },
    {
      "cell_type": "code",
      "metadata": {
        "colab": {
          "base_uri": "https://localhost:8080/"
        },
        "id": "lvNXkGmRLzCf",
        "outputId": "184c6a74-e3db-4c60-be78-9ee6bc7335ff"
      },
      "source": [
        "2*V**3"
      ],
      "execution_count": null,
      "outputs": [
        {
          "output_type": "execute_result",
          "data": {
            "text/plain": [
              "(V⊗V⊗V+V⊗V⊗V)"
            ]
          },
          "metadata": {
            "tags": []
          },
          "execution_count": 8
        }
      ]
    },
    {
      "cell_type": "markdown",
      "metadata": {
        "id": "wjZRQ7c_LGuI"
      },
      "source": [
        "When a particular symmetry group is specified, the representation can be collapsed down to a more compact form:"
      ]
    },
    {
      "cell_type": "code",
      "metadata": {
        "colab": {
          "base_uri": "https://localhost:8080/"
        },
        "id": "9qVCTlM5LF-E",
        "outputId": "eb2393a6-5171-4209-997c-8fe2f804674c"
      },
      "source": [
        "G=O(4)\r\n",
        "2*V(G)**3"
      ],
      "execution_count": null,
      "outputs": [
        {
          "output_type": "execute_result",
          "data": {
            "text/plain": [
              "2V³"
            ]
          },
          "metadata": {
            "tags": []
          },
          "execution_count": 9
        }
      ]
    },
    {
      "cell_type": "code",
      "metadata": {
        "colab": {
          "base_uri": "https://localhost:8080/"
        },
        "id": "eMe535URKlMz",
        "outputId": "6a8b3933-89e4-4c63-abbf-27fa4e0d728a"
      },
      "source": [
        "(2*V**3)(G)"
      ],
      "execution_count": null,
      "outputs": [
        {
          "output_type": "execute_result",
          "data": {
            "text/plain": [
              "2V³"
            ]
          },
          "metadata": {
            "tags": []
          },
          "execution_count": 10
        }
      ]
    },
    {
      "cell_type": "markdown",
      "metadata": {
        "id": "CCY1ydNbkOdk"
      },
      "source": [
        "Although for groups like the Lorentz group $SO(1,3)$ with non orthogonal representations, a distinction needs to be made between the representation and it's dual. In both cases the representation is converted down to a canonical form (but the ordering you gave is preserved as a permutation)."
      ]
    },
    {
      "cell_type": "code",
      "metadata": {
        "id": "bSIPFNHokLxV",
        "colab": {
          "base_uri": "https://localhost:8080/"
        },
        "outputId": "587c31e2-1b26-4927-c37f-abd440b1e939"
      },
      "source": [
        "V(SO(3)).T+V(SO(3))"
      ],
      "execution_count": null,
      "outputs": [
        {
          "output_type": "execute_result",
          "data": {
            "text/plain": [
              "2V"
            ]
          },
          "metadata": {
            "tags": []
          },
          "execution_count": 11
        }
      ]
    },
    {
      "cell_type": "code",
      "metadata": {
        "id": "FGJJjR-xkpMT",
        "colab": {
          "base_uri": "https://localhost:8080/"
        },
        "outputId": "8c2071eb-06fe-414d-b3ed-2d8a84dfab46"
      },
      "source": [
        "V(SO13()).T+V(SO13())"
      ],
      "execution_count": null,
      "outputs": [
        {
          "output_type": "execute_result",
          "data": {
            "text/plain": [
              "V+V*"
            ]
          },
          "metadata": {
            "tags": []
          },
          "execution_count": 12
        }
      ]
    },
    {
      "cell_type": "markdown",
      "metadata": {
        "id": "tr9zyWOoFy_k"
      },
      "source": [
        "Linear maps from $V_1\\rightarrow V_2$ have the type $V_2\\otimes V_1^*$. The `V>>W` is shorthand for `W*V.T` and produces linear maps from `V` to `W`."
      ]
    },
    {
      "cell_type": "markdown",
      "metadata": {
        "id": "FuGSmqYMEffL"
      },
      "source": [
        "Imposing (cyclic) Translation Equivariance $G=\\mathbb{Z}_n$ on linear maps $V\\rightarrow V$ yields circular convolutions (circulant matrices) which can be expressed as a linear combination of $n$ basis elements of size $n\\times n$."
      ]
    },
    {
      "cell_type": "code",
      "metadata": {
        "colab": {
          "base_uri": "https://localhost:8080/"
        },
        "id": "v7vhWyB2E2kX",
        "outputId": "7d73fc61-48e7-446e-c8c9-d914a86654a5"
      },
      "source": [
        "G = Z(6)\r\n",
        "repin = V(G)\r\n",
        "repout = V(G)\r\n",
        "conv_basis = (repin>>repout).symmetric_basis()\r\n",
        "print(conv_basis.shape)"
      ],
      "execution_count": null,
      "outputs": [
        {
          "output_type": "stream",
          "text": [
            "INFO:root:V² cache miss\n",
            "INFO:root:Solving basis for V², for G=Z(6)\n"
          ],
          "name": "stderr"
        },
        {
          "output_type": "stream",
          "text": [
            "(36, 6)\n"
          ],
          "name": "stdout"
        }
      ]
    },
    {
      "cell_type": "markdown",
      "metadata": {
        "id": "Cwrc_z24N11G"
      },
      "source": [
        "While we provide an orthogonal basis, these bases are not always easy to make sense of as an array of numbers (any rotation of an orthogonal basis is still an orthogonal basis)"
      ]
    },
    {
      "cell_type": "code",
      "metadata": {
        "colab": {
          "base_uri": "https://localhost:8080/"
        },
        "id": "Q9ZdMajENzqr",
        "outputId": "e4216f7a-13b9-425e-c8be-02129d81c1b8"
      },
      "source": [
        "conv_basis[:,0]"
      ],
      "execution_count": null,
      "outputs": [
        {
          "output_type": "execute_result",
          "data": {
            "text/plain": [
              "DeviceArray([-0.00200776, -0.25157794,  0.31927773,  0.0072209 ,\n",
              "             -0.03698727,  0.00357165,  0.00357159, -0.00200781,\n",
              "             -0.25157797,  0.31927782,  0.00722108, -0.03698722,\n",
              "             -0.03698726,  0.00357183, -0.00200774, -0.2515779 ,\n",
              "              0.31927767,  0.00722109,  0.00722104, -0.03698728,\n",
              "              0.00357171, -0.00200778, -0.25157782,  0.31927767,\n",
              "              0.3192777 ,  0.00722104, -0.03698733,  0.00357174,\n",
              "             -0.00200774, -0.2515779 , -0.25157785,  0.3192777 ,\n",
              "              0.00722107, -0.03698731,  0.00357177, -0.0020077 ],            dtype=float32)"
            ]
          },
          "metadata": {
            "tags": []
          },
          "execution_count": 14
        }
      ]
    },
    {
      "cell_type": "markdown",
      "metadata": {
        "id": "pgGPRtkBhnMR"
      },
      "source": [
        "To more easily visualize the result, we can define the following function which projects a random vector and then plots components with the same values as different colors, arranged in a desired shape."
      ]
    },
    {
      "cell_type": "code",
      "metadata": {
        "id": "zYGmQjBohmn0"
      },
      "source": [
        "import numpy as np\r\n",
        "import matplotlib.pyplot as plt\r\n",
        "from sklearn.cluster import KMeans\r\n",
        "\r\n",
        "def vis_basis(basis,shape,cluster=True):\r\n",
        "  Q=basis@jnp.eye(basis.shape[-1]) # convert to a dense matrix if necessary\r\n",
        "  v = np.random.randn(Q.shape[0])  # sample random vector\r\n",
        "  v = Q@(Q.T@v)                    # project onto equivariant subspace\r\n",
        "  if cluster: # cluster nearby values for better color separation in plot\r\n",
        "    v = KMeans(n_clusters=Q.shape[-1]).fit(v.reshape(-1,1)).labels_\r\n",
        "  plt.imshow(v.reshape(shape))\r\n",
        "  plt.axis('off')\r\n",
        "\r\n",
        "def vis(repin,repout,cluster=True):\r\n",
        "  Q = (repin>>repout).symmetric_basis()\r\n",
        "  vis_basis(Q,(repout.size(),repin.size()),cluster)"
      ],
      "execution_count": null,
      "outputs": []
    },
    {
      "cell_type": "markdown",
      "metadata": {
        "id": "CkSPReyhOQe6"
      },
      "source": [
        "Our convolutional basis is the familiar (circulant) convolution matrix."
      ]
    },
    {
      "cell_type": "code",
      "metadata": {
        "id": "zyB6hewchTqR",
        "colab": {
          "base_uri": "https://localhost:8080/",
          "height": 248
        },
        "outputId": "8a41ac59-4f01-4a3b-ec43-db397274c344"
      },
      "source": [
        "vis_basis(conv_basis,(repin.size(),repout.size()))"
      ],
      "execution_count": null,
      "outputs": [
        {
          "output_type": "display_data",
          "data": {
            "image/png": "[encoded data removed]",
            "text/plain": [
              "<Figure size 432x288 with 1 Axes>"
            ]
          },
          "metadata": {
            "tags": [],
            "needs_background": "light"
          }
        }
      ]
    },
    {
      "cell_type": "markdown",
      "metadata": {
        "id": "f2hvLHxhFG-v"
      },
      "source": [
        "2D translation equivariange $G=\\mathbb{Z}_n\\times \\mathbb{Z}_n$ yields 2D convolutions (bicurculant matrices)"
      ]
    },
    {
      "cell_type": "code",
      "metadata": {
        "colab": {
          "base_uri": "https://localhost:8080/",
          "height": 282
        },
        "id": "BkoeLrqOFSrb",
        "outputId": "8890dd91-fddb-4a7e-e48b-78df9bbb4ad8"
      },
      "source": [
        "G = Z(3)*Z(4) #[Not recommended way of building product groups, there is a faster path described later]\r\n",
        "repin = V(G)\r\n",
        "repout = V(G)\r\n",
        "vis(repin,repout)"
      ],
      "execution_count": null,
      "outputs": [
        {
          "output_type": "stream",
          "text": [
            "INFO:root:V² cache miss\n",
            "INFO:root:Solving basis for V², for G=Z(3)xZ(4)\n"
          ],
          "name": "stderr"
        },
        {
          "output_type": "display_data",
          "data": {
            "image/png": "[encoded data removed]",
            "text/plain": [
              "<Figure size 432x288 with 1 Axes>"
            ]
          },
          "metadata": {
            "tags": [],
            "needs_background": "light"
          }
        }
      ]
    },
    {
      "cell_type": "markdown",
      "metadata": {
        "id": "CB77Ovu6PFpi"
      },
      "source": [
        "How about the permutation group $G=S_n$, where the vector space $V$ represents a set of elements? In deep sets it was shown there are only two basis elements for equivariant linear maps $V\\rightarrow V$."
      ]
    },
    {
      "cell_type": "code",
      "metadata": {
        "colab": {
          "base_uri": "https://localhost:8080/",
          "height": 282
        },
        "id": "ok0edVaLPYMp",
        "outputId": "71e4ecc3-2c01-4698-f982-835c08c7265e"
      },
      "source": [
        "repin = V(S(6))\r\n",
        "repout = V(S(6))\r\n",
        "vis(repin,repout)"
      ],
      "execution_count": null,
      "outputs": [
        {
          "output_type": "stream",
          "text": [
            "INFO:root:V² cache miss\n",
            "INFO:root:Solving basis for V², for G=S(6)\n"
          ],
          "name": "stderr"
        },
        {
          "output_type": "display_data",
          "data": {
            "image/png": "[encoded data removed]",
            "text/plain": [
              "<Figure size 432x288 with 1 Axes>"
            ]
          },
          "metadata": {
            "tags": [],
            "needs_background": "light"
          }
        }
      ]
    },
    {
      "cell_type": "markdown",
      "metadata": {
        "id": "OOEar1nIPaiC"
      },
      "source": [
        "What about graphs, which are composed both of sets as well as adjacency matrices or graph laplacians? These matrices are examples of objects from $V\\otimes V$ with $G=S_n$, and in Invariant and Equivariant Graph Networks () it was shown through a challenging proof that there are at most 15 basis elements which were derived analytically. We can solve for them here:"
      ]
    },
    {
      "cell_type": "code",
      "metadata": {
        "colab": {
          "base_uri": "https://localhost:8080/",
          "height": 298
        },
        "id": "nqO1ZQOxC3Jz",
        "outputId": "7eb08c10-25a7-4247-a1af-98285bad99db"
      },
      "source": [
        "repin = V(S(6))**2\r\n",
        "repout = V(S(6))**2\r\n",
        "vis(repin,repout)\r\n",
        "print((repin>>repout).symmetric_basis().shape)"
      ],
      "execution_count": null,
      "outputs": [
        {
          "output_type": "stream",
          "text": [
            "INFO:root:V⁴ cache miss\n",
            "INFO:root:Solving basis for V⁴, for G=S(6)\n"
          ],
          "name": "stderr"
        },
        {
          "output_type": "stream",
          "text": [
            "(1296, 15)\n"
          ],
          "name": "stdout"
        },
        {
          "output_type": "display_data",
          "data": {
            "image/png": "[encoded data removed]",
            "text/plain": [
              "<Figure size 432x288 with 1 Axes>"
            ]
          },
          "metadata": {
            "tags": [],
            "needs_background": "light"
          }
        }
      ]
    },
    {
      "cell_type": "markdown",
      "metadata": {
        "id": "Mo24-rclQ4za"
      },
      "source": [
        "How about maps from graphs to sets? Lets say a graph consists of one node feature and one edge feature which can be represented with the $\\oplus$ operator."
      ]
    },
    {
      "cell_type": "code",
      "metadata": {
        "colab": {
          "base_uri": "https://localhost:8080/",
          "height": 130
        },
        "id": "NvDHowBRDjfO",
        "outputId": "0a9f48dc-af48-46a0-85b3-f9aade03a506"
      },
      "source": [
        "W = V(S(6))\r\n",
        "repin = W+W**2\r\n",
        "repout = W\r\n",
        "\r\n",
        "vis(repin,repout)\r\n",
        "print((repin>>repout).symmetric_basis().shape)"
      ],
      "execution_count": null,
      "outputs": [
        {
          "output_type": "stream",
          "text": [
            "INFO:root:V³ cache miss\n",
            "INFO:root:Solving basis for V³, for G=S(6)\n"
          ],
          "name": "stderr"
        },
        {
          "output_type": "stream",
          "text": [
            "(252, 7)\n"
          ],
          "name": "stdout"
        },
        {
          "output_type": "display_data",
          "data": {
            "image/png": "[encoded data removed]",
            "text/plain": [
              "<Figure size 432x288 with 1 Axes>"
            ]
          },
          "metadata": {
            "tags": [],
            "needs_background": "light"
          }
        }
      ]
    },
    {
      "cell_type": "markdown",
      "metadata": {
        "id": "dW7R-o1NnTCV"
      },
      "source": [
        "We can compute the bases for representations that have many copies or multiplicity of a given representation type, such as for the many channels in a neural network. The `rep.symmetric_basis()` and `rep.symmetric_projector()` can return lazy matrices $Q$ and $P=QQ^T$ when the representations are composite (or when the representation is specified lazily). [implementation change is making this much slower than normal, using smaller values]"
      ]
    },
    {
      "cell_type": "markdown",
      "metadata": {
        "id": "Gxt9kWqtpCU0"
      },
      "source": [
        "For example with a more realistically sized layer with 50 global constants, 20 set feature channels, and 5 edge feature channels we have"
      ]
    },
    {
      "cell_type": "code",
      "metadata": {
        "id": "ZjzvEB4cnROA",
        "colab": {
          "base_uri": "https://localhost:8080/"
        },
        "outputId": "a8bb7596-d6a7-4ccb-9e9a-b63ef0e31726"
      },
      "source": [
        "W = V(S(6))\r\n",
        "repin = 50*W**0 + 20*W+5*W**2\r\n",
        "repout = repin\r\n",
        "rep_map = repin>>repout\r\n",
        "print(f\"{rep_map}, of size {rep_map.size()}\")"
      ],
      "execution_count": null,
      "outputs": [
        {
          "output_type": "stream",
          "text": [
            "2500V⁰+2000V+900V²+200V³+25V⁴, of size 122500\n"
          ],
          "name": "stdout"
        }
      ]
    },
    {
      "cell_type": "code",
      "metadata": {
        "id": "b8yHnKq5oOYn",
        "colab": {
          "base_uri": "https://localhost:8080/"
        },
        "outputId": "1676a794-8f2f-45ab-9d5d-5fca58d4e4e8"
      },
      "source": [
        "Q = rep_map.symmetric_basis()\r\n",
        "print(Q.shape)"
      ],
      "execution_count": null,
      "outputs": [
        {
          "output_type": "stream",
          "text": [
            "INFO:root:V cache miss\n",
            "INFO:root:Solving basis for V, for G=S(6)\n"
          ],
          "name": "stderr"
        },
        {
          "output_type": "stream",
          "text": [
            "(122500, 7675)\n"
          ],
          "name": "stdout"
        }
      ]
    },
    {
      "cell_type": "markdown",
      "metadata": {
        "id": "16Z5BgW5pWaf"
      },
      "source": [
        "These Lazy matrices are modeled after https://docs.scipy.org/doc/scipy/reference/generated/scipy.sparse.linalg.LinearOperator.html. Unfortunately the larger matrices are harder to visualize, maybe someone can figure out how to do this better?"
      ]
    },
    {
      "cell_type": "code",
      "metadata": {
        "id": "RQoXRbYKplHK",
        "colab": {
          "base_uri": "https://localhost:8080/",
          "height": 265
        },
        "outputId": "400a640c-8b9b-4806-dd09-8526bf612210"
      },
      "source": [
        "P =rep_map.symmetric_projector()\r\n",
        "v = np.random.randn(P.shape[-1])\r\n",
        "v = P@v\r\n",
        "plt.imshow(v.reshape(repout.size(),repin.size()))\r\n",
        "plt.axis('off')"
      ],
      "execution_count": null,
      "outputs": [
        {
          "output_type": "execute_result",
          "data": {
            "text/plain": [
              "(-0.5, 349.5, 349.5, -0.5)"
            ]
          },
          "metadata": {
            "tags": []
          },
          "execution_count": 23
        },
        {
          "output_type": "display_data",
          "data": {
            "image/png": "[encoded data removed]",
            "text/plain": [
              "<Figure size 432x288 with 1 Axes>"
            ]
          },
          "metadata": {
            "tags": [],
            "needs_background": "light"
          }
        }
      ]
    },
    {
      "cell_type": "markdown",
      "metadata": {
        "id": "mFKf2K8yRmDs"
      },
      "source": [
        "But more fun than continuous groups are discrete groups!\r\n",
        "How about the $2$D rotation group $SO(3)$. It's well known that the only equivariant object for the vector space $V^{\\otimes 3}$ is the Levi-Civita symbol $\\epsilon_{ijk}$. Since the values are both $0$, positive, and negative (leading to more than `Q.shape[-1]` clusters) we disable the clustering."
      ]
    },
    {
      "cell_type": "code",
      "metadata": {
        "colab": {
          "base_uri": "https://localhost:8080/",
          "height": 194
        },
        "id": "Kik_owp4Ri-u",
        "outputId": "7e627b4a-5774-4857-f7b3-f1d1018caf49"
      },
      "source": [
        "W = V(SO(3))\r\n",
        "repin = W**2\r\n",
        "repout = W\r\n",
        "Q = (repin>>repout).symmetric_basis()\r\n",
        "print(Q.shape)\r\n",
        "vis(repin,repout,cluster=False)"
      ],
      "execution_count": null,
      "outputs": [
        {
          "output_type": "stream",
          "text": [
            "INFO:root:V³ cache miss\n",
            "INFO:root:Solving basis for V³, for G=SO(3)\n"
          ],
          "name": "stderr"
        },
        {
          "output_type": "stream",
          "text": [
            "(27, 1)\n"
          ],
          "name": "stdout"
        },
        {
          "output_type": "display_data",
          "data": {
            "image/png": "[encoded data removed]",
            "text/plain": [
              "<Figure size 432x288 with 1 Axes>"
            ]
          },
          "metadata": {
            "tags": [],
            "needs_background": "light"
          }
        }
      ]
    },
    {
      "cell_type": "code",
      "metadata": {
        "colab": {
          "base_uri": "https://localhost:8080/",
          "height": 250,
          "referenced_widgets": [
            "9339e65a02ee415fb73d5f85dead733e",
            "65b10e4177e24dd19b4934f68fca3711",
            "66263fa172d44373a8d7d94a513fb928",
            "2c8a341b316f4569804c6ba30477ae1a",
            "dd09bc3b8a7242ce819bf570dc2dfea5",
            "922393c8498d4db89dfc232f8ab4b250",
            "2628dfe602ad4cd69b43c831460748d5",
            "78fea255560b41a7bd3d73586c77d592"
          ]
        },
        "id": "zOm8qMWISear",
        "outputId": "0badd424-d396-45ed-ddf6-9184288928ea"
      },
      "source": [
        "print(sparsify_basis(Q).reshape(3,3,3))"
      ],
      "execution_count": null,
      "outputs": [
        {
          "output_type": "display_data",
          "data": {
            "application/vnd.jupyter.widget-view+json": {
              "model_id": "9339e65a02ee415fb73d5f85dead733e",
              "version_minor": 0,
              "version_major": 2
            },
            "text/plain": [
              "HBox(children=(FloatProgress(value=0.0, description='sparsifying basis', max=3000.0, style=ProgressStyle(descr…"
            ]
          },
          "metadata": {
            "tags": []
          }
        },
        {
          "output_type": "stream",
          "text": [
            "\n",
            "[[[ 0.  0.  0.]\n",
            "  [ 0.  0.  1.]\n",
            "  [ 0. -1.  0.]]\n",
            "\n",
            " [[ 0.  0. -1.]\n",
            "  [ 0.  0.  0.]\n",
            "  [ 1.  0.  0.]]\n",
            "\n",
            " [[ 0.  1.  0.]\n",
            "  [-1.  0.  0.]\n",
            "  [ 0.  0.  0.]]]\n"
          ],
          "name": "stdout"
        }
      ]
    },
    {
      "cell_type": "markdown",
      "metadata": {
        "id": "wlytOGW_rM66"
      },
      "source": [
        "We can also solve for very high dimensional representations which we automatically switch to using the automated iterative Krylov subspace method"
      ]
    },
    {
      "cell_type": "code",
      "metadata": {
        "id": "mjCZmZhBrsdR",
        "colab": {
          "base_uri": "https://localhost:8080/",
          "height": 282
        },
        "outputId": "9a2b3396-817f-4f8a-e389-564eac2cbead"
      },
      "source": [
        "vis(W**3,W**3)"
      ],
      "execution_count": null,
      "outputs": [
        {
          "output_type": "stream",
          "text": [
            "INFO:root:V⁶ cache miss\n",
            "INFO:root:Solving basis for V⁶, for G=SO(3)\n"
          ],
          "name": "stderr"
        },
        {
          "output_type": "display_data",
          "data": {
            "image/png": "[encoded data removed]",
            "text/plain": [
              "<Figure size 432x288 with 1 Axes>"
            ]
          },
          "metadata": {
            "tags": [],
            "needs_background": "light"
          }
        }
      ]
    },
    {
      "cell_type": "code",
      "metadata": {
        "id": "fgjTyA0ar5s2",
        "colab": {
          "base_uri": "https://localhost:8080/",
          "height": 68
        },
        "outputId": "5301269b-7ac0-4bdc-83c5-1b751bd0f15d"
      },
      "source": [
        "vis(W**5,W**3)"
      ],
      "execution_count": null,
      "outputs": [
        {
          "output_type": "display_data",
          "data": {
            "image/png": "[encoded data removed]",
            "text/plain": [
              "<Figure size 432x288 with 1 Axes>"
            ]
          },
          "metadata": {
            "tags": [],
            "needs_background": "light"
          }
        }
      ]
    },
    {
      "cell_type": "code",
      "metadata": {
        "id": "tNHUyPFjrFsn",
        "colab": {
          "base_uri": "https://localhost:8080/",
          "height": 314,
          "referenced_widgets": [
            "c761d8fe620244d3a14278b91cb4bb3d",
            "9cc379c2f09a4b9a8345b6f82e0e6af3",
            "130b1dab4ce1428abf4703608d3426f8",
            "3b0aca99a3044d5a80fc191d8b79fa3b",
            "b04ee0aabbcc41248dc1a84518594f9b",
            "f3f4cac73a4f42b9ba60a5aba18cf903",
            "73daa5b448da41e694e7c95ad3f0dadc",
            "6b671c1c8f2c4e81ba96da4cde154ccf"
          ]
        },
        "outputId": "959dbd8e-94da-4c66-be30-e3677a4bd7cf"
      },
      "source": [
        "vis(V(RubiksCube()),V(RubiksCube()))"
      ],
      "execution_count": null,
      "outputs": [
        {
          "output_type": "stream",
          "text": [
            "INFO:root:V² cache miss\n",
            "INFO:root:Solving basis for V², for G=RubiksCube\n"
          ],
          "name": "stderr"
        },
        {
          "output_type": "display_data",
          "data": {
            "application/vnd.jupyter.widget-view+json": {
              "model_id": "c761d8fe620244d3a14278b91cb4bb3d",
              "version_minor": 0,
              "version_major": 2
            },
            "text/plain": [
              "HBox(children=(FloatProgress(value=0.0, description='Krylov Solving for Equivariant Subspace r<=10', max=20000…"
            ]
          },
          "metadata": {
            "tags": []
          }
        },
        {
          "output_type": "display_data",
          "data": {
            "image/png": "[encoded data removed]",
            "text/plain": [
              "<Figure size 432x288 with 1 Axes>"
            ]
          },
          "metadata": {
            "tags": [],
            "needs_background": "light"
          }
        }
      ]
    },
    {
      "cell_type": "markdown",
      "metadata": {
        "id": "XnDhvsNCDCE1"
      },
      "source": [
        "# Mixing representations from different groups (Experimental, needs additional testing)"
      ]
    },
    {
      "cell_type": "code",
      "metadata": {
        "id": "FoQyfp1i7hsv"
      },
      "source": [
        "rep = 2*T(1)(Z(3))*T(1)(S(4))+T(1)(SO(2))"
      ],
      "execution_count": null,
      "outputs": []
    },
    {
      "cell_type": "code",
      "metadata": {
        "colab": {
          "base_uri": "https://localhost:8080/"
        },
        "id": "tDBnArKh736M",
        "outputId": "88d0778d-9c47-4938-bf5e-226f9d51afdc"
      },
      "source": [
        "(rep>>rep)"
      ],
      "execution_count": null,
      "outputs": [
        {
          "output_type": "execute_result",
          "data": {
            "text/plain": [
              "V²+4V_S(4)⊗V_SO(2)⊗V_Z(3)+4V²_S(4)⊗V²_Z(3)"
            ]
          },
          "metadata": {
            "tags": []
          },
          "execution_count": 85
        }
      ]
    },
    {
      "cell_type": "code",
      "metadata": {
        "id": "E0aG1P4hVYoY"
      },
      "source": [
        "import matplotlib.pyplot as plt\r\n",
        "import numpy as np"
      ],
      "execution_count": null,
      "outputs": []
    },
    {
      "cell_type": "code",
      "metadata": {
        "id": "HQQRvIy3VbEb"
      },
      "source": [
        "P = (rep>>rep).symmetric_projector()\r\n",
        "v= np.random.rand(P.shape[-1])-.5\r\n",
        "v=P@v"
      ],
      "execution_count": null,
      "outputs": []
    },
    {
      "cell_type": "code",
      "metadata": {
        "colab": {
          "base_uri": "https://localhost:8080/",
          "height": 265
        },
        "id": "PNU6DfrxVqnB",
        "outputId": "c1118b59-b270-4a99-d9f8-cd3944fe4985"
      },
      "source": [
        "plt.imshow(v.reshape(rep.size(),rep.size()))\r\n",
        "plt.axis('off')"
      ],
      "execution_count": null,
      "outputs": [
        {
          "output_type": "execute_result",
          "data": {
            "text/plain": [
              "(-0.5, 25.5, 25.5, -0.5)"
            ]
          },
          "metadata": {
            "tags": []
          },
          "execution_count": 116
        },
        {
          "output_type": "display_data",
          "data": {
            "image/png": "[encoded data removed]",
            "text/plain": [
              "<Figure size 432x288 with 1 Axes>"
            ]
          },
          "metadata": {
            "tags": [],
            "needs_background": "light"
          }
        }
      ]
    },
    {
      "cell_type": "code",
      "metadata": {
        "colab": {
          "base_uri": "https://localhost:8080/"
        },
        "id": "ntxFHnTSBdwj",
        "outputId": "e933dbf4-fc1b-4473-9bf3-4b358f29fb10"
      },
      "source": [
        "repin,repout = T(1)(SO(3))*T(2)(S(4)),T(2)(SO(3))*T(1)(S(4))\r\n",
        "repin>>repout"
      ],
      "execution_count": null,
      "outputs": [
        {
          "output_type": "execute_result",
          "data": {
            "text/plain": [
              "V³_SO(3)⊗V³_S(4)"
            ]
          },
          "metadata": {
            "tags": []
          },
          "execution_count": 122
        }
      ]
    },
    {
      "cell_type": "code",
      "metadata": {
        "colab": {
          "base_uri": "https://localhost:8080/",
          "height": 297,
          "referenced_widgets": [
            "d68b083d7a4642768951febf2e91ac16",
            "27cbfd2cf0d34421a559aaa790cd68af",
            "4ed2e8497c4947dfbe2e9fa71d2cf376",
            "788728f6730a4d3c86b0a7da2cb9f440",
            "331dc1030e3c4a44af6f1febb2b9bba3",
            "c889cdadca784372af43ad59cb1e298d",
            "ae585fb470ac4d0fa1c1ec4defeb3a9e",
            "2a23a1556a0745e1a290e57bbf43509c"
          ]
        },
        "id": "Z9TJ2GcoB6wq",
        "outputId": "e2cfb1ee-2a21-497b-b991-4f6eb1506d71"
      },
      "source": [
        "(repin>>repout).visualize(repout.size(),repin.size())"
      ],
      "execution_count": null,
      "outputs": [
        {
          "output_type": "display_data",
          "data": {
            "application/vnd.jupyter.widget-view+json": {
              "model_id": "d68b083d7a4642768951febf2e91ac16",
              "version_minor": 0,
              "version_major": 2
            },
            "text/plain": [
              "HBox(children=(FloatProgress(value=0.0, description='sparsifying basis', max=3000.0, style=ProgressStyle(descr…"
            ]
          },
          "metadata": {
            "tags": []
          }
        },
        {
          "output_type": "stream",
          "text": [
            "\n"
          ],
          "name": "stdout"
        },
        {
          "output_type": "display_data",
          "data": {
            "image/png": "[encoded data removed]",
            "text/plain": [
              "<Figure size 432x288 with 1 Axes>"
            ]
          },
          "metadata": {
            "tags": [],
            "needs_background": "light"
          }
        }
      ]
    },
    {
      "cell_type": "code",
      "metadata": {
        "id": "mRDfIgPOB9T6"
      },
      "source": [
        ""
      ],
      "execution_count": null,
      "outputs": []
    },
    {
      "cell_type": "markdown",
      "metadata": {
        "id": "CV9ffkypTRPL"
      },
      "source": [
        "# Multilinear Maps"
      ]
    },
    {
      "cell_type": "markdown",
      "metadata": {
        "id": "osU0T6ZyTU6v"
      },
      "source": [
        "Since `a>>b` is a linear map, you may think to extrapolate `a>>(b>>c)` as multilinear, and this works!"
      ]
    },
    {
      "cell_type": "code",
      "metadata": {
        "id": "ftnVxZrxTT-X"
      },
      "source": [
        ""
      ],
      "execution_count": null,
      "outputs": []
    }
  ]
}