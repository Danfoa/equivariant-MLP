{
 "cells": [
  {
   "cell_type": "code",
   "execution_count": 1,
   "metadata": {},
   "outputs": [
    {
     "ename": "ModuleNotFoundError",
     "evalue": "No module named 'emlp_jax'",
     "output_type": "error",
     "traceback": [
      "\u001b[0;31m---------------------------------------------------------------------------\u001b[0m",
      "\u001b[0;31mModuleNotFoundError\u001b[0m                       Traceback (most recent call last)",
      "\u001b[0;32m<ipython-input-1-571e9026abca>\u001b[0m in \u001b[0;36m<module>\u001b[0;34m\u001b[0m\n\u001b[1;32m      3\u001b[0m \u001b[0;32mimport\u001b[0m \u001b[0mnumpy\u001b[0m \u001b[0;32mas\u001b[0m \u001b[0mnp\u001b[0m\u001b[0;34m\u001b[0m\u001b[0;34m\u001b[0m\u001b[0m\n\u001b[1;32m      4\u001b[0m \u001b[0;32mimport\u001b[0m \u001b[0mjax\u001b[0m\u001b[0;34m.\u001b[0m\u001b[0mnumpy\u001b[0m \u001b[0;32mas\u001b[0m \u001b[0mjnp\u001b[0m\u001b[0;34m\u001b[0m\u001b[0;34m\u001b[0m\u001b[0m\n\u001b[0;32m----> 5\u001b[0;31m \u001b[0;32mfrom\u001b[0m \u001b[0memlp_jax\u001b[0m\u001b[0;34m.\u001b[0m\u001b[0mequivariant_subspaces\u001b[0m \u001b[0;32mimport\u001b[0m \u001b[0mT\u001b[0m\u001b[0;34m\u001b[0m\u001b[0;34m\u001b[0m\u001b[0m\n\u001b[0m\u001b[1;32m      6\u001b[0m \u001b[0;32mfrom\u001b[0m \u001b[0memlp_jax\u001b[0m\u001b[0;34m.\u001b[0m\u001b[0mgroups\u001b[0m \u001b[0;32mimport\u001b[0m \u001b[0;34m*\u001b[0m\u001b[0;34m\u001b[0m\u001b[0;34m\u001b[0m\u001b[0m\n\u001b[1;32m      7\u001b[0m \u001b[0;32mfrom\u001b[0m \u001b[0memlp_jax\u001b[0m\u001b[0;34m.\u001b[0m\u001b[0mdatasets\u001b[0m \u001b[0;32mimport\u001b[0m \u001b[0mBrokenRubiksCube\u001b[0m\u001b[0;34m,\u001b[0m\u001b[0mInvertedCube\u001b[0m\u001b[0;34m\u001b[0m\u001b[0;34m\u001b[0m\u001b[0m\n",
      "\u001b[0;31mModuleNotFoundError\u001b[0m: No module named 'emlp_jax'"
     ]
    }
   ],
   "source": [
    "import jax\n",
    "#jax.config.update('jax_platform_name', 'cpu')\n",
    "import numpy as np\n",
    "import jax.numpy as jnp\n",
    "from emlp_jax.equivariant_subspaces import T\n",
    "from emlp_jax.groups import *\n",
    "from emlp_jax.datasets import BrokenRubiksCube,InvertedCube\n",
    "from emlp_jax.mlp import uniform_allocation\n",
    "import logging\n",
    "logging.getLogger().setLevel(logging.INFO)"
   ]
  },
  {
   "cell_type": "code",
   "execution_count": 3,
   "metadata": {},
   "outputs": [],
   "source": [
    "import jax\n",
    "#jax.config.update('jax_platform_name', 'cpu')\n",
    "import numpy as np\n",
    "import jax.numpy as jnp\n",
    "from core.representation import T\n",
    "from core.groups import *\n",
    "from emlp.datasets import BrokenRubiksCube,InvertedCube\n",
    "from emlp.mlp import uniform_allocation\n",
    "import logging\n",
    "logging.getLogger().setLevel(logging.INFO)"
   ]
  },
  {
   "cell_type": "code",
   "execution_count": 5,
   "metadata": {},
   "outputs": [
    {
     "name": "stderr",
     "output_type": "stream",
     "text": [
      "INFO:root:V⁰ cache miss\n",
      "INFO:root:Solving basis for V⁰, for G=SO(2)\n",
      "INFO:root:V⁰ cache miss\n",
      "INFO:root:Solving basis for V⁰, for G=SO(3)\n",
      "INFO:root:V⁰ cache miss\n",
      "INFO:root:Solving basis for V⁰, for G=SO(4)\n",
      "INFO:root:V⁰ cache miss\n",
      "INFO:root:Solving basis for V⁰, for G=SO(5)\n",
      "INFO:root:V⁰ cache miss\n",
      "INFO:root:Solving basis for V⁰, for G=SO(6)\n",
      "INFO:root:V⁰ cache miss\n",
      "INFO:root:Solving basis for V⁰, for G=SO(7)\n",
      "INFO:root:V⁰ cache miss\n",
      "INFO:root:Solving basis for V⁰, for G=SO(8)\n",
      "INFO:root:V⁵ cache miss\n",
      "INFO:root:Solving basis for V⁵, for G=SO(7)\n"
     ]
    },
    {
     "data": {
      "application/vnd.jupyter.widget-view+json": {
       "model_id": "87503eedcf9243d8bc2cf49f59a40422",
       "version_major": 2,
       "version_minor": 0
      },
      "text/plain": [
       "Krylov Solving for Equivariant Subspace r<=10:   0%|          | 0/20000 [00:00<?, ?it/s]"
      ]
     },
     "metadata": {},
     "output_type": "display_data"
    },
    {
     "name": "stderr",
     "output_type": "stream",
     "text": [
      "INFO:root:V⁵ cache miss\n",
      "INFO:root:Solving basis for V⁵, for G=SO(8)\n"
     ]
    },
    {
     "data": {
      "application/vnd.jupyter.widget-view+json": {
       "model_id": "b335136bd82148f5b5cc5945f53c99e9",
       "version_major": 2,
       "version_minor": 0
      },
      "text/plain": [
       "Krylov Solving for Equivariant Subspace r<=10:   0%|          | 0/20000 [00:00<?, ?it/s]"
      ]
     },
     "metadata": {},
     "output_type": "display_data"
    },
    {
     "name": "stderr",
     "output_type": "stream",
     "text": [
      "INFO:root:V⁶ cache miss\n",
      "INFO:root:Solving basis for V⁶, for G=SO(5)\n"
     ]
    },
    {
     "data": {
      "application/vnd.jupyter.widget-view+json": {
       "model_id": "1614dfc6b24f4624857ed63f0b05a150",
       "version_major": 2,
       "version_minor": 0
      },
      "text/plain": [
       "Krylov Solving for Equivariant Subspace r<=10:   0%|          | 0/20000 [00:00<?, ?it/s]"
      ]
     },
     "metadata": {},
     "output_type": "display_data"
    },
    {
     "data": {
      "application/vnd.jupyter.widget-view+json": {
       "model_id": "6dacfbbb9f9d433c82ff5a05e9d65b97",
       "version_major": 2,
       "version_minor": 0
      },
      "text/plain": [
       "Krylov Solving for Equivariant Subspace r<=20:   0%|          | 0/20000 [00:00<?, ?it/s]"
      ]
     },
     "metadata": {},
     "output_type": "display_data"
    },
    {
     "name": "stderr",
     "output_type": "stream",
     "text": [
      "INFO:root:V⁶ cache miss\n",
      "INFO:root:Solving basis for V⁶, for G=SO(6)\n"
     ]
    },
    {
     "data": {
      "application/vnd.jupyter.widget-view+json": {
       "model_id": "b9cfc0c77275411d8add6490c99dfb21",
       "version_major": 2,
       "version_minor": 0
      },
      "text/plain": [
       "Krylov Solving for Equivariant Subspace r<=10:   0%|          | 0/20000 [00:00<?, ?it/s]"
      ]
     },
     "metadata": {},
     "output_type": "display_data"
    },
    {
     "data": {
      "application/vnd.jupyter.widget-view+json": {
       "model_id": "05f92f8663ee4fdf909bcdce887ff1fe",
       "version_major": 2,
       "version_minor": 0
      },
      "text/plain": [
       "Krylov Solving for Equivariant Subspace r<=20:   0%|          | 0/20000 [00:00<?, ?it/s]"
      ]
     },
     "metadata": {},
     "output_type": "display_data"
    },
    {
     "name": "stderr",
     "output_type": "stream",
     "text": [
      "INFO:root:V⁶ cache miss\n",
      "INFO:root:Solving basis for V⁶, for G=SO(7)\n"
     ]
    },
    {
     "data": {
      "application/vnd.jupyter.widget-view+json": {
       "model_id": "9c00b1f7e8934d3c9313dfd15aba123b",
       "version_major": 2,
       "version_minor": 0
      },
      "text/plain": [
       "Krylov Solving for Equivariant Subspace r<=10:   0%|          | 0/20000 [00:00<?, ?it/s]"
      ]
     },
     "metadata": {},
     "output_type": "display_data"
    },
    {
     "data": {
      "application/vnd.jupyter.widget-view+json": {
       "model_id": "634ea39ff99d41bab8daee56e8e233b1",
       "version_major": 2,
       "version_minor": 0
      },
      "text/plain": [
       "Krylov Solving for Equivariant Subspace r<=20:   0%|          | 0/20000 [00:00<?, ?it/s]"
      ]
     },
     "metadata": {},
     "output_type": "display_data"
    },
    {
     "name": "stderr",
     "output_type": "stream",
     "text": [
      "INFO:root:V⁷ cache miss\n",
      "INFO:root:Solving basis for V⁷, for G=SO(4)\n"
     ]
    },
    {
     "data": {
      "application/vnd.jupyter.widget-view+json": {
       "model_id": "91d674233d4d4bd886cdf5d7818d507d",
       "version_major": 2,
       "version_minor": 0
      },
      "text/plain": [
       "Krylov Solving for Equivariant Subspace r<=10:   0%|          | 0/20000 [00:00<?, ?it/s]"
      ]
     },
     "metadata": {},
     "output_type": "display_data"
    },
    {
     "name": "stderr",
     "output_type": "stream",
     "text": [
      "INFO:root:V⁷ cache miss\n",
      "INFO:root:Solving basis for V⁷, for G=SO(5)\n"
     ]
    },
    {
     "data": {
      "application/vnd.jupyter.widget-view+json": {
       "model_id": "1871302a4b9444509d46c3e503f013fc",
       "version_major": 2,
       "version_minor": 0
      },
      "text/plain": [
       "Krylov Solving for Equivariant Subspace r<=10:   0%|          | 0/20000 [00:00<?, ?it/s]"
      ]
     },
     "metadata": {},
     "output_type": "display_data"
    },
    {
     "data": {
      "application/vnd.jupyter.widget-view+json": {
       "model_id": "a49ff294de684c2b9379f1933e073c19",
       "version_major": 2,
       "version_minor": 0
      },
      "text/plain": [
       "Krylov Solving for Equivariant Subspace r<=20:   0%|          | 0/20000 [00:00<?, ?it/s]"
      ]
     },
     "metadata": {},
     "output_type": "display_data"
    },
    {
     "name": "stderr",
     "output_type": "stream",
     "text": [
      "INFO:root:V⁸ cache miss\n",
      "INFO:root:Solving basis for V⁸, for G=SO(4)\n"
     ]
    },
    {
     "data": {
      "application/vnd.jupyter.widget-view+json": {
       "model_id": "5e9b625bde8d494882005ddff4aa0ddf",
       "version_major": 2,
       "version_minor": 0
      },
      "text/plain": [
       "Krylov Solving for Equivariant Subspace r<=10:   0%|          | 0/20000 [00:00<?, ?it/s]"
      ]
     },
     "metadata": {},
     "output_type": "display_data"
    },
    {
     "data": {
      "application/vnd.jupyter.widget-view+json": {
       "model_id": "c8cdc2bbc7b74d8698792a67b27b9d0a",
       "version_major": 2,
       "version_minor": 0
      },
      "text/plain": [
       "Krylov Solving for Equivariant Subspace r<=20:   0%|          | 0/20000 [00:00<?, ?it/s]"
      ]
     },
     "metadata": {},
     "output_type": "display_data"
    },
    {
     "data": {
      "application/vnd.jupyter.widget-view+json": {
       "model_id": "cc4ab7e353f24ce69d21a90e431f4d8c",
       "version_major": 2,
       "version_minor": 0
      },
      "text/plain": [
       "Krylov Solving for Equivariant Subspace r<=40:   0%|          | 0/20000 [00:00<?, ?it/s]"
      ]
     },
     "metadata": {},
     "output_type": "display_data"
    },
    {
     "data": {
      "application/vnd.jupyter.widget-view+json": {
       "model_id": "116758378eb643ff9a1cc970586e929e",
       "version_major": 2,
       "version_minor": 0
      },
      "text/plain": [
       "Krylov Solving for Equivariant Subspace r<=80:   0%|          | 0/20000 [00:00<?, ?it/s]"
      ]
     },
     "metadata": {},
     "output_type": "display_data"
    },
    {
     "data": {
      "application/vnd.jupyter.widget-view+json": {
       "model_id": "0dc50ad67a8049cabdd7dc748e8ccc23",
       "version_major": 2,
       "version_minor": 0
      },
      "text/plain": [
       "Krylov Solving for Equivariant Subspace r<=160:   0%|          | 0/20000 [00:00<?, ?it/s]"
      ]
     },
     "metadata": {},
     "output_type": "display_data"
    },
    {
     "data": {
      "application/vnd.jupyter.widget-view+json": {
       "model_id": "4306b48081ea423fb74dd2e01160c924",
       "version_major": 2,
       "version_minor": 0
      },
      "text/plain": [
       "Krylov Solving for Equivariant Subspace r<=320:   0%|          | 0/20000 [00:00<?, ?it/s]"
      ]
     },
     "metadata": {},
     "output_type": "display_data"
    },
    {
     "name": "stdout",
     "output_type": "stream",
     "text": [
      "        n=2   n=3   n=4   n=5   n=6   n=7   n=8  b(k)\n",
      "     __________________________________________\n",
      " k=0|     1     1     1     1     1     1     1|   1\n",
      " k=1|     0     0     0     0     0     0     0|   1\n",
      " k=2|     2     1     1     1     1     1     1|   2\n",
      " k=3|     0     1     0     0     0     0     0|   5\n",
      " k=4|     6     3     4     3     3     3     3|  15\n",
      " k=5|     0     6     0     1     0     0     0|  52\n",
      " k=6|    20    15    25    15    16    15      | 203\n",
      " k=7|     0    36     0    15                  | 877\n",
      " k=8|    70    91   196                        |   0\n",
      "\n"
     ]
    }
   ],
   "source": [
    "\n",
    "bell_numbers = [1,1,2,5,15,52,203,877,0]\n",
    "k_max= 9\n",
    "n_max=9\n",
    "printstr = \"\"\n",
    "#with nocache():\n",
    "printstr+=\"       \"\n",
    "for n in range(2,n_max):\n",
    "    printstr+=\" n={:1d}\".format(n)\n",
    "    printstr+=\"  \"\n",
    "printstr+=\"b(k)\\n\"\n",
    "printstr+=\"     \"+\"______\"*(n_max-2)+\"\\n\"\n",
    "for k in range(k_max):\n",
    "\n",
    "    printstr+=\" k={:1d}|\".format(k)\n",
    "    for n in range(2,n_max):\n",
    "        printstr+=\"  \"\n",
    "        if n**k<200000: printstr+=\"{:4d}\".format(T(k)(SO(n)).equivariant_basis().shape[-1])\n",
    "        else: printstr+=\"    \"\n",
    "        \n",
    "        #print(f\"S{n} T({k}): {T(k)(Permutation(n)).symmetric_subspace()[0]}\")\n",
    "    printstr+=\"| {:3d}\\n\".format(bell_numbers[k])\n",
    "print(printstr)"
   ]
  },
  {
   "cell_type": "code",
   "execution_count": 2,
   "metadata": {},
   "outputs": [
    {
     "name": "stderr",
     "output_type": "stream",
     "text": [
      "INFO:root:V⁵ cache miss\n",
      "INFO:root:Solving basis for V⁵, for G=SO(6)\n"
     ]
    },
    {
     "data": {
      "application/vnd.jupyter.widget-view+json": {
       "model_id": "16ae47f957444ee0872eb74a2c88c5ec",
       "version_major": 2,
       "version_minor": 0
      },
      "text/plain": [
       "Krylov Solving for Equivariant Subspace r<=10:   0%|          | 0/20000 [00:00<?, ?it/s]"
      ]
     },
     "metadata": {},
     "output_type": "display_data"
    },
    {
     "data": {
      "text/plain": [
       "0"
      ]
     },
     "execution_count": 2,
     "metadata": {},
     "output_type": "execute_result"
    }
   ],
   "source": [
    "T(5)(SO(6)).equivariant_basis().shape[-1]"
   ]
  },
  {
   "cell_type": "code",
   "execution_count": 13,
   "metadata": {},
   "outputs": [
    {
     "name": "stdout",
     "output_type": "stream",
     "text": [
      "        n=1   n=2   n=3   n=4   n=5   n=6  b(k)\n",
      "     ______________________________\n",
      " k=0|     1     1     1     1     1     1|   1\n",
      " k=1|     0     0     0     0     0     0|   1\n",
      " k=2|     1     1     1     1     1     1|   2\n",
      " k=3|     0     0     0     0     0     0|   5\n",
      " k=4|     2     3     3     3     3     3|  15\n",
      " k=5|     0     0     0     0     0     0|  52\n",
      " k=6|     5    14    15    15            | 203\n",
      " k=7|     0     0     0                  | 877\n",
      " k=8|    14    84                        |   0\n",
      "\n"
     ]
    }
   ],
   "source": [
    "bell_numbers = [1,1,2,5,15,52,203,877,0,0]\n",
    "k_max= 9\n",
    "n_max=7\n",
    "printstr = \"\"\n",
    "#with nocache():\n",
    "printstr+=\"       \"\n",
    "for n in range(1,n_max):\n",
    "    printstr+=\" n={:1d}\".format(n)\n",
    "    printstr+=\"  \"\n",
    "printstr+=\"b(k)\\n\"\n",
    "printstr+=\"     \"+\"______\"*(n_max-2)+\"\\n\"\n",
    "for k in range(k_max):\n",
    "\n",
    "    printstr+=\" k={:1d}|\".format(k)\n",
    "    for n in range(1,n_max):\n",
    "        printstr+=\"  \"\n",
    "        if (2*n)**k<500000: printstr+=\"{:4d}\".format(T(k//2,(k+1)//2)(Symplectic(n)).equivariant_basis().shape[-1])\n",
    "        else: printstr+=\"    \"\n",
    "        \n",
    "        #print(f\"S{n} T({k}): {T(k)(Permutation(n)).symmetric_subspace()[0]}\")\n",
    "    printstr+=\"| {:3d}\\n\".format(bell_numbers[k])\n",
    "print(printstr)"
   ]
  },
  {
   "cell_type": "code",
   "execution_count": 14,
   "metadata": {},
   "outputs": [
    {
     "data": {
      "application/vnd.jupyter.widget-view+json": {
       "model_id": "27e9d0b147554da8b525a6d8c040a253",
       "version_major": 2,
       "version_minor": 0
      },
      "text/plain": [
       "Krylov Solving for Equivariant Subspace r<=10:   0%|          | 0/1000 [00:00<?, ?it/s]"
      ]
     },
     "metadata": {},
     "output_type": "display_data"
    },
    {
     "data": {
      "application/vnd.jupyter.widget-view+json": {
       "model_id": "6d6fbe6b46f04276b79f4e926c2626d8",
       "version_major": 2,
       "version_minor": 0
      },
      "text/plain": [
       "Krylov Solving for Equivariant Subspace r<=10:   0%|          | 0/1000 [00:00<?, ?it/s]"
      ]
     },
     "metadata": {},
     "output_type": "display_data"
    },
    {
     "name": "stderr",
     "output_type": "stream",
     "text": [
      "WARNING:root:Constraint solving diverged, trying lower learning rate 3.33e-03\n"
     ]
    },
    {
     "data": {
      "application/vnd.jupyter.widget-view+json": {
       "model_id": "c1a508ca44814f3290e3f77042e64441",
       "version_major": 2,
       "version_minor": 0
      },
      "text/plain": [
       "Krylov Solving for Equivariant Subspace r<=10:   0%|          | 0/1000 [00:00<?, ?it/s]"
      ]
     },
     "metadata": {},
     "output_type": "display_data"
    },
    {
     "name": "stderr",
     "output_type": "stream",
     "text": [
      "WARNING:root:Constraint solving diverged, trying lower learning rate 1.11e-03\n"
     ]
    },
    {
     "data": {
      "application/vnd.jupyter.widget-view+json": {
       "model_id": "d2ab06d292b84a76a97ebf2ebb817bc9",
       "version_major": 2,
       "version_minor": 0
      },
      "text/plain": [
       "Krylov Solving for Equivariant Subspace r<=10:   0%|          | 0/1000 [00:00<?, ?it/s]"
      ]
     },
     "metadata": {},
     "output_type": "display_data"
    },
    {
     "name": "stderr",
     "output_type": "stream",
     "text": [
      "WARNING:root:Constraint solving diverged, trying lower learning rate 3.70e-04\n"
     ]
    },
    {
     "data": {
      "application/vnd.jupyter.widget-view+json": {
       "model_id": "1b9320b42ae5412880e1d2589823ea01",
       "version_major": 2,
       "version_minor": 0
      },
      "text/plain": [
       "Krylov Solving for Equivariant Subspace r<=10:   0%|          | 0/1000 [00:00<?, ?it/s]"
      ]
     },
     "metadata": {},
     "output_type": "display_data"
    },
    {
     "data": {
      "application/vnd.jupyter.widget-view+json": {
       "model_id": "fc3f8693f559455a9d0fa0e5c629fdca",
       "version_major": 2,
       "version_minor": 0
      },
      "text/plain": [
       "Krylov Solving for Equivariant Subspace r<=10:   0%|          | 0/1000 [00:00<?, ?it/s]"
      ]
     },
     "metadata": {},
     "output_type": "display_data"
    },
    {
     "name": "stderr",
     "output_type": "stream",
     "text": [
      "WARNING:root:Constraint solving diverged, trying lower learning rate 3.33e-03\n"
     ]
    },
    {
     "data": {
      "application/vnd.jupyter.widget-view+json": {
       "model_id": "0bca012995c245959389c70c5d71e1a9",
       "version_major": 2,
       "version_minor": 0
      },
      "text/plain": [
       "Krylov Solving for Equivariant Subspace r<=10:   0%|          | 0/1000 [00:00<?, ?it/s]"
      ]
     },
     "metadata": {},
     "output_type": "display_data"
    },
    {
     "name": "stderr",
     "output_type": "stream",
     "text": [
      "WARNING:root:Constraint solving diverged, trying lower learning rate 1.11e-03\n"
     ]
    },
    {
     "data": {
      "application/vnd.jupyter.widget-view+json": {
       "model_id": "5accaca69cc14121b5b501350beadbff",
       "version_major": 2,
       "version_minor": 0
      },
      "text/plain": [
       "Krylov Solving for Equivariant Subspace r<=10:   0%|          | 0/1000 [00:00<?, ?it/s]"
      ]
     },
     "metadata": {},
     "output_type": "display_data"
    },
    {
     "name": "stderr",
     "output_type": "stream",
     "text": [
      "WARNING:root:Constraint solving diverged, trying lower learning rate 3.70e-04\n"
     ]
    },
    {
     "data": {
      "application/vnd.jupyter.widget-view+json": {
       "model_id": "6f358d5528134243a40fa70cd63d389d",
       "version_major": 2,
       "version_minor": 0
      },
      "text/plain": [
       "Krylov Solving for Equivariant Subspace r<=10:   0%|          | 0/1000 [00:00<?, ?it/s]"
      ]
     },
     "metadata": {},
     "output_type": "display_data"
    },
    {
     "data": {
      "application/vnd.jupyter.widget-view+json": {
       "model_id": "1e42824fa4604efc833fb410780b5132",
       "version_major": 2,
       "version_minor": 0
      },
      "text/plain": [
       "Krylov Solving for Equivariant Subspace r<=10:   0%|          | 0/1000 [00:00<?, ?it/s]"
      ]
     },
     "metadata": {},
     "output_type": "display_data"
    },
    {
     "data": {
      "application/vnd.jupyter.widget-view+json": {
       "model_id": "886944af1a1942f28354a6727b59fa1e",
       "version_major": 2,
       "version_minor": 0
      },
      "text/plain": [
       "Krylov Solving for Equivariant Subspace r<=10:   0%|          | 0/1000 [00:00<?, ?it/s]"
      ]
     },
     "metadata": {},
     "output_type": "display_data"
    },
    {
     "name": "stderr",
     "output_type": "stream",
     "text": [
      "WARNING:root:Constraint solving diverged, trying lower learning rate 3.33e-03\n"
     ]
    },
    {
     "data": {
      "application/vnd.jupyter.widget-view+json": {
       "model_id": "a3d4cf576b3745fdb61ac52ae694c072",
       "version_major": 2,
       "version_minor": 0
      },
      "text/plain": [
       "Krylov Solving for Equivariant Subspace r<=10:   0%|          | 0/1000 [00:00<?, ?it/s]"
      ]
     },
     "metadata": {},
     "output_type": "display_data"
    },
    {
     "name": "stderr",
     "output_type": "stream",
     "text": [
      "WARNING:root:Constraint solving diverged, trying lower learning rate 1.11e-03\n"
     ]
    },
    {
     "data": {
      "application/vnd.jupyter.widget-view+json": {
       "model_id": "6f46183624ef4b15bcefd33326d682b0",
       "version_major": 2,
       "version_minor": 0
      },
      "text/plain": [
       "Krylov Solving for Equivariant Subspace r<=10:   0%|          | 0/1000 [00:00<?, ?it/s]"
      ]
     },
     "metadata": {},
     "output_type": "display_data"
    },
    {
     "name": "stdout",
     "output_type": "stream",
     "text": [
      "        n=1   n=2   n=3   n=4   n=5   n=6  b(k)\n",
      "     ______________________________\n",
      " k=0|     1     1     1     1     1     1|   1\n",
      " k=1|     0     0     0     0     0     0|   1\n",
      " k=2|     1     1     1     1     1     1|   2\n",
      " k=3|     0     0     0     0     0     0|   5\n",
      " k=4|     1     2     2     2     2     2|  15\n",
      " k=5|     0     0     0     0     0     0|  52\n",
      " k=6|     1     5     6     6            | 203\n",
      " k=7|     0     0     0                  | 877\n",
      " k=8|     1    14                        |   0\n",
      "\n"
     ]
    }
   ],
   "source": [
    "bell_numbers = [1,1,2,5,15,52,203,877,0,0]\n",
    "k_max= 9\n",
    "n_max=7\n",
    "printstr = \"\"\n",
    "#with nocache():\n",
    "printstr+=\"       \"\n",
    "for n in range(1,n_max):\n",
    "    printstr+=\" n={:1d}\".format(n)\n",
    "    printstr+=\"  \"\n",
    "printstr+=\"b(k)\\n\"\n",
    "printstr+=\"     \"+\"______\"*(n_max-2)+\"\\n\"\n",
    "for k in range(k_max):\n",
    "\n",
    "    printstr+=\" k={:1d}|\".format(k)\n",
    "    for n in range(1,n_max):\n",
    "        printstr+=\"  \"\n",
    "        if (2*n)**k<500000: printstr+=\"{:4d}\".format(T(k//2,(k+1)//2)(U(n)).equivariant_basis().shape[-1])\n",
    "        else: printstr+=\"    \"\n",
    "        \n",
    "        #print(f\"S{n} T({k}): {T(k)(Permutation(n)).symmetric_subspace()[0]}\")\n",
    "    printstr+=\"| {:3d}\\n\".format(bell_numbers[k])\n",
    "print(printstr)"
   ]
  },
  {
   "cell_type": "code",
   "execution_count": 13,
   "metadata": {},
   "outputs": [
    {
     "name": "stdout",
     "output_type": "stream",
     "text": [
      "U2 T(3,0) 0\n",
      "U2 T(3,1) 2\n",
      "U2 T(3,2) 0\n",
      "U2 T(3,3) 5\n",
      "U2 T(4,0) 2\n",
      "U2 T(4,1) 0\n",
      "U2 T(4,2) 5\n",
      "U3 T(3,0) 1\n",
      "U3 T(3,1) 0\n",
      "U3 T(3,2) 0\n",
      "U3 T(3,3) 6\n",
      "U3 T(4,0) 0\n",
      "U3 T(4,1) 3\n",
      "U3 T(4,2) 0\n",
      "U4 T(3,0) 0\n",
      "U4 T(3,1) 0\n",
      "U4 T(3,2) 0\n",
      "U4 T(3,3) 6\n",
      "U4 T(4,0) 1\n",
      "U4 T(4,1) 0\n",
      "U4 T(4,2) 0\n",
      "U5 T(3,0) 0\n",
      "U5 T(3,1) 0\n",
      "U5 T(3,2) 0\n",
      "U5 T(4,0) 0\n",
      "U5 T(4,1) 0\n"
     ]
    }
   ],
   "source": [
    "kmax = 9\n",
    "nmax = 5\n",
    "for n in range(2,nmax+1):\n",
    "#     for k in range(1,kmax+1):\n",
    "#         for i in range(k+1):\n",
    "    for (p,q) in [(3,0),(3,1),(3,2),(3,3),(4,0),(4,1),(4,2)]:\n",
    "        if (2*n)**(p+q)<300000:\n",
    "            r = T(p,q)(SU(n)).equivariant_basis().shape[-1]\n",
    "            print(f\"U{n} T({p},{q}) {r}\")"
   ]
  },
  {
   "cell_type": "code",
   "execution_count": 30,
   "metadata": {},
   "outputs": [
    {
     "name": "stdout",
     "output_type": "stream",
     "text": [
      "1 0\n",
      "2 1\n",
      "3 0\n",
      "4 3\n",
      "5 0\n",
      "6 15\n"
     ]
    },
    {
     "data": {
      "application/vnd.jupyter.widget-view+json": {
       "model_id": "354b2286507d4bf2abb1c4fbc04f9db2",
       "version_major": 2,
       "version_minor": 0
      },
      "text/plain": [
       "Krylov Solving for Equivariant Subspace r<=10:   0%|          | 0/1000 [00:00<?, ?it/s]"
      ]
     },
     "metadata": {},
     "output_type": "display_data"
    },
    {
     "name": "stderr",
     "output_type": "stream",
     "text": [
      "WARNING:root:Constraint solving diverged, trying lower learning rate 3.33e-03\n"
     ]
    },
    {
     "data": {
      "application/vnd.jupyter.widget-view+json": {
       "model_id": "e32daea7d32841b3afa7a35a8584be33",
       "version_major": 2,
       "version_minor": 0
      },
      "text/plain": [
       "Krylov Solving for Equivariant Subspace r<=10:   0%|          | 0/1000 [00:00<?, ?it/s]"
      ]
     },
     "metadata": {},
     "output_type": "display_data"
    },
    {
     "name": "stderr",
     "output_type": "stream",
     "text": [
      "WARNING:root:Constraint solving diverged, trying lower learning rate 1.11e-03\n"
     ]
    },
    {
     "data": {
      "application/vnd.jupyter.widget-view+json": {
       "model_id": "6424f198ce5846fb94d38a472b933ae3",
       "version_major": 2,
       "version_minor": 0
      },
      "text/plain": [
       "Krylov Solving for Equivariant Subspace r<=10:   0%|          | 0/1000 [00:00<?, ?it/s]"
      ]
     },
     "metadata": {},
     "output_type": "display_data"
    },
    {
     "name": "stdout",
     "output_type": "stream",
     "text": [
      "7 0\n"
     ]
    },
    {
     "data": {
      "application/vnd.jupyter.widget-view+json": {
       "model_id": "1a46ae9485d241af8a2f815d69303643",
       "version_major": 2,
       "version_minor": 0
      },
      "text/plain": [
       "Krylov Solving for Equivariant Subspace r<=10:   0%|          | 0/1000 [00:00<?, ?it/s]"
      ]
     },
     "metadata": {},
     "output_type": "display_data"
    },
    {
     "data": {
      "application/vnd.jupyter.widget-view+json": {
       "model_id": "b7374bca8b9c4d7fa110477b9d1c4120",
       "version_major": 2,
       "version_minor": 0
      },
      "text/plain": [
       "Krylov Solving for Equivariant Subspace r<=20:   0%|          | 0/1000 [00:00<?, ?it/s]"
      ]
     },
     "metadata": {},
     "output_type": "display_data"
    },
    {
     "data": {
      "application/vnd.jupyter.widget-view+json": {
       "model_id": "b5f340140ca24f4e84446402d1acad8d",
       "version_major": 2,
       "version_minor": 0
      },
      "text/plain": [
       "Krylov Solving for Equivariant Subspace r<=40:   0%|          | 0/1000 [00:00<?, ?it/s]"
      ]
     },
     "metadata": {},
     "output_type": "display_data"
    },
    {
     "data": {
      "application/vnd.jupyter.widget-view+json": {
       "model_id": "600a7cb9679047eca0ee5f69599a723d",
       "version_major": 2,
       "version_minor": 0
      },
      "text/plain": [
       "Krylov Solving for Equivariant Subspace r<=80:   0%|          | 0/1000 [00:00<?, ?it/s]"
      ]
     },
     "metadata": {},
     "output_type": "display_data"
    },
    {
     "data": {
      "application/vnd.jupyter.widget-view+json": {
       "model_id": "9a7944ce050c44d695d7f95874db594b",
       "version_major": 2,
       "version_minor": 0
      },
      "text/plain": [
       "Krylov Solving for Equivariant Subspace r<=160:   0%|          | 0/1000 [00:00<?, ?it/s]"
      ]
     },
     "metadata": {},
     "output_type": "display_data"
    },
    {
     "name": "stdout",
     "output_type": "stream",
     "text": [
      "8 105\n"
     ]
    }
   ],
   "source": [
    "for i in range(1,9):\n",
    "    print(i,T(i)(O13()).equivariant_basis().shape[-1])"
   ]
  },
  {
   "cell_type": "code",
   "execution_count": 3,
   "metadata": {},
   "outputs": [
    {
     "data": {
      "application/vnd.jupyter.widget-view+json": {
       "model_id": "2c2ea0e447e640b3b130540db7e5b8eb",
       "version_major": 2,
       "version_minor": 0
      },
      "text/plain": [
       "Krylov Solving for Equivariant Subspace r<=10:   0%|          | 0/1000 [00:00<?, ?it/s]"
      ]
     },
     "metadata": {},
     "output_type": "display_data"
    },
    {
     "data": {
      "application/vnd.jupyter.widget-view+json": {
       "model_id": "661261030a384af4bdda1cc3d5c17554",
       "version_major": 2,
       "version_minor": 0
      },
      "text/plain": [
       "Krylov Solving for Equivariant Subspace r<=20:   0%|          | 0/1000 [00:00<?, ?it/s]"
      ]
     },
     "metadata": {},
     "output_type": "display_data"
    },
    {
     "data": {
      "application/vnd.jupyter.widget-view+json": {
       "model_id": "2632ddefda1d4222a31fbef63bf473c3",
       "version_major": 2,
       "version_minor": 0
      },
      "text/plain": [
       "Krylov Solving for Equivariant Subspace r<=40:   0%|          | 0/1000 [00:00<?, ?it/s]"
      ]
     },
     "metadata": {},
     "output_type": "display_data"
    },
    {
     "data": {
      "application/vnd.jupyter.widget-view+json": {
       "model_id": "4b8b58389a944ec18db1b036a4580fe4",
       "version_major": 2,
       "version_minor": 0
      },
      "text/plain": [
       "Krylov Solving for Equivariant Subspace r<=80:   0%|          | 0/1000 [00:00<?, ?it/s]"
      ]
     },
     "metadata": {},
     "output_type": "display_data"
    },
    {
     "data": {
      "application/vnd.jupyter.widget-view+json": {
       "model_id": "04c399a39a754e84a4812843e5c50ca6",
       "version_major": 2,
       "version_minor": 0
      },
      "text/plain": [
       "Krylov Solving for Equivariant Subspace r<=160:   0%|          | 0/1000 [00:00<?, ?it/s]"
      ]
     },
     "metadata": {},
     "output_type": "display_data"
    },
    {
     "data": {
      "application/vnd.jupyter.widget-view+json": {
       "model_id": "c1e14193d07142c8bd6a799a77cfa1db",
       "version_major": 2,
       "version_minor": 0
      },
      "text/plain": [
       "Krylov Solving for Equivariant Subspace r<=320:   0%|          | 0/1000 [00:00<?, ?it/s]"
      ]
     },
     "metadata": {},
     "output_type": "display_data"
    },
    {
     "data": {
      "application/vnd.jupyter.widget-view+json": {
       "model_id": "b21003abb32d458b88a42635c8ac7377",
       "version_major": 2,
       "version_minor": 0
      },
      "text/plain": [
       "Krylov Solving for Equivariant Subspace r<=10:   0%|          | 0/1000 [00:00<?, ?it/s]"
      ]
     },
     "metadata": {},
     "output_type": "display_data"
    },
    {
     "data": {
      "application/vnd.jupyter.widget-view+json": {
       "model_id": "e625c55a05ea4b258af0e872323236d0",
       "version_major": 2,
       "version_minor": 0
      },
      "text/plain": [
       "Krylov Solving for Equivariant Subspace r<=20:   0%|          | 0/1000 [00:00<?, ?it/s]"
      ]
     },
     "metadata": {},
     "output_type": "display_data"
    },
    {
     "data": {
      "application/vnd.jupyter.widget-view+json": {
       "model_id": "7c1ad796c9284dbdb00eac1a42e60ca6",
       "version_major": 2,
       "version_minor": 0
      },
      "text/plain": [
       "Krylov Solving for Equivariant Subspace r<=40:   0%|          | 0/1000 [00:00<?, ?it/s]"
      ]
     },
     "metadata": {},
     "output_type": "display_data"
    },
    {
     "data": {
      "application/vnd.jupyter.widget-view+json": {
       "model_id": "a2f1bb2826f4449382b1e59a3dd72dc7",
       "version_major": 2,
       "version_minor": 0
      },
      "text/plain": [
       "Krylov Solving for Equivariant Subspace r<=80:   0%|          | 0/1000 [00:00<?, ?it/s]"
      ]
     },
     "metadata": {},
     "output_type": "display_data"
    },
    {
     "data": {
      "application/vnd.jupyter.widget-view+json": {
       "model_id": "a328b273b755459ba36180d08307e3ba",
       "version_major": 2,
       "version_minor": 0
      },
      "text/plain": [
       "Krylov Solving for Equivariant Subspace r<=160:   0%|          | 0/1000 [00:00<?, ?it/s]"
      ]
     },
     "metadata": {},
     "output_type": "display_data"
    },
    {
     "data": {
      "application/vnd.jupyter.widget-view+json": {
       "model_id": "1602760358774ec0a1ae1461d10a9002",
       "version_major": 2,
       "version_minor": 0
      },
      "text/plain": [
       "Krylov Solving for Equivariant Subspace r<=320:   0%|          | 0/1000 [00:00<?, ?it/s]"
      ]
     },
     "metadata": {},
     "output_type": "display_data"
    },
    {
     "data": {
      "application/vnd.jupyter.widget-view+json": {
       "model_id": "7da7c9cbb0ad48fa8649f25868da5bec",
       "version_major": 2,
       "version_minor": 0
      },
      "text/plain": [
       "Krylov Solving for Equivariant Subspace r<=640:   0%|          | 0/1000 [00:00<?, ?it/s]"
      ]
     },
     "metadata": {},
     "output_type": "display_data"
    },
    {
     "data": {
      "application/vnd.jupyter.widget-view+json": {
       "model_id": "32d10c85054646f69ccad9c7f0e0f395",
       "version_major": 2,
       "version_minor": 0
      },
      "text/plain": [
       "Krylov Solving for Equivariant Subspace r<=1280:   0%|          | 0/1000 [00:00<?, ?it/s]"
      ]
     },
     "metadata": {},
     "output_type": "display_data"
    },
    {
     "name": "stdout",
     "output_type": "stream",
     "text": [
      "        n=2   n=3   n=4   n=5   n=6   n=7   n=8  b(k)\n",
      "     __________________________________________\n",
      " k=0|     1     1     1     1     1     1     1|   1\n",
      " k=1|     1     1     1     1     1     1     1|   1\n",
      " k=2|     2     2     2     2     2     2     2|   2\n",
      " k=3|     4     5     5     5     5     5     5|   5\n",
      " k=4|     8    14    15    15    15    15    15|  15\n",
      " k=5|    16    41    51    52    52    52    52|  52\n",
      " k=6|    32   122   187   202   203   203      | 203\n",
      " k=7|    64   365   715   855                  | 877\n",
      "\n"
     ]
    }
   ],
   "source": [
    "bell_numbers = [1,1,2,5,15,52,203,877]\n",
    "k_max= 8\n",
    "n_max=9\n",
    "printstr = \"\"\n",
    "#with nocache():\n",
    "printstr+=\"       \"\n",
    "for n in range(2,n_max):\n",
    "    printstr+=\" n={:1d}\".format(n)\n",
    "    printstr+=\"  \"\n",
    "printstr+=\"b(k)\\n\"\n",
    "printstr+=\"     \"+\"______\"*(n_max-2)+\"\\n\"\n",
    "for k in range(k_max):\n",
    "\n",
    "    printstr+=\" k={:1d}|\".format(k)\n",
    "    for n in range(2,n_max):\n",
    "        printstr+=\"  \"\n",
    "        if n**k<200000: printstr+=\"{:4d}\".format(T(k)(S(n)).equivariant_basis().shape[-1])\n",
    "        else: printstr+=\"    \"\n",
    "        \n",
    "        #print(f\"S{n} T({k}): {T(k)(Permutation(n)).symmetric_subspace()[0]}\")\n",
    "    printstr+=\"| {:3d}\\n\".format(bell_numbers[k])\n",
    "print(printstr)"
   ]
  },
  {
   "cell_type": "code",
   "execution_count": 75,
   "metadata": {},
   "outputs": [
    {
     "data": {
      "application/vnd.jupyter.widget-view+json": {
       "model_id": "86ccf95c60a14d39936c5fee59898202",
       "version_major": 2,
       "version_minor": 0
      },
      "text/plain": [
       "Krylov Solving for Equivariant Subspace r<=10:   0%|          | 0/1000 [00:00<?, ?it/s]"
      ]
     },
     "metadata": {},
     "output_type": "display_data"
    },
    {
     "data": {
      "application/vnd.jupyter.widget-view+json": {
       "model_id": "838f3e9bd60145a381e51982cb6982e4",
       "version_major": 2,
       "version_minor": 0
      },
      "text/plain": [
       "Krylov Solving for Equivariant Subspace r<=20:   0%|          | 0/1000 [00:00<?, ?it/s]"
      ]
     },
     "metadata": {},
     "output_type": "display_data"
    },
    {
     "data": {
      "application/vnd.jupyter.widget-view+json": {
       "model_id": "7524628dd1fe49bca162d6d7d698d9dd",
       "version_major": 2,
       "version_minor": 0
      },
      "text/plain": [
       "Krylov Solving for Equivariant Subspace r<=40:   0%|          | 0/1000 [00:00<?, ?it/s]"
      ]
     },
     "metadata": {},
     "output_type": "display_data"
    },
    {
     "data": {
      "application/vnd.jupyter.widget-view+json": {
       "model_id": "b20aa2a4813a40ddb1bb23b9bb8f9817",
       "version_major": 2,
       "version_minor": 0
      },
      "text/plain": [
       "Krylov Solving for Equivariant Subspace r<=80:   0%|          | 0/1000 [00:00<?, ?it/s]"
      ]
     },
     "metadata": {},
     "output_type": "display_data"
    },
    {
     "data": {
      "application/vnd.jupyter.widget-view+json": {
       "model_id": "0d3663276c8a4b2eaeac47e5550a9ed8",
       "version_major": 2,
       "version_minor": 0
      },
      "text/plain": [
       "Krylov Solving for Equivariant Subspace r<=160:   0%|          | 0/1000 [00:00<?, ?it/s]"
      ]
     },
     "metadata": {},
     "output_type": "display_data"
    },
    {
     "data": {
      "application/vnd.jupyter.widget-view+json": {
       "model_id": "2f24da5bbf3041599d8d6f4474d5f5f7",
       "version_major": 2,
       "version_minor": 0
      },
      "text/plain": [
       "Krylov Solving for Equivariant Subspace r<=320:   0%|          | 0/1000 [00:00<?, ?it/s]"
      ]
     },
     "metadata": {},
     "output_type": "display_data"
    },
    {
     "data": {
      "application/vnd.jupyter.widget-view+json": {
       "model_id": "fd0d58349311449ba92c1dab0f328da0",
       "version_major": 2,
       "version_minor": 0
      },
      "text/plain": [
       "Krylov Solving for Equivariant Subspace r<=640:   0%|          | 0/1000 [00:00<?, ?it/s]"
      ]
     },
     "metadata": {},
     "output_type": "display_data"
    },
    {
     "data": {
      "application/vnd.jupyter.widget-view+json": {
       "model_id": "c91cc82c380d4e72bf740cf93e0e4195",
       "version_major": 2,
       "version_minor": 0
      },
      "text/plain": [
       "Krylov Solving for Equivariant Subspace r<=1280:   0%|          | 0/1000 [00:00<?, ?it/s]"
      ]
     },
     "metadata": {},
     "output_type": "display_data"
    },
    {
     "data": {
      "application/vnd.jupyter.widget-view+json": {
       "model_id": "1edfe52d1eed4f939bb486ec59d18cb6",
       "version_major": 2,
       "version_minor": 0
      },
      "text/plain": [
       "Krylov Solving for Equivariant Subspace r<=2560:   0%|          | 0/1000 [00:00<?, ?it/s]"
      ]
     },
     "metadata": {},
     "output_type": "display_data"
    },
    {
     "data": {
      "application/vnd.jupyter.widget-view+json": {
       "model_id": "79bed38afff84758b0a887e11e576090",
       "version_major": 2,
       "version_minor": 0
      },
      "text/plain": [
       "Krylov Solving for Equivariant Subspace r<=10:   0%|          | 0/1000 [00:00<?, ?it/s]"
      ]
     },
     "metadata": {},
     "output_type": "display_data"
    },
    {
     "data": {
      "application/vnd.jupyter.widget-view+json": {
       "model_id": "e2d745c826e0499cb3a61190d641e25b",
       "version_major": 2,
       "version_minor": 0
      },
      "text/plain": [
       "Krylov Solving for Equivariant Subspace r<=20:   0%|          | 0/1000 [00:00<?, ?it/s]"
      ]
     },
     "metadata": {},
     "output_type": "display_data"
    },
    {
     "data": {
      "application/vnd.jupyter.widget-view+json": {
       "model_id": "af88bfee7ced4025809ecbf52a4c4558",
       "version_major": 2,
       "version_minor": 0
      },
      "text/plain": [
       "Krylov Solving for Equivariant Subspace r<=40:   0%|          | 0/1000 [00:00<?, ?it/s]"
      ]
     },
     "metadata": {},
     "output_type": "display_data"
    },
    {
     "data": {
      "application/vnd.jupyter.widget-view+json": {
       "model_id": "57e6ff2d6fd5441b8b719b8aa03c7372",
       "version_major": 2,
       "version_minor": 0
      },
      "text/plain": [
       "Krylov Solving for Equivariant Subspace r<=80:   0%|          | 0/1000 [00:00<?, ?it/s]"
      ]
     },
     "metadata": {},
     "output_type": "display_data"
    },
    {
     "data": {
      "application/vnd.jupyter.widget-view+json": {
       "model_id": "e4735de982ff43dca312deb6668f8556",
       "version_major": 2,
       "version_minor": 0
      },
      "text/plain": [
       "Krylov Solving for Equivariant Subspace r<=160:   0%|          | 0/1000 [00:00<?, ?it/s]"
      ]
     },
     "metadata": {},
     "output_type": "display_data"
    },
    {
     "data": {
      "application/vnd.jupyter.widget-view+json": {
       "model_id": "beab43039ac5474994a25536ef284247",
       "version_major": 2,
       "version_minor": 0
      },
      "text/plain": [
       "Krylov Solving for Equivariant Subspace r<=320:   0%|          | 0/1000 [00:00<?, ?it/s]"
      ]
     },
     "metadata": {},
     "output_type": "display_data"
    },
    {
     "data": {
      "application/vnd.jupyter.widget-view+json": {
       "model_id": "c30cc548e61c4e96aabd3e381c3364a9",
       "version_major": 2,
       "version_minor": 0
      },
      "text/plain": [
       "Krylov Solving for Equivariant Subspace r<=640:   0%|          | 0/1000 [00:00<?, ?it/s]"
      ]
     },
     "metadata": {},
     "output_type": "display_data"
    },
    {
     "data": {
      "application/vnd.jupyter.widget-view+json": {
       "model_id": "cee235fc2b114a83bfffcde56c37f582",
       "version_major": 2,
       "version_minor": 0
      },
      "text/plain": [
       "Krylov Solving for Equivariant Subspace r<=1280:   0%|          | 0/1000 [00:00<?, ?it/s]"
      ]
     },
     "metadata": {},
     "output_type": "display_data"
    },
    {
     "data": {
      "application/vnd.jupyter.widget-view+json": {
       "model_id": "3fa6da5a38c14dd5b8f83fcf352ebe79",
       "version_major": 2,
       "version_minor": 0
      },
      "text/plain": [
       "Krylov Solving for Equivariant Subspace r<=2560:   0%|          | 0/1000 [00:00<?, ?it/s]"
      ]
     },
     "metadata": {},
     "output_type": "display_data"
    },
    {
     "data": {
      "application/vnd.jupyter.widget-view+json": {
       "model_id": "12635d4e65f64355a2362eb488b1bbc3",
       "version_major": 2,
       "version_minor": 0
      },
      "text/plain": [
       "Krylov Solving for Equivariant Subspace r<=10:   0%|          | 0/1000 [00:00<?, ?it/s]"
      ]
     },
     "metadata": {},
     "output_type": "display_data"
    },
    {
     "data": {
      "application/vnd.jupyter.widget-view+json": {
       "model_id": "679307a427f747bd816cbe9b6bfe787c",
       "version_major": 2,
       "version_minor": 0
      },
      "text/plain": [
       "Krylov Solving for Equivariant Subspace r<=20:   0%|          | 0/1000 [00:00<?, ?it/s]"
      ]
     },
     "metadata": {},
     "output_type": "display_data"
    },
    {
     "data": {
      "application/vnd.jupyter.widget-view+json": {
       "model_id": "e9b0657ec1c04de9bba285f32e114bda",
       "version_major": 2,
       "version_minor": 0
      },
      "text/plain": [
       "Krylov Solving for Equivariant Subspace r<=40:   0%|          | 0/1000 [00:00<?, ?it/s]"
      ]
     },
     "metadata": {},
     "output_type": "display_data"
    },
    {
     "data": {
      "application/vnd.jupyter.widget-view+json": {
       "model_id": "2977ff3758ea46499e07ab88b18dce4c",
       "version_major": 2,
       "version_minor": 0
      },
      "text/plain": [
       "Krylov Solving for Equivariant Subspace r<=80:   0%|          | 0/1000 [00:00<?, ?it/s]"
      ]
     },
     "metadata": {},
     "output_type": "display_data"
    },
    {
     "data": {
      "application/vnd.jupyter.widget-view+json": {
       "model_id": "14e3097e6e39426ea5af3462f02115c2",
       "version_major": 2,
       "version_minor": 0
      },
      "text/plain": [
       "Krylov Solving for Equivariant Subspace r<=160:   0%|          | 0/1000 [00:00<?, ?it/s]"
      ]
     },
     "metadata": {},
     "output_type": "display_data"
    },
    {
     "data": {
      "application/vnd.jupyter.widget-view+json": {
       "model_id": "f564a1652ba24f2690734bbdc194539b",
       "version_major": 2,
       "version_minor": 0
      },
      "text/plain": [
       "Krylov Solving for Equivariant Subspace r<=320:   0%|          | 0/1000 [00:00<?, ?it/s]"
      ]
     },
     "metadata": {},
     "output_type": "display_data"
    },
    {
     "data": {
      "application/vnd.jupyter.widget-view+json": {
       "model_id": "dbcc53b06bb547b7a9ceb10f2a952aaf",
       "version_major": 2,
       "version_minor": 0
      },
      "text/plain": [
       "Krylov Solving for Equivariant Subspace r<=640:   0%|          | 0/1000 [00:00<?, ?it/s]"
      ]
     },
     "metadata": {},
     "output_type": "display_data"
    },
    {
     "data": {
      "application/vnd.jupyter.widget-view+json": {
       "model_id": "d0651a82cc7a48f29da4e0ca933a2af4",
       "version_major": 2,
       "version_minor": 0
      },
      "text/plain": [
       "Krylov Solving for Equivariant Subspace r<=1280:   0%|          | 0/1000 [00:00<?, ?it/s]"
      ]
     },
     "metadata": {},
     "output_type": "display_data"
    },
    {
     "data": {
      "application/vnd.jupyter.widget-view+json": {
       "model_id": "64e0064de4d5480aa60037e8e2ad9720",
       "version_major": 2,
       "version_minor": 0
      },
      "text/plain": [
       "Krylov Solving for Equivariant Subspace r<=2560:   0%|          | 0/1000 [00:00<?, ?it/s]"
      ]
     },
     "metadata": {},
     "output_type": "display_data"
    },
    {
     "data": {
      "application/vnd.jupyter.widget-view+json": {
       "model_id": "91f2a89b41b04997b94dc2128ad67fb4",
       "version_major": 2,
       "version_minor": 0
      },
      "text/plain": [
       "Krylov Solving for Equivariant Subspace r<=5120:   0%|          | 0/1000 [00:00<?, ?it/s]"
      ]
     },
     "metadata": {},
     "output_type": "display_data"
    },
    {
     "data": {
      "application/vnd.jupyter.widget-view+json": {
       "model_id": "7e3d49fd04b84642afaa4054d102da72",
       "version_major": 2,
       "version_minor": 0
      },
      "text/plain": [
       "Krylov Solving for Equivariant Subspace r<=10:   0%|          | 0/1000 [00:00<?, ?it/s]"
      ]
     },
     "metadata": {},
     "output_type": "display_data"
    },
    {
     "data": {
      "application/vnd.jupyter.widget-view+json": {
       "model_id": "21186b39f3ad4de881275e25e602f48e",
       "version_major": 2,
       "version_minor": 0
      },
      "text/plain": [
       "Krylov Solving for Equivariant Subspace r<=20:   0%|          | 0/1000 [00:00<?, ?it/s]"
      ]
     },
     "metadata": {},
     "output_type": "display_data"
    },
    {
     "data": {
      "application/vnd.jupyter.widget-view+json": {
       "model_id": "b1063874b36242c1aa5d5d76dda1a6ba",
       "version_major": 2,
       "version_minor": 0
      },
      "text/plain": [
       "Krylov Solving for Equivariant Subspace r<=40:   0%|          | 0/1000 [00:00<?, ?it/s]"
      ]
     },
     "metadata": {},
     "output_type": "display_data"
    },
    {
     "data": {
      "application/vnd.jupyter.widget-view+json": {
       "model_id": "033240bee32f4a91ad41a72928165f1d",
       "version_major": 2,
       "version_minor": 0
      },
      "text/plain": [
       "Krylov Solving for Equivariant Subspace r<=80:   0%|          | 0/1000 [00:00<?, ?it/s]"
      ]
     },
     "metadata": {},
     "output_type": "display_data"
    },
    {
     "data": {
      "application/vnd.jupyter.widget-view+json": {
       "model_id": "53b7a2d5cc51459d866d7e056c3ad389",
       "version_major": 2,
       "version_minor": 0
      },
      "text/plain": [
       "Krylov Solving for Equivariant Subspace r<=160:   0%|          | 0/1000 [00:00<?, ?it/s]"
      ]
     },
     "metadata": {},
     "output_type": "display_data"
    },
    {
     "data": {
      "application/vnd.jupyter.widget-view+json": {
       "model_id": "19c7e6a0603142a79450b881f3ba5195",
       "version_major": 2,
       "version_minor": 0
      },
      "text/plain": [
       "Krylov Solving for Equivariant Subspace r<=320:   0%|          | 0/1000 [00:00<?, ?it/s]"
      ]
     },
     "metadata": {},
     "output_type": "display_data"
    },
    {
     "data": {
      "application/vnd.jupyter.widget-view+json": {
       "model_id": "018b6125c8a347438b869d3120a49073",
       "version_major": 2,
       "version_minor": 0
      },
      "text/plain": [
       "Krylov Solving for Equivariant Subspace r<=640:   0%|          | 0/1000 [00:00<?, ?it/s]"
      ]
     },
     "metadata": {},
     "output_type": "display_data"
    },
    {
     "data": {
      "application/vnd.jupyter.widget-view+json": {
       "model_id": "9931dd0610a8485c8a037a980d77ffa7",
       "version_major": 2,
       "version_minor": 0
      },
      "text/plain": [
       "Krylov Solving for Equivariant Subspace r<=1280:   0%|          | 0/1000 [00:00<?, ?it/s]"
      ]
     },
     "metadata": {},
     "output_type": "display_data"
    },
    {
     "data": {
      "application/vnd.jupyter.widget-view+json": {
       "model_id": "f64b1c74b1684b7eb1eb4894394da7fe",
       "version_major": 2,
       "version_minor": 0
      },
      "text/plain": [
       "Krylov Solving for Equivariant Subspace r<=2560:   0%|          | 0/1000 [00:00<?, ?it/s]"
      ]
     },
     "metadata": {},
     "output_type": "display_data"
    },
    {
     "data": {
      "application/vnd.jupyter.widget-view+json": {
       "model_id": "a372efdb7bae43f785717ed0962eaf55",
       "version_major": 2,
       "version_minor": 0
      },
      "text/plain": [
       "Krylov Solving for Equivariant Subspace r<=5120:   0%|          | 0/1000 [00:00<?, ?it/s]"
      ]
     },
     "metadata": {},
     "output_type": "display_data"
    },
    {
     "name": "stdout",
     "output_type": "stream",
     "text": [
      "        n=2   n=3   n=4   n=5   n=6   n=7   n=8  b(k)\n",
      "     __________________________________________\n",
      " k=0|     1     1     1     1     1     1     1|   1\n",
      " k=1|     1     1     1     1     1     1     1|   1\n",
      " k=2|     2     3     4     5     6     7     8|   2\n",
      " k=3|     4     9    16    25    36    49    64|   5\n",
      " k=4|     8    27    64   125   216   343   512|  15\n",
      " k=5|    16    81   256   625  1296  2401      |  52\n",
      " k=6|    32   243  1024  3125                  | 203\n",
      " k=7|    64   729  4096                        | 877\n",
      "\n"
     ]
    }
   ],
   "source": [
    "bell_numbers = [1,1,2,5,15,52,203,877]\n",
    "k_max= 8\n",
    "n_max=9\n",
    "printstr = \"\"\n",
    "#with nocache():\n",
    "printstr+=\"       \"\n",
    "for n in range(2,n_max):\n",
    "    printstr+=\" n={:1d}\".format(n)\n",
    "    printstr+=\"  \"\n",
    "printstr+=\"b(k)\\n\"\n",
    "printstr+=\"     \"+\"______\"*(n_max-2)+\"\\n\"\n",
    "for k in range(k_max):\n",
    "\n",
    "    printstr+=\" k={:1d}|\".format(k)\n",
    "    for n in range(2,n_max):\n",
    "        printstr+=\"  \"\n",
    "        if n**k<20000: printstr+=\"{:4d}\".format(T(k)(Z(n)).equivariant_basis().shape[-1])\n",
    "        else: printstr+=\"    \"\n",
    "        \n",
    "        #print(f\"S{n} T({k}): {T(k)(Permutation(n)).symmetric_subspace()[0]}\")\n",
    "    printstr+=\"| {:3d}\\n\".format(bell_numbers[k])\n",
    "print(printstr)"
   ]
  },
  {
   "cell_type": "code",
   "execution_count": 1,
   "metadata": {},
   "outputs": [
    {
     "ename": "NameError",
     "evalue": "name 'T' is not defined",
     "output_type": "error",
     "traceback": [
      "\u001b[0;31m---------------------------------------------------------------------------\u001b[0m",
      "\u001b[0;31mNameError\u001b[0m                                 Traceback (most recent call last)",
      "\u001b[0;32m<ipython-input-1-afb701a2ae89>\u001b[0m in \u001b[0;36m<module>\u001b[0;34m\u001b[0m\n\u001b[1;32m     15\u001b[0m     \u001b[0;32mfor\u001b[0m \u001b[0mn\u001b[0m \u001b[0;32min\u001b[0m \u001b[0mrange\u001b[0m\u001b[0;34m(\u001b[0m\u001b[0;36m2\u001b[0m\u001b[0;34m,\u001b[0m\u001b[0mn_max\u001b[0m\u001b[0;34m)\u001b[0m\u001b[0;34m:\u001b[0m\u001b[0;34m\u001b[0m\u001b[0;34m\u001b[0m\u001b[0m\n\u001b[1;32m     16\u001b[0m         \u001b[0mprintstr\u001b[0m\u001b[0;34m+=\u001b[0m\u001b[0;34m\"  \"\u001b[0m\u001b[0;34m\u001b[0m\u001b[0;34m\u001b[0m\u001b[0m\n\u001b[0;32m---> 17\u001b[0;31m         \u001b[0;32mif\u001b[0m \u001b[0mn\u001b[0m\u001b[0;34m**\u001b[0m\u001b[0mk\u001b[0m\u001b[0;34m<\u001b[0m\u001b[0;36m20000\u001b[0m\u001b[0;34m:\u001b[0m \u001b[0mprintstr\u001b[0m\u001b[0;34m+=\u001b[0m\u001b[0;34m\"{:4d}\"\u001b[0m\u001b[0;34m.\u001b[0m\u001b[0mformat\u001b[0m\u001b[0;34m(\u001b[0m\u001b[0mT\u001b[0m\u001b[0;34m(\u001b[0m\u001b[0mk\u001b[0m\u001b[0;34m)\u001b[0m\u001b[0;34m(\u001b[0m\u001b[0mSO\u001b[0m\u001b[0;34m(\u001b[0m\u001b[0mn\u001b[0m\u001b[0;34m)\u001b[0m\u001b[0;34m)\u001b[0m\u001b[0;34m.\u001b[0m\u001b[0mequivariant_basis\u001b[0m\u001b[0;34m(\u001b[0m\u001b[0;34m)\u001b[0m\u001b[0;34m.\u001b[0m\u001b[0mshape\u001b[0m\u001b[0;34m[\u001b[0m\u001b[0;34m-\u001b[0m\u001b[0;36m1\u001b[0m\u001b[0;34m]\u001b[0m\u001b[0;34m)\u001b[0m\u001b[0;34m\u001b[0m\u001b[0;34m\u001b[0m\u001b[0m\n\u001b[0m\u001b[1;32m     18\u001b[0m         \u001b[0;32melse\u001b[0m\u001b[0;34m:\u001b[0m \u001b[0mprintstr\u001b[0m\u001b[0;34m+=\u001b[0m\u001b[0;34m\"    \"\u001b[0m\u001b[0;34m\u001b[0m\u001b[0;34m\u001b[0m\u001b[0m\n\u001b[1;32m     19\u001b[0m \u001b[0;34m\u001b[0m\u001b[0m\n",
      "\u001b[0;31mNameError\u001b[0m: name 'T' is not defined"
     ]
    }
   ],
   "source": [
    "bell_numbers = [1,1,2,5,15,52,203,877,0]\n",
    "k_max= 9\n",
    "n_max=9\n",
    "printstr = \"\"\n",
    "#with nocache():\n",
    "printstr+=\"       \"\n",
    "for n in range(2,n_max):\n",
    "    printstr+=\" n={:1d}\".format(n)\n",
    "    printstr+=\"  \"\n",
    "printstr+=\"b(k)\\n\"\n",
    "printstr+=\"     \"+\"______\"*(n_max-2)+\"\\n\"\n",
    "for k in range(k_max):\n",
    "\n",
    "    printstr+=\" k={:1d}|\".format(k)\n",
    "    for n in range(2,n_max):\n",
    "        printstr+=\"  \"\n",
    "        if n**k<20000: printstr+=\"{:4d}\".format(T(k)(SO(n)).equivariant_basis().shape[-1])\n",
    "        else: printstr+=\"    \"\n",
    "        \n",
    "        #print(f\"S{n} T({k}): {T(k)(Permutation(n)).symmetric_subspace()[0]}\")\n",
    "    printstr+=\"| {:3d}\\n\".format(bell_numbers[k])\n",
    "print(printstr)"
   ]
  },
  {
   "cell_type": "code",
   "execution_count": null,
   "metadata": {},
   "outputs": [
    {
     "name": "stderr",
     "output_type": "stream",
     "text": [
      "INFO:root:T(0, 0) cache miss\n",
      "INFO:root:Solving basis for T(0, 0), for G=Symplectic(2)\n",
      "INFO:root:T(0, 0) cache miss\n",
      "INFO:root:Solving basis for T(0, 0), for G=Symplectic(3)\n",
      "INFO:root:T(0, 0) cache miss\n",
      "INFO:root:Solving basis for T(0, 0), for G=Symplectic(4)\n",
      "INFO:root:T(0, 0) cache miss\n",
      "INFO:root:Solving basis for T(0, 0), for G=Symplectic(5)\n",
      "INFO:root:T(0, 0) cache miss\n",
      "INFO:root:Solving basis for T(0, 0), for G=Symplectic(6)\n",
      "INFO:root:T(0, 0) cache miss\n",
      "INFO:root:Solving basis for T(0, 0), for G=Symplectic(7)\n",
      "INFO:root:T(0, 0) cache miss\n",
      "INFO:root:Solving basis for T(0, 0), for G=Symplectic(8)\n",
      "INFO:root:T(1, 0) cache miss\n",
      "INFO:root:Solving basis for T(1, 0), for G=Symplectic(2)\n",
      "INFO:root:T(1, 0) cache miss\n",
      "INFO:root:Solving basis for T(1, 0), for G=Symplectic(3)\n",
      "INFO:root:T(1, 0) cache miss\n",
      "INFO:root:Solving basis for T(1, 0), for G=Symplectic(4)\n",
      "INFO:root:T(1, 0) cache miss\n",
      "INFO:root:Solving basis for T(1, 0), for G=Symplectic(5)\n",
      "INFO:root:T(1, 0) cache miss\n",
      "INFO:root:Solving basis for T(1, 0), for G=Symplectic(6)\n",
      "INFO:root:T(1, 0) cache miss\n",
      "INFO:root:Solving basis for T(1, 0), for G=Symplectic(7)\n",
      "INFO:root:T(1, 0) cache miss\n",
      "INFO:root:Solving basis for T(1, 0), for G=Symplectic(8)\n",
      "INFO:root:T(2, 0) cache miss\n",
      "INFO:root:Solving basis for T(2, 0), for G=Symplectic(2)\n",
      "INFO:root:T(2, 0) cache miss\n",
      "INFO:root:Solving basis for T(2, 0), for G=Symplectic(3)\n",
      "INFO:root:T(2, 0) cache miss\n",
      "INFO:root:Solving basis for T(2, 0), for G=Symplectic(4)\n",
      "INFO:root:T(2, 0) cache miss\n",
      "INFO:root:Solving basis for T(2, 0), for G=Symplectic(5)\n"
     ]
    }
   ],
   "source": [
    "bell_numbers = [1,1,2,5,15,52,203,877,0]\n",
    "k_max= 9\n",
    "n_max=9\n",
    "printstr = \"\"\n",
    "#with nocache():\n",
    "printstr+=\"       \"\n",
    "for n in range(2,n_max):\n",
    "    printstr+=\" n={:1d}\".format(n)\n",
    "    printstr+=\"  \"\n",
    "printstr+=\"b(k)\\n\"\n",
    "printstr+=\"     \"+\"______\"*(n_max-2)+\"\\n\"\n",
    "for k in range(k_max):\n",
    "\n",
    "    printstr+=\" k={:1d}|\".format(k)\n",
    "    for n in range(2,n_max):\n",
    "        printstr+=\"  \"\n",
    "        if n**k<2000: printstr+=\"{:4d}\".format(T(k)(Symplectic(n)).equivariant_basis().shape[-1])\n",
    "        else: printstr+=\"    \"\n",
    "        \n",
    "        #print(f\"S{n} T({k}): {T(k)(Permutation(n)).symmetric_subspace()[0]}\")\n",
    "    printstr+=\"| {:3d}\\n\".format(bell_numbers[k])\n",
    "print(printstr)"
   ]
  },
  {
   "cell_type": "code",
   "execution_count": 58,
   "metadata": {},
   "outputs": [],
   "source": [
    "from emlp_jax.equivariant_subspaces import sparsify_basis\n",
    "import matplotlib.pyplot as plt"
   ]
  },
  {
   "cell_type": "code",
   "execution_count": 114,
   "metadata": {},
   "outputs": [],
   "source": [
    "G = S(5)\n",
    "rep = T(4)(G)"
   ]
  },
  {
   "cell_type": "code",
   "execution_count": 115,
   "metadata": {},
   "outputs": [],
   "source": [
    "Q = rep.equivariant_basis()"
   ]
  },
  {
   "cell_type": "code",
   "execution_count": 156,
   "metadata": {},
   "outputs": [
    {
     "data": {
      "application/vnd.jupyter.widget-view+json": {
       "model_id": "aa67b8680e5f48c69d3d06acd62b3ae3",
       "version_major": 2,
       "version_minor": 0
      },
      "text/plain": [
       "sparsifying basis:   0%|          | 0/1000 [00:00<?, ?it/s]"
      ]
     },
     "metadata": {},
     "output_type": "display_data"
    }
   ],
   "source": [
    "A = sparsify_basis(Q)"
   ]
  },
  {
   "cell_type": "code",
   "execution_count": 157,
   "metadata": {},
   "outputs": [
    {
     "data": {
      "image/png": "[encoded data removed]",
      "text/plain": [
       "<Figure size 432x288 with 1 Axes>"
      ]
     },
     "metadata": {
      "needs_background": "light"
     },
     "output_type": "display_data"
    }
   ],
   "source": [
    "\n",
    "k = int(np.sqrt(A.shape[0]))\n",
    "plt.imshow(A.reshape((k,k)))#,cmap='Accent')\n",
    "plt.axis('off')\n",
    "plt.savefig(f\"{G}_{rep}_soln_new.pdf\", bbox_inches=\"tight\")"
   ]
  },
  {
   "cell_type": "code",
   "execution_count": 27,
   "metadata": {},
   "outputs": [],
   "source": [
    "#G = ZksZnxZn(2,3)\n",
    "G = ZnxZn(2)\n",
    "#G = S(7)\n",
    "#G= SO2eR3()\n",
    "#G = Z(5)\n",
    "#G=S(10)\n",
    "#G = RubiksCube()\n",
    "#G=SO(3)\n",
    "#G=SO13p()\n",
    "rep = T(2)(G)"
   ]
  },
  {
   "cell_type": "code",
   "execution_count": 6,
   "metadata": {},
   "outputs": [],
   "source": [
    "G1 = Z(2)\n",
    "G2 = Z(3)\n",
    "rep = T(2)(G1)*T(2)(G2)"
   ]
  },
  {
   "cell_type": "code",
   "execution_count": 7,
   "metadata": {},
   "outputs": [
    {
     "data": {
      "text/plain": [
       "T(2)⊗T(2)"
      ]
     },
     "execution_count": 7,
     "metadata": {},
     "output_type": "execute_result"
    }
   ],
   "source": [
    "rep"
   ]
  },
  {
   "cell_type": "code",
   "execution_count": 8,
   "metadata": {},
   "outputs": [],
   "source": [
    "Q = rep.equivariant_basis()"
   ]
  },
  {
   "cell_type": "code",
   "execution_count": 39,
   "metadata": {},
   "outputs": [],
   "source": [
    "#T(2)(G1).equivariant_basis().shape"
   ]
  },
  {
   "cell_type": "code",
   "execution_count": 9,
   "metadata": {},
   "outputs": [
    {
     "data": {
      "text/plain": [
       "(36, 6)"
      ]
     },
     "execution_count": 9,
     "metadata": {},
     "output_type": "execute_result"
    }
   ],
   "source": [
    "Q.shape"
   ]
  },
  {
   "cell_type": "code",
   "execution_count": 36,
   "metadata": {},
   "outputs": [
    {
     "data": {
      "text/plain": [
       "DeviceArray([[False, False, False, False, False,  True],\n",
       "             [False, False, False,  True, False, False],\n",
       "             [False, False, False, False,  True, False],\n",
       "             [False, False, False, False,  True, False],\n",
       "             [False, False, False, False, False,  True],\n",
       "             [False, False, False,  True, False, False],\n",
       "             [False, False, False,  True, False, False],\n",
       "             [False, False, False, False,  True, False],\n",
       "             [False, False, False, False, False,  True],\n",
       "             [False, False,  True, False, False, False],\n",
       "             [ True, False, False, False, False, False],\n",
       "             [False,  True, False, False, False, False],\n",
       "             [False,  True, False, False, False, False],\n",
       "             [False, False,  True, False, False, False],\n",
       "             [ True, False, False, False, False, False],\n",
       "             [ True, False, False, False, False, False],\n",
       "             [False,  True, False, False, False, False],\n",
       "             [False, False,  True, False, False, False],\n",
       "             [False, False,  True, False, False, False],\n",
       "             [ True, False, False, False, False, False],\n",
       "             [False,  True, False, False, False, False],\n",
       "             [False,  True, False, False, False, False],\n",
       "             [False, False,  True, False, False, False],\n",
       "             [ True, False, False, False, False, False],\n",
       "             [ True, False, False, False, False, False],\n",
       "             [False,  True, False, False, False, False],\n",
       "             [False, False,  True, False, False, False],\n",
       "             [False, False, False, False, False,  True],\n",
       "             [False, False, False,  True, False, False],\n",
       "             [False, False, False, False,  True, False],\n",
       "             [False, False, False, False,  True, False],\n",
       "             [False, False, False, False, False,  True],\n",
       "             [False, False, False,  True, False, False],\n",
       "             [False, False, False,  True, False, False],\n",
       "             [False, False, False, False,  True, False],\n",
       "             [False, False, False, False, False,  True]], dtype=bool)"
      ]
     },
     "execution_count": 36,
     "metadata": {},
     "output_type": "execute_result"
    }
   ],
   "source": [
    "(Q@np.eye(6)) >.05"
   ]
  },
  {
   "cell_type": "code",
   "execution_count": 37,
   "metadata": {},
   "outputs": [],
   "source": [
    "m = ((Q@np.eye(6))>.1)@jnp.arange(1,Q.shape[-1]+1)"
   ]
  },
  {
   "cell_type": "code",
   "execution_count": 47,
   "metadata": {},
   "outputs": [],
   "source": [
    "m = m.reshape(2,2,3,3).transpose((0,2,1,3))"
   ]
  },
  {
   "cell_type": "code",
   "execution_count": 48,
   "metadata": {},
   "outputs": [
    {
     "data": {
      "text/plain": [
       "<matplotlib.image.AxesImage at 0x7fb330038820>"
      ]
     },
     "execution_count": 48,
     "metadata": {},
     "output_type": "execute_result"
    },
    {
     "data": {
      "image/png": "[encoded data removed]",
      "text/plain": [
       "<Figure size 432x288 with 1 Axes>"
      ]
     },
     "metadata": {
      "needs_background": "light"
     },
     "output_type": "display_data"
    }
   ],
   "source": [
    "import matplotlib.pyplot as plt\n",
    "plt.imshow(m.reshape(6,6))"
   ]
  },
  {
   "cell_type": "code",
   "execution_count": 16,
   "metadata": {},
   "outputs": [],
   "source": [
    "x = np.random.randn(Q.shape[-1])"
   ]
  },
  {
   "cell_type": "code",
   "execution_count": 22,
   "metadata": {},
   "outputs": [
    {
     "data": {
      "application/vnd.jupyter.widget-view+json": {
       "model_id": "e24d1a4feeb44f99b26c5e68a61499e0",
       "version_major": 2,
       "version_minor": 0
      },
      "text/plain": [
       "sparsifying basis:   0%|          | 0/1000 [00:00<?, ?it/s]"
      ]
     },
     "metadata": {},
     "output_type": "display_data"
    },
    {
     "data": {
      "image/png": "[encoded data removed]",
      "text/plain": [
       "<Figure size 432x288 with 1 Axes>"
      ]
     },
     "metadata": {
      "needs_background": "light"
     },
     "output_type": "display_data"
    }
   ],
   "source": [
    "rep.visualize()"
   ]
  },
  {
   "cell_type": "code",
   "execution_count": 2,
   "metadata": {},
   "outputs": [],
   "source": [
    "G = RubiksCube()"
   ]
  },
  {
   "cell_type": "code",
   "execution_count": 5,
   "metadata": {},
   "outputs": [
    {
     "data": {
      "application/vnd.jupyter.widget-view+json": {
       "model_id": "f09f4fe1b7a04675adda1d96e6ec7144",
       "version_major": 2,
       "version_minor": 0
      },
      "text/plain": [
       "Krylov Solving for Equivariant Subspace r<=10:   0%|          | 0/1000 [00:00<?, ?it/s]"
      ]
     },
     "metadata": {},
     "output_type": "display_data"
    },
    {
     "data": {
      "application/vnd.jupyter.widget-view+json": {
       "model_id": "ace7cd8c6fea4d27bb6578b859fc9fe0",
       "version_major": 2,
       "version_minor": 0
      },
      "text/plain": [
       "Krylov Solving for Equivariant Subspace r<=20:   0%|          | 0/1000 [00:00<?, ?it/s]"
      ]
     },
     "metadata": {},
     "output_type": "display_data"
    },
    {
     "data": {
      "application/vnd.jupyter.widget-view+json": {
       "model_id": "0d84b3503709481d8540cb0e3ff6c047",
       "version_major": 2,
       "version_minor": 0
      },
      "text/plain": [
       "Krylov Solving for Equivariant Subspace r<=40:   0%|          | 0/1000 [00:00<?, ?it/s]"
      ]
     },
     "metadata": {},
     "output_type": "display_data"
    },
    {
     "ename": "RuntimeError",
     "evalue": "Resource exhausted: Out of memory while trying to allocate 10192158720 bytes.",
     "output_type": "error",
     "traceback": [
      "\u001b[0;31m---------------------------------------------------------------------------\u001b[0m",
      "\u001b[0;31mFilteredStackTrace\u001b[0m                        Traceback (most recent call last)",
      "\u001b[0;32m<ipython-input-5-2372d21a01ed>\u001b[0m in \u001b[0;36m<module>\u001b[0;34m\u001b[0m\n\u001b[1;32m      3\u001b[0m     \u001b[0mrep\u001b[0m \u001b[0;34m=\u001b[0m \u001b[0mT\u001b[0m\u001b[0;34m(\u001b[0m\u001b[0mr\u001b[0m\u001b[0;34m)\u001b[0m\u001b[0;34m(\u001b[0m\u001b[0mG\u001b[0m\u001b[0;34m)\u001b[0m\u001b[0;34m\u001b[0m\u001b[0;34m\u001b[0m\u001b[0m\n\u001b[0;32m----> 4\u001b[0;31m     \u001b[0mQ\u001b[0m \u001b[0;34m=\u001b[0m \u001b[0mrep\u001b[0m\u001b[0;34m.\u001b[0m\u001b[0mequivariant_basis\u001b[0m\u001b[0;34m(\u001b[0m\u001b[0;34m)\u001b[0m\u001b[0;34m\u001b[0m\u001b[0;34m\u001b[0m\u001b[0m\n\u001b[0m\u001b[1;32m      5\u001b[0m     \u001b[0mprint\u001b[0m\u001b[0;34m(\u001b[0m\u001b[0mr\u001b[0m\u001b[0;34m,\u001b[0m\u001b[0mQ\u001b[0m\u001b[0;34m.\u001b[0m\u001b[0mshape\u001b[0m\u001b[0;34m)\u001b[0m\u001b[0;34m\u001b[0m\u001b[0;34m\u001b[0m\u001b[0m\n",
      "\u001b[0;32m~/equivariant-MLP/emlp_jax/equivariant_subspaces.py\u001b[0m in \u001b[0;36mequivariant_basis\u001b[0;34m(self)\u001b[0m\n\u001b[1;32m     75\u001b[0m             \u001b[0;31m#TODO: make more extensible\u001b[0m\u001b[0;34m\u001b[0m\u001b[0;34m\u001b[0m\u001b[0;34m\u001b[0m\u001b[0m\n\u001b[0;32m---> 76\u001b[0;31m             \u001b[0;32mreturn\u001b[0m \u001b[0mkrylov_constraint_solve\u001b[0m\u001b[0;34m(\u001b[0m\u001b[0mtensor_constraints_lazy\u001b[0m\u001b[0;34m(\u001b[0m\u001b[0mself\u001b[0m\u001b[0;34m.\u001b[0m\u001b[0mG\u001b[0m\u001b[0;34m,\u001b[0m\u001b[0mself\u001b[0m\u001b[0;34m.\u001b[0m\u001b[0mrank\u001b[0m\u001b[0;34m)\u001b[0m\u001b[0;34m)\u001b[0m\u001b[0;34m\u001b[0m\u001b[0;34m\u001b[0m\u001b[0m\n\u001b[0m\u001b[1;32m     77\u001b[0m         \u001b[0;32melse\u001b[0m\u001b[0;34m:\u001b[0m\u001b[0;34m\u001b[0m\u001b[0;34m\u001b[0m\u001b[0m\n",
      "\u001b[0;32m~/equivariant-MLP/emlp_jax/equivariant_subspaces.py\u001b[0m in \u001b[0;36mkrylov_constraint_solve\u001b[0;34m(C, tol)\u001b[0m\n\u001b[1;32m    481\u001b[0m             \u001b[0;32mbreak\u001b[0m\u001b[0;34m\u001b[0m\u001b[0;34m\u001b[0m\u001b[0m\n\u001b[0;32m--> 482\u001b[0;31m         \u001b[0mQ\u001b[0m \u001b[0;34m=\u001b[0m \u001b[0mkrylov_constraint_solve_upto_r\u001b[0m\u001b[0;34m(\u001b[0m\u001b[0mC\u001b[0m\u001b[0;34m,\u001b[0m\u001b[0mr\u001b[0m\u001b[0;34m,\u001b[0m\u001b[0mtol\u001b[0m\u001b[0;34m)\u001b[0m\u001b[0;34m\u001b[0m\u001b[0;34m\u001b[0m\u001b[0m\n\u001b[0m\u001b[1;32m    483\u001b[0m         \u001b[0mfound_rank\u001b[0m \u001b[0;34m=\u001b[0m \u001b[0mQ\u001b[0m\u001b[0;34m.\u001b[0m\u001b[0mshape\u001b[0m\u001b[0;34m[\u001b[0m\u001b[0;34m-\u001b[0m\u001b[0;36m1\u001b[0m\u001b[0;34m]\u001b[0m\u001b[0;34m\u001b[0m\u001b[0;34m\u001b[0m\u001b[0m\n",
      "\u001b[0;32m~/equivariant-MLP/emlp_jax/equivariant_subspaces.py\u001b[0m in \u001b[0;36mkrylov_constraint_solve_upto_r\u001b[0;34m(C, r, tol, lr)\u001b[0m\n\u001b[1;32m    499\u001b[0m     \u001b[0;32mfor\u001b[0m \u001b[0mi\u001b[0m \u001b[0;32min\u001b[0m \u001b[0mtqdm\u001b[0m\u001b[0;34m(\u001b[0m\u001b[0mrange\u001b[0m\u001b[0;34m(\u001b[0m\u001b[0;36m1000\u001b[0m\u001b[0;34m)\u001b[0m\u001b[0;34m,\u001b[0m\u001b[0mdesc\u001b[0m\u001b[0;34m=\u001b[0m\u001b[0;34mf'Krylov Solving for Equivariant Subspace r<={r}'\u001b[0m\u001b[0;34m)\u001b[0m\u001b[0;34m:\u001b[0m\u001b[0;34m\u001b[0m\u001b[0;34m\u001b[0m\u001b[0m\n\u001b[0;32m--> 500\u001b[0;31m         \u001b[0mlossval\u001b[0m\u001b[0;34m,\u001b[0m \u001b[0mgrad\u001b[0m \u001b[0;34m=\u001b[0m \u001b[0mloss_and_grad\u001b[0m\u001b[0;34m(\u001b[0m\u001b[0mW\u001b[0m\u001b[0;34m)\u001b[0m\u001b[0;34m\u001b[0m\u001b[0;34m\u001b[0m\u001b[0m\n\u001b[0m\u001b[1;32m    501\u001b[0m         \u001b[0mupdates\u001b[0m\u001b[0;34m,\u001b[0m \u001b[0mopt_state\u001b[0m \u001b[0;34m=\u001b[0m \u001b[0mopt_update\u001b[0m\u001b[0;34m(\u001b[0m\u001b[0mgrad\u001b[0m\u001b[0;34m,\u001b[0m \u001b[0mopt_state\u001b[0m\u001b[0;34m,\u001b[0m \u001b[0mW\u001b[0m\u001b[0;34m)\u001b[0m\u001b[0;34m\u001b[0m\u001b[0;34m\u001b[0m\u001b[0m\n",
      "\u001b[0;31mFilteredStackTrace\u001b[0m: RuntimeError: Resource exhausted: Out of memory while trying to allocate 10192158720 bytes.\n\nThe stack trace above excludes JAX-internal frames.\nThe following is the original exception that occurred, unmodified.\n\n--------------------",
      "\nThe above exception was the direct cause of the following exception:\n",
      "\u001b[0;31mRuntimeError\u001b[0m                              Traceback (most recent call last)",
      "\u001b[0;32m<ipython-input-5-2372d21a01ed>\u001b[0m in \u001b[0;36m<module>\u001b[0;34m\u001b[0m\n\u001b[1;32m      2\u001b[0m     \u001b[0;31m#if 48**r>1000000: break\u001b[0m\u001b[0;34m\u001b[0m\u001b[0;34m\u001b[0m\u001b[0;34m\u001b[0m\u001b[0m\n\u001b[1;32m      3\u001b[0m     \u001b[0mrep\u001b[0m \u001b[0;34m=\u001b[0m \u001b[0mT\u001b[0m\u001b[0;34m(\u001b[0m\u001b[0mr\u001b[0m\u001b[0;34m)\u001b[0m\u001b[0;34m(\u001b[0m\u001b[0mG\u001b[0m\u001b[0;34m)\u001b[0m\u001b[0;34m\u001b[0m\u001b[0;34m\u001b[0m\u001b[0m\n\u001b[0;32m----> 4\u001b[0;31m     \u001b[0mQ\u001b[0m \u001b[0;34m=\u001b[0m \u001b[0mrep\u001b[0m\u001b[0;34m.\u001b[0m\u001b[0mequivariant_basis\u001b[0m\u001b[0;34m(\u001b[0m\u001b[0;34m)\u001b[0m\u001b[0;34m\u001b[0m\u001b[0;34m\u001b[0m\u001b[0m\n\u001b[0m\u001b[1;32m      5\u001b[0m     \u001b[0mprint\u001b[0m\u001b[0;34m(\u001b[0m\u001b[0mr\u001b[0m\u001b[0;34m,\u001b[0m\u001b[0mQ\u001b[0m\u001b[0;34m.\u001b[0m\u001b[0mshape\u001b[0m\u001b[0;34m)\u001b[0m\u001b[0;34m\u001b[0m\u001b[0;34m\u001b[0m\u001b[0m\n",
      "\u001b[0;32m~/equivariant-MLP/emlp_jax/equivariant_subspaces.py\u001b[0m in \u001b[0;36mequivariant_basis\u001b[0;34m(self)\u001b[0m\n\u001b[1;32m     74\u001b[0m         \u001b[0;32mif\u001b[0m \u001b[0;34m(\u001b[0m\u001b[0mself\u001b[0m\u001b[0;34m.\u001b[0m\u001b[0msize\u001b[0m\u001b[0;34m(\u001b[0m\u001b[0;34m)\u001b[0m\u001b[0;34m**\u001b[0m\u001b[0;36m2\u001b[0m\u001b[0;34m)\u001b[0m\u001b[0;34m*\u001b[0m\u001b[0mself\u001b[0m\u001b[0;34m.\u001b[0m\u001b[0mG\u001b[0m\u001b[0;34m.\u001b[0m\u001b[0mnum_constraints\u001b[0m\u001b[0;34m(\u001b[0m\u001b[0;34m)\u001b[0m\u001b[0;34m>\u001b[0m\u001b[0;36m3e7\u001b[0m \u001b[0;32mand\u001b[0m \u001b[0misinstance\u001b[0m\u001b[0;34m(\u001b[0m\u001b[0mself\u001b[0m\u001b[0;34m,\u001b[0m\u001b[0mTensorRep\u001b[0m\u001b[0;34m)\u001b[0m\u001b[0;34m:\u001b[0m \u001b[0;31m#Too large to use SVD\u001b[0m\u001b[0;34m\u001b[0m\u001b[0;34m\u001b[0m\u001b[0m\n\u001b[1;32m     75\u001b[0m             \u001b[0;31m#TODO: make more extensible\u001b[0m\u001b[0;34m\u001b[0m\u001b[0;34m\u001b[0m\u001b[0;34m\u001b[0m\u001b[0m\n\u001b[0;32m---> 76\u001b[0;31m             \u001b[0;32mreturn\u001b[0m \u001b[0mkrylov_constraint_solve\u001b[0m\u001b[0;34m(\u001b[0m\u001b[0mtensor_constraints_lazy\u001b[0m\u001b[0;34m(\u001b[0m\u001b[0mself\u001b[0m\u001b[0;34m.\u001b[0m\u001b[0mG\u001b[0m\u001b[0;34m,\u001b[0m\u001b[0mself\u001b[0m\u001b[0;34m.\u001b[0m\u001b[0mrank\u001b[0m\u001b[0;34m)\u001b[0m\u001b[0;34m)\u001b[0m\u001b[0;34m\u001b[0m\u001b[0;34m\u001b[0m\u001b[0m\n\u001b[0m\u001b[1;32m     77\u001b[0m         \u001b[0;32melse\u001b[0m\u001b[0;34m:\u001b[0m\u001b[0;34m\u001b[0m\u001b[0;34m\u001b[0m\u001b[0m\n\u001b[1;32m     78\u001b[0m             \u001b[0;32mreturn\u001b[0m \u001b[0morthogonal_complement\u001b[0m\u001b[0;34m(\u001b[0m\u001b[0mself\u001b[0m\u001b[0;34m.\u001b[0m\u001b[0mconstraint_matrix\u001b[0m\u001b[0;34m(\u001b[0m\u001b[0;34m)\u001b[0m\u001b[0;34m)\u001b[0m\u001b[0;34m\u001b[0m\u001b[0;34m\u001b[0m\u001b[0m\n",
      "\u001b[0;32m~/equivariant-MLP/emlp_jax/equivariant_subspaces.py\u001b[0m in \u001b[0;36mkrylov_constraint_solve\u001b[0;34m(C, tol)\u001b[0m\n\u001b[1;32m    480\u001b[0m             \u001b[0mlogging\u001b[0m\u001b[0;34m.\u001b[0m\u001b[0merror\u001b[0m\u001b[0;34m(\u001b[0m\u001b[0;34m\"Hit memory limits, switching to sample from equivariant subspace\"\u001b[0m\u001b[0;34m)\u001b[0m\u001b[0;34m\u001b[0m\u001b[0;34m\u001b[0m\u001b[0m\n\u001b[1;32m    481\u001b[0m             \u001b[0;32mbreak\u001b[0m\u001b[0;34m\u001b[0m\u001b[0;34m\u001b[0m\u001b[0m\n\u001b[0;32m--> 482\u001b[0;31m         \u001b[0mQ\u001b[0m \u001b[0;34m=\u001b[0m \u001b[0mkrylov_constraint_solve_upto_r\u001b[0m\u001b[0;34m(\u001b[0m\u001b[0mC\u001b[0m\u001b[0;34m,\u001b[0m\u001b[0mr\u001b[0m\u001b[0;34m,\u001b[0m\u001b[0mtol\u001b[0m\u001b[0;34m)\u001b[0m\u001b[0;34m\u001b[0m\u001b[0;34m\u001b[0m\u001b[0m\n\u001b[0m\u001b[1;32m    483\u001b[0m         \u001b[0mfound_rank\u001b[0m \u001b[0;34m=\u001b[0m \u001b[0mQ\u001b[0m\u001b[0;34m.\u001b[0m\u001b[0mshape\u001b[0m\u001b[0;34m[\u001b[0m\u001b[0;34m-\u001b[0m\u001b[0;36m1\u001b[0m\u001b[0;34m]\u001b[0m\u001b[0;34m\u001b[0m\u001b[0;34m\u001b[0m\u001b[0m\n\u001b[1;32m    484\u001b[0m     \u001b[0;32mreturn\u001b[0m \u001b[0mQ\u001b[0m\u001b[0;34m\u001b[0m\u001b[0;34m\u001b[0m\u001b[0m\n",
      "\u001b[0;32m~/equivariant-MLP/emlp_jax/equivariant_subspaces.py\u001b[0m in \u001b[0;36mkrylov_constraint_solve_upto_r\u001b[0;34m(C, r, tol, lr)\u001b[0m\n\u001b[1;32m    498\u001b[0m     \u001b[0;31m#lossvalues = []\u001b[0m\u001b[0;34m\u001b[0m\u001b[0;34m\u001b[0m\u001b[0;34m\u001b[0m\u001b[0m\n\u001b[1;32m    499\u001b[0m     \u001b[0;32mfor\u001b[0m \u001b[0mi\u001b[0m \u001b[0;32min\u001b[0m \u001b[0mtqdm\u001b[0m\u001b[0;34m(\u001b[0m\u001b[0mrange\u001b[0m\u001b[0;34m(\u001b[0m\u001b[0;36m1000\u001b[0m\u001b[0;34m)\u001b[0m\u001b[0;34m,\u001b[0m\u001b[0mdesc\u001b[0m\u001b[0;34m=\u001b[0m\u001b[0;34mf'Krylov Solving for Equivariant Subspace r<={r}'\u001b[0m\u001b[0;34m)\u001b[0m\u001b[0;34m:\u001b[0m\u001b[0;34m\u001b[0m\u001b[0;34m\u001b[0m\u001b[0m\n\u001b[0;32m--> 500\u001b[0;31m         \u001b[0mlossval\u001b[0m\u001b[0;34m,\u001b[0m \u001b[0mgrad\u001b[0m \u001b[0;34m=\u001b[0m \u001b[0mloss_and_grad\u001b[0m\u001b[0;34m(\u001b[0m\u001b[0mW\u001b[0m\u001b[0;34m)\u001b[0m\u001b[0;34m\u001b[0m\u001b[0;34m\u001b[0m\u001b[0m\n\u001b[0m\u001b[1;32m    501\u001b[0m         \u001b[0mupdates\u001b[0m\u001b[0;34m,\u001b[0m \u001b[0mopt_state\u001b[0m \u001b[0;34m=\u001b[0m \u001b[0mopt_update\u001b[0m\u001b[0;34m(\u001b[0m\u001b[0mgrad\u001b[0m\u001b[0;34m,\u001b[0m \u001b[0mopt_state\u001b[0m\u001b[0;34m,\u001b[0m \u001b[0mW\u001b[0m\u001b[0;34m)\u001b[0m\u001b[0;34m\u001b[0m\u001b[0;34m\u001b[0m\u001b[0m\n\u001b[1;32m    502\u001b[0m         \u001b[0mW\u001b[0m \u001b[0;34m=\u001b[0m \u001b[0moptax\u001b[0m\u001b[0;34m.\u001b[0m\u001b[0mapply_updates\u001b[0m\u001b[0;34m(\u001b[0m\u001b[0mW\u001b[0m\u001b[0;34m,\u001b[0m \u001b[0mupdates\u001b[0m\u001b[0;34m)\u001b[0m\u001b[0;34m\u001b[0m\u001b[0;34m\u001b[0m\u001b[0m\n",
      "\u001b[0;32m~/anaconda3/envs/freshenv/lib/python3.8/site-packages/jax/_src/traceback_util.py\u001b[0m in \u001b[0;36mreraise_with_filtered_traceback\u001b[0;34m(*args, **kwargs)\u001b[0m\n\u001b[1;32m    137\u001b[0m   \u001b[0;32mdef\u001b[0m \u001b[0mreraise_with_filtered_traceback\u001b[0m\u001b[0;34m(\u001b[0m\u001b[0;34m*\u001b[0m\u001b[0margs\u001b[0m\u001b[0;34m,\u001b[0m \u001b[0;34m**\u001b[0m\u001b[0mkwargs\u001b[0m\u001b[0;34m)\u001b[0m\u001b[0;34m:\u001b[0m\u001b[0;34m\u001b[0m\u001b[0;34m\u001b[0m\u001b[0m\n\u001b[1;32m    138\u001b[0m     \u001b[0;32mtry\u001b[0m\u001b[0;34m:\u001b[0m\u001b[0;34m\u001b[0m\u001b[0;34m\u001b[0m\u001b[0m\n\u001b[0;32m--> 139\u001b[0;31m       \u001b[0;32mreturn\u001b[0m \u001b[0mfun\u001b[0m\u001b[0;34m(\u001b[0m\u001b[0;34m*\u001b[0m\u001b[0margs\u001b[0m\u001b[0;34m,\u001b[0m \u001b[0;34m**\u001b[0m\u001b[0mkwargs\u001b[0m\u001b[0;34m)\u001b[0m\u001b[0;34m\u001b[0m\u001b[0;34m\u001b[0m\u001b[0m\n\u001b[0m\u001b[1;32m    140\u001b[0m     \u001b[0;32mexcept\u001b[0m \u001b[0mException\u001b[0m \u001b[0;32mas\u001b[0m \u001b[0me\u001b[0m\u001b[0;34m:\u001b[0m\u001b[0;34m\u001b[0m\u001b[0;34m\u001b[0m\u001b[0m\n\u001b[1;32m    141\u001b[0m       \u001b[0;32mif\u001b[0m \u001b[0;32mnot\u001b[0m \u001b[0mis_under_reraiser\u001b[0m\u001b[0;34m(\u001b[0m\u001b[0me\u001b[0m\u001b[0;34m)\u001b[0m\u001b[0;34m:\u001b[0m\u001b[0;34m\u001b[0m\u001b[0;34m\u001b[0m\u001b[0m\n",
      "\u001b[0;32m~/anaconda3/envs/freshenv/lib/python3.8/site-packages/jax/api.py\u001b[0m in \u001b[0;36mf_jitted\u001b[0;34m(*args, **kwargs)\u001b[0m\n\u001b[1;32m    369\u001b[0m         \u001b[0;32mreturn\u001b[0m \u001b[0mcache_miss\u001b[0m\u001b[0;34m(\u001b[0m\u001b[0;34m*\u001b[0m\u001b[0margs\u001b[0m\u001b[0;34m,\u001b[0m \u001b[0;34m**\u001b[0m\u001b[0mkwargs\u001b[0m\u001b[0;34m)\u001b[0m\u001b[0;34m[\u001b[0m\u001b[0;36m0\u001b[0m\u001b[0;34m]\u001b[0m  \u001b[0;31m# probably won't return\u001b[0m\u001b[0;34m\u001b[0m\u001b[0;34m\u001b[0m\u001b[0m\n\u001b[1;32m    370\u001b[0m     \u001b[0;32melse\u001b[0m\u001b[0;34m:\u001b[0m\u001b[0;34m\u001b[0m\u001b[0;34m\u001b[0m\u001b[0m\n\u001b[0;32m--> 371\u001b[0;31m       \u001b[0;32mreturn\u001b[0m \u001b[0mcpp_jitted_f\u001b[0m\u001b[0;34m(\u001b[0m\u001b[0;34m*\u001b[0m\u001b[0margs\u001b[0m\u001b[0;34m,\u001b[0m \u001b[0;34m**\u001b[0m\u001b[0mkwargs\u001b[0m\u001b[0;34m)\u001b[0m\u001b[0;34m\u001b[0m\u001b[0;34m\u001b[0m\u001b[0m\n\u001b[0m\u001b[1;32m    372\u001b[0m   \u001b[0mf_jitted\u001b[0m\u001b[0;34m.\u001b[0m\u001b[0m_cpp_jitted_f\u001b[0m \u001b[0;34m=\u001b[0m \u001b[0mcpp_jitted_f\u001b[0m\u001b[0;34m\u001b[0m\u001b[0;34m\u001b[0m\u001b[0m\n\u001b[1;32m    373\u001b[0m \u001b[0;34m\u001b[0m\u001b[0m\n",
      "\u001b[0;32m~/anaconda3/envs/freshenv/lib/python3.8/site-packages/jax/api.py\u001b[0m in \u001b[0;36mcache_miss\u001b[0;34m(*args, **kwargs)\u001b[0m\n\u001b[1;32m    276\u001b[0m       \u001b[0m_check_arg\u001b[0m\u001b[0;34m(\u001b[0m\u001b[0marg\u001b[0m\u001b[0;34m)\u001b[0m\u001b[0;34m\u001b[0m\u001b[0;34m\u001b[0m\u001b[0m\n\u001b[1;32m    277\u001b[0m     \u001b[0mflat_fun\u001b[0m\u001b[0;34m,\u001b[0m \u001b[0mout_tree\u001b[0m \u001b[0;34m=\u001b[0m \u001b[0mflatten_fun\u001b[0m\u001b[0;34m(\u001b[0m\u001b[0mf\u001b[0m\u001b[0;34m,\u001b[0m \u001b[0min_tree\u001b[0m\u001b[0;34m)\u001b[0m\u001b[0;34m\u001b[0m\u001b[0;34m\u001b[0m\u001b[0m\n\u001b[0;32m--> 278\u001b[0;31m     out_flat = xla.xla_call(\n\u001b[0m\u001b[1;32m    279\u001b[0m         \u001b[0mflat_fun\u001b[0m\u001b[0;34m,\u001b[0m\u001b[0;34m\u001b[0m\u001b[0;34m\u001b[0m\u001b[0m\n\u001b[1;32m    280\u001b[0m         \u001b[0;34m*\u001b[0m\u001b[0margs_flat\u001b[0m\u001b[0;34m,\u001b[0m\u001b[0;34m\u001b[0m\u001b[0;34m\u001b[0m\u001b[0m\n",
      "\u001b[0;32m~/anaconda3/envs/freshenv/lib/python3.8/site-packages/jax/core.py\u001b[0m in \u001b[0;36mbind\u001b[0;34m(self, fun, *args, **params)\u001b[0m\n\u001b[1;32m   1227\u001b[0m \u001b[0;34m\u001b[0m\u001b[0m\n\u001b[1;32m   1228\u001b[0m   \u001b[0;32mdef\u001b[0m \u001b[0mbind\u001b[0m\u001b[0;34m(\u001b[0m\u001b[0mself\u001b[0m\u001b[0;34m,\u001b[0m \u001b[0mfun\u001b[0m\u001b[0;34m,\u001b[0m \u001b[0;34m*\u001b[0m\u001b[0margs\u001b[0m\u001b[0;34m,\u001b[0m \u001b[0;34m**\u001b[0m\u001b[0mparams\u001b[0m\u001b[0;34m)\u001b[0m\u001b[0;34m:\u001b[0m\u001b[0;34m\u001b[0m\u001b[0;34m\u001b[0m\u001b[0m\n\u001b[0;32m-> 1229\u001b[0;31m     \u001b[0;32mreturn\u001b[0m \u001b[0mcall_bind\u001b[0m\u001b[0;34m(\u001b[0m\u001b[0mself\u001b[0m\u001b[0;34m,\u001b[0m \u001b[0mfun\u001b[0m\u001b[0;34m,\u001b[0m \u001b[0;34m*\u001b[0m\u001b[0margs\u001b[0m\u001b[0;34m,\u001b[0m \u001b[0;34m**\u001b[0m\u001b[0mparams\u001b[0m\u001b[0;34m)\u001b[0m\u001b[0;34m\u001b[0m\u001b[0;34m\u001b[0m\u001b[0m\n\u001b[0m\u001b[1;32m   1230\u001b[0m \u001b[0;34m\u001b[0m\u001b[0m\n\u001b[1;32m   1231\u001b[0m   \u001b[0;32mdef\u001b[0m \u001b[0mprocess\u001b[0m\u001b[0;34m(\u001b[0m\u001b[0mself\u001b[0m\u001b[0;34m,\u001b[0m \u001b[0mtrace\u001b[0m\u001b[0;34m,\u001b[0m \u001b[0mfun\u001b[0m\u001b[0;34m,\u001b[0m \u001b[0mtracers\u001b[0m\u001b[0;34m,\u001b[0m \u001b[0mparams\u001b[0m\u001b[0;34m)\u001b[0m\u001b[0;34m:\u001b[0m\u001b[0;34m\u001b[0m\u001b[0;34m\u001b[0m\u001b[0m\n",
      "\u001b[0;32m~/anaconda3/envs/freshenv/lib/python3.8/site-packages/jax/core.py\u001b[0m in \u001b[0;36mcall_bind\u001b[0;34m(primitive, fun, *args, **params)\u001b[0m\n\u001b[1;32m   1218\u001b[0m   \u001b[0mtracers\u001b[0m \u001b[0;34m=\u001b[0m \u001b[0mmap\u001b[0m\u001b[0;34m(\u001b[0m\u001b[0mtop_trace\u001b[0m\u001b[0;34m.\u001b[0m\u001b[0mfull_raise\u001b[0m\u001b[0;34m,\u001b[0m \u001b[0margs\u001b[0m\u001b[0;34m)\u001b[0m\u001b[0;34m\u001b[0m\u001b[0;34m\u001b[0m\u001b[0m\n\u001b[1;32m   1219\u001b[0m   \u001b[0;32mwith\u001b[0m \u001b[0mmaybe_new_sublevel\u001b[0m\u001b[0;34m(\u001b[0m\u001b[0mtop_trace\u001b[0m\u001b[0;34m)\u001b[0m\u001b[0;34m:\u001b[0m\u001b[0;34m\u001b[0m\u001b[0;34m\u001b[0m\u001b[0m\n\u001b[0;32m-> 1220\u001b[0;31m     \u001b[0mouts\u001b[0m \u001b[0;34m=\u001b[0m \u001b[0mprimitive\u001b[0m\u001b[0;34m.\u001b[0m\u001b[0mprocess\u001b[0m\u001b[0;34m(\u001b[0m\u001b[0mtop_trace\u001b[0m\u001b[0;34m,\u001b[0m \u001b[0mfun\u001b[0m\u001b[0;34m,\u001b[0m \u001b[0mtracers\u001b[0m\u001b[0;34m,\u001b[0m \u001b[0mparams\u001b[0m\u001b[0;34m)\u001b[0m\u001b[0;34m\u001b[0m\u001b[0;34m\u001b[0m\u001b[0m\n\u001b[0m\u001b[1;32m   1221\u001b[0m   \u001b[0;32mreturn\u001b[0m \u001b[0mmap\u001b[0m\u001b[0;34m(\u001b[0m\u001b[0mfull_lower\u001b[0m\u001b[0;34m,\u001b[0m \u001b[0mapply_todos\u001b[0m\u001b[0;34m(\u001b[0m\u001b[0menv_trace_todo\u001b[0m\u001b[0;34m(\u001b[0m\u001b[0;34m)\u001b[0m\u001b[0;34m,\u001b[0m \u001b[0mouts\u001b[0m\u001b[0;34m)\u001b[0m\u001b[0;34m)\u001b[0m\u001b[0;34m\u001b[0m\u001b[0;34m\u001b[0m\u001b[0m\n\u001b[1;32m   1222\u001b[0m \u001b[0;34m\u001b[0m\u001b[0m\n",
      "\u001b[0;32m~/anaconda3/envs/freshenv/lib/python3.8/site-packages/jax/core.py\u001b[0m in \u001b[0;36mprocess\u001b[0;34m(self, trace, fun, tracers, params)\u001b[0m\n\u001b[1;32m   1230\u001b[0m \u001b[0;34m\u001b[0m\u001b[0m\n\u001b[1;32m   1231\u001b[0m   \u001b[0;32mdef\u001b[0m \u001b[0mprocess\u001b[0m\u001b[0;34m(\u001b[0m\u001b[0mself\u001b[0m\u001b[0;34m,\u001b[0m \u001b[0mtrace\u001b[0m\u001b[0;34m,\u001b[0m \u001b[0mfun\u001b[0m\u001b[0;34m,\u001b[0m \u001b[0mtracers\u001b[0m\u001b[0;34m,\u001b[0m \u001b[0mparams\u001b[0m\u001b[0;34m)\u001b[0m\u001b[0;34m:\u001b[0m\u001b[0;34m\u001b[0m\u001b[0;34m\u001b[0m\u001b[0m\n\u001b[0;32m-> 1232\u001b[0;31m     \u001b[0;32mreturn\u001b[0m \u001b[0mtrace\u001b[0m\u001b[0;34m.\u001b[0m\u001b[0mprocess_call\u001b[0m\u001b[0;34m(\u001b[0m\u001b[0mself\u001b[0m\u001b[0;34m,\u001b[0m \u001b[0mfun\u001b[0m\u001b[0;34m,\u001b[0m \u001b[0mtracers\u001b[0m\u001b[0;34m,\u001b[0m \u001b[0mparams\u001b[0m\u001b[0;34m)\u001b[0m\u001b[0;34m\u001b[0m\u001b[0;34m\u001b[0m\u001b[0m\n\u001b[0m\u001b[1;32m   1233\u001b[0m \u001b[0;34m\u001b[0m\u001b[0m\n\u001b[1;32m   1234\u001b[0m   \u001b[0;32mdef\u001b[0m \u001b[0mpost_process\u001b[0m\u001b[0;34m(\u001b[0m\u001b[0mself\u001b[0m\u001b[0;34m,\u001b[0m \u001b[0mtrace\u001b[0m\u001b[0;34m,\u001b[0m \u001b[0mout_tracers\u001b[0m\u001b[0;34m,\u001b[0m \u001b[0mparams\u001b[0m\u001b[0;34m)\u001b[0m\u001b[0;34m:\u001b[0m\u001b[0;34m\u001b[0m\u001b[0;34m\u001b[0m\u001b[0m\n",
      "\u001b[0;32m~/anaconda3/envs/freshenv/lib/python3.8/site-packages/jax/core.py\u001b[0m in \u001b[0;36mprocess_call\u001b[0;34m(self, primitive, f, tracers, params)\u001b[0m\n\u001b[1;32m    596\u001b[0m \u001b[0;34m\u001b[0m\u001b[0m\n\u001b[1;32m    597\u001b[0m   \u001b[0;32mdef\u001b[0m \u001b[0mprocess_call\u001b[0m\u001b[0;34m(\u001b[0m\u001b[0mself\u001b[0m\u001b[0;34m,\u001b[0m \u001b[0mprimitive\u001b[0m\u001b[0;34m,\u001b[0m \u001b[0mf\u001b[0m\u001b[0;34m,\u001b[0m \u001b[0mtracers\u001b[0m\u001b[0;34m,\u001b[0m \u001b[0mparams\u001b[0m\u001b[0;34m)\u001b[0m\u001b[0;34m:\u001b[0m\u001b[0;34m\u001b[0m\u001b[0;34m\u001b[0m\u001b[0m\n\u001b[0;32m--> 598\u001b[0;31m     \u001b[0;32mreturn\u001b[0m \u001b[0mprimitive\u001b[0m\u001b[0;34m.\u001b[0m\u001b[0mimpl\u001b[0m\u001b[0;34m(\u001b[0m\u001b[0mf\u001b[0m\u001b[0;34m,\u001b[0m \u001b[0;34m*\u001b[0m\u001b[0mtracers\u001b[0m\u001b[0;34m,\u001b[0m \u001b[0;34m**\u001b[0m\u001b[0mparams\u001b[0m\u001b[0;34m)\u001b[0m\u001b[0;34m\u001b[0m\u001b[0;34m\u001b[0m\u001b[0m\n\u001b[0m\u001b[1;32m    599\u001b[0m   \u001b[0mprocess_map\u001b[0m \u001b[0;34m=\u001b[0m \u001b[0mprocess_call\u001b[0m\u001b[0;34m\u001b[0m\u001b[0;34m\u001b[0m\u001b[0m\n\u001b[1;32m    600\u001b[0m \u001b[0;34m\u001b[0m\u001b[0m\n",
      "\u001b[0;32m~/anaconda3/envs/freshenv/lib/python3.8/site-packages/jax/interpreters/xla.py\u001b[0m in \u001b[0;36m_xla_call_impl\u001b[0;34m(fun, device, backend, name, donated_invars, *args)\u001b[0m\n\u001b[1;32m    570\u001b[0m                                *unsafe_map(arg_spec, args))\n\u001b[1;32m    571\u001b[0m   \u001b[0;32mtry\u001b[0m\u001b[0;34m:\u001b[0m\u001b[0;34m\u001b[0m\u001b[0;34m\u001b[0m\u001b[0m\n\u001b[0;32m--> 572\u001b[0;31m     \u001b[0;32mreturn\u001b[0m \u001b[0mcompiled_fun\u001b[0m\u001b[0;34m(\u001b[0m\u001b[0;34m*\u001b[0m\u001b[0margs\u001b[0m\u001b[0;34m)\u001b[0m\u001b[0;34m\u001b[0m\u001b[0;34m\u001b[0m\u001b[0m\n\u001b[0m\u001b[1;32m    573\u001b[0m   \u001b[0;32mexcept\u001b[0m \u001b[0mFloatingPointError\u001b[0m\u001b[0;34m:\u001b[0m\u001b[0;34m\u001b[0m\u001b[0;34m\u001b[0m\u001b[0m\n\u001b[1;32m    574\u001b[0m     \u001b[0;32massert\u001b[0m \u001b[0mFLAGS\u001b[0m\u001b[0;34m.\u001b[0m\u001b[0mjax_debug_nans\u001b[0m  \u001b[0;31m# compiled_fun can only raise in this case\u001b[0m\u001b[0;34m\u001b[0m\u001b[0;34m\u001b[0m\u001b[0m\n",
      "\u001b[0;32m~/anaconda3/envs/freshenv/lib/python3.8/site-packages/jax/interpreters/xla.py\u001b[0m in \u001b[0;36m_execute_compiled\u001b[0;34m(compiled, avals, handlers, *args)\u001b[0m\n\u001b[1;32m    828\u001b[0m   \u001b[0mdevice\u001b[0m\u001b[0;34m,\u001b[0m \u001b[0;34m=\u001b[0m \u001b[0mcompiled\u001b[0m\u001b[0;34m.\u001b[0m\u001b[0mlocal_devices\u001b[0m\u001b[0;34m(\u001b[0m\u001b[0;34m)\u001b[0m\u001b[0;34m\u001b[0m\u001b[0;34m\u001b[0m\u001b[0m\n\u001b[1;32m    829\u001b[0m   \u001b[0minput_bufs\u001b[0m \u001b[0;34m=\u001b[0m \u001b[0mlist\u001b[0m\u001b[0;34m(\u001b[0m\u001b[0mit\u001b[0m\u001b[0;34m.\u001b[0m\u001b[0mchain\u001b[0m\u001b[0;34m.\u001b[0m\u001b[0mfrom_iterable\u001b[0m\u001b[0;34m(\u001b[0m\u001b[0mdevice_put\u001b[0m\u001b[0;34m(\u001b[0m\u001b[0mx\u001b[0m\u001b[0;34m,\u001b[0m \u001b[0mdevice\u001b[0m\u001b[0;34m)\u001b[0m \u001b[0;32mfor\u001b[0m \u001b[0mx\u001b[0m \u001b[0;32min\u001b[0m \u001b[0margs\u001b[0m \u001b[0;32mif\u001b[0m \u001b[0mx\u001b[0m \u001b[0;32mis\u001b[0m \u001b[0;32mnot\u001b[0m \u001b[0mtoken\u001b[0m\u001b[0;34m)\u001b[0m\u001b[0;34m)\u001b[0m\u001b[0;34m\u001b[0m\u001b[0;34m\u001b[0m\u001b[0m\n\u001b[0;32m--> 830\u001b[0;31m   \u001b[0mout_bufs\u001b[0m \u001b[0;34m=\u001b[0m \u001b[0mcompiled\u001b[0m\u001b[0;34m.\u001b[0m\u001b[0mexecute\u001b[0m\u001b[0;34m(\u001b[0m\u001b[0minput_bufs\u001b[0m\u001b[0;34m)\u001b[0m\u001b[0;34m\u001b[0m\u001b[0;34m\u001b[0m\u001b[0m\n\u001b[0m\u001b[1;32m    831\u001b[0m   \u001b[0;32mif\u001b[0m \u001b[0mFLAGS\u001b[0m\u001b[0;34m.\u001b[0m\u001b[0mjax_debug_nans\u001b[0m\u001b[0;34m:\u001b[0m \u001b[0mcheck_nans\u001b[0m\u001b[0;34m(\u001b[0m\u001b[0mxla_call_p\u001b[0m\u001b[0;34m,\u001b[0m \u001b[0mout_bufs\u001b[0m\u001b[0;34m)\u001b[0m\u001b[0;34m\u001b[0m\u001b[0;34m\u001b[0m\u001b[0m\n\u001b[1;32m    832\u001b[0m   \u001b[0;32mreturn\u001b[0m \u001b[0;34m[\u001b[0m\u001b[0mhandler\u001b[0m\u001b[0;34m(\u001b[0m\u001b[0;34m*\u001b[0m\u001b[0mbs\u001b[0m\u001b[0;34m)\u001b[0m \u001b[0;32mfor\u001b[0m \u001b[0mhandler\u001b[0m\u001b[0;34m,\u001b[0m \u001b[0mbs\u001b[0m \u001b[0;32min\u001b[0m \u001b[0mzip\u001b[0m\u001b[0;34m(\u001b[0m\u001b[0mhandlers\u001b[0m\u001b[0;34m,\u001b[0m \u001b[0m_partition_outputs\u001b[0m\u001b[0;34m(\u001b[0m\u001b[0mavals\u001b[0m\u001b[0;34m,\u001b[0m \u001b[0mout_bufs\u001b[0m\u001b[0;34m)\u001b[0m\u001b[0;34m)\u001b[0m\u001b[0;34m]\u001b[0m\u001b[0;34m\u001b[0m\u001b[0;34m\u001b[0m\u001b[0m\n",
      "\u001b[0;31mRuntimeError\u001b[0m: Resource exhausted: Out of memory while trying to allocate 10192158720 bytes."
     ]
    }
   ],
   "source": [
    "for r in [4]:\n",
    "    #if 48**r>1000000: break\n",
    "    rep = T(r)(G)\n",
    "    Q = rep.equivariant_basis()\n",
    "    print(r,Q.shape)"
   ]
  },
  {
   "cell_type": "code",
   "execution_count": 3,
   "metadata": {},
   "outputs": [
    {
     "data": {
      "application/vnd.jupyter.widget-view+json": {
       "model_id": "36e05a730c084d6dbd6ebedc8b4e392e",
       "version_major": 2,
       "version_minor": 0
      },
      "text/plain": [
       "Krylov Solving for Equivariant Subspace r<=10:   0%|          | 0/1000 [00:00<?, ?it/s]"
      ]
     },
     "metadata": {},
     "output_type": "display_data"
    },
    {
     "data": {
      "application/vnd.jupyter.widget-view+json": {
       "model_id": "9131bbc5c22b4ab9a74cebedfa2154f2",
       "version_major": 2,
       "version_minor": 0
      },
      "text/plain": [
       "Krylov Solving for Equivariant Subspace r<=20:   0%|          | 0/1000 [00:00<?, ?it/s]"
      ]
     },
     "metadata": {},
     "output_type": "display_data"
    },
    {
     "ename": "KeyboardInterrupt",
     "evalue": "",
     "output_type": "error",
     "traceback": [
      "\u001b[0;31m---------------------------------------------------------------------------\u001b[0m",
      "\u001b[0;31mKeyboardInterrupt\u001b[0m                         Traceback (most recent call last)",
      "\u001b[0;32m<ipython-input-3-805588875725>\u001b[0m in \u001b[0;36m<module>\u001b[0;34m\u001b[0m\n\u001b[0;32m----> 1\u001b[0;31m \u001b[0mT\u001b[0m\u001b[0;34m(\u001b[0m\u001b[0;36m4\u001b[0m\u001b[0;34m)\u001b[0m\u001b[0;34m(\u001b[0m\u001b[0mG\u001b[0m\u001b[0;34m)\u001b[0m\u001b[0;34m.\u001b[0m\u001b[0mequivariant_basis\u001b[0m\u001b[0;34m(\u001b[0m\u001b[0;34m)\u001b[0m\u001b[0;34m.\u001b[0m\u001b[0mshape\u001b[0m\u001b[0;34m\u001b[0m\u001b[0;34m\u001b[0m\u001b[0m\n\u001b[0m",
      "\u001b[0;32m~/equivariant-MLP/emlp_jax/equivariant_subspaces.py\u001b[0m in \u001b[0;36mequivariant_basis\u001b[0;34m(self)\u001b[0m\n\u001b[1;32m     74\u001b[0m         \u001b[0;32mif\u001b[0m \u001b[0;34m(\u001b[0m\u001b[0mself\u001b[0m\u001b[0;34m.\u001b[0m\u001b[0msize\u001b[0m\u001b[0;34m(\u001b[0m\u001b[0;34m)\u001b[0m\u001b[0;34m**\u001b[0m\u001b[0;36m2\u001b[0m\u001b[0;34m)\u001b[0m\u001b[0;34m*\u001b[0m\u001b[0mself\u001b[0m\u001b[0;34m.\u001b[0m\u001b[0mG\u001b[0m\u001b[0;34m.\u001b[0m\u001b[0mnum_constraints\u001b[0m\u001b[0;34m(\u001b[0m\u001b[0;34m)\u001b[0m\u001b[0;34m>\u001b[0m\u001b[0;36m3e7\u001b[0m \u001b[0;32mand\u001b[0m \u001b[0misinstance\u001b[0m\u001b[0;34m(\u001b[0m\u001b[0mself\u001b[0m\u001b[0;34m,\u001b[0m\u001b[0mTensorRep\u001b[0m\u001b[0;34m)\u001b[0m\u001b[0;34m:\u001b[0m \u001b[0;31m#Too large to use SVD\u001b[0m\u001b[0;34m\u001b[0m\u001b[0;34m\u001b[0m\u001b[0m\n\u001b[1;32m     75\u001b[0m             \u001b[0;31m#TODO: make more extensible\u001b[0m\u001b[0;34m\u001b[0m\u001b[0;34m\u001b[0m\u001b[0;34m\u001b[0m\u001b[0m\n\u001b[0;32m---> 76\u001b[0;31m             \u001b[0;32mreturn\u001b[0m \u001b[0mkrylov_constraint_solve\u001b[0m\u001b[0;34m(\u001b[0m\u001b[0mtensor_constraints_lazy\u001b[0m\u001b[0;34m(\u001b[0m\u001b[0mself\u001b[0m\u001b[0;34m.\u001b[0m\u001b[0mG\u001b[0m\u001b[0;34m,\u001b[0m\u001b[0mself\u001b[0m\u001b[0;34m.\u001b[0m\u001b[0mrank\u001b[0m\u001b[0;34m)\u001b[0m\u001b[0;34m)\u001b[0m\u001b[0;34m\u001b[0m\u001b[0;34m\u001b[0m\u001b[0m\n\u001b[0m\u001b[1;32m     77\u001b[0m         \u001b[0;32melse\u001b[0m\u001b[0;34m:\u001b[0m\u001b[0;34m\u001b[0m\u001b[0;34m\u001b[0m\u001b[0m\n\u001b[1;32m     78\u001b[0m             \u001b[0;32mreturn\u001b[0m \u001b[0morthogonal_complement\u001b[0m\u001b[0;34m(\u001b[0m\u001b[0mself\u001b[0m\u001b[0;34m.\u001b[0m\u001b[0mconstraint_matrix\u001b[0m\u001b[0;34m(\u001b[0m\u001b[0;34m)\u001b[0m\u001b[0;34m)\u001b[0m\u001b[0;34m\u001b[0m\u001b[0;34m\u001b[0m\u001b[0m\n",
      "\u001b[0;32m~/equivariant-MLP/emlp_jax/equivariant_subspaces.py\u001b[0m in \u001b[0;36mkrylov_constraint_solve\u001b[0;34m(C, tol)\u001b[0m\n\u001b[1;32m    480\u001b[0m             \u001b[0mlogging\u001b[0m\u001b[0;34m.\u001b[0m\u001b[0merror\u001b[0m\u001b[0;34m(\u001b[0m\u001b[0;34m\"Hit memory limits, switching to sample from equivariant subspace\"\u001b[0m\u001b[0;34m)\u001b[0m\u001b[0;34m\u001b[0m\u001b[0;34m\u001b[0m\u001b[0m\n\u001b[1;32m    481\u001b[0m             \u001b[0;32mbreak\u001b[0m\u001b[0;34m\u001b[0m\u001b[0;34m\u001b[0m\u001b[0m\n\u001b[0;32m--> 482\u001b[0;31m         \u001b[0mQ\u001b[0m \u001b[0;34m=\u001b[0m \u001b[0mkrylov_constraint_solve_upto_r\u001b[0m\u001b[0;34m(\u001b[0m\u001b[0mC\u001b[0m\u001b[0;34m,\u001b[0m\u001b[0mr\u001b[0m\u001b[0;34m,\u001b[0m\u001b[0mtol\u001b[0m\u001b[0;34m)\u001b[0m\u001b[0;34m\u001b[0m\u001b[0;34m\u001b[0m\u001b[0m\n\u001b[0m\u001b[1;32m    483\u001b[0m         \u001b[0mfound_rank\u001b[0m \u001b[0;34m=\u001b[0m \u001b[0mQ\u001b[0m\u001b[0;34m.\u001b[0m\u001b[0mshape\u001b[0m\u001b[0;34m[\u001b[0m\u001b[0;34m-\u001b[0m\u001b[0;36m1\u001b[0m\u001b[0;34m]\u001b[0m\u001b[0;34m\u001b[0m\u001b[0;34m\u001b[0m\u001b[0m\n\u001b[1;32m    484\u001b[0m     \u001b[0;32mreturn\u001b[0m \u001b[0mQ\u001b[0m\u001b[0;34m\u001b[0m\u001b[0;34m\u001b[0m\u001b[0m\n",
      "\u001b[0;32m~/equivariant-MLP/emlp_jax/equivariant_subspaces.py\u001b[0m in \u001b[0;36mkrylov_constraint_solve_upto_r\u001b[0;34m(C, r, tol, lr)\u001b[0m\n\u001b[1;32m    503\u001b[0m         \u001b[0mW\u001b[0m \u001b[0;34m/=\u001b[0m \u001b[0mjnp\u001b[0m\u001b[0;34m.\u001b[0m\u001b[0msqrt\u001b[0m\u001b[0;34m(\u001b[0m\u001b[0mjnp\u001b[0m\u001b[0;34m.\u001b[0m\u001b[0mabsolute\u001b[0m\u001b[0;34m(\u001b[0m\u001b[0mW\u001b[0m\u001b[0;34m**\u001b[0m\u001b[0;36m2\u001b[0m\u001b[0;34m)\u001b[0m\u001b[0;34m.\u001b[0m\u001b[0msum\u001b[0m\u001b[0;34m(\u001b[0m\u001b[0;36m0\u001b[0m\u001b[0;34m,\u001b[0m\u001b[0mkeepdims\u001b[0m\u001b[0;34m=\u001b[0m\u001b[0;32mTrue\u001b[0m\u001b[0;34m)\u001b[0m\u001b[0;34m)\u001b[0m\u001b[0;34m\u001b[0m\u001b[0;34m\u001b[0m\u001b[0m\n\u001b[1;32m    504\u001b[0m         \u001b[0;31m#lossvalues.append(lossval)\u001b[0m\u001b[0;34m\u001b[0m\u001b[0;34m\u001b[0m\u001b[0;34m\u001b[0m\u001b[0m\n\u001b[0;32m--> 505\u001b[0;31m         \u001b[0;32mif\u001b[0m \u001b[0mlossval\u001b[0m \u001b[0;34m<\u001b[0m\u001b[0mtol\u001b[0m\u001b[0;34m**\u001b[0m\u001b[0;36m2\u001b[0m\u001b[0;34m:\u001b[0m \u001b[0;32mbreak\u001b[0m\u001b[0;34m\u001b[0m\u001b[0;34m\u001b[0m\u001b[0m\n\u001b[0m\u001b[1;32m    506\u001b[0m         \u001b[0;32mif\u001b[0m \u001b[0mlossval\u001b[0m\u001b[0;34m>\u001b[0m\u001b[0;36m1e2\u001b[0m \u001b[0;32mand\u001b[0m \u001b[0mi\u001b[0m\u001b[0;34m>\u001b[0m\u001b[0;36m100\u001b[0m\u001b[0;34m:\u001b[0m \u001b[0;31m# Solve diverged due to too high learning rate\u001b[0m\u001b[0;34m\u001b[0m\u001b[0;34m\u001b[0m\u001b[0m\n\u001b[1;32m    507\u001b[0m             \u001b[0mlogging\u001b[0m\u001b[0;34m.\u001b[0m\u001b[0mwarning\u001b[0m\u001b[0;34m(\u001b[0m\u001b[0;34mf\"Constraint solving diverged, trying lower learning rate {lr/3:.2e}\"\u001b[0m\u001b[0;34m)\u001b[0m\u001b[0;34m\u001b[0m\u001b[0;34m\u001b[0m\u001b[0m\n",
      "\u001b[0;32m~/anaconda3/envs/freshenv/lib/python3.8/site-packages/jax/interpreters/xla.py\u001b[0m in \u001b[0;36m_forward_method\u001b[0;34m(attrname, self, fun, *args)\u001b[0m\n\u001b[1;32m    999\u001b[0m \u001b[0;34m\u001b[0m\u001b[0m\n\u001b[1;32m   1000\u001b[0m \u001b[0;32mdef\u001b[0m \u001b[0m_forward_method\u001b[0m\u001b[0;34m(\u001b[0m\u001b[0mattrname\u001b[0m\u001b[0;34m,\u001b[0m \u001b[0mself\u001b[0m\u001b[0;34m,\u001b[0m \u001b[0mfun\u001b[0m\u001b[0;34m,\u001b[0m \u001b[0;34m*\u001b[0m\u001b[0margs\u001b[0m\u001b[0;34m)\u001b[0m\u001b[0;34m:\u001b[0m\u001b[0;34m\u001b[0m\u001b[0;34m\u001b[0m\u001b[0m\n\u001b[0;32m-> 1001\u001b[0;31m   \u001b[0;32mreturn\u001b[0m \u001b[0mfun\u001b[0m\u001b[0;34m(\u001b[0m\u001b[0mgetattr\u001b[0m\u001b[0;34m(\u001b[0m\u001b[0mself\u001b[0m\u001b[0;34m,\u001b[0m \u001b[0mattrname\u001b[0m\u001b[0;34m)\u001b[0m\u001b[0;34m,\u001b[0m \u001b[0;34m*\u001b[0m\u001b[0margs\u001b[0m\u001b[0;34m)\u001b[0m\u001b[0;34m\u001b[0m\u001b[0;34m\u001b[0m\u001b[0m\n\u001b[0m\u001b[1;32m   1002\u001b[0m \u001b[0m_forward_to_value\u001b[0m \u001b[0;34m=\u001b[0m \u001b[0mpartial\u001b[0m\u001b[0;34m(\u001b[0m\u001b[0m_forward_method\u001b[0m\u001b[0;34m,\u001b[0m \u001b[0;34m\"_value\"\u001b[0m\u001b[0;34m)\u001b[0m\u001b[0;34m\u001b[0m\u001b[0;34m\u001b[0m\u001b[0m\n\u001b[1;32m   1003\u001b[0m \u001b[0;34m\u001b[0m\u001b[0m\n",
      "\u001b[0;32m~/anaconda3/envs/freshenv/lib/python3.8/site-packages/jax/interpreters/xla.py\u001b[0m in \u001b[0;36m_value\u001b[0;34m(self)\u001b[0m\n\u001b[1;32m   1110\u001b[0m         \u001b[0mself\u001b[0m\u001b[0;34m.\u001b[0m\u001b[0m_npy_value\u001b[0m \u001b[0;34m=\u001b[0m \u001b[0mlazy\u001b[0m\u001b[0;34m.\u001b[0m\u001b[0meval_lexpr\u001b[0m\u001b[0;34m(\u001b[0m\u001b[0mself\u001b[0m\u001b[0;34m.\u001b[0m\u001b[0m_lazy_expr\u001b[0m\u001b[0;34m,\u001b[0m \u001b[0;32mNone\u001b[0m\u001b[0;34m)\u001b[0m\u001b[0;34m\u001b[0m\u001b[0;34m\u001b[0m\u001b[0m\n\u001b[1;32m   1111\u001b[0m       \u001b[0;32melse\u001b[0m\u001b[0;34m:\u001b[0m\u001b[0;34m\u001b[0m\u001b[0;34m\u001b[0m\u001b[0m\n\u001b[0;32m-> 1112\u001b[0;31m         \u001b[0mself\u001b[0m\u001b[0;34m.\u001b[0m\u001b[0m_npy_value\u001b[0m \u001b[0;34m=\u001b[0m \u001b[0m_force\u001b[0m\u001b[0;34m(\u001b[0m\u001b[0mself\u001b[0m\u001b[0;34m)\u001b[0m\u001b[0;34m.\u001b[0m\u001b[0mdevice_buffer\u001b[0m\u001b[0;34m.\u001b[0m\u001b[0mto_py\u001b[0m\u001b[0;34m(\u001b[0m\u001b[0;34m)\u001b[0m\u001b[0;34m\u001b[0m\u001b[0;34m\u001b[0m\u001b[0m\n\u001b[0m\u001b[1;32m   1113\u001b[0m       \u001b[0mself\u001b[0m\u001b[0;34m.\u001b[0m\u001b[0m_npy_value\u001b[0m\u001b[0;34m.\u001b[0m\u001b[0mflags\u001b[0m\u001b[0;34m.\u001b[0m\u001b[0mwriteable\u001b[0m \u001b[0;34m=\u001b[0m \u001b[0;32mFalse\u001b[0m\u001b[0;34m\u001b[0m\u001b[0;34m\u001b[0m\u001b[0m\n\u001b[1;32m   1114\u001b[0m     \u001b[0;32mreturn\u001b[0m \u001b[0mself\u001b[0m\u001b[0;34m.\u001b[0m\u001b[0m_npy_value\u001b[0m\u001b[0;34m\u001b[0m\u001b[0;34m\u001b[0m\u001b[0m\n",
      "\u001b[0;31mKeyboardInterrupt\u001b[0m: "
     ]
    }
   ],
   "source": [
    "T(4)(G).equivariant_basis().shape"
   ]
  },
  {
   "cell_type": "code",
   "execution_count": 93,
   "metadata": {},
   "outputs": [
    {
     "data": {
      "text/plain": [
       "DeviceArray([[16, 17, 18,  3,  4,  5,  6,  7, 10, 12, 15,  9, 14,  8, 11,\n",
       "              13, 40, 41, 42, 19, 20, 21, 22, 23, 24, 25, 26, 27, 28, 29,\n",
       "              30, 31,  0,  1,  2, 35, 36, 37, 38, 39, 32, 33, 34, 43, 44,\n",
       "              45, 46, 47],\n",
       "             [32, 33, 34,  3,  4,  5,  6,  7,  8,  9, 10, 11, 12, 13, 14,\n",
       "              15,  0,  1,  2, 19, 20, 21, 22, 23, 26, 28, 31, 25, 30, 24,\n",
       "              27, 29, 40, 41, 42, 35, 36, 37, 38, 39, 16, 17, 18, 43, 44,\n",
       "              45, 46, 47],\n",
       "             [ 2,  4,  7,  1,  6,  0,  3,  5, 32, 33, 34, 11, 12, 13, 14,\n",
       "              15,  8,  9, 10, 19, 20, 21, 22, 23, 16, 17, 18, 27, 28, 29,\n",
       "              30, 31, 24, 25, 26, 35, 36, 37, 38, 39, 40, 41, 42, 43, 44,\n",
       "              45, 46, 47],\n",
       "             [ 0,  1,  2,  3,  4,  5,  6,  7, 16, 17, 18, 11, 12, 13, 14,\n",
       "              15, 24, 25, 26, 19, 20, 21, 22, 23, 32, 33, 34, 27, 28, 29,\n",
       "              30, 31,  8,  9, 10, 35, 36, 37, 38, 39, 42, 44, 47, 41, 46,\n",
       "              40, 43, 45],\n",
       "             [ 8,  9, 10,  3,  4,  5,  6,  7, 40, 41, 42, 11, 12, 13, 14,\n",
       "              15, 16, 17, 18, 19, 20, 21, 22, 23,  0,  1,  2, 27, 28, 29,\n",
       "              30, 31, 34, 36, 39, 33, 38, 32, 35, 37, 24, 25, 26, 43, 44,\n",
       "              45, 46, 47],\n",
       "             [24, 25, 26,  3,  4,  5,  6,  7,  0,  1,  2, 11, 12, 13, 14,\n",
       "              15, 18, 20, 23, 17, 22, 16, 19, 21, 40, 41, 42, 27, 28, 29,\n",
       "              30, 31, 32, 33, 34, 35, 36, 37, 38, 39,  8,  9, 10, 43, 44,\n",
       "              45, 46, 47]], dtype=int32)"
      ]
     },
     "execution_count": 93,
     "metadata": {},
     "output_type": "execute_result"
    }
   ],
   "source": [
    "(G.discrete_generators*np.arange(48)[None,None]).sum(-1)[np.array([1,3,0,5,4,2])].astype(int)"
   ]
  },
  {
   "cell_type": "code",
   "execution_count": null,
   "metadata": {},
   "outputs": [],
   "source": [
    "#UFRBLD\n",
    "#F,B,U,D,L,R"
   ]
  },
  {
   "cell_type": "code",
   "execution_count": 17,
   "metadata": {},
   "outputs": [
    {
     "data": {
      "application/vnd.jupyter.widget-view+json": {
       "model_id": "49702c1c6e584860862230b4c2541a11",
       "version_major": 2,
       "version_minor": 0
      },
      "text/plain": [
       "sparsifying basis:   0%|          | 0/1000 [00:00<?, ?it/s]"
      ]
     },
     "metadata": {},
     "output_type": "display_data"
    },
    {
     "data": {
      "image/png": "[encoded data removed]",
      "text/plain": [
       "<Figure size 432x288 with 1 Axes>"
      ]
     },
     "metadata": {
      "needs_background": "light"
     },
     "output_type": "display_data"
    }
   ],
   "source": [
    "rep.visualize()"
   ]
  },
  {
   "cell_type": "code",
   "execution_count": 24,
   "metadata": {},
   "outputs": [
    {
     "name": "stdout",
     "output_type": "stream",
     "text": [
      "The autoreload extension is already loaded. To reload it, use:\n",
      "  %reload_ext autoreload\n"
     ]
    }
   ],
   "source": [
    "%load_ext autoreload\n",
    "%autoreload 2\n",
    "import numpy as np#\n",
    "import copy\n",
    "from core.representation import *\n",
    "from core.groups import *\n",
    "from emlp.mlp import uniform_rep\n",
    "import unittest\n",
    "from jax import vmap\n",
    "import jax.numpy as jnp\n",
    "import logging\n",
    "import argparse\n",
    "import sys\n",
    "import copy\n",
    "from functools import partialmethod\n",
    "import matplotlib.pyplot as plt\n",
    "import logging\n",
    "logging.getLogger().setLevel(logging.INFO)\n",
    "#plt.savefig(f\"{G}_{rep}_soln2.pdf\", bbox_inches=\"tight\")"
   ]
  },
  {
   "cell_type": "code",
   "execution_count": 46,
   "metadata": {},
   "outputs": [],
   "source": [
    "G = Z(4)#SO(3)#13p()\n",
    "rep = T(0)+2*T(1)#+T(2)#+T(0,0)+T(1,1)+T(1,0)+T(0,2)\n",
    "#for G in self.test_groups:\n",
    "rep = rep\n",
    "#P = rep.equivariant_projector()\n",
    "lrep = (rep>>rep)(G)#"
   ]
  },
  {
   "cell_type": "code",
   "execution_count": 47,
   "metadata": {},
   "outputs": [
    {
     "name": "stderr",
     "output_type": "stream",
     "text": [
      "INFO:root:V⁰ cache miss\n",
      "INFO:root:Solving basis for V⁰, for G=Z(4)\n"
     ]
    }
   ],
   "source": [
    "Q = lrep.equivariant_basis()"
   ]
  },
  {
   "cell_type": "code",
   "execution_count": 56,
   "metadata": {},
   "outputs": [
    {
     "data": {
      "application/vnd.jupyter.widget-view+json": {
       "model_id": "a2ba42fd4c9d466cb6a07b11723fd96c",
       "version_major": 2,
       "version_minor": 0
      },
      "text/plain": [
       "sparsifying basis:   0%|          | 0/2000 [00:00<?, ?it/s]"
      ]
     },
     "metadata": {},
     "output_type": "display_data"
    },
    {
     "data": {
      "image/png": "[encoded data removed]",
      "text/plain": [
       "<Figure size 432x288 with 1 Axes>"
      ]
     },
     "metadata": {
      "needs_background": "light"
     },
     "output_type": "display_data"
    }
   ],
   "source": [
    "import jax.numpy as jnp\n",
    "from jax import device_put\n",
    "from jax import jit\n",
    "import jax\n",
    "import optax\n",
    "from oil.utils.mytqdm import tqdm\n",
    "import matplotlib.pyplot as plt\n",
    "\n",
    "lr=1e-1\n",
    "W = np.random.randn(Q.shape[-1],Q.shape[-1])\n",
    "W,_ = np.linalg.qr(W)\n",
    "opt_init,opt_update = optax.adam(lr)#optax.sgd(3e-3,.9)#optax.adam(lr)\n",
    "opt_update = jit(opt_update)\n",
    "opt_state = opt_init(W)  # init stats\n",
    "\n",
    "def loss(W):\n",
    "    return jnp.abs(Q@W.T).mean() + .2*(jnp.abs(W.T@W-jnp.eye(W.shape[0]))).mean()#+.01*jax.numpy.linalg.slogdet(W)[1]**2\n",
    "\n",
    "loss_and_grad = jit(jax.value_and_grad(loss))\n",
    "\n",
    "lossvalues = []\n",
    "logdets = []\n",
    "for i in tqdm(range(2000),desc=f'sparsifying basis'):\n",
    "    lossval, grad = loss_and_grad(W)\n",
    "    updates, opt_state = opt_update(grad, opt_state, W)\n",
    "    lossvalues.append(lossval)\n",
    "    W = optax.apply_updates(W, updates)\n",
    "    W,_ = np.linalg.qr(W)\n",
    "    #s,ld = jax.numpy.linalg.slogdet(W)\n",
    "    logdets.append(jnp.linalg.norm(grad))\n",
    "\n",
    "plt.plot(lossvalues)\n",
    "plt.yscale('log')"
   ]
  },
  {
   "cell_type": "code",
   "execution_count": 57,
   "metadata": {},
   "outputs": [
    {
     "data": {
      "text/plain": [
       "(-0.5, 8.5, 8.5, -0.5)"
      ]
     },
     "execution_count": 57,
     "metadata": {},
     "output_type": "execute_result"
    },
    {
     "data": {
      "image/png": "[encoded data removed]",
      "text/plain": [
       "<Figure size 432x288 with 1 Axes>"
      ]
     },
     "metadata": {
      "needs_background": "light"
     },
     "output_type": "display_data"
    }
   ],
   "source": [
    "Qp = np.copy(Q@W.T)\n",
    "Qp[np.abs(Qp)<1e-2]=0\n",
    "Qp[np.abs(Qp)>1e-2]=1\n",
    "A = Qp@(1+np.arange(Qp.shape[-1]))\n",
    "if len(np.unique(A))!=Qp.shape[-1]+1 and len(np.unique(A))!=Qp.shape[-1]:\n",
    "    logging.error(f\"Basis elems did not separate: found only {len(np.unique(A))}/{Qp.shape[-1]}\")\n",
    "plt.imshow(A.reshape(lrep.viz_shape_hint))\n",
    "plt.axis('off')"
   ]
  },
  {
   "cell_type": "code",
   "execution_count": 58,
   "metadata": {},
   "outputs": [
    {
     "data": {
      "image/png": "[encoded data removed]",
      "text/plain": [
       "<Figure size 432x288 with 1 Axes>"
      ]
     },
     "metadata": {
      "needs_background": "light"
     },
     "output_type": "display_data"
    }
   ],
   "source": [
    "def plot_loghist(x, bins):\n",
    "    hist, bins = np.histogram(x, bins=bins)\n",
    "    logbins = np.logspace(np.log10(bins[0]),np.log10(bins[-1]),len(bins))\n",
    "    plt.hist(x, bins=logbins)\n",
    "    plt.xscale('log')\n",
    "plot_loghist(np.abs(Q@W.T).reshape(-1),30)\n",
    "#plt.xscale('log')"
   ]
  },
  {
   "cell_type": "code",
   "execution_count": 31,
   "metadata": {},
   "outputs": [
    {
     "data": {
      "text/plain": [
       "DeviceArray(0.0001591, dtype=float32)"
      ]
     },
     "execution_count": 31,
     "metadata": {},
     "output_type": "execute_result"
    }
   ],
   "source": [
    "((W.T@W-jnp.eye(W.shape[0]))**2).mean()"
   ]
  },
  {
   "cell_type": "code",
   "execution_count": 32,
   "metadata": {},
   "outputs": [
    {
     "data": {
      "text/plain": [
       "(DeviceArray(-1., dtype=float32), DeviceArray(-0.12242764, dtype=float32))"
      ]
     },
     "execution_count": 32,
     "metadata": {},
     "output_type": "execute_result"
    }
   ],
   "source": [
    "jnp.linalg.slogdet(W)"
   ]
  },
  {
   "cell_type": "code",
   "execution_count": 33,
   "metadata": {},
   "outputs": [
    {
     "data": {
      "image/png": "[encoded data removed]",
      "text/plain": [
       "<Figure size 432x288 with 1 Axes>"
      ]
     },
     "metadata": {
      "needs_background": "light"
     },
     "output_type": "display_data"
    }
   ],
   "source": [
    "plt.plot(np.sort(np.abs(np.asarray(Q@W.T)).reshape(-1)))\n",
    "plt.yscale('log')"
   ]
  },
  {
   "cell_type": "code",
   "execution_count": 34,
   "metadata": {},
   "outputs": [],
   "source": [
    "V=np.copy(np.asarray(Q@W.T))\n",
    "V[np.abs(V)<1e-2]=0\n",
    "V[np.abs(V)>1e-2]=1\n",
    "A = V@(1+np.arange(V.shape[-1]))\n",
    "assert len(np.unique(A))==V.shape[-1]+1 or len(np.unique(A))==V.shape[-1],np.unique(A)"
   ]
  },
  {
   "cell_type": "code",
   "execution_count": 35,
   "metadata": {},
   "outputs": [
    {
     "data": {
      "text/plain": [
       "8"
      ]
     },
     "execution_count": 35,
     "metadata": {},
     "output_type": "execute_result"
    }
   ],
   "source": [
    "len(np.unique(A))"
   ]
  },
  {
   "cell_type": "code",
   "execution_count": 50,
   "metadata": {},
   "outputs": [
    {
     "data": {
      "text/plain": [
       "(-0.5, 7.5, 7.5, -0.5)"
      ]
     },
     "execution_count": 50,
     "metadata": {},
     "output_type": "execute_result"
    },
    {
     "data": {
      "image/png": "[encoded data removed]",
      "text/plain": [
       "<Figure size 432x288 with 1 Axes>"
      ]
     },
     "metadata": {
      "needs_background": "light"
     },
     "output_type": "display_data"
    }
   ],
   "source": [
    "k = int(np.sqrt(A.shape[0]))\n",
    "plt.imshow(A.reshape((k,k)),cmap='Accent')\n",
    "plt.axis('off')\n",
    "#plt.savefig(f\"{G}_{rep}_soln.pdf\", bbox_inches=\"tight\")"
   ]
  },
  {
   "cell_type": "code",
   "execution_count": 13,
   "metadata": {},
   "outputs": [
    {
     "data": {
      "text/plain": [
       "(256, 16)"
      ]
     },
     "execution_count": 13,
     "metadata": {},
     "output_type": "execute_result"
    }
   ],
   "source": [
    "Q.shape"
   ]
  },
  {
   "cell_type": "code",
   "execution_count": 80,
   "metadata": {},
   "outputs": [
    {
     "name": "stdout",
     "output_type": "stream",
     "text": [
      "[ 0.         -0.49805826  0.          0.         -0.49805814  0.\n",
      "  0.          0.          0.          0.          0.         -0.49805814\n",
      "  0.          0.         -0.4980582   0.        ]\n"
     ]
    },
    {
     "data": {
      "image/png": "[encoded data removed]",
      "text/plain": [
       "<Figure size 432x288 with 1 Axes>"
      ]
     },
     "metadata": {
      "needs_background": "light"
     },
     "output_type": "display_data"
    },
    {
     "name": "stdout",
     "output_type": "stream",
     "text": [
      "[-0.49805838  0.          0.          0.          0.         -0.49805823\n",
      "  0.          0.          0.          0.         -0.49805832  0.\n",
      "  0.          0.          0.         -0.49805826]\n"
     ]
    },
    {
     "data": {
      "image/png": "[encoded data removed]",
      "text/plain": [
       "<Figure size 432x288 with 1 Axes>"
      ]
     },
     "metadata": {
      "needs_background": "light"
     },
     "output_type": "display_data"
    },
    {
     "name": "stdout",
     "output_type": "stream",
     "text": [
      "[0.         0.         0.49805826 0.         0.         0.\n",
      " 0.         0.49805808 0.49805814 0.         0.         0.\n",
      " 0.         0.49805808 0.         0.        ]\n"
     ]
    },
    {
     "data": {
      "image/png": "[encoded data removed]",
      "text/plain": [
       "<Figure size 432x288 with 1 Axes>"
      ]
     },
     "metadata": {
      "needs_background": "light"
     },
     "output_type": "display_data"
    },
    {
     "name": "stdout",
     "output_type": "stream",
     "text": [
      "[ 0.          0.          0.         -0.49805838  0.          0.\n",
      " -0.4980582   0.          0.         -0.49805814  0.          0.\n",
      " -0.49805823  0.          0.          0.        ]\n"
     ]
    },
    {
     "data": {
      "image/png": "[encoded data removed]",
      "text/plain": [
       "<Figure size 432x288 with 1 Axes>"
      ]
     },
     "metadata": {
      "needs_background": "light"
     },
     "output_type": "display_data"
    }
   ],
   "source": [
    "V=np.copy(np.asarray(Q@W.T))\n",
    "for i in range(V.shape[-1]):\n",
    "    M = np.copy(V[:,i])\n",
    "    M[np.abs(M)<1e-3]=0\n",
    "    print(M.reshape)\n",
    "    #M[np.abs(M)>1e-3]=1\n",
    "    #print(M.reshape(8,8))\n",
    "    plt.spy(M.reshape(4,4))\n",
    "    plt.show()"
   ]
  },
  {
   "cell_type": "code",
   "execution_count": 50,
   "metadata": {},
   "outputs": [
    {
     "data": {
      "text/plain": [
       "(64, 8)"
      ]
     },
     "execution_count": 50,
     "metadata": {},
     "output_type": "execute_result"
    }
   ],
   "source": [
    "V.shape"
   ]
  },
  {
   "cell_type": "code",
   "execution_count": null,
   "metadata": {},
   "outputs": [],
   "source": [
    "def sparsify(Q,lr=1e-2):\n",
    "    W = np.random.randn(C.shape[-1],r)\n",
    "    W /= np.sqrt((W**2).sum(0,keepdims=True))\n",
    "\n",
    "    opt_init,opt_update = optax.sgd(lr,.9)#optax.adam(lr)#optax.sgd(3e-3,.9)#optax.adam(lr)\n",
    "    opt_state = opt_init(W)  # init stats\n",
    "\n",
    "    def loss(W):\n",
    "        return ((C@W)**2).sum()/2\n",
    "\n",
    "    loss_and_grad = jit(jax.value_and_grad(loss))\n",
    "\n",
    "    #lossvalues = []\n",
    "    for i in tqdm(range(1000),desc=f'Krylov Solving for Equivariant Subspace r<={r}'):\n",
    "        lossval, grad = loss_and_grad(W)\n",
    "        updates, opt_state = opt_update(grad, opt_state, W)\n",
    "        W = optax.apply_updates(W, updates)\n",
    "        W /= jnp.sqrt((W**2).sum(0,keepdims=True))\n",
    "        #lossvalues.append(lossval)\n",
    "        if lossval <tol**2: break\n",
    "        if lossval>1e2 and i>100: # Solve diverged due to too high learning rate\n",
    "            logging.warning(f\"Constraint solving diverged, trying lower learning rate {lr/3:.2e}\")\n",
    "            return krylov_constraint_solve_upto_r(C,r,tol,lr=lr/3)\n",
    "    if lossval>1e-1: # Failed to converge means subspace has dimension 0 \n",
    "        W*=0\n",
    "    # Orthogonalize solution at the end\n",
    "    U,S,VT = np.linalg.svd(np.array(W),full_matrices=False)\n",
    "    rank = (S>tol).sum()\n",
    "    Q = U[:,:rank]\n",
    "    return device_put(Q)"
   ]
  },
  {
   "cell_type": "code",
   "execution_count": null,
   "metadata": {},
   "outputs": [],
   "source": []
  },
  {
   "cell_type": "code",
   "execution_count": 3,
   "metadata": {},
   "outputs": [],
   "source": [
    "from emlp_jax.datasets import BrokenRubiksCube,BrokenRubiksCube2x2,InvertedCube\n",
    "from emlp_jax.mlp import uniform_allocation"
   ]
  },
  {
   "cell_type": "code",
   "execution_count": 16,
   "metadata": {},
   "outputs": [],
   "source": [
    "G =O13()"
   ]
  },
  {
   "cell_type": "code",
   "execution_count": 20,
   "metadata": {},
   "outputs": [
    {
     "data": {
      "text/plain": [
       "(256, 3)"
      ]
     },
     "execution_count": 20,
     "metadata": {},
     "output_type": "execute_result"
    }
   ],
   "source": [
    "T(4)(G).equivariant_basis().shape#reshape(4,4)"
   ]
  },
  {
   "cell_type": "code",
   "execution_count": 13,
   "metadata": {},
   "outputs": [],
   "source": [
    "G = Cube()"
   ]
  },
  {
   "cell_type": "code",
   "execution_count": 9,
   "metadata": {},
   "outputs": [
    {
     "ename": "AttributeError",
     "evalue": "'RubiksCube' object has no attribute 'perms'",
     "output_type": "error",
     "traceback": [
      "\u001b[0;31m---------------------------------------------------------------------------\u001b[0m",
      "\u001b[0;31mAttributeError\u001b[0m                            Traceback (most recent call last)",
      "\u001b[0;32m<ipython-input-9-06d89f2ef18a>\u001b[0m in \u001b[0;36m<module>\u001b[0;34m\u001b[0m\n\u001b[0;32m----> 1\u001b[0;31m \u001b[0mnp\u001b[0m\u001b[0;34m.\u001b[0m\u001b[0marange\u001b[0m\u001b[0;34m(\u001b[0m\u001b[0;36m24\u001b[0m\u001b[0;34m)\u001b[0m\u001b[0;34m[\u001b[0m\u001b[0mG\u001b[0m\u001b[0;34m.\u001b[0m\u001b[0mperms\u001b[0m\u001b[0;34m[\u001b[0m\u001b[0;36m0\u001b[0m\u001b[0;34m]\u001b[0m\u001b[0;34m]\u001b[0m\u001b[0;34m.\u001b[0m\u001b[0mreshape\u001b[0m\u001b[0;34m(\u001b[0m\u001b[0;36m6\u001b[0m\u001b[0;34m,\u001b[0m\u001b[0;36m4\u001b[0m\u001b[0;34m)\u001b[0m\u001b[0;34m\u001b[0m\u001b[0;34m\u001b[0m\u001b[0m\n\u001b[0m",
      "\u001b[0;31mAttributeError\u001b[0m: 'RubiksCube' object has no attribute 'perms'"
     ]
    }
   ],
   "source": [
    "np.arange(24)[G.perms[0]].reshape(6,4)"
   ]
  },
  {
   "cell_type": "code",
   "execution_count": 18,
   "metadata": {},
   "outputs": [
    {
     "data": {
      "text/plain": [
       "(1296, 60)"
      ]
     },
     "execution_count": 18,
     "metadata": {},
     "output_type": "execute_result"
    }
   ],
   "source": [
    "T(4)(Cube()).equivariant_basis().shape"
   ]
  },
  {
   "cell_type": "code",
   "execution_count": 8,
   "metadata": {},
   "outputs": [
    {
     "data": {
      "text/plain": [
       "array([3, 0, 1, 2])"
      ]
     },
     "execution_count": 8,
     "metadata": {},
     "output_type": "execute_result"
    }
   ],
   "source": [
    "np.roll(np.arange(4),1)"
   ]
  },
  {
   "cell_type": "code",
   "execution_count": 3,
   "metadata": {},
   "outputs": [],
   "source": [
    "ds =InvertedCube()"
   ]
  },
  {
   "cell_type": "code",
   "execution_count": 4,
   "metadata": {},
   "outputs": [
    {
     "data": {
      "text/plain": [
       "(2, 36)"
      ]
     },
     "execution_count": 4,
     "metadata": {},
     "output_type": "execute_result"
    }
   ],
   "source": [
    "ds.X.shape"
   ]
  },
  {
   "cell_type": "code",
   "execution_count": 4,
   "metadata": {},
   "outputs": [],
   "source": [
    "W_rep = T(1)(Cube())*ds.rep_in(Cube())"
   ]
  },
  {
   "cell_type": "code",
   "execution_count": 13,
   "metadata": {},
   "outputs": [],
   "source": [
    "#W_rep = W_rep(Cube())"
   ]
  },
  {
   "cell_type": "code",
   "execution_count": 14,
   "metadata": {},
   "outputs": [],
   "source": [
    "P = W_rep.equivariant_projector()"
   ]
  },
  {
   "cell_type": "code",
   "execution_count": 15,
   "metadata": {},
   "outputs": [],
   "source": [
    "W = P(np.random.randn(P.shape[-1])).reshape(W_rep.shape)"
   ]
  },
  {
   "cell_type": "code",
   "execution_count": 18,
   "metadata": {},
   "outputs": [
    {
     "data": {
      "text/plain": [
       "(6, 36)"
      ]
     },
     "execution_count": 18,
     "metadata": {},
     "output_type": "execute_result"
    }
   ],
   "source": [
    "W.shape"
   ]
  },
  {
   "cell_type": "code",
   "execution_count": 11,
   "metadata": {},
   "outputs": [],
   "source": [
    "#ds.X@Q_dense"
   ]
  },
  {
   "cell_type": "code",
   "execution_count": 19,
   "metadata": {},
   "outputs": [
    {
     "data": {
      "text/plain": [
       "DeviceArray([[ 4.939117  ,  2.0212417 , -1.6775758 ,  4.899134  ,\n",
       "               1.2750003 ,  0.87473357],\n",
       "             [-1.0132487 ,  0.32094163, -2.0643241 , -0.18619199,\n",
       "              -5.04762   ,  2.4405694 ]], dtype=float32)"
      ]
     },
     "execution_count": 19,
     "metadata": {},
     "output_type": "execute_result"
    }
   ],
   "source": [
    "ds.X@W.T"
   ]
  },
  {
   "cell_type": "code",
   "execution_count": 36,
   "metadata": {},
   "outputs": [
    {
     "data": {
      "text/plain": [
       "(6, 1)"
      ]
     },
     "execution_count": 36,
     "metadata": {},
     "output_type": "execute_result"
    }
   ],
   "source": [
    "T(1)(Cube()).equivariant_basis().shape"
   ]
  },
  {
   "cell_type": "code",
   "execution_count": 37,
   "metadata": {},
   "outputs": [
    {
     "data": {
      "text/plain": [
       "(36, 3)"
      ]
     },
     "execution_count": 37,
     "metadata": {},
     "output_type": "execute_result"
    }
   ],
   "source": [
    "T(2)(Cube()).equivariant_basis().shape"
   ]
  },
  {
   "cell_type": "code",
   "execution_count": 1,
   "metadata": {},
   "outputs": [],
   "source": [
    "import jax\n",
    "#jax.config.update('jax_platform_name', 'cpu')\n",
    "import numpy as np\n",
    "import jax.numpy as jnp\n",
    "from emlp_jax.equivariant_subspaces import T\n",
    "from emlp_jax.groups import *\n",
    "from emlp_jax.datasets import BrokenRubiksCube,InvertedCube\n",
    "from emlp_jax.mlp import uniform_allocation"
   ]
  },
  {
   "cell_type": "code",
   "execution_count": 41,
   "metadata": {},
   "outputs": [],
   "source": [
    "G = Cube()\n",
    "repin = 6*T(1)(G)\n",
    "rep = (138*T(0)+23*T(1))(G)\n",
    "repin=rep\n",
    "rep = 2*T(0)(G)"
   ]
  },
  {
   "cell_type": "code",
   "execution_count": null,
   "metadata": {},
   "outputs": [],
   "source": []
  },
  {
   "cell_type": "code",
   "execution_count": 42,
   "metadata": {},
   "outputs": [],
   "source": [
    "rep_W = rep*repin.T"
   ]
  },
  {
   "cell_type": "code",
   "execution_count": 43,
   "metadata": {},
   "outputs": [],
   "source": [
    "g = G.sample()"
   ]
  },
  {
   "cell_type": "code",
   "execution_count": 44,
   "metadata": {},
   "outputs": [],
   "source": [
    "Q = rep_W.equivariant_basis()"
   ]
  },
  {
   "cell_type": "code",
   "execution_count": 45,
   "metadata": {},
   "outputs": [],
   "source": [
    "vec_W = Q@np.random.randn(Q.shape[-1])"
   ]
  },
  {
   "cell_type": "code",
   "execution_count": 46,
   "metadata": {},
   "outputs": [],
   "source": [
    "W = vec_W.reshape(rep_W.shape)"
   ]
  },
  {
   "cell_type": "code",
   "execution_count": 47,
   "metadata": {},
   "outputs": [
    {
     "data": {
      "text/plain": [
       "(2, 276)"
      ]
     },
     "execution_count": 47,
     "metadata": {},
     "output_type": "execute_result"
    }
   ],
   "source": [
    "W.shape"
   ]
  },
  {
   "cell_type": "code",
   "execution_count": 48,
   "metadata": {},
   "outputs": [],
   "source": [
    "gWginv = rep.rho(g)@(W@repin.rho(jnp.linalg.inv(g)))"
   ]
  },
  {
   "cell_type": "code",
   "execution_count": 49,
   "metadata": {},
   "outputs": [
    {
     "data": {
      "text/plain": [
       "DeviceArray(3.9339066e-06, dtype=float32)"
      ]
     },
     "execution_count": 49,
     "metadata": {},
     "output_type": "execute_result"
    }
   ],
   "source": [
    "jnp.abs(gWginv-W).max()"
   ]
  },
  {
   "cell_type": "code",
   "execution_count": 2,
   "metadata": {},
   "outputs": [],
   "source": [
    "import jax\n",
    "#jax.config.update('jax_platform_name', 'cpu')\n",
    "from jax import jit\n",
    "from emlp_jax.equivariant_subspaces import T\n",
    "from emlp_jax.groups import *\n",
    "import numpy as np\n",
    "import jax.numpy as jnp\n",
    "from oil.utils.mytqdm import tqdm\n",
    "import optax"
   ]
  },
  {
   "cell_type": "code",
   "execution_count": 3,
   "metadata": {},
   "outputs": [],
   "source": [
    "#C = tensor_constraints_lazy(SO13p(),(6,0))\n",
    "#C = tensor_constraints_lazy(RubiksCube(),(4,0))\n",
    "#C = tensor_constraints_lazy(S(30),(3,0))\n",
    "C = T(6)(SO(4)).constraint_matrix_lazy()\n",
    "#C = T(4)(RubiksCube()).constraint_matrix_lazy()\n",
    "c = C.shape[-1]"
   ]
  },
  {
   "cell_type": "code",
   "execution_count": 5,
   "metadata": {},
   "outputs": [
    {
     "data": {
      "application/vnd.jupyter.widget-view+json": {
       "model_id": "a9309477285b4c838a67155dd77e9be1",
       "version_major": 2,
       "version_minor": 0
      },
      "text/plain": [
       "  0%|          | 0/20000 [00:00<?, ?it/s]"
      ]
     },
     "metadata": {},
     "output_type": "display_data"
    },
    {
     "name": "stdout",
     "output_type": "stream",
     "text": [
      "25\n",
      "7.37e-11\n"
     ]
    },
    {
     "data": {
      "image/png": "[encoded data removed]",
      "text/plain": [
       "<Figure size 432x288 with 1 Axes>"
      ]
     },
     "metadata": {
      "needs_background": "light"
     },
     "output_type": "display_data"
    }
   ],
   "source": [
    "r=50\n",
    "# Projected Gradient descent on \\|CW\\|^2 with Nesterov Momentum\n",
    "W = np.random.randn(c,r)/np.sqrt(c)\n",
    "#W,_ = np.linalg.qr(W)\n",
    "#W /= np.sqrt((W**2).sum(0,keepdims=True))\n",
    "#lr = 3e-2\n",
    "m= .9\n",
    "tol=1e-6\n",
    "\n",
    "lr=1e-2\n",
    "opt_init,opt_update = optax.sgd(lr,m)#optax.adam(lr)#optax.sgd(3e-3,.9)#optax.adam(lr)\n",
    "opt_state = opt_init(W)  # init stats\n",
    "\n",
    "def loss(W):\n",
    "    return ((C@W)**2).sum()/2\n",
    "\n",
    "loss_and_grad = jit(jax.value_and_grad(loss))\n",
    "\n",
    "lossvalues = []\n",
    "for i in tqdm(range(20000)):\n",
    "    lossval, grad = loss_and_grad(W)#jax.value_and_grad(loss)(W)\n",
    "    #grads = jax.grad(loss)(W)\n",
    "    updates, opt_state = opt_update(grad, opt_state, W)\n",
    "    W = optax.apply_updates(W, updates)\n",
    "    #W /= jnp.sqrt((W**2).sum(0,keepdims=True))\n",
    "    if not i%10: lossvalues.append(lossval)\n",
    "    if lossval <tol**2: break\n",
    "    if i>100 and lossval> lossvalues[0]: break\n",
    "    \n",
    "U,s,VT = np.linalg.svd(np.array(W),full_matrices=False)\n",
    "rank = (s>tol).sum()\n",
    "Q = U[:,:rank]\n",
    "# Q,R = jnp.linalg.qr(W)\n",
    "# rank = (jnp.abs(jnp.diag(R))>1e-2).sum()\n",
    "# Q = Q[:,:rank]\n",
    "print(rank)\n",
    "print(f\"{loss(Q):.2e}\")\n",
    "import matplotlib.pyplot as plt\n",
    "plt.plot(np.arange(len(lossvalues)),lossvalues)\n",
    "plt.title(r'Projected GD on $\\|CW\\|_F^2$')\n",
    "plt.yscale('log')\n",
    "plt.ylabel(r'$\\|CW\\|_F$ error')\n",
    "plt.xlabel('iterations')\n",
    "plt.show()\n"
   ]
  },
  {
   "cell_type": "code",
   "execution_count": null,
   "metadata": {},
   "outputs": [],
   "source": []
  },
  {
   "cell_type": "code",
   "execution_count": 10,
   "metadata": {},
   "outputs": [
    {
     "data": {
      "image/png": "[encoded data removed]",
      "text/plain": [
       "<Figure size 432x288 with 1 Axes>"
      ]
     },
     "metadata": {
      "needs_background": "light"
     },
     "output_type": "display_data"
    }
   ],
   "source": [
    "plt.plot(s)\n",
    "plt.yscale('log')"
   ]
  },
  {
   "cell_type": "code",
   "execution_count": 1,
   "metadata": {},
   "outputs": [],
   "source": [
    "%load_ext autoreload\n",
    "%autoreload 2\n",
    "import numpy as np#\n",
    "import copy\n",
    "from core.representation import *\n",
    "from core.groups import *\n",
    "from emlp.mlp import uniform_rep\n",
    "import unittest\n",
    "from jax import vmap\n",
    "import jax.numpy as jnp\n",
    "import logging\n",
    "import argparse\n",
    "import sys\n",
    "import copy\n",
    "from functools import partialmethod\n",
    "import logging\n",
    "logging.getLogger().setLevel(logging.INFO)"
   ]
  },
  {
   "cell_type": "code",
   "execution_count": 2,
   "metadata": {},
   "outputs": [],
   "source": [
    "def fake_vmap(fn):\n",
    "    def vmapped(*args):\n",
    "        return jnp.stack([fn(*argsi) for argsi in zip(*args)])\n",
    "    return vmapped\n",
    "# N=5\n",
    "# test_groups = [(SO(3),S(5)),(S(5),SO(3))]\n",
    "# for (G1,G2) in test_groups:\n",
    "#     rep = T(2)(G1)*T(1)(G2) + 2*T(0)(G1)*T(2)(G2)+T(1)(G1) +T(1)(G2)\n",
    "#     P = rep.equivariant_projector()\n",
    "#     v = np.random.rand(rep.size())\n",
    "#     v = P@v\n",
    "#     samples = {G1:G1.samples(N),G2:G2.samples(N)}\n",
    "#     gv = (fake_vmap(rep.rho)(samples)*v).sum(-1)\n",
    "#     err = rel_error(gv,v+jnp.zeros_like(gv))\n",
    "#     self.assertTrue(err<1e-5,f\"Symmetric vector fails err {err:.3e} with G={G1}x{G2}\")"
   ]
  },
  {
   "cell_type": "code",
   "execution_count": 3,
   "metadata": {},
   "outputs": [],
   "source": [
    "#%debug"
   ]
  },
  {
   "cell_type": "code",
   "execution_count": 2,
   "metadata": {
    "scrolled": true
   },
   "outputs": [
    {
     "name": "stdout",
     "output_type": "stream",
     "text": [
      "lazy_kron_Ms [DeviceArray([[0., 0., 1.],\n",
      "             [1., 0., 0.],\n",
      "             [0., 1., 0.]], dtype=float32), DeviceArray([[1., 0., 0., 0.],\n",
      "             [0., 1., 0., 0.],\n",
      "             [0., 0., 1., 0.],\n",
      "             [0., 0., 0., 1.]], dtype=float32)]\n",
      "lazy_kron_Ms [DeviceArray([[1., 0., 0.],\n",
      "             [0., 1., 0.],\n",
      "             [0., 0., 1.]], dtype=float32), DeviceArray([[0., 1., 0., 0.],\n",
      "             [1., 0., 0., 0.],\n",
      "             [0., 0., 1., 0.],\n",
      "             [0., 0., 0., 1.]], dtype=float32)]\n",
      "lazy_kron_Ms [DeviceArray([[1., 0., 0.],\n",
      "             [0., 1., 0.],\n",
      "             [0., 0., 1.]], dtype=float32), DeviceArray([[0., 0., 1., 0.],\n",
      "             [0., 1., 0., 0.],\n",
      "             [1., 0., 0., 0.],\n",
      "             [0., 0., 0., 1.]], dtype=float32)]\n",
      "lazy_kron_Ms [DeviceArray([[1., 0., 0.],\n",
      "             [0., 1., 0.],\n",
      "             [0., 0., 1.]], dtype=float32), DeviceArray([[0., 0., 0., 1.],\n",
      "             [0., 1., 0., 0.],\n",
      "             [0., 0., 1., 0.],\n",
      "             [1., 0., 0., 0.]], dtype=float32)]\n",
      "prod_axes_perm [0 1] with rep_cnters [{V: 1}, {V: 1}], orig perms (array([0, 1, 2]), array([0, 1, 2, 3]))\n",
      "prod_axes_perm [0 1] with rep_cnters [{V: 1, V: 1}], orig perms [array([ 0,  1,  2,  3,  4,  5,  6,  7,  8,  9, 10, 11])]\n",
      "prod_axes_perm [0 1] with rep_cnters [{V: 1, V: 1}], orig perms [array([ 0,  1,  2,  3,  4,  5,  6,  7,  8,  9, 10, 11])]\n",
      "prod_axes_perm [0 1] with rep_cnters [{V: 1, V: 1}], orig perms [array([ 0,  1,  2,  3,  4,  5,  6,  7,  8,  9, 10, 11])]\n"
     ]
    }
   ],
   "source": [
    "G = Z(3)*S(4)#13p()\n",
    "#rep = (T(0)+2*T(1))(G)\n",
    "rep = T(0)+2*T(1)(Z(3))*T(1)(S(4))#+T(0,0)+T(1,1)+T(1,0)+T(0,2)\n",
    "#for G in self.test_groups:\n",
    "#rep = rep(G)\n",
    "#P = rep.equivariant_projector()"
   ]
  },
  {
   "cell_type": "code",
   "execution_count": 2,
   "metadata": {},
   "outputs": [],
   "source": [
    "rep1 = T(0,1)*T(1,0)\n",
    "rep2 = T(0,1)*T(1,0)"
   ]
  },
  {
   "cell_type": "code",
   "execution_count": 2,
   "metadata": {},
   "outputs": [
    {
     "name": "stderr",
     "output_type": "stream",
     "text": [
      "INFO:root:prod perm=[0 2 1 3]\n",
      "INFO:root:prod perm=[0 4 1 5 2 6 3 7]\n",
      "INFO:root:prod perm=[ 0  1  8  9  2  3 10 11  4  5 12 13  6  7 14 15]\n",
      "INFO:root:V²⊗V*² cache miss\n",
      "INFO:root:Solving basis for V²⊗V*², for G=O11\n"
     ]
    },
    {
     "name": "stdout",
     "output_type": "stream",
     "text": [
      "prod_axes_perm [1 0] with rep_cnters [{V*: 1}, {V: 1}], orig perms (array([0, 1]), array([0, 1]))\n",
      "prod_axes_perm [0 1] with rep_cnters [{V: 1, V*: 1}], orig perms [array([0, 1, 2, 3])]\n",
      "prod_axes_perm [0 2 1] with rep_cnters [{V: 1, V*: 1}, {V: 1}], orig perms (array([0, 2, 1, 3]), array([0, 1]))\n",
      "prod_axes_perm [0 1 2] with rep_cnters [{V: 2, V*: 1}], orig perms [array([0, 1, 2, 3, 4, 5, 6, 7])]\n",
      "prod_axes_perm [0 1 2 3] with rep_cnters [{V: 2, V*: 1}, {V*: 1}], orig perms (array([0, 4, 1, 5, 2, 6, 3, 7]), array([0, 1]))\n",
      "prod_axes_perm [0 1 2 3] with rep_cnters [{V: 2, V*: 2}], orig perms [array([ 0,  1,  2,  3,  4,  5,  6,  7,  8,  9, 10, 11, 12, 13, 14, 15])]\n"
     ]
    }
   ],
   "source": [
    "rep  =(T(0,1)*T(1,0)*T(1,0)*T(0,1))(O11())\n",
    "#Q = sparsify_basis(rep.equivariant_basis())\n",
    "Q = rep.equivariant_basis()"
   ]
  },
  {
   "cell_type": "code",
   "execution_count": 7,
   "metadata": {},
   "outputs": [],
   "source": [
    "gs = O11().sample()\n"
   ]
  },
  {
   "cell_type": "code",
   "execution_count": 8,
   "metadata": {},
   "outputs": [
    {
     "data": {
      "text/plain": [
       "DeviceArray([[0.79901016, 0.85093427, 0.00728364],\n",
       "             [1.0124978 , 1.078295  , 0.00922971],\n",
       "             [1.0124971 , 1.0782949 , 0.00922981],\n",
       "             [0.7990102 , 0.8509343 , 0.00728365],\n",
       "             [1.0124972 , 1.078295  , 0.00922963],\n",
       "             [0.7990102 , 0.85093427, 0.00728366],\n",
       "             [0.79901004, 0.85093415, 0.0072836 ],\n",
       "             [1.0124974 , 1.0782948 , 0.00922978],\n",
       "             [1.0124972 , 1.0782951 , 0.0092299 ],\n",
       "             [0.7990103 , 0.8509343 , 0.00728363],\n",
       "             [0.7990101 , 0.85093427, 0.00728378],\n",
       "             [1.0124974 , 1.078295  , 0.0092296 ],\n",
       "             [0.79901004, 0.85093427, 0.00728368],\n",
       "             [1.0124972 , 1.078295  , 0.00922974],\n",
       "             [1.0124972 , 1.078295  , 0.0092298 ],\n",
       "             [0.7990101 , 0.8509343 , 0.00728361]], dtype=float32)"
      ]
     },
     "execution_count": 8,
     "metadata": {},
     "output_type": "execute_result"
    }
   ],
   "source": [
    "gv = (rep.rho_dense(gs)@Q)\n",
    "jnp.abs(gv-Q)"
   ]
  },
  {
   "cell_type": "code",
   "execution_count": 9,
   "metadata": {},
   "outputs": [
    {
     "name": "stderr",
     "output_type": "stream",
     "text": [
      "INFO:root:prod perm=[0 1 2 3]\n",
      "INFO:root:prod perm=[0 1 2 3 4 5 6 7]\n",
      "INFO:root:prod perm=[ 0  1  2  3  4  5  6  7  8  9 10 11 12 13 14 15]\n",
      "INFO:root:V²⊗V*² cache miss\n",
      "INFO:root:Solving basis for V²⊗V*², for G=O11\n",
      "INFO:root:V²⊗V*² cache miss\n",
      "INFO:root:Solving basis for V²⊗V*², for G=O11\n"
     ]
    },
    {
     "name": "stdout",
     "output_type": "stream",
     "text": [
      "prod_axes_perm [0 1] with rep_cnters [{V: 1}, {V: 1}], orig perms (array([0, 1]), array([0, 1]))\n",
      "prod_axes_perm [0 1] with rep_cnters [{V: 2}], orig perms [array([0, 1, 2, 3])]\n",
      "prod_axes_perm [0 1 2] with rep_cnters [{V: 2}, {V*: 1}], orig perms (array([0, 1, 2, 3]), array([0, 1]))\n",
      "prod_axes_perm [0 1 2] with rep_cnters [{V: 2, V*: 1}], orig perms [array([0, 1, 2, 3, 4, 5, 6, 7])]\n",
      "prod_axes_perm [0 1 2 3] with rep_cnters [{V: 2, V*: 1}, {V*: 1}], orig perms (array([0, 1, 2, 3, 4, 5, 6, 7]), array([0, 1]))\n",
      "prod_axes_perm [0 1 2 3] with rep_cnters [{V: 2, V*: 2}], orig perms [array([ 0,  1,  2,  3,  4,  5,  6,  7,  8,  9, 10, 11, 12, 13, 14, 15])]\n",
      "prod_axes_perm [0 1 2 3] with rep_cnters [{V: 2, V*: 2}], orig perms [array([ 0,  1,  2,  3,  4,  5,  6,  7,  8,  9, 10, 11, 12, 13, 14, 15])]\n"
     ]
    }
   ],
   "source": [
    "r0 =  T(2,2)(O11())\n",
    "Q0 =r0.equivariant_basis()\n",
    "P0 = r0.equivariant_projector()"
   ]
  },
  {
   "cell_type": "code",
   "execution_count": 10,
   "metadata": {},
   "outputs": [
    {
     "data": {
      "text/plain": [
       "DeviceArray([[7.45058060e-08, 5.96046448e-08, 1.63912773e-07],\n",
       "             [2.24299903e-08, 5.52581696e-08, 2.91489442e-07],\n",
       "             [1.26693322e-07, 1.89214461e-07, 8.15224226e-08],\n",
       "             [2.98023224e-08, 1.49011612e-08, 5.96046448e-08],\n",
       "             [4.88236083e-08, 1.04525038e-08, 8.82700490e-08],\n",
       "             [5.96046448e-08, 0.00000000e+00, 8.94069672e-08],\n",
       "             [0.00000000e+00, 0.00000000e+00, 2.98023224e-08],\n",
       "             [1.18243214e-07, 1.23310471e-07, 5.03854949e-08],\n",
       "             [9.24536394e-08, 2.02288732e-07, 1.25222627e-07],\n",
       "             [5.96046448e-08, 7.45058060e-08, 1.49011612e-07],\n",
       "             [1.19209290e-07, 5.96046448e-08, 4.47034836e-08],\n",
       "             [2.04543355e-07, 8.38458476e-08, 3.19732756e-08],\n",
       "             [7.45058060e-09, 2.23517418e-08, 1.78813934e-07],\n",
       "             [1.69053664e-07, 1.96369356e-08, 1.63981795e-07],\n",
       "             [1.10785294e-07, 4.81149058e-08, 6.48374936e-08],\n",
       "             [7.45058060e-09, 5.96046448e-08, 4.47034836e-08]],            dtype=float32)"
      ]
     },
     "execution_count": 10,
     "metadata": {},
     "output_type": "execute_result"
    }
   ],
   "source": [
    "gv = (r0.rho_dense(gs)@Q0)\n",
    "jnp.abs(gv-Q0)"
   ]
  },
  {
   "cell_type": "code",
   "execution_count": 11,
   "metadata": {},
   "outputs": [
    {
     "data": {
      "text/plain": [
       "DeviceArray([[7.45058060e-08, 5.96046448e-08, 1.63912773e-07],\n",
       "             [2.24299903e-08, 5.52581696e-08, 2.91489442e-07],\n",
       "             [1.26693322e-07, 1.89214461e-07, 8.15224226e-08],\n",
       "             [2.98023224e-08, 1.49011612e-08, 5.96046448e-08],\n",
       "             [4.88236083e-08, 1.04525038e-08, 8.82700490e-08],\n",
       "             [5.96046448e-08, 0.00000000e+00, 8.94069672e-08],\n",
       "             [0.00000000e+00, 0.00000000e+00, 2.98023224e-08],\n",
       "             [1.18243214e-07, 1.23310471e-07, 5.03854949e-08],\n",
       "             [9.24536394e-08, 2.02288732e-07, 1.25222627e-07],\n",
       "             [5.96046448e-08, 7.45058060e-08, 1.49011612e-07],\n",
       "             [1.19209290e-07, 5.96046448e-08, 4.47034836e-08],\n",
       "             [2.04543355e-07, 8.38458476e-08, 3.19732756e-08],\n",
       "             [7.45058060e-09, 2.23517418e-08, 1.78813934e-07],\n",
       "             [1.69053664e-07, 1.96369356e-08, 1.63981795e-07],\n",
       "             [1.10785294e-07, 4.81149058e-08, 6.48374936e-08],\n",
       "             [7.45058060e-09, 5.96046448e-08, 4.47034836e-08]],            dtype=float32)"
      ]
     },
     "execution_count": 11,
     "metadata": {},
     "output_type": "execute_result"
    }
   ],
   "source": [
    "gv = (r0.rho_dense(gs)@Q0)\n",
    "jnp.abs(gv-Q0)"
   ]
  },
  {
   "cell_type": "code",
   "execution_count": 14,
   "metadata": {},
   "outputs": [
    {
     "data": {
      "text/plain": [
       "DeviceArray([[4.61731851e-03, 1.17557240e+00, 7.29542002e-02],\n",
       "             [9.37897084e-08, 3.75545923e-08, 1.05249441e-07],\n",
       "             [6.58233468e-10, 2.94851148e-08, 1.05839790e-08],\n",
       "             [2.38273978e-01, 1.61090478e-01, 1.10333014e+00],\n",
       "             [1.65364114e-07, 2.03242010e-08, 2.87631323e-08],\n",
       "             [1.06719065e+00, 4.34383422e-01, 2.60749757e-01],\n",
       "             [3.32815230e-01, 1.28660440e-01, 7.60801673e-01],\n",
       "             [3.12404467e-08, 9.12742770e-09, 3.57251579e-08],\n",
       "             [2.35662974e-08, 2.63080207e-08, 8.52317612e-08],\n",
       "             [3.32815230e-01, 1.28660455e-01, 7.60801792e-01],\n",
       "             [1.06719017e+00, 4.34383154e-01, 2.60749608e-01],\n",
       "             [9.88224826e-08, 1.20001555e-08, 5.20282839e-09],\n",
       "             [2.38273844e-01, 1.61090448e-01, 1.10333002e+00],\n",
       "             [6.07657284e-08, 1.74908674e-08, 2.85517601e-08],\n",
       "             [3.24705951e-08, 2.13429878e-08, 3.33294032e-08],\n",
       "             [4.61727381e-03, 1.17557192e+00, 7.29542002e-02]],            dtype=float32)"
      ]
     },
     "execution_count": 14,
     "metadata": {},
     "output_type": "execute_result"
    }
   ],
   "source": [
    "jnp.abs(Q0-Q[rep.perm])"
   ]
  },
  {
   "cell_type": "code",
   "execution_count": 8,
   "metadata": {},
   "outputs": [
    {
     "name": "stderr",
     "output_type": "stream",
     "text": [
      "INFO:root:prod perm=[0 1 2 3]\n",
      "INFO:root:prod perm=[0 1 2 3 4 5 6 7]\n",
      "INFO:root:prod perm=[ 0  1  2  3  4  5  6  7  8  9 10 11 12 13 14 15]\n"
     ]
    },
    {
     "name": "stdout",
     "output_type": "stream",
     "text": [
      "prod_axes_perm [0 1] with rep_cnters [{V: 1}, {V: 1}], orig perms (array([0, 1]), array([0, 1]))\n",
      "prod_axes_perm [0 1] with rep_cnters [{V: 2}], orig perms [array([0, 1, 2, 3])]\n",
      "prod_axes_perm [0 1 2] with rep_cnters [{V: 2}, {V: 1}], orig perms (array([0, 1, 2, 3]), array([0, 1]))\n",
      "prod_axes_perm [0 1 2] with rep_cnters [{V: 3}], orig perms [array([0, 1, 2, 3, 4, 5, 6, 7])]\n",
      "prod_axes_perm [0 1 2 3] with rep_cnters [{V: 3}, {V: 1}], orig perms (array([0, 1, 2, 3, 4, 5, 6, 7]), array([0, 1]))\n",
      "prod_axes_perm [0 1 2 3] with rep_cnters [{V: 4}], orig perms [array([ 0,  1,  2,  3,  4,  5,  6,  7,  8,  9, 10, 11, 12, 13, 14, 15])]\n",
      "prod_axes_perm [0 1 2 3] with rep_cnters [{V: 4}], orig perms [array([ 0,  1,  2,  3,  4,  5,  6,  7,  8,  9, 10, 11, 12, 13, 14, 15])]\n"
     ]
    },
    {
     "data": {
      "application/vnd.jupyter.widget-view+json": {
       "model_id": "96d637d9d33741f691a04907fcbf30df",
       "version_major": 2,
       "version_minor": 0
      },
      "text/plain": [
       "sparsifying basis:   0%|          | 0/3000 [00:00<?, ?it/s]"
      ]
     },
     "metadata": {},
     "output_type": "display_data"
    },
    {
     "data": {
      "image/png": "[encoded data removed]",
      "text/plain": [
       "<Figure size 432x288 with 1 Axes>"
      ]
     },
     "metadata": {
      "needs_background": "light"
     },
     "output_type": "display_data"
    }
   ],
   "source": [
    "(rep1*rep2)(O(2)).visualize(4,4)"
   ]
  },
  {
   "cell_type": "code",
   "execution_count": 9,
   "metadata": {},
   "outputs": [
    {
     "name": "stderr",
     "output_type": "stream",
     "text": [
      "INFO:root:prod perm=[0 2 1 3]\n",
      "INFO:root:prod perm=[0 1 4 5 2 3 6 7]\n",
      "INFO:root:prod perm=[ 0  2  8 10  1  3  9 11  4  6 12 14  5  7 13 15]\n"
     ]
    },
    {
     "name": "stdout",
     "output_type": "stream",
     "text": [
      "prod_axes_perm [1 0] with rep_cnters [{V*: 1}, {V: 1}], orig perms (array([0, 1]), array([0, 1]))\n",
      "prod_axes_perm [0 1] with rep_cnters [{V: 1, V*: 1}], orig perms [array([0, 1, 2, 3])]\n",
      "prod_axes_perm [0 1 2] with rep_cnters [{V: 1, V*: 1}, {V*: 1}], orig perms (array([0, 2, 1, 3]), array([0, 1]))\n",
      "prod_axes_perm [0 1 2] with rep_cnters [{V: 1, V*: 2}], orig perms [array([0, 1, 2, 3, 4, 5, 6, 7])]\n",
      "prod_axes_perm [0 3 1 2] with rep_cnters [{V: 1, V*: 2}, {V: 1}], orig perms (array([0, 1, 4, 5, 2, 3, 6, 7]), array([0, 1]))\n",
      "prod_axes_perm [0 1 2 3] with rep_cnters [{V: 2, V*: 2}], orig perms [array([ 0,  1,  2,  3,  4,  5,  6,  7,  8,  9, 10, 11, 12, 13, 14, 15])]\n"
     ]
    },
    {
     "data": {
      "text/plain": [
       "(16, 3)"
      ]
     },
     "execution_count": 9,
     "metadata": {},
     "output_type": "execute_result"
    }
   ],
   "source": [
    "(rep1*rep2)(O11()).equivariant_basis().shape"
   ]
  },
  {
   "cell_type": "code",
   "execution_count": 8,
   "metadata": {},
   "outputs": [
    {
     "data": {
      "text/plain": [
       "(V⁰+V*+V*+V*⊗V*)⊗(V⁰+V*+V*+V*⊗V*)⊗(V⁰+V*+V*+V*⊗V*)"
      ]
     },
     "execution_count": 8,
     "metadata": {},
     "output_type": "execute_result"
    }
   ],
   "source": [
    "(T(0)+2*T(1)+T(2)).T**3"
   ]
  },
  {
   "cell_type": "code",
   "execution_count": 3,
   "metadata": {},
   "outputs": [
    {
     "data": {
      "text/plain": [
       "V⁰+4V_Z(3)⊗V_S(4)+4V²_Z(3)⊗V²_S(4)"
      ]
     },
     "execution_count": 3,
     "metadata": {},
     "output_type": "execute_result"
    }
   ],
   "source": [
    "(rep>>rep)"
   ]
  },
  {
   "cell_type": "code",
   "execution_count": 10,
   "metadata": {},
   "outputs": [
    {
     "data": {
      "text/plain": [
       "V⁰+4V+4V²"
      ]
     },
     "execution_count": 10,
     "metadata": {},
     "output_type": "execute_result"
    }
   ],
   "source": [
    "(T(0)+2*T(1))(Z(3))**2"
   ]
  },
  {
   "cell_type": "code",
   "execution_count": 4,
   "metadata": {},
   "outputs": [
    {
     "name": "stderr",
     "output_type": "stream",
     "text": [
      "INFO:root:V cache miss\n",
      "INFO:root:Solving basis for V, for G=S(4)\n",
      "INFO:root:V cache miss\n",
      "INFO:root:Solving basis for V, for G=Z(3)\n",
      "INFO:root:V² cache miss\n",
      "INFO:root:Solving basis for V², for G=S(4)\n",
      "INFO:root:V² cache miss\n",
      "INFO:root:Solving basis for V², for G=Z(3)\n"
     ]
    },
    {
     "data": {
      "application/vnd.jupyter.widget-view+json": {
       "model_id": "05d58fb5525d4b6b909da142cd1bee96",
       "version_major": 2,
       "version_minor": 0
      },
      "text/plain": [
       "sparsifying basis:   0%|          | 0/3000 [00:00<?, ?it/s]"
      ]
     },
     "metadata": {},
     "output_type": "display_data"
    },
    {
     "name": "stderr",
     "output_type": "stream",
     "text": [
      "ERROR:root:Basis elems did not separate: found only 610/625\n"
     ]
    },
    {
     "data": {
      "image/png": "[encoded data removed]",
      "text/plain": [
       "<Figure size 432x288 with 1 Axes>"
      ]
     },
     "metadata": {
      "needs_background": "light"
     },
     "output_type": "display_data"
    }
   ],
   "source": [
    "(rep>>rep).visualize()"
   ]
  },
  {
   "cell_type": "code",
   "execution_count": 2,
   "metadata": {},
   "outputs": [],
   "source": [
    "G = S(4)*SO(3)#13p()\n",
    "#rep = T(0)+2*T(1)\n",
    "repin = 2*T(2)(SO(3))*T(1)(S(4))#+T(0,0)+T(1,1)+T(1,0)+T(0,2)\n",
    "repout = T(1)(SO(3))*T(2)(S(4))\n",
    "#for G in self.test_groups:\n",
    "#rep = rep(G)\n",
    "#P = rep.equivariant_projector()"
   ]
  },
  {
   "cell_type": "code",
   "execution_count": 6,
   "metadata": {},
   "outputs": [
    {
     "name": "stderr",
     "output_type": "stream",
     "text": [
      "INFO:root:V⁴ cache miss\n",
      "INFO:root:Solving basis for V⁴, for G=SO(3)\n"
     ]
    },
    {
     "data": {
      "application/vnd.jupyter.widget-view+json": {
       "model_id": "8d047c1c4a50490d9f9bf8996c2cc116",
       "version_major": 2,
       "version_minor": 0
      },
      "text/plain": [
       "sparsifying basis:   0%|          | 0/3000 [00:00<?, ?it/s]"
      ]
     },
     "metadata": {},
     "output_type": "display_data"
    }
   ],
   "source": [
    "rep,perm = (T(4)(SO(3))).canonicalize()\n",
    "Q = rep.equivariant_basis()\n",
    "A = sparsify_basis(Q)[np.argsort(perm)]"
   ]
  },
  {
   "cell_type": "code",
   "execution_count": 39,
   "metadata": {},
   "outputs": [
    {
     "data": {
      "text/plain": [
       "(81, 3)"
      ]
     },
     "execution_count": 39,
     "metadata": {},
     "output_type": "execute_result"
    }
   ],
   "source": [
    "A.shape"
   ]
  },
  {
   "cell_type": "code",
   "execution_count": 26,
   "metadata": {},
   "outputs": [
    {
     "data": {
      "text/plain": [
       "(81, 3)"
      ]
     },
     "execution_count": 26,
     "metadata": {},
     "output_type": "execute_result"
    }
   ],
   "source": [
    "Q=np.array(Q)\n",
    "Q[np.abs(Q)<1e-2]=0\n",
    "Q.shape"
   ]
  },
  {
   "cell_type": "code",
   "execution_count": 43,
   "metadata": {},
   "outputs": [
    {
     "data": {
      "text/plain": [
       "array([[-1.,  0.,  0.,  0., -1.,  0.,  0.,  0., -1.],\n",
       "       [ 0.,  1.,  0.,  1.,  0.,  0.,  0.,  0.,  0.],\n",
       "       [ 0.,  0.,  1.,  0.,  0.,  0.,  1.,  0.,  0.],\n",
       "       [ 0.,  1.,  0.,  1.,  0.,  0.,  0.,  0.,  0.],\n",
       "       [-1.,  0.,  0.,  0., -1.,  0.,  0.,  0., -1.],\n",
       "       [ 0.,  0.,  0.,  0.,  0.,  1.,  0.,  1.,  0.],\n",
       "       [ 0.,  0.,  1.,  0.,  0.,  0.,  1.,  0.,  0.],\n",
       "       [ 0.,  0.,  0.,  0.,  0.,  1.,  0.,  1.,  0.],\n",
       "       [-1.,  0.,  0.,  0., -1.,  0.,  0.,  0., -1.]], dtype=float32)"
      ]
     },
     "execution_count": 43,
     "metadata": {},
     "output_type": "execute_result"
    }
   ],
   "source": [
    "A[:,2].reshape(9,9)"
   ]
  },
  {
   "cell_type": "code",
   "execution_count": 45,
   "metadata": {},
   "outputs": [
    {
     "data": {
      "text/plain": [
       "array([[-1.,  0.,  0.,  0.,  0.,  0.,  0.,  0.,  0.],\n",
       "       [ 0.,  1.,  0., -1.,  0.,  0.,  0.,  0.,  0.],\n",
       "       [ 0.,  0.,  1.,  0.,  0.,  0., -1.,  0.,  0.],\n",
       "       [ 0., -1.,  0.,  1.,  0.,  0.,  0.,  0.,  0.],\n",
       "       [ 0.,  0.,  0.,  0., -1.,  0.,  0.,  0.,  0.],\n",
       "       [ 0.,  0.,  0.,  0.,  0.,  1.,  0., -1.,  0.],\n",
       "       [ 0.,  0., -1.,  0.,  0.,  0.,  1.,  0.,  0.],\n",
       "       [ 0.,  0.,  0.,  0.,  0., -1.,  0.,  1.,  0.],\n",
       "       [ 0.,  0.,  0.,  0.,  0.,  0.,  0.,  0., -1.]], dtype=float32)"
      ]
     },
     "execution_count": 45,
     "metadata": {},
     "output_type": "execute_result"
    }
   ],
   "source": [
    "A[:,0].reshape(9,9)"
   ]
  },
  {
   "cell_type": "code",
   "execution_count": 28,
   "metadata": {},
   "outputs": [
    {
     "data": {
      "text/plain": [
       "(-0.5, 8.5, 8.5, -0.5)"
      ]
     },
     "execution_count": 28,
     "metadata": {},
     "output_type": "execute_result"
    },
    {
     "data": {
      "image/png": "[encoded data removed]",
      "text/plain": [
       "<Figure size 432x288 with 1 Axes>"
      ]
     },
     "metadata": {
      "needs_background": "light"
     },
     "output_type": "display_data"
    }
   ],
   "source": [
    "plt.imshow(A.reshape(9,9))\n",
    "plt.axis('off')"
   ]
  },
  {
   "cell_type": "code",
   "execution_count": 33,
   "metadata": {},
   "outputs": [
    {
     "name": "stderr",
     "output_type": "stream",
     "text": [
      "INFO:root:V³ cache miss\n",
      "INFO:root:Solving basis for V³, for G=S(4)\n",
      "INFO:root:V³ cache miss\n",
      "INFO:root:Solving basis for V³, for G=SO(3)\n"
     ]
    },
    {
     "data": {
      "application/vnd.jupyter.widget-view+json": {
       "model_id": "2a5a5b2b132f4c668cfe1baa2f54aac8",
       "version_major": 2,
       "version_minor": 0
      },
      "text/plain": [
       "sparsifying basis:   0%|          | 0/3000 [00:00<?, ?it/s]"
      ]
     },
     "metadata": {},
     "output_type": "display_data"
    },
    {
     "data": {
      "image/png": "[encoded data removed]",
      "text/plain": [
       "<Figure size 432x288 with 1 Axes>"
      ]
     },
     "metadata": {
      "needs_background": "light"
     },
     "output_type": "display_data"
    }
   ],
   "source": [
    "(repin>>repout).visualize(repout.size(),repin.size())"
   ]
  },
  {
   "cell_type": "code",
   "execution_count": 34,
   "metadata": {},
   "outputs": [
    {
     "data": {
      "application/vnd.jupyter.widget-view+json": {
       "model_id": "5a6489786cf342fe8f8fc7f58e608569",
       "version_major": 2,
       "version_minor": 0
      },
      "text/plain": [
       "sparsifying basis:   0%|          | 0/3000 [00:00<?, ?it/s]"
      ]
     },
     "metadata": {},
     "output_type": "display_data"
    },
    {
     "data": {
      "image/png": "[encoded data removed]",
      "text/plain": [
       "<Figure size 432x288 with 1 Axes>"
      ]
     },
     "metadata": {
      "needs_background": "light"
     },
     "output_type": "display_data"
    }
   ],
   "source": [
    "T(3)(SO(3)).visualize(3,9)"
   ]
  },
  {
   "cell_type": "code",
   "execution_count": 50,
   "metadata": {},
   "outputs": [
    {
     "name": "stdout",
     "output_type": "stream",
     "text": [
      "V_S(4) <class 'core.representation.Base'> V_Z(3) <class 'core.representation.Base'>\n",
      "V_S(4) <class 'core.representation.Base'> V_Z(3) <class 'core.representation.Base'>\n",
      "V_Z(3)⊗V_S(4) <class 'core.product_sum_reps.DirectProduct'> V_Z(3)⊗V_S(4) <class 'core.product_sum_reps.DirectProduct'>\n",
      "V_Z(3) <class 'core.representation.Base'> V_Z(3) <class 'core.representation.Base'>\n",
      "V_S(4) <class 'core.representation.Base'> V_S(4) <class 'core.representation.Base'>\n"
     ]
    },
    {
     "data": {
      "text/plain": [
       "core.product_sum_reps.DirectProduct"
      ]
     },
     "execution_count": 50,
     "metadata": {},
     "output_type": "execute_result"
    }
   ],
   "source": [
    "type((T(1)(S(4))*T(1)(Z(3)))*(T(1)(S(4))*T(1)(Z(3))))"
   ]
  },
  {
   "cell_type": "code",
   "execution_count": 46,
   "metadata": {},
   "outputs": [
    {
     "name": "stdout",
     "output_type": "stream",
     "text": [
      "> \u001b[0;32m/home/marc/equivariant-MLP/core/product_sum_reps.py\u001b[0m(262)\u001b[0;36m<genexpr>\u001b[0;34m()\u001b[0m\n",
      "\u001b[0;32m    260 \u001b[0;31m        \u001b[0mself\u001b[0m\u001b[0;34m.\u001b[0m\u001b[0minvperm\u001b[0m \u001b[0;34m=\u001b[0m \u001b[0mnp\u001b[0m\u001b[0;34m.\u001b[0m\u001b[0margsort\u001b[0m\u001b[0;34m(\u001b[0m\u001b[0mself\u001b[0m\u001b[0;34m.\u001b[0m\u001b[0mperm\u001b[0m\u001b[0;34m)\u001b[0m\u001b[0;34m\u001b[0m\u001b[0;34m\u001b[0m\u001b[0m\n",
      "\u001b[0m\u001b[0;32m    261 \u001b[0;31m        \u001b[0mself\u001b[0m\u001b[0;34m.\u001b[0m\u001b[0mcanonical\u001b[0m\u001b[0;34m=\u001b[0m\u001b[0;34m(\u001b[0m\u001b[0mself\u001b[0m\u001b[0;34m.\u001b[0m\u001b[0mperm\u001b[0m\u001b[0;34m==\u001b[0m\u001b[0mself\u001b[0m\u001b[0;34m.\u001b[0m\u001b[0minvperm\u001b[0m\u001b[0;34m)\u001b[0m\u001b[0;34m.\u001b[0m\u001b[0mall\u001b[0m\u001b[0;34m(\u001b[0m\u001b[0;34m)\u001b[0m\u001b[0;34m\u001b[0m\u001b[0;34m\u001b[0m\u001b[0m\n",
      "\u001b[0m\u001b[0;32m--> 262 \u001b[0;31m        \u001b[0mGs\u001b[0m \u001b[0;34m=\u001b[0m \u001b[0mtuple\u001b[0m\u001b[0;34m(\u001b[0m\u001b[0mset\u001b[0m\u001b[0;34m(\u001b[0m\u001b[0mrep\u001b[0m\u001b[0;34m.\u001b[0m\u001b[0mG\u001b[0m \u001b[0;32mfor\u001b[0m \u001b[0mrep\u001b[0m \u001b[0;32min\u001b[0m \u001b[0mself\u001b[0m\u001b[0;34m.\u001b[0m\u001b[0mreps\u001b[0m\u001b[0;34m.\u001b[0m\u001b[0mkeys\u001b[0m\u001b[0;34m(\u001b[0m\u001b[0;34m)\u001b[0m\u001b[0;34m)\u001b[0m\u001b[0;34m)\u001b[0m\u001b[0;34m\u001b[0m\u001b[0;34m\u001b[0m\u001b[0m\n",
      "\u001b[0m\u001b[0;32m    263 \u001b[0;31m        \u001b[0;32massert\u001b[0m \u001b[0mlen\u001b[0m\u001b[0;34m(\u001b[0m\u001b[0mGs\u001b[0m\u001b[0;34m)\u001b[0m\u001b[0;34m==\u001b[0m\u001b[0;36m1\u001b[0m\u001b[0;34m,\u001b[0m \u001b[0;34mf\"Multiple different groups {Gs} in product rep {self}\"\u001b[0m\u001b[0;34m\u001b[0m\u001b[0;34m\u001b[0m\u001b[0m\n",
      "\u001b[0m\u001b[0;32m    264 \u001b[0;31m        \u001b[0mself\u001b[0m\u001b[0;34m.\u001b[0m\u001b[0mG\u001b[0m\u001b[0;34m=\u001b[0m \u001b[0mGs\u001b[0m\u001b[0;34m[\u001b[0m\u001b[0;36m0\u001b[0m\u001b[0;34m]\u001b[0m\u001b[0;34m\u001b[0m\u001b[0;34m\u001b[0m\u001b[0m\n",
      "\u001b[0m\n",
      "ipdb> up\n",
      "> \u001b[0;32m/home/marc/equivariant-MLP/core/product_sum_reps.py\u001b[0m(262)\u001b[0;36m__init__\u001b[0;34m()\u001b[0m\n",
      "\u001b[0;32m    260 \u001b[0;31m        \u001b[0mself\u001b[0m\u001b[0;34m.\u001b[0m\u001b[0minvperm\u001b[0m \u001b[0;34m=\u001b[0m \u001b[0mnp\u001b[0m\u001b[0;34m.\u001b[0m\u001b[0margsort\u001b[0m\u001b[0;34m(\u001b[0m\u001b[0mself\u001b[0m\u001b[0;34m.\u001b[0m\u001b[0mperm\u001b[0m\u001b[0;34m)\u001b[0m\u001b[0;34m\u001b[0m\u001b[0;34m\u001b[0m\u001b[0m\n",
      "\u001b[0m\u001b[0;32m    261 \u001b[0;31m        \u001b[0mself\u001b[0m\u001b[0;34m.\u001b[0m\u001b[0mcanonical\u001b[0m\u001b[0;34m=\u001b[0m\u001b[0;34m(\u001b[0m\u001b[0mself\u001b[0m\u001b[0;34m.\u001b[0m\u001b[0mperm\u001b[0m\u001b[0;34m==\u001b[0m\u001b[0mself\u001b[0m\u001b[0;34m.\u001b[0m\u001b[0minvperm\u001b[0m\u001b[0;34m)\u001b[0m\u001b[0;34m.\u001b[0m\u001b[0mall\u001b[0m\u001b[0;34m(\u001b[0m\u001b[0;34m)\u001b[0m\u001b[0;34m\u001b[0m\u001b[0;34m\u001b[0m\u001b[0m\n",
      "\u001b[0m\u001b[0;32m--> 262 \u001b[0;31m        \u001b[0mGs\u001b[0m \u001b[0;34m=\u001b[0m \u001b[0mtuple\u001b[0m\u001b[0;34m(\u001b[0m\u001b[0mset\u001b[0m\u001b[0;34m(\u001b[0m\u001b[0mrep\u001b[0m\u001b[0;34m.\u001b[0m\u001b[0mG\u001b[0m \u001b[0;32mfor\u001b[0m \u001b[0mrep\u001b[0m \u001b[0;32min\u001b[0m \u001b[0mself\u001b[0m\u001b[0;34m.\u001b[0m\u001b[0mreps\u001b[0m\u001b[0;34m.\u001b[0m\u001b[0mkeys\u001b[0m\u001b[0;34m(\u001b[0m\u001b[0;34m)\u001b[0m\u001b[0;34m)\u001b[0m\u001b[0;34m)\u001b[0m\u001b[0;34m\u001b[0m\u001b[0;34m\u001b[0m\u001b[0m\n",
      "\u001b[0m\u001b[0;32m    263 \u001b[0;31m        \u001b[0;32massert\u001b[0m \u001b[0mlen\u001b[0m\u001b[0;34m(\u001b[0m\u001b[0mGs\u001b[0m\u001b[0;34m)\u001b[0m\u001b[0;34m==\u001b[0m\u001b[0;36m1\u001b[0m\u001b[0;34m,\u001b[0m \u001b[0;34mf\"Multiple different groups {Gs} in product rep {self}\"\u001b[0m\u001b[0;34m\u001b[0m\u001b[0;34m\u001b[0m\u001b[0m\n",
      "\u001b[0m\u001b[0;32m    264 \u001b[0;31m        \u001b[0mself\u001b[0m\u001b[0;34m.\u001b[0m\u001b[0mG\u001b[0m\u001b[0;34m=\u001b[0m \u001b[0mGs\u001b[0m\u001b[0;34m[\u001b[0m\u001b[0;36m0\u001b[0m\u001b[0;34m]\u001b[0m\u001b[0;34m\u001b[0m\u001b[0;34m\u001b[0m\u001b[0m\n",
      "\u001b[0m\n",
      "ipdb> up\n",
      "> \u001b[0;32m/home/marc/equivariant-MLP/core/representation.py\u001b[0m(130)\u001b[0;36m__mul__\u001b[0;34m()\u001b[0m\n",
      "\u001b[0;32m    128 \u001b[0;31m                \u001b[0;32mreturn\u001b[0m \u001b[0mcore\u001b[0m\u001b[0;34m.\u001b[0m\u001b[0mproduct_sum_reps\u001b[0m\u001b[0;34m.\u001b[0m\u001b[0mDirectProduct\u001b[0m\u001b[0;34m(\u001b[0m\u001b[0mself\u001b[0m\u001b[0;34m,\u001b[0m\u001b[0mother\u001b[0m\u001b[0;34m)\u001b[0m\u001b[0;34m\u001b[0m\u001b[0;34m\u001b[0m\u001b[0m\n",
      "\u001b[0m\u001b[0;32m    129 \u001b[0;31m            \u001b[0;32melse\u001b[0m\u001b[0;34m:\u001b[0m\u001b[0;34m\u001b[0m\u001b[0;34m\u001b[0m\u001b[0m\n",
      "\u001b[0m\u001b[0;32m--> 130 \u001b[0;31m                \u001b[0;32mreturn\u001b[0m \u001b[0mcore\u001b[0m\u001b[0;34m.\u001b[0m\u001b[0mproduct_sum_reps\u001b[0m\u001b[0;34m.\u001b[0m\u001b[0mProductRep\u001b[0m\u001b[0;34m(\u001b[0m\u001b[0mself\u001b[0m\u001b[0;34m,\u001b[0m\u001b[0mother\u001b[0m\u001b[0;34m)\u001b[0m\u001b[0;34m\u001b[0m\u001b[0;34m\u001b[0m\u001b[0m\n",
      "\u001b[0m\u001b[0;32m    131 \u001b[0;31m        \u001b[0;32melse\u001b[0m\u001b[0;34m:\u001b[0m\u001b[0;34m\u001b[0m\u001b[0;34m\u001b[0m\u001b[0m\n",
      "\u001b[0m\u001b[0;32m    132 \u001b[0;31m            \u001b[0;32mreturn\u001b[0m \u001b[0mcore\u001b[0m\u001b[0;34m.\u001b[0m\u001b[0mproduct_sum_reps\u001b[0m\u001b[0;34m.\u001b[0m\u001b[0mDeferredProductRep\u001b[0m\u001b[0;34m(\u001b[0m\u001b[0mself\u001b[0m\u001b[0;34m,\u001b[0m\u001b[0mother\u001b[0m\u001b[0;34m)\u001b[0m\u001b[0;34m\u001b[0m\u001b[0;34m\u001b[0m\u001b[0m\n",
      "\u001b[0m\n",
      "ipdb> up\n",
      "> \u001b[0;32m<ipython-input-45-266511dae3ec>\u001b[0m(1)\u001b[0;36m<module>\u001b[0;34m()\u001b[0m\n",
      "\u001b[0;32m----> 1 \u001b[0;31m\u001b[0mtype\u001b[0m\u001b[0;34m(\u001b[0m\u001b[0;34m(\u001b[0m\u001b[0mT\u001b[0m\u001b[0;34m(\u001b[0m\u001b[0;36m1\u001b[0m\u001b[0;34m)\u001b[0m\u001b[0;34m(\u001b[0m\u001b[0mS\u001b[0m\u001b[0;34m(\u001b[0m\u001b[0;36m4\u001b[0m\u001b[0;34m)\u001b[0m\u001b[0;34m)\u001b[0m\u001b[0;34m*\u001b[0m\u001b[0mT\u001b[0m\u001b[0;34m(\u001b[0m\u001b[0;36m1\u001b[0m\u001b[0;34m)\u001b[0m\u001b[0;34m(\u001b[0m\u001b[0mZ\u001b[0m\u001b[0;34m(\u001b[0m\u001b[0;36m3\u001b[0m\u001b[0;34m)\u001b[0m\u001b[0;34m)\u001b[0m\u001b[0;34m)\u001b[0m\u001b[0;34m*\u001b[0m\u001b[0;34m(\u001b[0m\u001b[0mT\u001b[0m\u001b[0;34m(\u001b[0m\u001b[0;36m1\u001b[0m\u001b[0;34m)\u001b[0m\u001b[0;34m(\u001b[0m\u001b[0mS\u001b[0m\u001b[0;34m(\u001b[0m\u001b[0;36m4\u001b[0m\u001b[0;34m)\u001b[0m\u001b[0;34m)\u001b[0m\u001b[0;34m*\u001b[0m\u001b[0mT\u001b[0m\u001b[0;34m(\u001b[0m\u001b[0;36m1\u001b[0m\u001b[0;34m)\u001b[0m\u001b[0;34m(\u001b[0m\u001b[0mZ\u001b[0m\u001b[0;34m(\u001b[0m\u001b[0;36m3\u001b[0m\u001b[0;34m)\u001b[0m\u001b[0;34m)\u001b[0m\u001b[0;34m)\u001b[0m\u001b[0;34m)\u001b[0m\u001b[0;34m\u001b[0m\u001b[0;34m\u001b[0m\u001b[0m\n",
      "\u001b[0m\n",
      "ipdb> down\n",
      "> \u001b[0;32m/home/marc/equivariant-MLP/core/representation.py\u001b[0m(130)\u001b[0;36m__mul__\u001b[0;34m()\u001b[0m\n",
      "\u001b[0;32m    128 \u001b[0;31m                \u001b[0;32mreturn\u001b[0m \u001b[0mcore\u001b[0m\u001b[0;34m.\u001b[0m\u001b[0mproduct_sum_reps\u001b[0m\u001b[0;34m.\u001b[0m\u001b[0mDirectProduct\u001b[0m\u001b[0;34m(\u001b[0m\u001b[0mself\u001b[0m\u001b[0;34m,\u001b[0m\u001b[0mother\u001b[0m\u001b[0;34m)\u001b[0m\u001b[0;34m\u001b[0m\u001b[0;34m\u001b[0m\u001b[0m\n",
      "\u001b[0m\u001b[0;32m    129 \u001b[0;31m            \u001b[0;32melse\u001b[0m\u001b[0;34m:\u001b[0m\u001b[0;34m\u001b[0m\u001b[0;34m\u001b[0m\u001b[0m\n",
      "\u001b[0m\u001b[0;32m--> 130 \u001b[0;31m                \u001b[0;32mreturn\u001b[0m \u001b[0mcore\u001b[0m\u001b[0;34m.\u001b[0m\u001b[0mproduct_sum_reps\u001b[0m\u001b[0;34m.\u001b[0m\u001b[0mProductRep\u001b[0m\u001b[0;34m(\u001b[0m\u001b[0mself\u001b[0m\u001b[0;34m,\u001b[0m\u001b[0mother\u001b[0m\u001b[0;34m)\u001b[0m\u001b[0;34m\u001b[0m\u001b[0;34m\u001b[0m\u001b[0m\n",
      "\u001b[0m\u001b[0;32m    131 \u001b[0;31m        \u001b[0;32melse\u001b[0m\u001b[0;34m:\u001b[0m\u001b[0;34m\u001b[0m\u001b[0;34m\u001b[0m\u001b[0m\n",
      "\u001b[0m\u001b[0;32m    132 \u001b[0;31m            \u001b[0;32mreturn\u001b[0m \u001b[0mcore\u001b[0m\u001b[0;34m.\u001b[0m\u001b[0mproduct_sum_reps\u001b[0m\u001b[0;34m.\u001b[0m\u001b[0mDeferredProductRep\u001b[0m\u001b[0;34m(\u001b[0m\u001b[0mself\u001b[0m\u001b[0;34m,\u001b[0m\u001b[0mother\u001b[0m\u001b[0;34m)\u001b[0m\u001b[0;34m\u001b[0m\u001b[0;34m\u001b[0m\u001b[0m\n",
      "\u001b[0m\n",
      "ipdb> type(self\n",
      "*** SyntaxError: unexpected EOF while parsing\n",
      "ipdb> type(self)\n",
      "<class 'core.product_sum_reps.DirectProduct'>\n",
      "ipdb> type(other)\n",
      "<class 'core.product_sum_reps.DirectProduct'>\n",
      "ipdb> q\n"
     ]
    }
   ],
   "source": [
    "%debug"
   ]
  },
  {
   "cell_type": "code",
   "execution_count": 24,
   "metadata": {},
   "outputs": [
    {
     "name": "stdout",
     "output_type": "stream",
     "text": [
      "V_S(4) <class 'core.representation.Base'> V_S(4) <class 'core.representation.Base'>\n",
      "V_S(4)² <class 'core.product_sum_reps.ProductRep'> V_Z(3) <class 'core.representation.Base'>\n",
      "got here\n",
      "finalized {V_Z(3): 1, V_S(4)²: 1}\n",
      "V_Z(3)⊗V_S(4)² <class 'core.product_sum_reps.DirectProduct'> V_S(4) <class 'core.representation.Base'>\n",
      "got here\n",
      "V_S(4) <class 'core.representation.Base'> V_S(4)² <class 'core.product_sum_reps.ProductRep'>\n",
      "finalized {V_Z(3): 1, V_S(4)³: 1}\n",
      "V_Z(3)⊗V_S(4)³ <class 'core.product_sum_reps.DirectProduct'>\n"
     ]
    }
   ],
   "source": [
    "r = T(2)(S(4))*T(1)(Z(3))*T(1)(S(4))\n",
    "print(r,type(r))"
   ]
  },
  {
   "cell_type": "code",
   "execution_count": 19,
   "metadata": {},
   "outputs": [
    {
     "data": {
      "text/plain": [
       "core.product_sum_reps.ProductRep"
      ]
     },
     "execution_count": 19,
     "metadata": {},
     "output_type": "execute_result"
    }
   ],
   "source": [
    "type(tuple(tuple(r.reps)[1].reps)[1])"
   ]
  },
  {
   "cell_type": "code",
   "execution_count": 8,
   "metadata": {},
   "outputs": [],
   "source": [
    "lrep = (rep>>rep)(G)\n",
    "Q = lrep.equivariant_basis()"
   ]
  },
  {
   "cell_type": "code",
   "execution_count": 9,
   "metadata": {},
   "outputs": [
    {
     "data": {
      "text/plain": [
       "(441, 111)"
      ]
     },
     "execution_count": 9,
     "metadata": {},
     "output_type": "execute_result"
    }
   ],
   "source": [
    "Q.shape"
   ]
  },
  {
   "cell_type": "code",
   "execution_count": 4,
   "metadata": {},
   "outputs": [],
   "source": [
    "rr = (rep>>rep)(G)"
   ]
  },
  {
   "cell_type": "code",
   "execution_count": 10,
   "metadata": {},
   "outputs": [
    {
     "data": {
      "text/plain": [
       "(-0.5, 4.5, 4.5, -0.5)"
      ]
     },
     "execution_count": 10,
     "metadata": {},
     "output_type": "execute_result"
    },
    {
     "data": {
      "image/png": "[encoded data removed]",
      "text/plain": [
       "<Figure size 432x288 with 1 Axes>"
      ]
     },
     "metadata": {
      "needs_background": "light"
     },
     "output_type": "display_data"
    }
   ],
   "source": [
    "import matplotlib.pyplot as plt\n",
    "plt.imshow((((rr.equivariant_basis()@np.eye(7))>0)@np.arange(7)).reshape(5,5))\n",
    "plt.axis('off')"
   ]
  },
  {
   "cell_type": "code",
   "execution_count": 22,
   "metadata": {},
   "outputs": [
    {
     "data": {
      "text/plain": [
       "V³"
      ]
     },
     "execution_count": 22,
     "metadata": {},
     "output_type": "execute_result"
    }
   ],
   "source": [
    "(T(0)*T(1)*T(2))(G)"
   ]
  },
  {
   "cell_type": "code",
   "execution_count": 23,
   "metadata": {},
   "outputs": [
    {
     "data": {
      "text/plain": [
       "2V⁰"
      ]
     },
     "execution_count": 23,
     "metadata": {},
     "output_type": "execute_result"
    }
   ],
   "source": [
    "(T(0)+T(0))(G)"
   ]
  },
  {
   "cell_type": "code",
   "execution_count": 14,
   "metadata": {},
   "outputs": [
    {
     "name": "stdout",
     "output_type": "stream",
     "text": [
      "> \u001b[0;32m/home/marc/equivariant-MLP/core/representation.py\u001b[0m(40)\u001b[0;36m__call__\u001b[0;34m()\u001b[0m\n",
      "\u001b[0;32m     38 \u001b[0;31m    \u001b[0;32mdef\u001b[0m \u001b[0m__call__\u001b[0m\u001b[0;34m(\u001b[0m\u001b[0mself\u001b[0m\u001b[0;34m,\u001b[0m\u001b[0mG\u001b[0m\u001b[0;34m)\u001b[0m\u001b[0;34m:\u001b[0m\u001b[0;34m\u001b[0m\u001b[0;34m\u001b[0m\u001b[0m\n",
      "\u001b[0m\u001b[0;32m     39 \u001b[0;31m        \u001b[0mprint\u001b[0m\u001b[0;34m(\u001b[0m\u001b[0mtype\u001b[0m\u001b[0;34m(\u001b[0m\u001b[0mself\u001b[0m\u001b[0;34m)\u001b[0m\u001b[0;34m,\u001b[0m\u001b[0mself\u001b[0m\u001b[0;34m)\u001b[0m\u001b[0;34m\u001b[0m\u001b[0;34m\u001b[0m\u001b[0m\n",
      "\u001b[0m\u001b[0;32m---> 40 \u001b[0;31m        \u001b[0;32mraise\u001b[0m \u001b[0mNotImplementedError\u001b[0m \u001b[0;31m# set the symmetry group\u001b[0m\u001b[0;34m\u001b[0m\u001b[0;34m\u001b[0m\u001b[0m\n",
      "\u001b[0m\u001b[0;32m     41 \u001b[0;31m    \u001b[0;32mdef\u001b[0m \u001b[0mcanonicalize\u001b[0m\u001b[0;34m(\u001b[0m\u001b[0mself\u001b[0m\u001b[0;34m)\u001b[0m\u001b[0;34m:\u001b[0m \u001b[0;32mreturn\u001b[0m \u001b[0mself\u001b[0m\u001b[0;34m,\u001b[0m \u001b[0mnp\u001b[0m\u001b[0;34m.\u001b[0m\u001b[0marange\u001b[0m\u001b[0;34m(\u001b[0m\u001b[0mself\u001b[0m\u001b[0;34m.\u001b[0m\u001b[0msize\u001b[0m\u001b[0;34m(\u001b[0m\u001b[0;34m)\u001b[0m\u001b[0;34m)\u001b[0m \u001b[0;31m# return canonicalized rep\u001b[0m\u001b[0;34m\u001b[0m\u001b[0;34m\u001b[0m\u001b[0m\n",
      "\u001b[0m\u001b[0;32m     42 \u001b[0;31m    \u001b[0;32mdef\u001b[0m \u001b[0msize\u001b[0m\u001b[0;34m(\u001b[0m\u001b[0mself\u001b[0m\u001b[0;34m)\u001b[0m\u001b[0;34m:\u001b[0m\u001b[0;34m\u001b[0m\u001b[0;34m\u001b[0m\u001b[0m\n",
      "\u001b[0m\n",
      "ipdb> up\n",
      "> \u001b[0;32m<ipython-input-13-022e1a01caf6>\u001b[0m(1)\u001b[0;36m<module>\u001b[0;34m()\u001b[0m\n",
      "\u001b[0;32m----> 1 \u001b[0;31m\u001b[0;34m(\u001b[0m\u001b[0mT\u001b[0m\u001b[0;34m(\u001b[0m\u001b[0;36m0\u001b[0m\u001b[0;34m)\u001b[0m\u001b[0;34m+\u001b[0m\u001b[0mT\u001b[0m\u001b[0;34m(\u001b[0m\u001b[0;36m0\u001b[0m\u001b[0;34m)\u001b[0m\u001b[0;34m)\u001b[0m\u001b[0;34m(\u001b[0m\u001b[0mG\u001b[0m\u001b[0;34m)\u001b[0m\u001b[0;34m\u001b[0m\u001b[0;34m\u001b[0m\u001b[0m\n",
      "\u001b[0m\n",
      "ipdb> up\n",
      "*** Oldest frame\n",
      "ipdb> up\n",
      "*** Oldest frame\n",
      "ipdb> q\n"
     ]
    }
   ],
   "source": [
    "%debug"
   ]
  },
  {
   "cell_type": "code",
   "execution_count": 4,
   "metadata": {},
   "outputs": [
    {
     "data": {
      "text/plain": [
       "V⊗V⊗V⊗V*⊗V*"
      ]
     },
     "execution_count": 4,
     "metadata": {},
     "output_type": "execute_result"
    }
   ],
   "source": [
    "V**3*(V**2).T"
   ]
  },
  {
   "cell_type": "code",
   "execution_count": 5,
   "metadata": {},
   "outputs": [
    {
     "data": {
      "text/plain": [
       "V⊗V⊗V⊗V*⊗V*⊗V*"
      ]
     },
     "execution_count": 5,
     "metadata": {},
     "output_type": "execute_result"
    }
   ],
   "source": [
    "V**3<<V**2<<V"
   ]
  },
  {
   "cell_type": "code",
   "execution_count": 6,
   "metadata": {},
   "outputs": [
    {
     "data": {
      "text/plain": [
       "V³+V⁴+V⁵+V⁶"
      ]
     },
     "execution_count": 6,
     "metadata": {},
     "output_type": "execute_result"
    }
   ],
   "source": [
    "(V**3 +V.T>>((V**2+V)>>V))(G)"
   ]
  },
  {
   "cell_type": "code",
   "execution_count": 7,
   "metadata": {},
   "outputs": [
    {
     "data": {
      "text/plain": [
       "(V⊗V⊗V*⊗V*⊗V*+V)"
      ]
     },
     "execution_count": 7,
     "metadata": {},
     "output_type": "execute_result"
    }
   ],
   "source": [
    "T(2,3)+T(1)"
   ]
  },
  {
   "cell_type": "code",
   "execution_count": 50,
   "metadata": {},
   "outputs": [
    {
     "data": {
      "text/plain": [
       "(V*⊗V*⊗V⊗V⊗V+V*)"
      ]
     },
     "execution_count": 50,
     "metadata": {},
     "output_type": "execute_result"
    }
   ],
   "source": [
    "(T(2,3)+T(1)).T"
   ]
  },
  {
   "cell_type": "code",
   "execution_count": 5,
   "metadata": {},
   "outputs": [
    {
     "data": {
      "text/plain": [
       "V²"
      ]
     },
     "execution_count": 5,
     "metadata": {},
     "output_type": "execute_result"
    }
   ],
   "source": [
    "T(0,2)(G)"
   ]
  },
  {
   "cell_type": "code",
   "execution_count": 6,
   "metadata": {},
   "outputs": [],
   "source": [
    "a,b,c = Base(),Dual(),Dual()\n",
    "ap,bp,cp = a(G),b(G),c(G)"
   ]
  },
  {
   "cell_type": "code",
   "execution_count": 7,
   "metadata": {},
   "outputs": [
    {
     "data": {
      "text/plain": [
       "V⊗V*⊗V*"
      ]
     },
     "execution_count": 7,
     "metadata": {},
     "output_type": "execute_result"
    }
   ],
   "source": [
    "(Base()*Dual()*Dual())#(G)"
   ]
  },
  {
   "cell_type": "code",
   "execution_count": 8,
   "metadata": {},
   "outputs": [
    {
     "data": {
      "text/plain": [
       "V"
      ]
     },
     "execution_count": 8,
     "metadata": {},
     "output_type": "execute_result"
    }
   ],
   "source": [
    "bp"
   ]
  },
  {
   "cell_type": "code",
   "execution_count": 6,
   "metadata": {},
   "outputs": [
    {
     "data": {
      "text/plain": [
       "'V³'"
      ]
     },
     "execution_count": 6,
     "metadata": {},
     "output_type": "execute_result"
    }
   ],
   "source": [
    "f\"V\\N{SUPERSCRIPT THREE}\""
   ]
  },
  {
   "cell_type": "code",
   "execution_count": 64,
   "metadata": {},
   "outputs": [],
   "source": [
    "G=SO(3)\n",
    "r = T(1)(G)*T(2)(G).T"
   ]
  },
  {
   "cell_type": "code",
   "execution_count": 65,
   "metadata": {},
   "outputs": [
    {
     "data": {
      "text/plain": [
       "V⊗V*²"
      ]
     },
     "execution_count": 65,
     "metadata": {},
     "output_type": "execute_result"
    }
   ],
   "source": [
    "r"
   ]
  },
  {
   "cell_type": "code",
   "execution_count": 4,
   "metadata": {},
   "outputs": [
    {
     "name": "stdout",
     "output_type": "stream",
     "text": [
      "[5T(0)+5T(1), 3T(0)+2T(1)+T(2)]\n",
      "axiswise: [  0   1   2  12  13  14  15  16  17   3   4   5   6   7   8   9  10  11\n",
      "  18  19  20  30  31  32  33  34  35  21  22  23  24  25  26  27  28  29\n",
      "  36  37  38  48  49  50  51  52  53  39  40  41  42  43  44  45  46  47\n",
      "  54  55  56  66  67  68  69  70  71  57  58  59  60  61  62  63  64  65\n",
      "  72  73  74  84  85  86  87  88  89  75  76  77  78  79  80  81  82  83\n",
      "  90  91  92 102 103 104 105 106 107  93  94  95  96  97  98  99 100 101\n",
      " 108 109 110 120 121 122 123 124 125 111 112 113 114 115 116 117 118 119\n",
      " 126 127 128 138 139 140 141 142 143 129 130 131 132 133 134 135 136 137\n",
      " 144 145 146 156 157 158 159 160 161 147 148 149 150 151 152 153 154 155\n",
      " 162 163 164 174 175 176 177 178 179 165 166 167 168 169 170 171 172 173\n",
      " 180 181 182 192 193 194 195 196 197 183 184 185 186 187 188 189 190 191\n",
      " 198 199 200 210 211 212 213 214 215 201 202 203 204 205 206 207 208 209\n",
      " 216 217 218 228 229 230 231 232 233 219 220 221 222 223 224 225 226 227\n",
      " 234 235 236 246 247 248 249 250 251 237 238 239 240 241 242 243 244 245\n",
      " 252 253 254 264 265 266 267 268 269 255 256 257 258 259 260 261 262 263\n",
      " 270 271 272 282 283 284 285 286 287 273 274 275 276 277 278 279 280 281\n",
      " 288 289 290 300 301 302 303 304 305 291 292 293 294 295 296 297 298 299\n",
      " 306 307 308 318 319 320 321 322 323 309 310 311 312 313 314 315 316 317\n",
      " 324 325 326 336 337 338 339 340 341 327 328 329 330 331 332 333 334 335\n",
      " 342 343 344 354 355 356 357 358 359 345 346 347 348 349 350 351 352 353]\n",
      "block perm [  0   1   2   3   4   5   6   7   8   9  10  11  12  13  14  15  16  17\n",
      "  18  19  20  21  22  23  24  25  26  27  28  29  30  31  32  33  34  35\n",
      "  36  37  38  39  40  41  42  43  44  45  46  47  48  49  50  51  52  53\n",
      "  54  55  56  57  58  59  60  61  62  63  64  65  66  67  68  69  70  71\n",
      "  72  73  74  75  76  77  78  79  80  81  82  83  84  85  86  87  88  89\n",
      "  90 108 126  91 109 127  92 110 128  93  94  95 111 112 113 129 130 131\n",
      "  96  97  98 114 115 116 132 133 134  99 100 101 102 103 104 105 106 107\n",
      " 117 118 119 120 121 122 123 124 125 135 136 137 138 139 140 141 142 143\n",
      " 144 162 180 145 163 181 146 164 182 147 148 149 165 166 167 183 184 185\n",
      " 150 151 152 168 169 170 186 187 188 153 154 155 156 157 158 159 160 161\n",
      " 171 172 173 174 175 176 177 178 179 189 190 191 192 193 194 195 196 197\n",
      " 198 216 234 199 217 235 200 218 236 201 202 203 219 220 221 237 238 239\n",
      " 204 205 206 222 223 224 240 241 242 207 208 209 210 211 212 213 214 215\n",
      " 225 226 227 228 229 230 231 232 233 243 244 245 246 247 248 249 250 251\n",
      " 252 270 288 253 271 289 254 272 290 255 256 257 273 274 275 291 292 293\n",
      " 258 259 260 276 277 278 294 295 296 261 262 263 264 265 266 267 268 269\n",
      " 279 280 281 282 283 284 285 286 287 297 298 299 300 301 302 303 304 305\n",
      " 306 324 342 307 325 343 308 326 344 309 310 311 327 328 329 345 346 347\n",
      " 312 313 314 330 331 332 348 349 350 315 316 317 318 319 320 321 322 323\n",
      " 333 334 335 336 337 338 339 340 341 351 352 353 354 355 356 357 358 359]\n",
      "each perm [  0   1   2   3   4   5   6   7   8   9  10  11  12  13  14  15  16  17\n",
      "  18  19  20  21  22  23  24  25  26  27  28  29  30  31  32  33  34  35\n",
      "  36  37  38  39  40  41  42  43  44  45  46  47  48  49  50  51  52  53\n",
      "  54  55  56  57  58  59  60  61  62  63  64  65  66  67  68  69  70  71\n",
      "  72  73  74  75  76  77  78  79  80  81  82  83  84  85  86  87  88  89\n",
      "  90  91  92  93  94  95  96  97  98  99 100 101 102 103 104 105 106 107\n",
      " 108 109 110 111 112 113 114 115 116 117 118 119 120 121 122 123 124 125\n",
      " 126 127 128 129 130 131 132 133 134 135 136 137 138 139 140 141 142 143\n",
      " 144 145 146 147 148 149 150 151 152 153 154 155 156 157 158 159 160 161\n",
      " 162 163 164 165 166 167 168 169 170 171 172 173 174 175 176 177 178 179\n",
      " 180 181 182 183 184 185 186 187 188 189 190 191 192 193 194 195 196 197\n",
      " 198 199 200 201 202 203 204 205 206 207 208 209 210 211 212 213 214 215\n",
      " 216 217 218 219 220 221 222 223 224 225 226 227 228 229 230 231 232 233\n",
      " 234 235 236 237 238 239 240 241 242 243 244 245 246 247 248 249 250 251\n",
      " 252 253 254 255 256 257 258 259 260 261 262 263 264 265 266 267 268 269\n",
      " 270 271 272 273 274 275 276 277 278 279 280 281 282 283 284 285 286 287\n",
      " 288 289 290 291 292 293 294 295 296 297 298 299 300 301 302 303 304 305\n",
      " 306 307 308 309 310 311 312 313 314 315 316 317 318 319 320 321 322 323\n",
      " 324 325 326 327 328 329 330 331 332 333 334 335 336 337 338 339 340 341\n",
      " 342 343 344 345 346 347 348 349 350 351 352 353 354 355 356 357 358 359]\n"
     ]
    }
   ],
   "source": [
    "G,r1,r2 = (SO(3),5*T(0)+5*T(1),3*T(0)+T(2)+2*T(1))\n",
    "rW = r1(G)*r2(G).T"
   ]
  },
  {
   "cell_type": "code",
   "execution_count": 5,
   "metadata": {},
   "outputs": [
    {
     "name": "stdout",
     "output_type": "stream",
     "text": [
      "T(1)⊗T(2) [ 0  1  2  3  4  5  6  7  8  9 10 11 12 13 14 15 16 17 18 19 20 21 22 23\n",
      " 24 25 26]\n",
      "T(1)⊗T(1) [0 1 2 3 4 5 6 7 8]\n",
      "T(0)⊗T(2) [0 1 2 3 4 5 6 7 8]\n",
      "T(0)⊗T(1) [0 1 2]\n",
      "T(0)⊗T(0) [0]\n"
     ]
    }
   ],
   "source": [
    "Q = rW.equivariant_basis()"
   ]
  },
  {
   "cell_type": "code",
   "execution_count": 10,
   "metadata": {},
   "outputs": [
    {
     "ename": "TypeError",
     "evalue": "'NoneType' object is not callable",
     "output_type": "error",
     "traceback": [
      "\u001b[0;31m---------------------------------------------------------------------------\u001b[0m",
      "\u001b[0;31mTypeError\u001b[0m                                 Traceback (most recent call last)",
      "\u001b[0;32m<ipython-input-10-248a73ace554>\u001b[0m in \u001b[0;36m<module>\u001b[0;34m\u001b[0m\n\u001b[0;32m----> 1\u001b[0;31m \u001b[0mQ\u001b[0m\u001b[0;34m.\u001b[0m\u001b[0mT\u001b[0m\u001b[0;34m@\u001b[0m\u001b[0mnp\u001b[0m\u001b[0;34m.\u001b[0m\u001b[0meye\u001b[0m\u001b[0;34m(\u001b[0m\u001b[0;36m360\u001b[0m\u001b[0;34m)\u001b[0m\u001b[0;34m\u001b[0m\u001b[0;34m\u001b[0m\u001b[0m\n\u001b[0m",
      "\u001b[0;32m~/equivariant-MLP/core/linear_operator_jax.py\u001b[0m in \u001b[0;36m__matmul__\u001b[0;34m(self, other)\u001b[0m\n\u001b[1;32m    351\u001b[0m             raise ValueError(\"Scalar operands are not allowed, \"\n\u001b[1;32m    352\u001b[0m                              \"use '*' instead\")\n\u001b[0;32m--> 353\u001b[0;31m         \u001b[0;32mreturn\u001b[0m \u001b[0mself\u001b[0m\u001b[0;34m.\u001b[0m\u001b[0m__mul__\u001b[0m\u001b[0;34m(\u001b[0m\u001b[0mother\u001b[0m\u001b[0;34m)\u001b[0m\u001b[0;34m\u001b[0m\u001b[0;34m\u001b[0m\u001b[0m\n\u001b[0m\u001b[1;32m    354\u001b[0m \u001b[0;34m\u001b[0m\u001b[0m\n\u001b[1;32m    355\u001b[0m     \u001b[0;32mdef\u001b[0m \u001b[0m__rmatmul__\u001b[0m\u001b[0;34m(\u001b[0m\u001b[0mself\u001b[0m\u001b[0;34m,\u001b[0m \u001b[0mother\u001b[0m\u001b[0;34m)\u001b[0m\u001b[0;34m:\u001b[0m\u001b[0;34m\u001b[0m\u001b[0;34m\u001b[0m\u001b[0m\n",
      "\u001b[0;32m~/equivariant-MLP/core/linear_operator_jax.py\u001b[0m in \u001b[0;36m__mul__\u001b[0;34m(self, x)\u001b[0m\n\u001b[1;32m    320\u001b[0m \u001b[0;34m\u001b[0m\u001b[0m\n\u001b[1;32m    321\u001b[0m     \u001b[0;32mdef\u001b[0m \u001b[0m__mul__\u001b[0m\u001b[0;34m(\u001b[0m\u001b[0mself\u001b[0m\u001b[0;34m,\u001b[0m \u001b[0mx\u001b[0m\u001b[0;34m)\u001b[0m\u001b[0;34m:\u001b[0m\u001b[0;34m\u001b[0m\u001b[0;34m\u001b[0m\u001b[0m\n\u001b[0;32m--> 322\u001b[0;31m         \u001b[0;32mreturn\u001b[0m \u001b[0mself\u001b[0m\u001b[0;34m.\u001b[0m\u001b[0mdot\u001b[0m\u001b[0;34m(\u001b[0m\u001b[0mx\u001b[0m\u001b[0;34m)\u001b[0m\u001b[0;34m\u001b[0m\u001b[0;34m\u001b[0m\u001b[0m\n\u001b[0m\u001b[1;32m    323\u001b[0m \u001b[0;34m\u001b[0m\u001b[0m\n\u001b[1;32m    324\u001b[0m     \u001b[0;32mdef\u001b[0m \u001b[0mdot\u001b[0m\u001b[0;34m(\u001b[0m\u001b[0mself\u001b[0m\u001b[0;34m,\u001b[0m \u001b[0mx\u001b[0m\u001b[0;34m)\u001b[0m\u001b[0;34m:\u001b[0m\u001b[0;34m\u001b[0m\u001b[0;34m\u001b[0m\u001b[0m\n",
      "\u001b[0;32m~/equivariant-MLP/core/linear_operator_jax.py\u001b[0m in \u001b[0;36mdot\u001b[0;34m(self, x)\u001b[0m\n\u001b[1;32m    342\u001b[0m                 \u001b[0;32mreturn\u001b[0m \u001b[0mself\u001b[0m\u001b[0;34m.\u001b[0m\u001b[0mmatvec\u001b[0m\u001b[0;34m(\u001b[0m\u001b[0mx\u001b[0m\u001b[0;34m)\u001b[0m\u001b[0;34m\u001b[0m\u001b[0;34m\u001b[0m\u001b[0m\n\u001b[1;32m    343\u001b[0m             \u001b[0;32melif\u001b[0m \u001b[0mx\u001b[0m\u001b[0;34m.\u001b[0m\u001b[0mndim\u001b[0m \u001b[0;34m==\u001b[0m \u001b[0;36m2\u001b[0m\u001b[0;34m:\u001b[0m\u001b[0;34m\u001b[0m\u001b[0;34m\u001b[0m\u001b[0m\n\u001b[0;32m--> 344\u001b[0;31m                 \u001b[0;32mreturn\u001b[0m \u001b[0mself\u001b[0m\u001b[0;34m.\u001b[0m\u001b[0mmatmat\u001b[0m\u001b[0;34m(\u001b[0m\u001b[0mx\u001b[0m\u001b[0;34m)\u001b[0m\u001b[0;34m\u001b[0m\u001b[0;34m\u001b[0m\u001b[0m\n\u001b[0m\u001b[1;32m    345\u001b[0m             \u001b[0;32melse\u001b[0m\u001b[0;34m:\u001b[0m\u001b[0;34m\u001b[0m\u001b[0;34m\u001b[0m\u001b[0m\n\u001b[1;32m    346\u001b[0m                 raise ValueError('expected 1-d or 2-d array or matrix, got %r'\n",
      "\u001b[0;32m~/equivariant-MLP/core/linear_operator_jax.py\u001b[0m in \u001b[0;36mmatmat\u001b[0;34m(self, X)\u001b[0m\n\u001b[1;32m    277\u001b[0m                              % (self.shape, X.shape))\n\u001b[1;32m    278\u001b[0m \u001b[0;34m\u001b[0m\u001b[0m\n\u001b[0;32m--> 279\u001b[0;31m         \u001b[0mY\u001b[0m \u001b[0;34m=\u001b[0m \u001b[0mself\u001b[0m\u001b[0;34m.\u001b[0m\u001b[0m_matmat\u001b[0m\u001b[0;34m(\u001b[0m\u001b[0mX\u001b[0m\u001b[0;34m)\u001b[0m\u001b[0;34m\u001b[0m\u001b[0;34m\u001b[0m\u001b[0m\n\u001b[0m\u001b[1;32m    280\u001b[0m         \u001b[0;32mreturn\u001b[0m \u001b[0mY\u001b[0m\u001b[0;34m\u001b[0m\u001b[0;34m\u001b[0m\u001b[0m\n\u001b[1;32m    281\u001b[0m \u001b[0;34m\u001b[0m\u001b[0m\n",
      "\u001b[0;32m~/equivariant-MLP/core/linear_operator_jax.py\u001b[0m in \u001b[0;36m_matmat\u001b[0;34m(self, x)\u001b[0m\n\u001b[1;32m    508\u001b[0m     \u001b[0;32mdef\u001b[0m \u001b[0m_matmat\u001b[0m\u001b[0;34m(\u001b[0m\u001b[0mself\u001b[0m\u001b[0;34m,\u001b[0m \u001b[0mx\u001b[0m\u001b[0;34m)\u001b[0m\u001b[0;34m:\u001b[0m\u001b[0;34m\u001b[0m\u001b[0;34m\u001b[0m\u001b[0m\n\u001b[1;32m    509\u001b[0m         \u001b[0;31m# NB. np.conj works also on sparse matrices\u001b[0m\u001b[0;34m\u001b[0m\u001b[0;34m\u001b[0m\u001b[0;34m\u001b[0m\u001b[0m\n\u001b[0;32m--> 510\u001b[0;31m         \u001b[0;32mreturn\u001b[0m \u001b[0mnp\u001b[0m\u001b[0;34m.\u001b[0m\u001b[0mconj\u001b[0m\u001b[0;34m(\u001b[0m\u001b[0mself\u001b[0m\u001b[0;34m.\u001b[0m\u001b[0mA\u001b[0m\u001b[0;34m.\u001b[0m\u001b[0m_rmatmat\u001b[0m\u001b[0;34m(\u001b[0m\u001b[0mnp\u001b[0m\u001b[0;34m.\u001b[0m\u001b[0mconj\u001b[0m\u001b[0;34m(\u001b[0m\u001b[0mx\u001b[0m\u001b[0;34m)\u001b[0m\u001b[0;34m)\u001b[0m\u001b[0;34m)\u001b[0m\u001b[0;34m\u001b[0m\u001b[0;34m\u001b[0m\u001b[0m\n\u001b[0m\u001b[1;32m    511\u001b[0m \u001b[0;34m\u001b[0m\u001b[0m\n\u001b[1;32m    512\u001b[0m     \u001b[0;32mdef\u001b[0m \u001b[0m_rmatmat\u001b[0m\u001b[0;34m(\u001b[0m\u001b[0mself\u001b[0m\u001b[0;34m,\u001b[0m \u001b[0mx\u001b[0m\u001b[0;34m)\u001b[0m\u001b[0;34m:\u001b[0m\u001b[0;34m\u001b[0m\u001b[0;34m\u001b[0m\u001b[0m\n",
      "\u001b[0;32m~/equivariant-MLP/core/linear_operator_jax.py\u001b[0m in \u001b[0;36m_rmatmat\u001b[0;34m(self, X)\u001b[0m\n\u001b[1;32m    460\u001b[0m             \u001b[0;32mreturn\u001b[0m \u001b[0mself\u001b[0m\u001b[0;34m.\u001b[0m\u001b[0m__rmatmat_impl\u001b[0m\u001b[0;34m(\u001b[0m\u001b[0mX\u001b[0m\u001b[0;34m)\u001b[0m\u001b[0;34m\u001b[0m\u001b[0;34m\u001b[0m\u001b[0m\n\u001b[1;32m    461\u001b[0m         \u001b[0;32melse\u001b[0m\u001b[0;34m:\u001b[0m\u001b[0;34m\u001b[0m\u001b[0;34m\u001b[0m\u001b[0m\n\u001b[0;32m--> 462\u001b[0;31m             \u001b[0;32mreturn\u001b[0m \u001b[0msuper\u001b[0m\u001b[0;34m(\u001b[0m\u001b[0m_CustomLinearOperator\u001b[0m\u001b[0;34m,\u001b[0m \u001b[0mself\u001b[0m\u001b[0;34m)\u001b[0m\u001b[0;34m.\u001b[0m\u001b[0m_rmatmat\u001b[0m\u001b[0;34m(\u001b[0m\u001b[0mX\u001b[0m\u001b[0;34m)\u001b[0m\u001b[0;34m\u001b[0m\u001b[0;34m\u001b[0m\u001b[0m\n\u001b[0m\u001b[1;32m    463\u001b[0m \u001b[0;34m\u001b[0m\u001b[0m\n\u001b[1;32m    464\u001b[0m     \u001b[0;32mdef\u001b[0m \u001b[0m_adjoint\u001b[0m\u001b[0;34m(\u001b[0m\u001b[0mself\u001b[0m\u001b[0;34m)\u001b[0m\u001b[0;34m:\u001b[0m\u001b[0;34m\u001b[0m\u001b[0;34m\u001b[0m\u001b[0m\n",
      "\u001b[0;32m~/equivariant-MLP/core/linear_operator_jax.py\u001b[0m in \u001b[0;36m_rmatmat\u001b[0;34m(self, X)\u001b[0m\n\u001b[1;32m    314\u001b[0m             \u001b[0;32mreturn\u001b[0m \u001b[0mnp\u001b[0m\u001b[0;34m.\u001b[0m\u001b[0mhstack\u001b[0m\u001b[0;34m(\u001b[0m\u001b[0;34m[\u001b[0m\u001b[0mself\u001b[0m\u001b[0;34m.\u001b[0m\u001b[0mrmatvec\u001b[0m\u001b[0;34m(\u001b[0m\u001b[0mcol\u001b[0m\u001b[0;34m.\u001b[0m\u001b[0mreshape\u001b[0m\u001b[0;34m(\u001b[0m\u001b[0;34m-\u001b[0m\u001b[0;36m1\u001b[0m\u001b[0;34m,\u001b[0m \u001b[0;36m1\u001b[0m\u001b[0;34m)\u001b[0m\u001b[0;34m)\u001b[0m \u001b[0;32mfor\u001b[0m \u001b[0mcol\u001b[0m \u001b[0;32min\u001b[0m \u001b[0mX\u001b[0m\u001b[0;34m.\u001b[0m\u001b[0mT\u001b[0m\u001b[0;34m]\u001b[0m\u001b[0;34m)\u001b[0m\u001b[0;34m\u001b[0m\u001b[0;34m\u001b[0m\u001b[0m\n\u001b[1;32m    315\u001b[0m         \u001b[0;32melse\u001b[0m\u001b[0;34m:\u001b[0m\u001b[0;34m\u001b[0m\u001b[0;34m\u001b[0m\u001b[0m\n\u001b[0;32m--> 316\u001b[0;31m             \u001b[0;32mreturn\u001b[0m \u001b[0mself\u001b[0m\u001b[0;34m.\u001b[0m\u001b[0mH\u001b[0m\u001b[0;34m.\u001b[0m\u001b[0mmatmat\u001b[0m\u001b[0;34m(\u001b[0m\u001b[0mX\u001b[0m\u001b[0;34m)\u001b[0m\u001b[0;34m\u001b[0m\u001b[0;34m\u001b[0m\u001b[0m\n\u001b[0m\u001b[1;32m    317\u001b[0m \u001b[0;34m\u001b[0m\u001b[0m\n\u001b[1;32m    318\u001b[0m     \u001b[0;32mdef\u001b[0m \u001b[0m__call__\u001b[0m\u001b[0;34m(\u001b[0m\u001b[0mself\u001b[0m\u001b[0;34m,\u001b[0m \u001b[0mx\u001b[0m\u001b[0;34m)\u001b[0m\u001b[0;34m:\u001b[0m\u001b[0;34m\u001b[0m\u001b[0;34m\u001b[0m\u001b[0m\n",
      "\u001b[0;32m~/equivariant-MLP/core/linear_operator_jax.py\u001b[0m in \u001b[0;36mmatmat\u001b[0;34m(self, X)\u001b[0m\n\u001b[1;32m    277\u001b[0m                              % (self.shape, X.shape))\n\u001b[1;32m    278\u001b[0m \u001b[0;34m\u001b[0m\u001b[0m\n\u001b[0;32m--> 279\u001b[0;31m         \u001b[0mY\u001b[0m \u001b[0;34m=\u001b[0m \u001b[0mself\u001b[0m\u001b[0;34m.\u001b[0m\u001b[0m_matmat\u001b[0m\u001b[0;34m(\u001b[0m\u001b[0mX\u001b[0m\u001b[0;34m)\u001b[0m\u001b[0;34m\u001b[0m\u001b[0;34m\u001b[0m\u001b[0m\n\u001b[0m\u001b[1;32m    280\u001b[0m         \u001b[0;32mreturn\u001b[0m \u001b[0mY\u001b[0m\u001b[0;34m\u001b[0m\u001b[0;34m\u001b[0m\u001b[0m\n\u001b[1;32m    281\u001b[0m \u001b[0;34m\u001b[0m\u001b[0m\n",
      "\u001b[0;32m~/equivariant-MLP/core/linear_operator_jax.py\u001b[0m in \u001b[0;36m_matmat\u001b[0;34m(self, X)\u001b[0m\n\u001b[1;32m    445\u001b[0m             \u001b[0;32mreturn\u001b[0m \u001b[0mself\u001b[0m\u001b[0;34m.\u001b[0m\u001b[0m__matmat_impl\u001b[0m\u001b[0;34m(\u001b[0m\u001b[0mX\u001b[0m\u001b[0;34m)\u001b[0m\u001b[0;34m\u001b[0m\u001b[0;34m\u001b[0m\u001b[0m\n\u001b[1;32m    446\u001b[0m         \u001b[0;32melse\u001b[0m\u001b[0;34m:\u001b[0m\u001b[0;34m\u001b[0m\u001b[0;34m\u001b[0m\u001b[0m\n\u001b[0;32m--> 447\u001b[0;31m             \u001b[0;32mreturn\u001b[0m \u001b[0msuper\u001b[0m\u001b[0;34m(\u001b[0m\u001b[0m_CustomLinearOperator\u001b[0m\u001b[0;34m,\u001b[0m \u001b[0mself\u001b[0m\u001b[0;34m)\u001b[0m\u001b[0;34m.\u001b[0m\u001b[0m_matmat\u001b[0m\u001b[0;34m(\u001b[0m\u001b[0mX\u001b[0m\u001b[0;34m)\u001b[0m\u001b[0;34m\u001b[0m\u001b[0;34m\u001b[0m\u001b[0m\n\u001b[0m\u001b[1;32m    448\u001b[0m \u001b[0;34m\u001b[0m\u001b[0m\n\u001b[1;32m    449\u001b[0m     \u001b[0;32mdef\u001b[0m \u001b[0m_matvec\u001b[0m\u001b[0;34m(\u001b[0m\u001b[0mself\u001b[0m\u001b[0;34m,\u001b[0m \u001b[0mx\u001b[0m\u001b[0;34m)\u001b[0m\u001b[0;34m:\u001b[0m\u001b[0;34m\u001b[0m\u001b[0;34m\u001b[0m\u001b[0m\n",
      "\u001b[0;32m~/equivariant-MLP/core/linear_operator_jax.py\u001b[0m in \u001b[0;36m_matmat\u001b[0;34m(self, X)\u001b[0m\n\u001b[1;32m    162\u001b[0m         \"\"\"\n\u001b[1;32m    163\u001b[0m \u001b[0;34m\u001b[0m\u001b[0m\n\u001b[0;32m--> 164\u001b[0;31m         \u001b[0;32mreturn\u001b[0m \u001b[0mnp\u001b[0m\u001b[0;34m.\u001b[0m\u001b[0mhstack\u001b[0m\u001b[0;34m(\u001b[0m\u001b[0;34m[\u001b[0m\u001b[0mself\u001b[0m\u001b[0;34m.\u001b[0m\u001b[0mmatvec\u001b[0m\u001b[0;34m(\u001b[0m\u001b[0mcol\u001b[0m\u001b[0;34m.\u001b[0m\u001b[0mreshape\u001b[0m\u001b[0;34m(\u001b[0m\u001b[0;34m-\u001b[0m\u001b[0;36m1\u001b[0m\u001b[0;34m,\u001b[0m\u001b[0;36m1\u001b[0m\u001b[0;34m)\u001b[0m\u001b[0;34m)\u001b[0m \u001b[0;32mfor\u001b[0m \u001b[0mcol\u001b[0m \u001b[0;32min\u001b[0m \u001b[0mX\u001b[0m\u001b[0;34m.\u001b[0m\u001b[0mT\u001b[0m\u001b[0;34m]\u001b[0m\u001b[0;34m)\u001b[0m\u001b[0;34m\u001b[0m\u001b[0;34m\u001b[0m\u001b[0m\n\u001b[0m\u001b[1;32m    165\u001b[0m \u001b[0;34m\u001b[0m\u001b[0m\n\u001b[1;32m    166\u001b[0m     \u001b[0;32mdef\u001b[0m \u001b[0m_matvec\u001b[0m\u001b[0;34m(\u001b[0m\u001b[0mself\u001b[0m\u001b[0;34m,\u001b[0m \u001b[0mx\u001b[0m\u001b[0;34m)\u001b[0m\u001b[0;34m:\u001b[0m\u001b[0;34m\u001b[0m\u001b[0;34m\u001b[0m\u001b[0m\n",
      "\u001b[0;32m~/equivariant-MLP/core/linear_operator_jax.py\u001b[0m in \u001b[0;36m<listcomp>\u001b[0;34m(.0)\u001b[0m\n\u001b[1;32m    162\u001b[0m         \"\"\"\n\u001b[1;32m    163\u001b[0m \u001b[0;34m\u001b[0m\u001b[0m\n\u001b[0;32m--> 164\u001b[0;31m         \u001b[0;32mreturn\u001b[0m \u001b[0mnp\u001b[0m\u001b[0;34m.\u001b[0m\u001b[0mhstack\u001b[0m\u001b[0;34m(\u001b[0m\u001b[0;34m[\u001b[0m\u001b[0mself\u001b[0m\u001b[0;34m.\u001b[0m\u001b[0mmatvec\u001b[0m\u001b[0;34m(\u001b[0m\u001b[0mcol\u001b[0m\u001b[0;34m.\u001b[0m\u001b[0mreshape\u001b[0m\u001b[0;34m(\u001b[0m\u001b[0;34m-\u001b[0m\u001b[0;36m1\u001b[0m\u001b[0;34m,\u001b[0m\u001b[0;36m1\u001b[0m\u001b[0;34m)\u001b[0m\u001b[0;34m)\u001b[0m \u001b[0;32mfor\u001b[0m \u001b[0mcol\u001b[0m \u001b[0;32min\u001b[0m \u001b[0mX\u001b[0m\u001b[0;34m.\u001b[0m\u001b[0mT\u001b[0m\u001b[0;34m]\u001b[0m\u001b[0;34m)\u001b[0m\u001b[0;34m\u001b[0m\u001b[0;34m\u001b[0m\u001b[0m\n\u001b[0m\u001b[1;32m    165\u001b[0m \u001b[0;34m\u001b[0m\u001b[0m\n\u001b[1;32m    166\u001b[0m     \u001b[0;32mdef\u001b[0m \u001b[0m_matvec\u001b[0m\u001b[0;34m(\u001b[0m\u001b[0mself\u001b[0m\u001b[0;34m,\u001b[0m \u001b[0mx\u001b[0m\u001b[0;34m)\u001b[0m\u001b[0;34m:\u001b[0m\u001b[0;34m\u001b[0m\u001b[0;34m\u001b[0m\u001b[0m\n",
      "\u001b[0;32m~/equivariant-MLP/core/linear_operator_jax.py\u001b[0m in \u001b[0;36mmatvec\u001b[0;34m(self, x)\u001b[0m\n\u001b[1;32m    197\u001b[0m             \u001b[0;32mraise\u001b[0m \u001b[0mValueError\u001b[0m\u001b[0;34m(\u001b[0m\u001b[0;34m'dimension mismatch'\u001b[0m\u001b[0;34m)\u001b[0m\u001b[0;34m\u001b[0m\u001b[0;34m\u001b[0m\u001b[0m\n\u001b[1;32m    198\u001b[0m \u001b[0;34m\u001b[0m\u001b[0m\n\u001b[0;32m--> 199\u001b[0;31m         \u001b[0my\u001b[0m \u001b[0;34m=\u001b[0m \u001b[0mself\u001b[0m\u001b[0;34m.\u001b[0m\u001b[0m_matvec\u001b[0m\u001b[0;34m(\u001b[0m\u001b[0mx\u001b[0m\u001b[0;34m)\u001b[0m\u001b[0;34m\u001b[0m\u001b[0;34m\u001b[0m\u001b[0m\n\u001b[0m\u001b[1;32m    200\u001b[0m \u001b[0;34m\u001b[0m\u001b[0m\n\u001b[1;32m    201\u001b[0m         \u001b[0;32mif\u001b[0m \u001b[0mx\u001b[0m\u001b[0;34m.\u001b[0m\u001b[0mndim\u001b[0m \u001b[0;34m==\u001b[0m \u001b[0;36m1\u001b[0m\u001b[0;34m:\u001b[0m\u001b[0;34m\u001b[0m\u001b[0;34m\u001b[0m\u001b[0m\n",
      "\u001b[0;32m~/equivariant-MLP/core/linear_operator_jax.py\u001b[0m in \u001b[0;36m_matvec\u001b[0;34m(self, x)\u001b[0m\n\u001b[1;32m    448\u001b[0m \u001b[0;34m\u001b[0m\u001b[0m\n\u001b[1;32m    449\u001b[0m     \u001b[0;32mdef\u001b[0m \u001b[0m_matvec\u001b[0m\u001b[0;34m(\u001b[0m\u001b[0mself\u001b[0m\u001b[0;34m,\u001b[0m \u001b[0mx\u001b[0m\u001b[0;34m)\u001b[0m\u001b[0;34m:\u001b[0m\u001b[0;34m\u001b[0m\u001b[0;34m\u001b[0m\u001b[0m\n\u001b[0;32m--> 450\u001b[0;31m         \u001b[0;32mreturn\u001b[0m \u001b[0mself\u001b[0m\u001b[0;34m.\u001b[0m\u001b[0m__matvec_impl\u001b[0m\u001b[0;34m(\u001b[0m\u001b[0mx\u001b[0m\u001b[0;34m)\u001b[0m\u001b[0;34m\u001b[0m\u001b[0;34m\u001b[0m\u001b[0m\n\u001b[0m\u001b[1;32m    451\u001b[0m \u001b[0;34m\u001b[0m\u001b[0m\n\u001b[1;32m    452\u001b[0m     \u001b[0;32mdef\u001b[0m \u001b[0m_rmatvec\u001b[0m\u001b[0;34m(\u001b[0m\u001b[0mself\u001b[0m\u001b[0;34m,\u001b[0m \u001b[0mx\u001b[0m\u001b[0;34m)\u001b[0m\u001b[0;34m:\u001b[0m\u001b[0;34m\u001b[0m\u001b[0;34m\u001b[0m\u001b[0m\n",
      "\u001b[0;31mTypeError\u001b[0m: 'NoneType' object is not callable"
     ]
    }
   ],
   "source": [
    "Q.T@np.eye(360)"
   ]
  },
  {
   "cell_type": "code",
   "execution_count": 3,
   "metadata": {},
   "outputs": [],
   "source": [
    "rep = (T(0,0)+T(1,0))(G)+(T(0,0)+T(1,1)+T(1,0)+T(0,2))(G) + T(1)(G)"
   ]
  },
  {
   "cell_type": "code",
   "execution_count": 4,
   "metadata": {},
   "outputs": [
    {
     "data": {
      "text/plain": [
       "core.product_sum_reps.SumRep"
      ]
     },
     "execution_count": 4,
     "metadata": {},
     "output_type": "execute_result"
    }
   ],
   "source": [
    "type(rep)"
   ]
  },
  {
   "cell_type": "code",
   "execution_count": 5,
   "metadata": {},
   "outputs": [
    {
     "data": {
      "text/plain": [
       "2T(0)+3T(1)+2T(2)"
      ]
     },
     "execution_count": 5,
     "metadata": {},
     "output_type": "execute_result"
    }
   ],
   "source": [
    "1*rep.T"
   ]
  },
  {
   "cell_type": "code",
   "execution_count": 6,
   "metadata": {},
   "outputs": [
    {
     "data": {
      "text/plain": [
       "2T(0)⊗T(1)+3T(1)⊗T(1)+5T(1)⊗T(2)+2T(0)⊗T(2)+2T(2)⊗T(2)"
      ]
     },
     "execution_count": 6,
     "metadata": {},
     "output_type": "execute_result"
    }
   ],
   "source": [
    "rep*(T(1)(G)+T(2)(G))"
   ]
  },
  {
   "cell_type": "code",
   "execution_count": 7,
   "metadata": {},
   "outputs": [],
   "source": [
    "r1,r2 = 5*T(0)+5*T(1),3*T(0)+T(2)+2*T(1)"
   ]
  },
  {
   "cell_type": "code",
   "execution_count": 8,
   "metadata": {},
   "outputs": [],
   "source": [
    "P = (r1(G)*r2(G).T).equivariant_projector()"
   ]
  },
  {
   "cell_type": "code",
   "execution_count": 9,
   "metadata": {},
   "outputs": [
    {
     "data": {
      "text/plain": [
       "<165x165 _CustomLinearOperator with dtype=float32>"
      ]
     },
     "execution_count": 9,
     "metadata": {},
     "output_type": "execute_result"
    }
   ],
   "source": [
    "P"
   ]
  },
  {
   "cell_type": "code",
   "execution_count": 6,
   "metadata": {},
   "outputs": [
    {
     "data": {
      "text/plain": [
       "T(0, 0)+T(1, 0)+T(0, 0)+T(1, 1)+T(1, 0)+T(0, 2)⊗T(1, 0)+T(2, 0)"
      ]
     },
     "execution_count": 6,
     "metadata": {},
     "output_type": "execute_result"
    }
   ],
   "source": [
    "(T(0,0)+T(1,0)+T(0,0)+T(1,1)+T(1,0)+T(0,2))*(T(1)+T(2))"
   ]
  },
  {
   "cell_type": "code",
   "execution_count": 4,
   "metadata": {},
   "outputs": [],
   "source": [
    "rep = (T(2)(SO(2)))*(T(1)*T(2))(SO(2))"
   ]
  },
  {
   "cell_type": "code",
   "execution_count": 5,
   "metadata": {},
   "outputs": [
    {
     "name": "stdout",
     "output_type": "stream",
     "text": [
      "T(1)⊗T(2)⊗T(2)\n"
     ]
    }
   ],
   "source": [
    "print(rep)"
   ]
  },
  {
   "cell_type": "code",
   "execution_count": 6,
   "metadata": {},
   "outputs": [
    {
     "data": {
      "text/plain": [
       "array([[[ 0,  1,  2,  3],\n",
       "        [ 4,  5,  6,  7]],\n",
       "\n",
       "       [[ 8,  9, 10, 11],\n",
       "        [12, 13, 14, 15]],\n",
       "\n",
       "       [[16, 17, 18, 19],\n",
       "        [20, 21, 22, 23]],\n",
       "\n",
       "       [[24, 25, 26, 27],\n",
       "        [28, 29, 30, 31]]])"
      ]
     },
     "execution_count": 6,
     "metadata": {},
     "output_type": "execute_result"
    }
   ],
   "source": [
    "np.arange(32).reshape((4,2,4))"
   ]
  },
  {
   "cell_type": "code",
   "execution_count": 32,
   "metadata": {},
   "outputs": [
    {
     "data": {
      "text/plain": [
       "(2, 4, 4)"
      ]
     },
     "execution_count": 32,
     "metadata": {},
     "output_type": "execute_result"
    }
   ],
   "source": [
    "np.arange(32).reshape((4,2,4)).transpose((1,0,2)).shape"
   ]
  },
  {
   "cell_type": "code",
   "execution_count": 20,
   "metadata": {},
   "outputs": [
    {
     "data": {
      "text/plain": [
       "array([ 0,  1,  2,  3,  8,  9, 10, 11, 16, 17, 18, 19, 24, 25, 26, 27,  4,\n",
       "        5,  6,  7, 12, 13, 14, 15, 20, 21, 22, 23, 28, 29, 30, 31])"
      ]
     },
     "execution_count": 20,
     "metadata": {},
     "output_type": "execute_result"
    }
   ],
   "source": [
    "rep.perm"
   ]
  },
  {
   "cell_type": "code",
   "execution_count": 7,
   "metadata": {},
   "outputs": [
    {
     "data": {
      "text/plain": [
       "[140393403199984, 140396192526592, 140392079458608]"
      ]
     },
     "execution_count": 7,
     "metadata": {},
     "output_type": "execute_result"
    }
   ],
   "source": [
    "[id(r) for r in rep.reps]"
   ]
  },
  {
   "cell_type": "code",
   "execution_count": 9,
   "metadata": {},
   "outputs": [],
   "source": [
    "from collections import Counter"
   ]
  },
  {
   "cell_type": "code",
   "execution_count": 10,
   "metadata": {},
   "outputs": [
    {
     "ename": "TypeError",
     "evalue": "unsupported operand type(s) for |: 'Counter' and 'int'",
     "output_type": "error",
     "traceback": [
      "\u001b[0;31m---------------------------------------------------------------------------\u001b[0m",
      "\u001b[0;31mTypeError\u001b[0m                                 Traceback (most recent call last)",
      "\u001b[0;32m<ipython-input-10-08ba3220be56>\u001b[0m in \u001b[0;36m<module>\u001b[0;34m\u001b[0m\n\u001b[0;32m----> 1\u001b[0;31m \u001b[0mCounter\u001b[0m\u001b[0;34m(\u001b[0m\u001b[0;34m{\u001b[0m\u001b[0;34m'a'\u001b[0m\u001b[0;34m:\u001b[0m\u001b[0;36m2\u001b[0m\u001b[0;34m,\u001b[0m\u001b[0;34m'b'\u001b[0m\u001b[0;34m:\u001b[0m\u001b[0;36m3\u001b[0m\u001b[0;34m}\u001b[0m\u001b[0;34m)\u001b[0m\u001b[0;34m|\u001b[0m\u001b[0;36m0\u001b[0m\u001b[0;34m\u001b[0m\u001b[0;34m\u001b[0m\u001b[0m\n\u001b[0m",
      "\u001b[0;31mTypeError\u001b[0m: unsupported operand type(s) for |: 'Counter' and 'int'"
     ]
    }
   ],
   "source": [
    "Counter({'a':2,'b':3})|0"
   ]
  },
  {
   "cell_type": "code",
   "execution_count": 3,
   "metadata": {},
   "outputs": [
    {
     "ename": "NameError",
     "evalue": "name 'i' is not defined",
     "output_type": "error",
     "traceback": [
      "\u001b[0;31m---------------------------------------------------------------------------\u001b[0m",
      "\u001b[0;31mNameError\u001b[0m                                 Traceback (most recent call last)",
      "\u001b[0;32m<ipython-input-3-5b99636536d8>\u001b[0m in \u001b[0;36m<module>\u001b[0;34m\u001b[0m\n\u001b[0;32m----> 1\u001b[0;31m \u001b[0;34m[\u001b[0m\u001b[0mk\u001b[0m \u001b[0;32mfor\u001b[0m \u001b[0mk\u001b[0m \u001b[0;32min\u001b[0m \u001b[0mrange\u001b[0m\u001b[0;34m(\u001b[0m\u001b[0mi\u001b[0m\u001b[0;34m)\u001b[0m \u001b[0;32mfor\u001b[0m \u001b[0mi\u001b[0m \u001b[0;32min\u001b[0m \u001b[0mrange\u001b[0m\u001b[0;34m(\u001b[0m\u001b[0;36m3\u001b[0m\u001b[0;34m)\u001b[0m\u001b[0;34m]\u001b[0m\u001b[0;34m\u001b[0m\u001b[0;34m\u001b[0m\u001b[0m\n\u001b[0m",
      "\u001b[0;31mNameError\u001b[0m: name 'i' is not defined"
     ]
    }
   ],
   "source": [
    "[k for k in range(i) for i in range(3)]"
   ]
  },
  {
   "cell_type": "code",
   "execution_count": 4,
   "metadata": {},
   "outputs": [
    {
     "data": {
      "text/plain": [
       "[0, 0, 1]"
      ]
     },
     "execution_count": 4,
     "metadata": {},
     "output_type": "execute_result"
    }
   ],
   "source": [
    "[k for i in range(3) for k in range(i)]"
   ]
  },
  {
   "cell_type": "code",
   "execution_count": 5,
   "metadata": {},
   "outputs": [],
   "source": [
    "from collections import Counter"
   ]
  },
  {
   "cell_type": "code",
   "execution_count": 8,
   "metadata": {},
   "outputs": [
    {
     "ename": "AttributeError",
     "evalue": "'Counter' object has no attribute 'sort'",
     "output_type": "error",
     "traceback": [
      "\u001b[0;31m---------------------------------------------------------------------------\u001b[0m",
      "\u001b[0;31mAttributeError\u001b[0m                            Traceback (most recent call last)",
      "\u001b[0;32m<ipython-input-8-5f0fd26edbb8>\u001b[0m in \u001b[0;36m<module>\u001b[0;34m\u001b[0m\n\u001b[0;32m----> 1\u001b[0;31m \u001b[0mCounter\u001b[0m\u001b[0;34m(\u001b[0m\u001b[0;34m{\u001b[0m\u001b[0;34m'c'\u001b[0m\u001b[0;34m:\u001b[0m\u001b[0;36m2\u001b[0m\u001b[0;34m,\u001b[0m\u001b[0;34m'b'\u001b[0m\u001b[0;34m:\u001b[0m\u001b[0;36m1\u001b[0m\u001b[0;34m}\u001b[0m\u001b[0;34m)\u001b[0m\u001b[0;34m.\u001b[0m\u001b[0msort\u001b[0m\u001b[0;34m(\u001b[0m\u001b[0;34m)\u001b[0m\u001b[0;34m\u001b[0m\u001b[0;34m\u001b[0m\u001b[0m\n\u001b[0m",
      "\u001b[0;31mAttributeError\u001b[0m: 'Counter' object has no attribute 'sort'"
     ]
    }
   ],
   "source": [
    "Counter({'c':2,'b':1}).sort()"
   ]
  },
  {
   "cell_type": "code",
   "execution_count": 12,
   "metadata": {},
   "outputs": [
    {
     "ename": "TypeError",
     "evalue": "unsupported operand type(s) for |: 'dict' and 'dict'",
     "output_type": "error",
     "traceback": [
      "\u001b[0;31m---------------------------------------------------------------------------\u001b[0m",
      "\u001b[0;31mTypeError\u001b[0m                                 Traceback (most recent call last)",
      "\u001b[0;32m<ipython-input-12-4c91ab1b250f>\u001b[0m in \u001b[0;36m<module>\u001b[0;34m\u001b[0m\n\u001b[0;32m----> 1\u001b[0;31m \u001b[0;34m{\u001b[0m\u001b[0;34m'c'\u001b[0m\u001b[0;34m:\u001b[0m\u001b[0;36m2\u001b[0m\u001b[0;34m,\u001b[0m\u001b[0;34m'b'\u001b[0m\u001b[0;34m:\u001b[0m\u001b[0;36m1\u001b[0m\u001b[0;34m}\u001b[0m\u001b[0;34m|\u001b[0m\u001b[0;34m{\u001b[0m\u001b[0;34m'b'\u001b[0m\u001b[0;34m:\u001b[0m\u001b[0;36m2\u001b[0m\u001b[0;34m}\u001b[0m\u001b[0;34m\u001b[0m\u001b[0;34m\u001b[0m\u001b[0m\n\u001b[0m",
      "\u001b[0;31mTypeError\u001b[0m: unsupported operand type(s) for |: 'dict' and 'dict'"
     ]
    }
   ],
   "source": [
    "{'c':2,'b':1}|{'b':2}"
   ]
  },
  {
   "cell_type": "code",
   "execution_count": 13,
   "metadata": {},
   "outputs": [],
   "source": [
    "import numpy as np"
   ]
  },
  {
   "cell_type": "code",
   "execution_count": 31,
   "metadata": {},
   "outputs": [],
   "source": [
    "x = np.arange(24).reshape(2,3,4)"
   ]
  },
  {
   "cell_type": "code",
   "execution_count": 16,
   "metadata": {},
   "outputs": [
    {
     "data": {
      "text/plain": [
       "slice(None, None, None)"
      ]
     },
     "execution_count": 16,
     "metadata": {},
     "output_type": "execute_result"
    }
   ],
   "source": [
    "slice(None)"
   ]
  },
  {
   "cell_type": "code",
   "execution_count": 28,
   "metadata": {},
   "outputs": [
    {
     "ename": "IndexError",
     "evalue": "only integers, slices (`:`), ellipsis (`...`), numpy.newaxis (`None`) and integer or boolean arrays are valid indices",
     "output_type": "error",
     "traceback": [
      "\u001b[0;31m---------------------------------------------------------------------------\u001b[0m",
      "\u001b[0;31mIndexError\u001b[0m                                Traceback (most recent call last)",
      "\u001b[0;32m<ipython-input-28-ca2d09efdd98>\u001b[0m in \u001b[0;36m<module>\u001b[0;34m\u001b[0m\n\u001b[0;32m----> 1\u001b[0;31m \u001b[0mx\u001b[0m\u001b[0;34m[\u001b[0m\u001b[0;34m(\u001b[0m\u001b[0mslice\u001b[0m\u001b[0;34m(\u001b[0m\u001b[0;32mNone\u001b[0m\u001b[0;34m,\u001b[0m\u001b[0;36m1\u001b[0m\u001b[0;34m)\u001b[0m\u001b[0;34m,\u001b[0m\u001b[0mslice\u001b[0m\u001b[0;34m(\u001b[0m\u001b[0;36m2\u001b[0m\u001b[0;34m,\u001b[0m\u001b[0;36m5\u001b[0m\u001b[0;34m)\u001b[0m\u001b[0;34m)\u001b[0m\u001b[0;34m,\u001b[0m\u001b[0;36m0\u001b[0m\u001b[0;34m]\u001b[0m\u001b[0;34m\u001b[0m\u001b[0;34m\u001b[0m\u001b[0m\n\u001b[0m",
      "\u001b[0;31mIndexError\u001b[0m: only integers, slices (`:`), ellipsis (`...`), numpy.newaxis (`None`) and integer or boolean arrays are valid indices"
     ]
    }
   ],
   "source": [
    "x[(slice(None,1),slice(2,5)),0]"
   ]
  },
  {
   "cell_type": "code",
   "execution_count": 22,
   "metadata": {},
   "outputs": [
    {
     "data": {
      "text/plain": [
       "array([[0, 1, 2, 3, 4],\n",
       "       [5, 6, 7, 8, 9]])"
      ]
     },
     "execution_count": 22,
     "metadata": {},
     "output_type": "execute_result"
    }
   ],
   "source": [
    "x"
   ]
  },
  {
   "cell_type": "code",
   "execution_count": 32,
   "metadata": {},
   "outputs": [
    {
     "data": {
      "text/plain": [
       "(2, 3, 4)"
      ]
     },
     "execution_count": 32,
     "metadata": {},
     "output_type": "execute_result"
    }
   ],
   "source": [
    "x.shape"
   ]
  },
  {
   "cell_type": "code",
   "execution_count": 36,
   "metadata": {},
   "outputs": [
    {
     "data": {
      "text/plain": [
       "(2, 3, 4)"
      ]
     },
     "execution_count": 36,
     "metadata": {},
     "output_type": "execute_result"
    }
   ],
   "source": [
    "np.swapaxes(np.swapaxes(x,0,1),0,1).shape"
   ]
  },
  {
   "cell_type": "code",
   "execution_count": 9,
   "metadata": {},
   "outputs": [
    {
     "data": {
      "text/plain": [
       "10"
      ]
     },
     "execution_count": 9,
     "metadata": {},
     "output_type": "execute_result"
    }
   ],
   "source": [
    "np.arange(10).reshape((2,5)).size"
   ]
  },
  {
   "cell_type": "code",
   "execution_count": 12,
   "metadata": {},
   "outputs": [
    {
     "data": {
      "text/plain": [
       "[(0, 0, 1, 1, 2, 2, 3, 3, 4, 4), (0, 1, 0, 1, 0, 1, 0, 1, 0, 1)]"
      ]
     },
     "execution_count": 12,
     "metadata": {},
     "output_type": "execute_result"
    }
   ],
   "source": [
    "import itertools\n",
    "x = np.arange(5)\n",
    "y = np.arange(2)\n",
    "\n",
    "list(zip(*itertools.product(x,y)))"
   ]
  },
  {
   "cell_type": "code",
   "execution_count": 11,
   "metadata": {},
   "outputs": [
    {
     "data": {
      "text/plain": [
       "[(0, 0),\n",
       " (0, 1),\n",
       " (1, 0),\n",
       " (1, 1),\n",
       " (2, 0),\n",
       " (2, 1),\n",
       " (3, 0),\n",
       " (3, 1),\n",
       " (4, 0),\n",
       " (4, 1)]"
      ]
     },
     "execution_count": 11,
     "metadata": {},
     "output_type": "execute_result"
    }
   ],
   "source": [
    "[(a,b) for a in x for b in y] "
   ]
  },
  {
   "cell_type": "code",
   "execution_count": 2,
   "metadata": {},
   "outputs": [
    {
     "data": {
      "text/plain": [
       "array([ 0,  1,  2,  3, 16, 17, 18, 19,  4,  5,  6,  7,  8,  9, 10, 11, 12,\n",
       "       13, 14, 15])"
      ]
     },
     "execution_count": 2,
     "metadata": {},
     "output_type": "execute_result"
    }
   ],
   "source": [
    "import numpy as np\n",
    "np.arange(20).reshape(5,4)[[0,4,1,2,3],:].reshape(-1)"
   ]
  },
  {
   "cell_type": "code",
   "execution_count": 28,
   "metadata": {},
   "outputs": [],
   "source": [
    "x = [1,2,3]\n",
    "lprod = np.cumprod([1]+x)"
   ]
  },
  {
   "cell_type": "code",
   "execution_count": 29,
   "metadata": {},
   "outputs": [],
   "source": [
    "rprod = np.cumprod([1]+list(reversed(x)))[::-1]"
   ]
  },
  {
   "cell_type": "code",
   "execution_count": 31,
   "metadata": {},
   "outputs": [
    {
     "name": "stdout",
     "output_type": "stream",
     "text": [
      "1 1 6\n",
      "1 2 3\n",
      "2 3 1\n"
     ]
    }
   ],
   "source": [
    "for i in range(3):\n",
    "    print(lprod[i],x[i],rprod[i+1])"
   ]
  },
  {
   "cell_type": "code",
   "execution_count": 32,
   "metadata": {},
   "outputs": [
    {
     "data": {
      "text/plain": [
       "array([1, 1, 2, 6])"
      ]
     },
     "execution_count": 32,
     "metadata": {},
     "output_type": "execute_result"
    }
   ],
   "source": [
    "lprod"
   ]
  },
  {
   "cell_type": "code",
   "execution_count": 33,
   "metadata": {},
   "outputs": [
    {
     "data": {
      "text/plain": [
       "array([6, 6, 3, 1])"
      ]
     },
     "execution_count": 33,
     "metadata": {},
     "output_type": "execute_result"
    }
   ],
   "source": [
    "rprod"
   ]
  },
  {
   "cell_type": "code",
   "execution_count": 1,
   "metadata": {},
   "outputs": [],
   "source": [
    "import random\n",
    "import numpy as np"
   ]
  },
  {
   "cell_type": "code",
   "execution_count": 5,
   "metadata": {},
   "outputs": [
    {
     "data": {
      "text/plain": [
       "array([[0, 1, 2, 3, 4],\n",
       "       [5, 6, 7, 8, 9]])"
      ]
     },
     "execution_count": 5,
     "metadata": {},
     "output_type": "execute_result"
    }
   ],
   "source": [
    "np.concatenate([np.arange(15).reshape(3,5)[0],np.arange(15).reshape(3,5)[1]]).reshape(2,5)"
   ]
  },
  {
   "cell_type": "code",
   "execution_count": 3,
   "metadata": {},
   "outputs": [
    {
     "data": {
      "text/plain": [
       "array([[ 0,  1,  2,  3,  4],\n",
       "       [ 5,  6,  7,  8,  9],\n",
       "       [10, 11, 12, 13, 14]])"
      ]
     },
     "execution_count": 3,
     "metadata": {},
     "output_type": "execute_result"
    }
   ],
   "source": [
    "np.arange(15).reshape(3,5)"
   ]
  },
  {
   "cell_type": "code",
   "execution_count": 6,
   "metadata": {},
   "outputs": [
    {
     "name": "stdout",
     "output_type": "stream",
     "text": [
      "The autoreload extension is already loaded. To reload it, use:\n",
      "  %reload_ext autoreload\n",
      "{V⁰: array([[0]]), V: array([[1, 2, 3],\n",
      "       [4, 5, 6]])}\n",
      "{V⁰: array([0]), V: array([4, 5, 6, 4, 5, 6])}\n",
      "(6,)\n"
     ]
    }
   ],
   "source": [
    "%load_ext autoreload\n",
    "%autoreload 2\n",
    "import numpy as np#\n",
    "import copy\n",
    "from core.representation import *\n",
    "from core.groups import *\n",
    "from emlp.mlp import uniform_rep\n",
    "import unittest\n",
    "from jax import vmap\n",
    "import jax.numpy as jnp\n",
    "import logging\n",
    "import argparse\n",
    "import sys\n",
    "import copy\n",
    "from functools import partialmethod\n",
    "\n",
    "G,repin,repout = SO(3),T(0)+2*T(1),T(0)+2*T(1)\n",
    "\n",
    "\n",
    "def rel_error(t1,t2):\n",
    "    error = jnp.sqrt(jnp.mean(jnp.absolute(t1-t2)**2))\n",
    "    scale = jnp.sqrt(jnp.mean(jnp.absolute(t1)**2)) + jnp.sqrt(jnp.mean(jnp.absolute(t2)**2))\n",
    "    return error/jnp.maximum(scale,1e-7)\n",
    "\n",
    "N=5\n",
    "repin = repin(G)\n",
    "repout = repout(G)\n",
    "repW = repout*repin.T\n",
    "Wdim,P = bilinear_weights(repout,repin)\n",
    "x = np.random.rand(N,repin.size())\n",
    "gs = G.samples(N)\n",
    "ring = vmap(repin.rho)(gs)\n",
    "routg = vmap(repout.rho)(gs)\n",
    "gx = (ring@x[...,None])[...,0]\n",
    "\n",
    "W = np.random.rand(Wdim)\n",
    "W_x = P(W,x)\n",
    "Wxx = (W_x@x[...,None])[...,0]\n",
    "gWxx = (routg@Wxx[...,None])[...,0]\n",
    "Wgxgx =(P(W,gx)@gx[...,None])[...,0]\n",
    "equiv_err = rel_error(Wgxgx,gWxx)"
   ]
  },
  {
   "cell_type": "code",
   "execution_count": 7,
   "metadata": {},
   "outputs": [
    {
     "data": {
      "text/plain": [
       "DeviceArray(1.010514e-07, dtype=float32)"
      ]
     },
     "execution_count": 7,
     "metadata": {},
     "output_type": "execute_result"
    }
   ],
   "source": [
    "equiv_err"
   ]
  },
  {
   "cell_type": "code",
   "execution_count": 96,
   "metadata": {},
   "outputs": [
    {
     "data": {
      "text/plain": [
       "numpy.ndarray"
      ]
     },
     "execution_count": 96,
     "metadata": {},
     "output_type": "execute_result"
    }
   ],
   "source": [
    "type(np.arange(3))"
   ]
  },
  {
   "cell_type": "code",
   "execution_count": 12,
   "metadata": {},
   "outputs": [],
   "source": [
    "import jax"
   ]
  },
  {
   "cell_type": "code",
   "execution_count": 5,
   "metadata": {},
   "outputs": [
    {
     "data": {
      "text/plain": [
       "\"dtype('float32')\""
      ]
     },
     "execution_count": 5,
     "metadata": {},
     "output_type": "execute_result"
    }
   ],
   "source": [
    "repr(jax.device_put(jnp.arange(10)*.2).dtype)"
   ]
  },
  {
   "cell_type": "code",
   "execution_count": 4,
   "metadata": {},
   "outputs": [],
   "source": [
    "import numpy as np"
   ]
  },
  {
   "cell_type": "code",
   "execution_count": 5,
   "metadata": {},
   "outputs": [
    {
     "data": {
      "text/plain": [
       "array([[ 1.05157088, -0.32527118],\n",
       "       [-0.32527118,  1.05157098]])"
      ]
     },
     "execution_count": 5,
     "metadata": {},
     "output_type": "execute_result"
    }
   ],
   "source": [
    "np.linalg.inv([[ 1.0515709 ,  0.32527116],\n",
    "[ 0.32527116,  1.0515708 ]]).T"
   ]
  },
  {
   "cell_type": "code",
   "execution_count": null,
   "metadata": {},
   "outputs": [],
   "source": []
  }
 ],
 "metadata": {
  "kernelspec": {
   "display_name": "Python 3",
   "language": "python",
   "name": "python3"
  },
  "language_info": {
   "codemirror_mode": {
    "name": "ipython",
    "version": 3
   },
   "file_extension": ".py",
   "mimetype": "text/x-python",
   "name": "python",
   "nbconvert_exporter": "python",
   "pygments_lexer": "ipython3",
   "version": "3.8.5"
  }
 },
 "nbformat": 4,
 "nbformat_minor": 4
}
