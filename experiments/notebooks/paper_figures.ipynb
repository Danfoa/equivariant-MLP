{
 "cells": [
  {
   "cell_type": "code",
   "execution_count": 1,
   "metadata": {},
   "outputs": [],
   "source": [
    "import pandas as pd\n",
    "import matplotlib.pyplot as plt\n",
    "import numpy as np\n",
    "import seaborn as sns\n",
    "import pickle\n",
    "import os"
   ]
  },
  {
   "cell_type": "code",
   "execution_count": null,
   "metadata": {},
   "outputs": [],
   "source": [
    "# dfs = []\n",
    "# for net in [\"_emlp\"]:\n",
    "#     for ds in [\"O5Synthetic\",\"Inertia\",\"ParticleInteraction\"]:\n",
    "#         path = os.path.expanduser(f'~/equivariant-MLP/experiments/aws_expts/experiments/data_efficiency_nobn{net}_{ds}/results.df')\n",
    "#         if ds==\"ParticleInteraction\" and net==\"_emlp\":\n",
    "#             path = os.path.expanduser('~/equivariant-MLP/experiments/aws_expts/experiments/experiments/data_efficiency_nobn_emlp_ParticleInteraction/results.df')\n",
    "#         with open(path,'rb') as f:\n",
    "#             df = pickle.load(f)\n",
    "#             df['dataset'] = ds\n",
    "#             if 'network' in df.columns:\n",
    "#                 assert net==\"\"\n",
    "#                 df = df.drop(df[df['network']=='EMLP'].index)\n",
    "#                 df.loc[(df['aug']==False),'method'] = \"MLP\"\n",
    "#                 df.loc[(df['aug']==True),'method'] = \"MLP+Aug\"\n",
    "#             else:\n",
    "#                 #print(df.head())\n",
    "#                 #if len(df)<10: continue\n",
    "#                 df[\"method\"] = \"EMLP-\"+df[\"group\"].astype(str)\n",
    "        \n",
    "#         dfs.append(df)\n",
    "# df = pd.concat(dfs)\n"
   ]
  },
  {
   "cell_type": "code",
   "execution_count": null,
   "metadata": {},
   "outputs": [],
   "source": [
    "#df"
   ]
  },
  {
   "cell_type": "code",
   "execution_count": null,
   "metadata": {},
   "outputs": [],
   "source": [
    "# path = os.path.expanduser(\"~/equivariant-MLP/experiments/aws_expts/mlp_nobn_results.df\")\n",
    "# with open(path,'rb') as f:\n",
    "#     dfm = pickle.load(f)\n",
    "#     dfm.loc[(dfm['aug']==False),'method'] = \"MLP\"\n",
    "#     dfm.loc[(dfm['aug']==True),'method'] = \"MLP+Aug\"\n",
    "# df = pd.concat([dfm,df])"
   ]
  },
  {
   "cell_type": "code",
   "execution_count": null,
   "metadata": {},
   "outputs": [],
   "source": [
    "#df"
   ]
  },
  {
   "cell_type": "code",
   "execution_count": null,
   "metadata": {},
   "outputs": [],
   "source": []
  },
  {
   "cell_type": "code",
   "execution_count": null,
   "metadata": {},
   "outputs": [],
   "source": [
    "#df.to_pickle(\"./synthetic_results_all.pkl\")"
   ]
  },
  {
   "cell_type": "code",
   "execution_count": null,
   "metadata": {},
   "outputs": [],
   "source": [
    "#df =  pd.read_pickle(\"./synthetic_results_all.pkl\")"
   ]
  },
  {
   "cell_type": "code",
   "execution_count": null,
   "metadata": {},
   "outputs": [],
   "source": [
    "# df.loc[df['method']==\"EMLP-SO13\",\"method\"]=\"EMLP-SO(1,3)\"\n",
    "# df.loc[df['method']==\"EMLP-O13\",\"method\"]=\"EMLP-O(1,3)\"\n",
    "# df.loc[df['method']==\"EMLP-SO13p\",\"method\"]=r\"EMLP-SO$^+$(1,3)\"\n",
    "# df.loc[df['method']==\"EMLP-SO[5]\",\"method\"]=r\"EMLP-SO(5)\"\n",
    "# df.loc[df['method']==\"EMLP-O[5]\",\"method\"]=r\"EMLP-O(5)\"\n",
    "# df.loc[df['method']==\"EMLP-SO[3]\",\"method\"]=r\"EMLP-SO(3)\"\n",
    "# df.loc[df['method']==\"EMLP-O[3]\",\"method\"]=r\"EMLP-O(3)\""
   ]
  },
  {
   "cell_type": "code",
   "execution_count": null,
   "metadata": {},
   "outputs": [],
   "source": [
    "#df.to_csv(\"synthetic_results_all.csv\")"
   ]
  },
  {
   "cell_type": "code",
   "execution_count": null,
   "metadata": {},
   "outputs": [],
   "source": [
    "df = pd.read_csv(\"synthetic_results_all.csv\")\n",
    "df"
   ]
  },
  {
   "cell_type": "code",
   "execution_count": null,
   "metadata": {},
   "outputs": [],
   "source": [
    "from matplotlib import rc\n",
    "import seaborn as sns\n",
    "#rc('text', usetex=True)\n",
    "#rc('text.latex', preamble=r'\\usepackage{sansmath}')#, r'\\sansmath']) #r'\\usepackage{DejaVuSans}'\n",
    "# rc('font',**{'family':'sans-serif','sans-serif':['DejaVu Sans'],'size':44},)\n",
    "# rc('xtick.major', pad=12)\n",
    "# rc('ytick.major', pad=12)\n",
    "# rc('grid', linewidth=1.3)\n",
    "sns.set(style='whitegrid')\n",
    "sns.set_context(\"paper\", font_scale=1.5) \n",
    "#sns.set(font_scale=2)\n",
    "\n",
    "#fig, ax = plt.subplots(1, 3, figsize=(15, 5))#, sharey=True)\n",
    "pall = sns.color_palette(\"hls\", 5)\n",
    "colors = [\"#00abdf\", \"#00058A\", \"#6A0078\", (96/255,74/255,123/255), \"#8E6100\"]\n",
    "\n",
    "#ax[0].set_yscale('log')\n",
    "#ax[1].set_ylim((1e-5,1))\n",
    "#ax[0].set_ylabel('Test MSE')\n",
    "#ax[0].set_ylabel(r'$y_{2}$')\n",
    "#ax[1].set_xlabel(\"Time (seconds)\")\n",
    "#handles, labels = ax[0].get_legend_handles_labels()\n",
    "#labels[-1] = 'NeuralODE'\n",
    "for i,ds in enumerate(df['dataset'].unique()):\n",
    "    figsize = (5.2,4) if ds == \"O5Synthetic\" else (5,4)\n",
    "    fig, ax = plt.subplots(1, 1, figsize=figsize)#, sharey=True)\n",
    "    dfa = df[df['dataset']==ds]\n",
    "    #dfa = dfa.drop(dfa[dfa['group']=='Trivial[5]'].index)\n",
    "    #df[dfa['network']==\"MLP\"]\n",
    "    pal = pall[:len(dfa['method'].unique())]\n",
    "    sns.lineplot(ax=ax,data=dfa,x='train',y='test_MSE',hue='method',palette=pal,lw=3)\n",
    "    plt.legend(loc='upper left')\n",
    "    ax.set(xscale=\"log\", yscale=\"log\")\n",
    "    ax.set_xlabel(\"Training Set Size\")\n",
    "    if ds==\"O5Synthetic\":\n",
    "        ax.set_ylabel(\"Test MSE\")\n",
    "    else:\n",
    "        ax.set_ylabel(\"\")\n",
    "    handles, labels = ax.get_legend_handles_labels()\n",
    "    if ds==\"ParticleInteraction\":\n",
    "        leg = ax.legend(handles=handles, labels=labels,loc=\"best\",frameon=True,prop={'size': 12},framealpha=.4)\n",
    "    else:\n",
    "        leg = ax.legend(handles=handles, labels=labels,loc=\"upper right\",frameon=True,ncol=2,prop={'size': 12},bbox_to_anchor=(1,1.025),framealpha=.4)\n",
    "    for line in leg.get_lines():\n",
    "        line.set_linewidth(3.0)\n",
    "    #ax.legend(loc='upper left', frameon=False)\n",
    "    #plt.legend(bbox_to_anchor=(1.01, 1),borderaxespad=0)\n",
    "#plt.xlabel('Training Examples')\n",
    "#plt.yscale('log')\n",
    "#plt.xscale('log')\n",
    "    #plt.title(f\"{ds}\")\n",
    "    \n",
    "    plt.tight_layout()\n",
    "    #plt.savefig(f'data_efficiency_{ds}.pdf', bbox_inches='tight')\n",
    "    plt.show()"
   ]
  },
  {
   "cell_type": "code",
   "execution_count": 2,
   "metadata": {},
   "outputs": [],
   "source": [
    "import glob\n",
    "import torch\n",
    "import jax.numpy as jnp\n",
    "import numpy as np\n",
    "from jax import vmap\n",
    "import jax\n",
    "def rel_err(a,b):\n",
    "    return jnp.sqrt(((a-b)**2).mean())/(jnp.sqrt((a**2).mean())+jnp.sqrt((b**2).mean()))#\n",
    "verr = vmap(vmap(rel_err))\n",
    "v1err = vmap(vmap(rel_err,(0,None)))"
   ]
  },
  {
   "cell_type": "code",
   "execution_count": 4,
   "metadata": {},
   "outputs": [],
   "source": [
    "paths = sorted(glob.glob(os.path.expanduser(\"~/equivariant-MLP/experiments/aws_expts/*.t\")),\n",
    "               key=lambda x: int(x.split('_')[-1].split('.')[0]))\n",
    "rollouts = {pth.split('/')[-1]:torch.load(pth) for pth in paths}\n",
    "\n",
    "rollout_data = []\n",
    "for pth,z in rollouts.items():\n",
    "    pred,gt = z[...,0],z[...,1]\n",
    "    #pred = pred[:,:pred.shape[1]//2]\n",
    "    #gt = gt[:,:gt.shape[1]//2]\n",
    "    errs = verr(pred,gt) # (bs,T,)\n",
    "    clamped_errs = jax.lax.clamp(1e-5,errs,np.inf)\n",
    "    geo_mean_err = np.exp(jnp.log(clamped_errs).mean())\n",
    "    qs = pred[...,:6]\n",
    "    ps = pred[...,6:]\n",
    "    zang_mom = qs[...,0]*ps[...,1]-qs[...,1]*ps[...,0] + qs[...,0+3]*ps[...,1+3]-qs[...,1+3]*ps[...,0+3]\n",
    "    clamped_errs = jax.lax.clamp(1e-5,v1err(zang_mom,zang_mom[:,0]),np.inf)\n",
    "    angmom_geomean_err = np.exp(jnp.log(clamped_errs).mean())\n",
    "    words = pth.split('_')\n",
    "    group = words[1].replace('[','(').replace(']',')')\n",
    "    rollout_data.append({'model':words[0],'group':group,'state_err':geo_mean_err,'ang_err':angmom_geomean_err,'pred':pred,'gt':gt})\n",
    "#     if words[0][0]=='E':\n",
    "#         print(np.isnan(pred).mean())\n",
    "#         print(clamped_errs0.mean(0))\n",
    "#         plt.plot(np.exp(jnp.log(clamped_errs0).mean(0)))\n",
    "#         plt.yscale('log')\n",
    "#         plt.ylim((1e-4,1))\n",
    "#         plt.title(f'{words[0]}, {group}')\n",
    "#         plt.show()\n",
    "ddf = pd.DataFrame(rollout_data) "
   ]
  },
  {
   "cell_type": "code",
   "execution_count": 5,
   "metadata": {},
   "outputs": [],
   "source": [
    "ddf.to_csv(\"emlp_double_pendulum.csv\")"
   ]
  },
  {
   "cell_type": "code",
   "execution_count": null,
   "metadata": {},
   "outputs": [],
   "source": [
    "ddf3 = pd.read_csv(\"emlp_double_pendulum.csv\")\n",
    "len(ddf3)"
   ]
  },
  {
   "cell_type": "code",
   "execution_count": 12,
   "metadata": {},
   "outputs": [
    {
     "name": "stdout",
     "output_type": "stream",
     "text": [
      "3\n",
      "D(2) EMLPH 0.11073473996172349 0.16733897527577496\n",
      "3\n",
      "D(2) EMLPode 0.023115249971548717 0.002269831702953341\n",
      "3\n",
      "D(6) EMLPH 0.013502630094687143 0.002188112212599777\n",
      "3\n",
      "D(6) EMLPode 0.036083754152059555 0.025875631974170317\n",
      "3\n",
      "SO(2) EMLPH 0.015490216203033924 0.0029832894191871556\n",
      "3\n",
      "SO(2) EMLPode 0.05176456396778425 0.0356727666131123\n",
      "3\n",
      "O(2) EMLPH 0.011781935269633928 0.0020129220276021713\n",
      "3\n",
      "O(2) EMLPode 0.02056666153172652 0.002563004681381141\n",
      "MLPH 0.02809058005611102 0.0011293907886258424\n",
      "MLPode 0.04815062880516052 0.0001657919150134691\n"
     ]
    }
   ],
   "source": [
    "for group in ['D(2)','D(6)','SO(2)','O(2)']:\n",
    "    for model in ['EMLPH','EMLPode']:\n",
    "        subset = ddf[(ddf['group']==group)&(ddf['model']==model)]\n",
    "        print(len(subset))\n",
    "        print(group,model,subset['state_err'].mean(),subset['state_err'].std())\n",
    "subset = ddf.loc[ddf['model']=='MLPH','state_err']\n",
    "print(\"MLPH\",subset.mean(),subset.std())\n",
    "subset = ddf.loc[ddf['model']=='MLPode','state_err']\n",
    "print(\"MLPode\",subset.mean(),subset.std())"
   ]
  },
  {
   "cell_type": "code",
   "execution_count": 7,
   "metadata": {},
   "outputs": [],
   "source": [
    "#ddf2 = ddf.drop(ddf[(ddf['model']=='EMLPode')&(ddf['group']!='SO(2)')].index)\n",
    "ddf2 = ddf.copy()\n",
    "ddf2.loc[(ddf2['model']!=\"EMLPH\")&(ddf2['model']!=\"EMLPode\"),'group']='MLP'\n",
    "ddf2['method'] = ddf2['group']"
   ]
  },
  {
   "cell_type": "code",
   "execution_count": 8,
   "metadata": {},
   "outputs": [],
   "source": [
    "ddf2.loc[(ddf2['method']=='D(2)'),'order']=0\n",
    "ddf2.loc[(ddf2['method']=='D(6)'),'order']=0\n",
    "ddf2.loc[(ddf2['method']=='SO(2)'),'order']=1\n",
    "ddf2.loc[(ddf2['method']=='O(2)'),'order']=1\n",
    "ddf2.loc[(ddf2['method']=='MLPH'),'order']=2\n",
    "ddf2.loc[(ddf2['method']=='EMLPode'),'order']=3\n",
    "ddf2.loc[(ddf2['method']=='MLPode'),'order']=4\n",
    "ddf2.loc[(ddf2['method']=='MLPode'),'method']='None'\n",
    "ddf2.loc[(ddf2['method']=='MLPH'),'method']='None'\n",
    "ddf2['method2']='HNNs'\n",
    "ddf2.loc[(ddf2['model']=='MLPode')|(ddf2['model']=='EMLPode'),'method2']='Neural ODEs'"
   ]
  },
  {
   "cell_type": "code",
   "execution_count": 9,
   "metadata": {},
   "outputs": [],
   "source": [
    "ddf2 = ddf2.sort_values(['order']).reset_index(drop=True)"
   ]
  },
  {
   "cell_type": "code",
   "execution_count": 10,
   "metadata": {},
   "outputs": [
    {
     "data": {
      "image/png": "[encoded data removed]",
      "text/plain": [
       "<Figure size 288x216 with 1 Axes>"
      ]
     },
     "metadata": {
      "needs_background": "light"
     },
     "output_type": "display_data"
    }
   ],
   "source": [
    "pall = sns.color_palette(\"hls\", 5)\n",
    "fig, ax = plt.subplots(figsize=(4,3))\n",
    "sns.barplot(data=ddf2, x=\"method2\", y=\"ang_err\",palette=pall,\n",
    "             ci=95, ax=ax, hue=\"method\")\n",
    "ax.set(yscale=\"log\", ylabel=\"Ang. Mom. Relative Error\", xlabel=None,\n",
    "       title='',#r\"$\\hat{z}$-angular momentum relative error over 100 timesteps (3D Systems)\",\n",
    "       ylim=(1e-5, 5e-1))\n",
    "ax.legend().remove()\n",
    "\n",
    "#xlabels = [f\"{system}\" for system in data[\"Body\"].unique()]\n",
    "#ax.set_xticklabels(xlabels, rotation=0)\n",
    "\n",
    "handles, labels = ax.get_legend_handles_labels()\n",
    "fig.subplots_adjust(bottom=0.25)\n",
    "fig.legend(handles=handles, labels=labels, bbox_to_anchor=(0., 0., 1.0, 0.1), loc=\"lower center\", ncol=len(labels), borderaxespad=0.1,prop={'size': 12})\n",
    "#fig.legend(handles=handles, labels=labels, bbox_to_anchor=(0., 0.04, 1.0, 0.1), loc=\"lower center\", ncol=len(labels), borderaxespad=0.1, mode=\"expand\")\n",
    "#plt.tight_layout()\n",
    "plt.savefig('angular_momentum_wlegend.pdf', bbox_inches='tight')\n",
    "plt.show()"
   ]
  },
  {
   "cell_type": "code",
   "execution_count": 15,
   "metadata": {},
   "outputs": [
    {
     "data": {
      "text/plain": [
       "Index(['model', 'group', 'state_err', 'ang_err', 'pred', 'gt', 'method',\n",
       "       'order', 'method2'],\n",
       "      dtype='object')"
      ]
     },
     "execution_count": 15,
     "metadata": {},
     "output_type": "execute_result"
    }
   ],
   "source": [
    "ddf2.columns"
   ]
  },
  {
   "cell_type": "code",
   "execution_count": 16,
   "metadata": {},
   "outputs": [
    {
     "data": {
      "text/html": [
       "<div>\n",
       "<style scoped>\n",
       "    .dataframe tbody tr th:only-of-type {\n",
       "        vertical-align: middle;\n",
       "    }\n",
       "\n",
       "    .dataframe tbody tr th {\n",
       "        vertical-align: top;\n",
       "    }\n",
       "\n",
       "    .dataframe thead th {\n",
       "        text-align: right;\n",
       "    }\n",
       "</style>\n",
       "<table border=\"1\" class=\"dataframe\">\n",
       "  <thead>\n",
       "    <tr style=\"text-align: right;\">\n",
       "      <th></th>\n",
       "      <th>method2</th>\n",
       "      <th>group</th>\n",
       "      <th>state_err</th>\n",
       "    </tr>\n",
       "  </thead>\n",
       "  <tbody>\n",
       "    <tr>\n",
       "      <th>0</th>\n",
       "      <td>Neural ODEs</td>\n",
       "      <td>D(2)</td>\n",
       "      <td>0.025378</td>\n",
       "    </tr>\n",
       "    <tr>\n",
       "      <th>1</th>\n",
       "      <td>Neural ODEs</td>\n",
       "      <td>D(2)</td>\n",
       "      <td>0.023130</td>\n",
       "    </tr>\n",
       "    <tr>\n",
       "      <th>2</th>\n",
       "      <td>Neural ODEs</td>\n",
       "      <td>D(6)</td>\n",
       "      <td>0.020072</td>\n",
       "    </tr>\n",
       "    <tr>\n",
       "      <th>3</th>\n",
       "      <td>Neural ODEs</td>\n",
       "      <td>D(6)</td>\n",
       "      <td>0.065936</td>\n",
       "    </tr>\n",
       "    <tr>\n",
       "      <th>4</th>\n",
       "      <td>HNNs</td>\n",
       "      <td>D(6)</td>\n",
       "      <td>0.012141</td>\n",
       "    </tr>\n",
       "    <tr>\n",
       "      <th>5</th>\n",
       "      <td>HNNs</td>\n",
       "      <td>D(2)</td>\n",
       "      <td>0.303960</td>\n",
       "    </tr>\n",
       "    <tr>\n",
       "      <th>6</th>\n",
       "      <td>HNNs</td>\n",
       "      <td>D(6)</td>\n",
       "      <td>0.012340</td>\n",
       "    </tr>\n",
       "    <tr>\n",
       "      <th>7</th>\n",
       "      <td>Neural ODEs</td>\n",
       "      <td>D(6)</td>\n",
       "      <td>0.022243</td>\n",
       "    </tr>\n",
       "    <tr>\n",
       "      <th>8</th>\n",
       "      <td>HNNs</td>\n",
       "      <td>D(2)</td>\n",
       "      <td>0.014619</td>\n",
       "    </tr>\n",
       "    <tr>\n",
       "      <th>9</th>\n",
       "      <td>Neural ODEs</td>\n",
       "      <td>D(2)</td>\n",
       "      <td>0.020838</td>\n",
       "    </tr>\n",
       "    <tr>\n",
       "      <th>10</th>\n",
       "      <td>HNNs</td>\n",
       "      <td>D(2)</td>\n",
       "      <td>0.013625</td>\n",
       "    </tr>\n",
       "    <tr>\n",
       "      <th>11</th>\n",
       "      <td>HNNs</td>\n",
       "      <td>D(6)</td>\n",
       "      <td>0.016027</td>\n",
       "    </tr>\n",
       "    <tr>\n",
       "      <th>12</th>\n",
       "      <td>HNNs</td>\n",
       "      <td>SO(2)</td>\n",
       "      <td>0.013874</td>\n",
       "    </tr>\n",
       "    <tr>\n",
       "      <th>13</th>\n",
       "      <td>HNNs</td>\n",
       "      <td>SO(2)</td>\n",
       "      <td>0.013664</td>\n",
       "    </tr>\n",
       "    <tr>\n",
       "      <th>14</th>\n",
       "      <td>HNNs</td>\n",
       "      <td>O(2)</td>\n",
       "      <td>0.013698</td>\n",
       "    </tr>\n",
       "    <tr>\n",
       "      <th>15</th>\n",
       "      <td>Neural ODEs</td>\n",
       "      <td>O(2)</td>\n",
       "      <td>0.018258</td>\n",
       "    </tr>\n",
       "    <tr>\n",
       "      <th>16</th>\n",
       "      <td>HNNs</td>\n",
       "      <td>O(2)</td>\n",
       "      <td>0.011963</td>\n",
       "    </tr>\n",
       "    <tr>\n",
       "      <th>17</th>\n",
       "      <td>Neural ODEs</td>\n",
       "      <td>SO(2)</td>\n",
       "      <td>0.041815</td>\n",
       "    </tr>\n",
       "    <tr>\n",
       "      <th>18</th>\n",
       "      <td>Neural ODEs</td>\n",
       "      <td>O(2)</td>\n",
       "      <td>0.020118</td>\n",
       "    </tr>\n",
       "    <tr>\n",
       "      <th>19</th>\n",
       "      <td>HNNs</td>\n",
       "      <td>O(2)</td>\n",
       "      <td>0.009684</td>\n",
       "    </tr>\n",
       "    <tr>\n",
       "      <th>20</th>\n",
       "      <td>Neural ODEs</td>\n",
       "      <td>SO(2)</td>\n",
       "      <td>0.091356</td>\n",
       "    </tr>\n",
       "    <tr>\n",
       "      <th>21</th>\n",
       "      <td>HNNs</td>\n",
       "      <td>SO(2)</td>\n",
       "      <td>0.018933</td>\n",
       "    </tr>\n",
       "    <tr>\n",
       "      <th>22</th>\n",
       "      <td>Neural ODEs</td>\n",
       "      <td>SO(2)</td>\n",
       "      <td>0.022123</td>\n",
       "    </tr>\n",
       "    <tr>\n",
       "      <th>23</th>\n",
       "      <td>Neural ODEs</td>\n",
       "      <td>O(2)</td>\n",
       "      <td>0.023325</td>\n",
       "    </tr>\n",
       "    <tr>\n",
       "      <th>24</th>\n",
       "      <td>Neural ODEs</td>\n",
       "      <td>MLP</td>\n",
       "      <td>0.048266</td>\n",
       "    </tr>\n",
       "    <tr>\n",
       "      <th>25</th>\n",
       "      <td>HNNs</td>\n",
       "      <td>MLP</td>\n",
       "      <td>0.027487</td>\n",
       "    </tr>\n",
       "    <tr>\n",
       "      <th>26</th>\n",
       "      <td>HNNs</td>\n",
       "      <td>MLP</td>\n",
       "      <td>0.027391</td>\n",
       "    </tr>\n",
       "    <tr>\n",
       "      <th>27</th>\n",
       "      <td>Neural ODEs</td>\n",
       "      <td>MLP</td>\n",
       "      <td>0.048225</td>\n",
       "    </tr>\n",
       "    <tr>\n",
       "      <th>28</th>\n",
       "      <td>Neural ODEs</td>\n",
       "      <td>MLP</td>\n",
       "      <td>0.047961</td>\n",
       "    </tr>\n",
       "    <tr>\n",
       "      <th>29</th>\n",
       "      <td>HNNs</td>\n",
       "      <td>MLP</td>\n",
       "      <td>0.029394</td>\n",
       "    </tr>\n",
       "  </tbody>\n",
       "</table>\n",
       "</div>"
      ],
      "text/plain": [
       "        method2  group  state_err\n",
       "0   Neural ODEs   D(2)   0.025378\n",
       "1   Neural ODEs   D(2)   0.023130\n",
       "2   Neural ODEs   D(6)   0.020072\n",
       "3   Neural ODEs   D(6)   0.065936\n",
       "4          HNNs   D(6)   0.012141\n",
       "5          HNNs   D(2)   0.303960\n",
       "6          HNNs   D(6)   0.012340\n",
       "7   Neural ODEs   D(6)   0.022243\n",
       "8          HNNs   D(2)   0.014619\n",
       "9   Neural ODEs   D(2)   0.020838\n",
       "10         HNNs   D(2)   0.013625\n",
       "11         HNNs   D(6)   0.016027\n",
       "12         HNNs  SO(2)   0.013874\n",
       "13         HNNs  SO(2)   0.013664\n",
       "14         HNNs   O(2)   0.013698\n",
       "15  Neural ODEs   O(2)   0.018258\n",
       "16         HNNs   O(2)   0.011963\n",
       "17  Neural ODEs  SO(2)   0.041815\n",
       "18  Neural ODEs   O(2)   0.020118\n",
       "19         HNNs   O(2)   0.009684\n",
       "20  Neural ODEs  SO(2)   0.091356\n",
       "21         HNNs  SO(2)   0.018933\n",
       "22  Neural ODEs  SO(2)   0.022123\n",
       "23  Neural ODEs   O(2)   0.023325\n",
       "24  Neural ODEs    MLP   0.048266\n",
       "25         HNNs    MLP   0.027487\n",
       "26         HNNs    MLP   0.027391\n",
       "27  Neural ODEs    MLP   0.048225\n",
       "28  Neural ODEs    MLP   0.047961\n",
       "29         HNNs    MLP   0.029394"
      ]
     },
     "execution_count": 16,
     "metadata": {},
     "output_type": "execute_result"
    }
   ],
   "source": [
    "ddf2[['method2','group','state_err']]\n"
   ]
  },
  {
   "cell_type": "code",
   "execution_count": 13,
   "metadata": {},
   "outputs": [
    {
     "ename": "KeyError",
     "evalue": "''",
     "output_type": "error",
     "traceback": [
      "\u001b[0;31m---------------------------------------------------------------------------\u001b[0m",
      "\u001b[0;31mKeyError\u001b[0m                                  Traceback (most recent call last)",
      "\u001b[0;32m~/anaconda3/envs/default/lib/python3.7/site-packages/pandas/core/indexes/base.py\u001b[0m in \u001b[0;36mget_loc\u001b[0;34m(self, key, method, tolerance)\u001b[0m\n\u001b[1;32m   2894\u001b[0m             \u001b[0;32mtry\u001b[0m\u001b[0;34m:\u001b[0m\u001b[0;34m\u001b[0m\u001b[0;34m\u001b[0m\u001b[0m\n\u001b[0;32m-> 2895\u001b[0;31m                 \u001b[0;32mreturn\u001b[0m \u001b[0mself\u001b[0m\u001b[0;34m.\u001b[0m\u001b[0m_engine\u001b[0m\u001b[0;34m.\u001b[0m\u001b[0mget_loc\u001b[0m\u001b[0;34m(\u001b[0m\u001b[0mcasted_key\u001b[0m\u001b[0;34m)\u001b[0m\u001b[0;34m\u001b[0m\u001b[0;34m\u001b[0m\u001b[0m\n\u001b[0m\u001b[1;32m   2896\u001b[0m             \u001b[0;32mexcept\u001b[0m \u001b[0mKeyError\u001b[0m \u001b[0;32mas\u001b[0m \u001b[0merr\u001b[0m\u001b[0;34m:\u001b[0m\u001b[0;34m\u001b[0m\u001b[0;34m\u001b[0m\u001b[0m\n",
      "\u001b[0;32mpandas/_libs/index.pyx\u001b[0m in \u001b[0;36mpandas._libs.index.IndexEngine.get_loc\u001b[0;34m()\u001b[0m\n",
      "\u001b[0;32mpandas/_libs/index.pyx\u001b[0m in \u001b[0;36mpandas._libs.index.IndexEngine.get_loc\u001b[0;34m()\u001b[0m\n",
      "\u001b[0;32mpandas/_libs/hashtable_class_helper.pxi\u001b[0m in \u001b[0;36mpandas._libs.hashtable.PyObjectHashTable.get_item\u001b[0;34m()\u001b[0m\n",
      "\u001b[0;32mpandas/_libs/hashtable_class_helper.pxi\u001b[0m in \u001b[0;36mpandas._libs.hashtable.PyObjectHashTable.get_item\u001b[0;34m()\u001b[0m\n",
      "\u001b[0;31mKeyError\u001b[0m: ''",
      "\nThe above exception was the direct cause of the following exception:\n",
      "\u001b[0;31mKeyError\u001b[0m                                  Traceback (most recent call last)",
      "\u001b[0;32m<ipython-input-13-58f2798211cd>\u001b[0m in \u001b[0;36m<module>\u001b[0;34m\u001b[0m\n\u001b[0;32m----> 1\u001b[0;31m \u001b[0mddf2\u001b[0m\u001b[0;34m[\u001b[0m\u001b[0;34m(\u001b[0m\u001b[0mddf2\u001b[0m\u001b[0;34m[\u001b[0m\u001b[0;34m'method2'\u001b[0m\u001b[0;34m]\u001b[0m\u001b[0;34m==\u001b[0m\u001b[0;34m'HNNs'\u001b[0m\u001b[0;34m)\u001b[0m\u001b[0;34m&\u001b[0m\u001b[0;34m(\u001b[0m\u001b[0mddf2\u001b[0m\u001b[0;34m[\u001b[0m\u001b[0;34m'group'\u001b[0m\u001b[0;34m]\u001b[0m\u001b[0;34m==\u001b[0m\u001b[0;34m'O(2)'\u001b[0m\u001b[0;34m)\u001b[0m\u001b[0;34m]\u001b[0m\u001b[0;34m[\u001b[0m\u001b[0;34m''\u001b[0m\u001b[0;34m]\u001b[0m\u001b[0;34m\u001b[0m\u001b[0;34m\u001b[0m\u001b[0m\n\u001b[0m",
      "\u001b[0;32m~/anaconda3/envs/default/lib/python3.7/site-packages/pandas/core/frame.py\u001b[0m in \u001b[0;36m__getitem__\u001b[0;34m(self, key)\u001b[0m\n\u001b[1;32m   2900\u001b[0m             \u001b[0;32mif\u001b[0m \u001b[0mself\u001b[0m\u001b[0;34m.\u001b[0m\u001b[0mcolumns\u001b[0m\u001b[0;34m.\u001b[0m\u001b[0mnlevels\u001b[0m \u001b[0;34m>\u001b[0m \u001b[0;36m1\u001b[0m\u001b[0;34m:\u001b[0m\u001b[0;34m\u001b[0m\u001b[0;34m\u001b[0m\u001b[0m\n\u001b[1;32m   2901\u001b[0m                 \u001b[0;32mreturn\u001b[0m \u001b[0mself\u001b[0m\u001b[0;34m.\u001b[0m\u001b[0m_getitem_multilevel\u001b[0m\u001b[0;34m(\u001b[0m\u001b[0mkey\u001b[0m\u001b[0;34m)\u001b[0m\u001b[0;34m\u001b[0m\u001b[0;34m\u001b[0m\u001b[0m\n\u001b[0;32m-> 2902\u001b[0;31m             \u001b[0mindexer\u001b[0m \u001b[0;34m=\u001b[0m \u001b[0mself\u001b[0m\u001b[0;34m.\u001b[0m\u001b[0mcolumns\u001b[0m\u001b[0;34m.\u001b[0m\u001b[0mget_loc\u001b[0m\u001b[0;34m(\u001b[0m\u001b[0mkey\u001b[0m\u001b[0;34m)\u001b[0m\u001b[0;34m\u001b[0m\u001b[0;34m\u001b[0m\u001b[0m\n\u001b[0m\u001b[1;32m   2903\u001b[0m             \u001b[0;32mif\u001b[0m \u001b[0mis_integer\u001b[0m\u001b[0;34m(\u001b[0m\u001b[0mindexer\u001b[0m\u001b[0;34m)\u001b[0m\u001b[0;34m:\u001b[0m\u001b[0;34m\u001b[0m\u001b[0;34m\u001b[0m\u001b[0m\n\u001b[1;32m   2904\u001b[0m                 \u001b[0mindexer\u001b[0m \u001b[0;34m=\u001b[0m \u001b[0;34m[\u001b[0m\u001b[0mindexer\u001b[0m\u001b[0;34m]\u001b[0m\u001b[0;34m\u001b[0m\u001b[0;34m\u001b[0m\u001b[0m\n",
      "\u001b[0;32m~/anaconda3/envs/default/lib/python3.7/site-packages/pandas/core/indexes/base.py\u001b[0m in \u001b[0;36mget_loc\u001b[0;34m(self, key, method, tolerance)\u001b[0m\n\u001b[1;32m   2895\u001b[0m                 \u001b[0;32mreturn\u001b[0m \u001b[0mself\u001b[0m\u001b[0;34m.\u001b[0m\u001b[0m_engine\u001b[0m\u001b[0;34m.\u001b[0m\u001b[0mget_loc\u001b[0m\u001b[0;34m(\u001b[0m\u001b[0mcasted_key\u001b[0m\u001b[0;34m)\u001b[0m\u001b[0;34m\u001b[0m\u001b[0;34m\u001b[0m\u001b[0m\n\u001b[1;32m   2896\u001b[0m             \u001b[0;32mexcept\u001b[0m \u001b[0mKeyError\u001b[0m \u001b[0;32mas\u001b[0m \u001b[0merr\u001b[0m\u001b[0;34m:\u001b[0m\u001b[0;34m\u001b[0m\u001b[0;34m\u001b[0m\u001b[0m\n\u001b[0;32m-> 2897\u001b[0;31m                 \u001b[0;32mraise\u001b[0m \u001b[0mKeyError\u001b[0m\u001b[0;34m(\u001b[0m\u001b[0mkey\u001b[0m\u001b[0;34m)\u001b[0m \u001b[0;32mfrom\u001b[0m \u001b[0merr\u001b[0m\u001b[0;34m\u001b[0m\u001b[0;34m\u001b[0m\u001b[0m\n\u001b[0m\u001b[1;32m   2898\u001b[0m \u001b[0;34m\u001b[0m\u001b[0m\n\u001b[1;32m   2899\u001b[0m         \u001b[0;32mif\u001b[0m \u001b[0mtolerance\u001b[0m \u001b[0;32mis\u001b[0m \u001b[0;32mnot\u001b[0m \u001b[0;32mNone\u001b[0m\u001b[0;34m:\u001b[0m\u001b[0;34m\u001b[0m\u001b[0;34m\u001b[0m\u001b[0m\n",
      "\u001b[0;31mKeyError\u001b[0m: ''"
     ]
    }
   ],
   "source": [
    "ddf2[(ddf2['method2']=='HNNs')&(ddf2['group']=='O(2)')]['']"
   ]
  },
  {
   "cell_type": "code",
   "execution_count": null,
   "metadata": {},
   "outputs": [],
   "source": [
    "pall2 = sns.color_palette(\"husl\", 4)\n",
    "fig, ax = plt.subplots(figsize=(4,2.5))\n",
    "for n,i in enumerate([32,31,24,29]):\n",
    "    pred,gt = ddf2.iloc[i][\"pred\"],ddf2.iloc[i][\"gt\"]\n",
    "    errs = verr(pred,gt) # (bs,T,)\n",
    "    clamped_errs = jax.lax.clamp(1e-7,errs,np.inf)\n",
    "    rel_errs = np.exp(jnp.log(clamped_errs).mean(0))\n",
    "    rel_stds = np.exp(jnp.log(clamped_errs).std(0))\n",
    "    print(rel_errs.shape)\n",
    "    T = np.arange(0,30,.2)\n",
    "    plt.plot(T,rel_errs,label=ddf2.iloc[i]['method2']+ddf2.iloc[i]['group'],lw=3,color=pall2[n])\n",
    "    #plt.fill_between(T, rel_errs+rel_stds, rel_errs-rel_stds,alpha=.2)\n",
    "    plt.fill_between(T, rel_errs/rel_stds, rel_errs*rel_stds,alpha=.1,color=pall2[n])\n",
    "plt.xlabel('Time (s)')\n",
    "plt.ylabel('State Relative Error')\n",
    "plt.yscale('log')\n",
    "plt.ylim(8e-4,3e-1)\n",
    "plt.legend([\"N-ODE\", \"HNN\",\"O(2) N-ODE\",\"O(2) HNN\"],loc=\"best\",frameon=True,prop={'size': 11},framealpha=.4)\n",
    "plt.savefig('rollouts_wlegend.pdf', bbox_inches='tight')"
   ]
  },
  {
   "cell_type": "code",
   "execution_count": null,
   "metadata": {},
   "outputs": [],
   "source": [
    "gt = ddf2.iloc[20]['gt']"
   ]
  },
  {
   "cell_type": "code",
   "execution_count": null,
   "metadata": {},
   "outputs": [],
   "source": [
    "from ipywidgets import interact\n",
    "from emlp_jax.hamiltonian_dynamics import CoupledPendulumAnimation\n",
    "ztc = gt[...,:6].reshape(gt.shape[:-1]+(2,3))\n",
    "print(ztc.shape)\n",
    "@interact(i=(0,ztc.shape[1]-1),k=(0,ztc.shape[0]-1))\n",
    "def make_fig(i=60,k=130):\n",
    "    anim = CoupledPendulumAnimation(ztc[k],lims=((-3,3),(-3,3),(-6,0)),figkwargs={'figsize':(6,6)},\n",
    "                                    spring_lw=1,traj_lw=2,spring_r=.1)\n",
    "    anim.init()\n",
    "    anim.update(i=i)\n",
    "    #plt.axis('off')\n",
    "    #plt.show()\n",
    "    plt.savefig(f\"system_axis.pdf\", bbox_inches=\"tight\")"
   ]
  },
  {
   "cell_type": "code",
   "execution_count": null,
   "metadata": {},
   "outputs": [],
   "source": []
  }
 ],
 "metadata": {
  "kernelspec": {
   "display_name": "Python 3",
   "language": "python",
   "name": "python3"
  },
  "language_info": {
   "codemirror_mode": {
    "name": "ipython",
    "version": 3
   },
   "file_extension": ".py",
   "mimetype": "text/x-python",
   "name": "python",
   "nbconvert_exporter": "python",
   "pygments_lexer": "ipython3",
   "version": "3.7.7"
  }
 },
 "nbformat": 4,
 "nbformat_minor": 4
}
