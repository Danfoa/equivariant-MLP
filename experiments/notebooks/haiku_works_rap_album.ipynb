{
 "cells": [
  {
   "cell_type": "code",
   "execution_count": 5,
   "metadata": {},
   "outputs": [],
   "source": [
    "import haiku as hk\n",
    "import emlp.nn.haiku as ehk"
   ]
  },
  {
   "cell_type": "code",
   "execution_count": 6,
   "metadata": {},
   "outputs": [],
   "source": [
    "from emlp.reps import T,V\n",
    "from emlp.groups import SO"
   ]
  },
  {
   "cell_type": "code",
   "execution_count": 7,
   "metadata": {},
   "outputs": [],
   "source": [
    "repin = 4*V\n",
    "repout = V"
   ]
  },
  {
   "cell_type": "code",
   "execution_count": 8,
   "metadata": {},
   "outputs": [],
   "source": [
    "net_fn = ehk.EMLP(repin,repout,SO(3))\n",
    "net = hk.without_apply_rng(hk.transform(net_fn))"
   ]
  },
  {
   "cell_type": "code",
   "execution_count": 9,
   "metadata": {},
   "outputs": [],
   "source": [
    "import numpy as np\n",
    "x = np.random.randn(10,12)"
   ]
  },
  {
   "cell_type": "code",
   "execution_count": 15,
   "metadata": {},
   "outputs": [],
   "source": [
    "import jax\n",
    "from jax import random\n",
    "key = random.PRNGKey(0)\n",
    "a = random.normal(key,(12,))\n",
    "params = net.init(jax.random.PRNGKey(42), a)"
   ]
  },
  {
   "cell_type": "code",
   "execution_count": 17,
   "metadata": {},
   "outputs": [],
   "source": [
    "y = net.apply(params,  x)"
   ]
  },
  {
   "cell_type": "code",
   "execution_count": 18,
   "metadata": {},
   "outputs": [
    {
     "data": {
      "text/plain": [
       "DeviceArray([[-0.00951804,  0.05937581, -0.02238548],\n",
       "             [ 0.03791665, -0.00388973,  0.01347438],\n",
       "             [-0.01228344,  0.00066558, -0.00348694],\n",
       "             [-0.01830764,  0.01410013,  0.00113694],\n",
       "             [-0.03899443, -0.00973159, -0.02047815],\n",
       "             [ 0.01586087, -0.02561265, -0.00085558],\n",
       "             [-0.00937039,  0.00405278,  0.01251855],\n",
       "             [ 0.00134238,  0.01245403,  0.04603473],\n",
       "             [-0.006678  , -0.02589677,  0.01460476],\n",
       "             [-0.00726967,  0.00111397, -0.00514691]], dtype=float32)"
      ]
     },
     "execution_count": 18,
     "metadata": {},
     "output_type": "execute_result"
    }
   ],
   "source": [
    "y"
   ]
  },
  {
   "cell_type": "code",
   "execution_count": null,
   "metadata": {},
   "outputs": [],
   "source": []
  }
 ],
 "metadata": {
  "kernelspec": {
   "display_name": "Python 3",
   "language": "python",
   "name": "python3"
  },
  "language_info": {
   "codemirror_mode": {
    "name": "ipython",
    "version": 3
   },
   "file_extension": ".py",
   "mimetype": "text/x-python",
   "name": "python",
   "nbconvert_exporter": "python",
   "pygments_lexer": "ipython3",
   "version": "3.8.5"
  }
 },
 "nbformat": 4,
 "nbformat_minor": 4
}
