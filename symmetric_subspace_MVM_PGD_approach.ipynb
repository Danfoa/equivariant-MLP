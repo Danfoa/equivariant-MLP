{
 "cells": [
  {
   "cell_type": "code",
   "execution_count": 13,
   "metadata": {},
   "outputs": [],
   "source": [
    "from emlp_jax.equivariant_subspaces import drho, drho_lazy, T, rho,rho_lazy,projection_lazy\n",
    "from emlp_jax.groups import Lorentz,O,SO,SO13p\n",
    "import numpy as np\n",
    "from oil.utils.mytqdm import tqdm"
   ]
  },
  {
   "cell_type": "code",
   "execution_count": 2,
   "metadata": {},
   "outputs": [],
   "source": [
    "rank = (6,0)\n",
    "G = Lorentz\n",
    "M = (np.random.randn(G.lie_algebra.shape[0])[:,None,None]*G.lie_algebra).sum(0)"
   ]
  },
  {
   "cell_type": "code",
   "execution_count": 4,
   "metadata": {},
   "outputs": [],
   "source": [
    "#T(3,3)(Lorentz).show_subspace()"
   ]
  },
  {
   "cell_type": "code",
   "execution_count": 5,
   "metadata": {},
   "outputs": [],
   "source": [
    "drl = drho_lazy(M,rank)"
   ]
  },
  {
   "cell_type": "code",
   "execution_count": 6,
   "metadata": {},
   "outputs": [],
   "source": [
    "dr = drho(M,rank)\n",
    "U,S,VT = np.linalg.svd(dr,full_matrices=True)\n",
    "rank = (S<1e-6).sum()"
   ]
  },
  {
   "cell_type": "code",
   "execution_count": 7,
   "metadata": {},
   "outputs": [],
   "source": [
    "c = drl.shape[0]"
   ]
  },
  {
   "cell_type": "code",
   "execution_count": 20,
   "metadata": {},
   "outputs": [],
   "source": [
    "C = projection_lazy(SO13p(),(6,0))\n",
    "c = C.shape[-1]"
   ]
  },
  {
   "cell_type": "code",
   "execution_count": 21,
   "metadata": {},
   "outputs": [],
   "source": [
    "r=30"
   ]
  },
  {
   "cell_type": "code",
   "execution_count": 22,
   "metadata": {},
   "outputs": [
    {
     "data": {
      "application/vnd.jupyter.widget-view+json": {
       "model_id": "f8b3e3a0d4d6409b9aa991ccb19bc60e",
       "version_major": 2,
       "version_minor": 0
      },
      "text/plain": [
       "  0%|          | 0/2000 [00:00<?, ?it/s]"
      ]
     },
     "metadata": {},
     "output_type": "display_data"
    },
    {
     "data": {
      "image/png": "[encoded data removed]",
      "text/plain": [
       "<Figure size 432x288 with 1 Axes>"
      ]
     },
     "metadata": {
      "needs_background": "light"
     },
     "output_type": "display_data"
    }
   ],
   "source": [
    "# Projected Gradient descent on \\|CW\\|^2 with Nesterov Momentum\n",
    "W = np.random.randn(c,r)\n",
    "lr = 3e-1\n",
    "m= .98\n",
    "v = np.zeros_like(W)\n",
    "g = np.zeros_like(W)\n",
    "gradnorms = []\n",
    "for i in tqdm(range(2000)):\n",
    "    W /= np.sqrt((W**2).sum(0,keepdims=True))\n",
    "    #W = np.linalg.qr(W)[0]\n",
    "    g = AW = C.T@(C@(W-lr*m*v))\n",
    "    #W -= lr*g\n",
    "    v += (1-m)*(g-v)\n",
    "    W -= lr*v\n",
    "    gradnorms.append(np.sqrt((AW**2).mean()))\n",
    "import matplotlib.pyplot as plt\n",
    "plt.plot(np.arange(len(gradnorms)),gradnorms)\n",
    "plt.title(r'Projected GD on $\\|CW\\|_F^2$')\n",
    "plt.yscale('log')\n",
    "plt.ylabel(r'$\\|CW\\|_F$ error')\n",
    "plt.xlabel('iterations')\n",
    "plt.show()"
   ]
  },
  {
   "cell_type": "code",
   "execution_count": 80,
   "metadata": {},
   "outputs": [],
   "source": [
    "Q,R = np.linalg.qr(W)"
   ]
  },
  {
   "cell_type": "code",
   "execution_count": 81,
   "metadata": {},
   "outputs": [],
   "source": [
    "violation = C.T@(C@Q)"
   ]
  },
  {
   "cell_type": "code",
   "execution_count": 82,
   "metadata": {},
   "outputs": [
    {
     "data": {
      "text/plain": [
       "0.004179364720643436"
      ]
     },
     "execution_count": 82,
     "metadata": {},
     "output_type": "execute_result"
    }
   ],
   "source": [
    "np.max(np.abs(violation))"
   ]
  },
  {
   "cell_type": "code",
   "execution_count": null,
   "metadata": {},
   "outputs": [],
   "source": []
  }
 ],
 "metadata": {
  "kernelspec": {
   "display_name": "Python 3",
   "language": "python",
   "name": "python3"
  },
  "language_info": {
   "codemirror_mode": {
    "name": "ipython",
    "version": 3
   },
   "file_extension": ".py",
   "mimetype": "text/x-python",
   "name": "python",
   "nbconvert_exporter": "python",
   "pygments_lexer": "ipython3",
   "version": "3.8.5"
  }
 },
 "nbformat": 4,
 "nbformat_minor": 2
}
