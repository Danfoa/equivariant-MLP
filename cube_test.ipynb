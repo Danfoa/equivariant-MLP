{
 "cells": [
  {
   "cell_type": "code",
   "execution_count": 1,
   "metadata": {},
   "outputs": [],
   "source": [
    "import jax\n",
    "#jax.config.update('jax_platform_name', 'cpu')\n",
    "import numpy as np\n",
    "import jax.numpy as jnp\n",
    "from emlp_jax.equivariant_subspaces import T\n",
    "from emlp_jax.groups import *\n",
    "from emlp_jax.datasets import BrokenRubiksCube,InvertedCube\n",
    "from emlp_jax.mlp import uniform_allocation"
   ]
  },
  {
   "cell_type": "code",
   "execution_count": 9,
   "metadata": {},
   "outputs": [],
   "source": [
    "#G = ZksZnxZn(2,3)\n",
    "#G = ZnxZn(4)\n",
    "#G = S(7)\n",
    "G= SO2eR3()\n",
    "#G = Z(5)\n",
    "#G=S(10)\n",
    "#G = RubiksCube()\n",
    "#G=SO(3)\n",
    "#G=SO13p()"
   ]
  },
  {
   "cell_type": "code",
   "execution_count": 14,
   "metadata": {},
   "outputs": [],
   "source": [
    "rep = T(2)(G)\n",
    "Q = rep.symmetric_basis()"
   ]
  },
  {
   "cell_type": "code",
   "execution_count": 15,
   "metadata": {},
   "outputs": [],
   "source": [
    "#(18**4)*2560*3"
   ]
  },
  {
   "cell_type": "code",
   "execution_count": 16,
   "metadata": {},
   "outputs": [
    {
     "data": {
      "text/plain": [
       "(9, 3)"
      ]
     },
     "execution_count": 16,
     "metadata": {},
     "output_type": "execute_result"
    }
   ],
   "source": [
    "Q.shape"
   ]
  },
  {
   "cell_type": "code",
   "execution_count": 17,
   "metadata": {},
   "outputs": [
    {
     "data": {
      "application/vnd.jupyter.widget-view+json": {
       "model_id": "49702c1c6e584860862230b4c2541a11",
       "version_major": 2,
       "version_minor": 0
      },
      "text/plain": [
       "sparsifying basis:   0%|          | 0/1000 [00:00<?, ?it/s]"
      ]
     },
     "metadata": {},
     "output_type": "display_data"
    },
    {
     "data": {
      "image/png": "[encoded data removed]",
      "text/plain": [
       "<Figure size 432x288 with 1 Axes>"
      ]
     },
     "metadata": {
      "needs_background": "light"
     },
     "output_type": "display_data"
    }
   ],
   "source": [
    "rep.visualize()"
   ]
  },
  {
   "cell_type": "code",
   "execution_count": 8,
   "metadata": {},
   "outputs": [],
   "source": [
    "import matplotlib.pyplot as plt\n",
    "#plt.savefig(f\"{G}_{rep}_soln2.pdf\", bbox_inches=\"tight\")"
   ]
  },
  {
   "cell_type": "code",
   "execution_count": 163,
   "metadata": {},
   "outputs": [],
   "source": [
    "#Q"
   ]
  },
  {
   "cell_type": "code",
   "execution_count": 30,
   "metadata": {},
   "outputs": [
    {
     "data": {
      "application/vnd.jupyter.widget-view+json": {
       "model_id": "0aaa0ea193274606a1b7f355e4025230",
       "version_major": 2,
       "version_minor": 0
      },
      "text/plain": [
       "sparsifying basis:   0%|          | 0/1000 [00:00<?, ?it/s]"
      ]
     },
     "metadata": {},
     "output_type": "display_data"
    },
    {
     "data": {
      "image/png": "[encoded data removed]",
      "text/plain": [
       "<Figure size 432x288 with 1 Axes>"
      ]
     },
     "metadata": {
      "needs_background": "light"
     },
     "output_type": "display_data"
    }
   ],
   "source": [
    "import jax.numpy as jnp\n",
    "from jax import device_put\n",
    "from jax import jit\n",
    "import jax\n",
    "import optax\n",
    "from oil.utils.mytqdm import tqdm\n",
    "import matplotlib.pyplot as plt\n",
    "\n",
    "lr=3e-2\n",
    "W = np.random.randn(Q.shape[-1],Q.shape[-1])\n",
    "W,_ = np.linalg.qr(W)\n",
    "opt_init,opt_update = optax.adam(lr)#optax.sgd(3e-3,.9)#optax.adam(lr)\n",
    "opt_update = jit(opt_update)\n",
    "opt_state = opt_init(W)  # init stats\n",
    "\n",
    "def loss(W):\n",
    "    return jnp.abs(W@Q.T).mean() + .1*(jnp.abs(W.T@W-jnp.eye(W.shape[0]))).mean()+.01*jax.numpy.linalg.slogdet(W)[1]**2\n",
    "\n",
    "loss_and_grad = jit(jax.value_and_grad(loss))\n",
    "\n",
    "lossvalues = []\n",
    "logdets = []\n",
    "for i in tqdm(range(1000),desc=f'sparsifying basis'):\n",
    "    lossval, grad = loss_and_grad(W)\n",
    "    updates, opt_state = opt_update(grad, opt_state, W)\n",
    "    lossvalues.append(lossval)\n",
    "    W = optax.apply_updates(W, updates)\n",
    "    \n",
    "    #s,ld = jax.numpy.linalg.slogdet(W)\n",
    "    logdets.append(jnp.linalg.norm(grad))\n",
    "    \n",
    "plt.plot(lossvalues)\n",
    "plt.yscale('log')"
   ]
  },
  {
   "cell_type": "code",
   "execution_count": 31,
   "metadata": {},
   "outputs": [
    {
     "data": {
      "text/plain": [
       "DeviceArray(0.0001591, dtype=float32)"
      ]
     },
     "execution_count": 31,
     "metadata": {},
     "output_type": "execute_result"
    }
   ],
   "source": [
    "((W.T@W-jnp.eye(W.shape[0]))**2).mean()"
   ]
  },
  {
   "cell_type": "code",
   "execution_count": 32,
   "metadata": {},
   "outputs": [
    {
     "data": {
      "text/plain": [
       "(DeviceArray(-1., dtype=float32), DeviceArray(-0.12242764, dtype=float32))"
      ]
     },
     "execution_count": 32,
     "metadata": {},
     "output_type": "execute_result"
    }
   ],
   "source": [
    "jnp.linalg.slogdet(W)"
   ]
  },
  {
   "cell_type": "code",
   "execution_count": 33,
   "metadata": {},
   "outputs": [
    {
     "data": {
      "image/png": "[encoded data removed]",
      "text/plain": [
       "<Figure size 432x288 with 1 Axes>"
      ]
     },
     "metadata": {
      "needs_background": "light"
     },
     "output_type": "display_data"
    }
   ],
   "source": [
    "plt.plot(np.sort(np.abs(np.asarray(Q@W.T)).reshape(-1)))\n",
    "plt.yscale('log')"
   ]
  },
  {
   "cell_type": "code",
   "execution_count": 34,
   "metadata": {},
   "outputs": [],
   "source": [
    "V=np.copy(np.asarray(Q@W.T))\n",
    "V[np.abs(V)<1e-2]=0\n",
    "V[np.abs(V)>1e-2]=1\n",
    "A = V@(1+np.arange(V.shape[-1]))\n",
    "assert len(np.unique(A))==V.shape[-1]+1 or len(np.unique(A))==V.shape[-1],np.unique(A)"
   ]
  },
  {
   "cell_type": "code",
   "execution_count": 35,
   "metadata": {},
   "outputs": [
    {
     "data": {
      "text/plain": [
       "8"
      ]
     },
     "execution_count": 35,
     "metadata": {},
     "output_type": "execute_result"
    }
   ],
   "source": [
    "len(np.unique(A))"
   ]
  },
  {
   "cell_type": "code",
   "execution_count": 50,
   "metadata": {},
   "outputs": [
    {
     "data": {
      "text/plain": [
       "(-0.5, 7.5, 7.5, -0.5)"
      ]
     },
     "execution_count": 50,
     "metadata": {},
     "output_type": "execute_result"
    },
    {
     "data": {
      "image/png": "[encoded data removed]",
      "text/plain": [
       "<Figure size 432x288 with 1 Axes>"
      ]
     },
     "metadata": {
      "needs_background": "light"
     },
     "output_type": "display_data"
    }
   ],
   "source": [
    "k = int(np.sqrt(A.shape[0]))\n",
    "plt.imshow(A.reshape((k,k)),cmap='Accent')\n",
    "plt.axis('off')\n",
    "#plt.savefig(f\"{G}_{rep}_soln.pdf\", bbox_inches=\"tight\")"
   ]
  },
  {
   "cell_type": "code",
   "execution_count": 13,
   "metadata": {},
   "outputs": [
    {
     "data": {
      "text/plain": [
       "(256, 16)"
      ]
     },
     "execution_count": 13,
     "metadata": {},
     "output_type": "execute_result"
    }
   ],
   "source": [
    "Q.shape"
   ]
  },
  {
   "cell_type": "code",
   "execution_count": 80,
   "metadata": {},
   "outputs": [
    {
     "name": "stdout",
     "output_type": "stream",
     "text": [
      "[ 0.         -0.49805826  0.          0.         -0.49805814  0.\n",
      "  0.          0.          0.          0.          0.         -0.49805814\n",
      "  0.          0.         -0.4980582   0.        ]\n"
     ]
    },
    {
     "data": {
      "image/png": "[encoded data removed]",
      "text/plain": [
       "<Figure size 432x288 with 1 Axes>"
      ]
     },
     "metadata": {
      "needs_background": "light"
     },
     "output_type": "display_data"
    },
    {
     "name": "stdout",
     "output_type": "stream",
     "text": [
      "[-0.49805838  0.          0.          0.          0.         -0.49805823\n",
      "  0.          0.          0.          0.         -0.49805832  0.\n",
      "  0.          0.          0.         -0.49805826]\n"
     ]
    },
    {
     "data": {
      "image/png": "[encoded data removed]",
      "text/plain": [
       "<Figure size 432x288 with 1 Axes>"
      ]
     },
     "metadata": {
      "needs_background": "light"
     },
     "output_type": "display_data"
    },
    {
     "name": "stdout",
     "output_type": "stream",
     "text": [
      "[0.         0.         0.49805826 0.         0.         0.\n",
      " 0.         0.49805808 0.49805814 0.         0.         0.\n",
      " 0.         0.49805808 0.         0.        ]\n"
     ]
    },
    {
     "data": {
      "image/png": "[encoded data removed]",
      "text/plain": [
       "<Figure size 432x288 with 1 Axes>"
      ]
     },
     "metadata": {
      "needs_background": "light"
     },
     "output_type": "display_data"
    },
    {
     "name": "stdout",
     "output_type": "stream",
     "text": [
      "[ 0.          0.          0.         -0.49805838  0.          0.\n",
      " -0.4980582   0.          0.         -0.49805814  0.          0.\n",
      " -0.49805823  0.          0.          0.        ]\n"
     ]
    },
    {
     "data": {
      "image/png": "[encoded data removed]",
      "text/plain": [
       "<Figure size 432x288 with 1 Axes>"
      ]
     },
     "metadata": {
      "needs_background": "light"
     },
     "output_type": "display_data"
    }
   ],
   "source": [
    "V=np.copy(np.asarray(Q@W.T))\n",
    "for i in range(V.shape[-1]):\n",
    "    M = np.copy(V[:,i])\n",
    "    M[np.abs(M)<1e-3]=0\n",
    "    print(M.reshape)\n",
    "    #M[np.abs(M)>1e-3]=1\n",
    "    #print(M.reshape(8,8))\n",
    "    plt.spy(M.reshape(4,4))\n",
    "    plt.show()"
   ]
  },
  {
   "cell_type": "code",
   "execution_count": 50,
   "metadata": {},
   "outputs": [
    {
     "data": {
      "text/plain": [
       "(64, 8)"
      ]
     },
     "execution_count": 50,
     "metadata": {},
     "output_type": "execute_result"
    }
   ],
   "source": [
    "V.shape"
   ]
  },
  {
   "cell_type": "code",
   "execution_count": null,
   "metadata": {},
   "outputs": [],
   "source": [
    "def sparsify(Q,lr=1e-2):\n",
    "    W = np.random.randn(C.shape[-1],r)\n",
    "    W /= np.sqrt((W**2).sum(0,keepdims=True))\n",
    "\n",
    "    opt_init,opt_update = optax.sgd(lr,.9)#optax.adam(lr)#optax.sgd(3e-3,.9)#optax.adam(lr)\n",
    "    opt_state = opt_init(W)  # init stats\n",
    "\n",
    "    def loss(W):\n",
    "        return ((C@W)**2).sum()/2\n",
    "\n",
    "    loss_and_grad = jit(jax.value_and_grad(loss))\n",
    "\n",
    "    #lossvalues = []\n",
    "    for i in tqdm(range(1000),desc=f'Krylov Solving for Equivariant Subspace r<={r}'):\n",
    "        lossval, grad = loss_and_grad(W)\n",
    "        updates, opt_state = opt_update(grad, opt_state, W)\n",
    "        W = optax.apply_updates(W, updates)\n",
    "        W /= jnp.sqrt((W**2).sum(0,keepdims=True))\n",
    "        #lossvalues.append(lossval)\n",
    "        if lossval <tol**2: break\n",
    "        if lossval>1e2 and i>100: # Solve diverged due to too high learning rate\n",
    "            logging.warning(f\"Constraint solving diverged, trying lower learning rate {lr/3:.2e}\")\n",
    "            return krylov_constraint_solve_upto_r(C,r,tol,lr=lr/3)\n",
    "    if lossval>1e-1: # Failed to converge means subspace has dimension 0 \n",
    "        W*=0\n",
    "    # Orthogonalize solution at the end\n",
    "    U,S,VT = np.linalg.svd(np.array(W),full_matrices=False)\n",
    "    rank = (S>tol).sum()\n",
    "    Q = U[:,:rank]\n",
    "    return device_put(Q)"
   ]
  },
  {
   "cell_type": "code",
   "execution_count": null,
   "metadata": {},
   "outputs": [],
   "source": []
  },
  {
   "cell_type": "code",
   "execution_count": 3,
   "metadata": {},
   "outputs": [],
   "source": [
    "from emlp_jax.datasets import BrokenRubiksCube,BrokenRubiksCube2x2,InvertedCube\n",
    "from emlp_jax.mlp import uniform_allocation"
   ]
  },
  {
   "cell_type": "code",
   "execution_count": 16,
   "metadata": {},
   "outputs": [],
   "source": [
    "G =O13()"
   ]
  },
  {
   "cell_type": "code",
   "execution_count": 20,
   "metadata": {},
   "outputs": [
    {
     "data": {
      "text/plain": [
       "(256, 3)"
      ]
     },
     "execution_count": 20,
     "metadata": {},
     "output_type": "execute_result"
    }
   ],
   "source": [
    "T(4)(G).symmetric_basis().shape#reshape(4,4)"
   ]
  },
  {
   "cell_type": "code",
   "execution_count": 13,
   "metadata": {},
   "outputs": [],
   "source": [
    "G = Cube()"
   ]
  },
  {
   "cell_type": "code",
   "execution_count": 9,
   "metadata": {},
   "outputs": [
    {
     "ename": "AttributeError",
     "evalue": "'RubiksCube' object has no attribute 'perms'",
     "output_type": "error",
     "traceback": [
      "\u001b[0;31m---------------------------------------------------------------------------\u001b[0m",
      "\u001b[0;31mAttributeError\u001b[0m                            Traceback (most recent call last)",
      "\u001b[0;32m<ipython-input-9-06d89f2ef18a>\u001b[0m in \u001b[0;36m<module>\u001b[0;34m\u001b[0m\n\u001b[0;32m----> 1\u001b[0;31m \u001b[0mnp\u001b[0m\u001b[0;34m.\u001b[0m\u001b[0marange\u001b[0m\u001b[0;34m(\u001b[0m\u001b[0;36m24\u001b[0m\u001b[0;34m)\u001b[0m\u001b[0;34m[\u001b[0m\u001b[0mG\u001b[0m\u001b[0;34m.\u001b[0m\u001b[0mperms\u001b[0m\u001b[0;34m[\u001b[0m\u001b[0;36m0\u001b[0m\u001b[0;34m]\u001b[0m\u001b[0;34m]\u001b[0m\u001b[0;34m.\u001b[0m\u001b[0mreshape\u001b[0m\u001b[0;34m(\u001b[0m\u001b[0;36m6\u001b[0m\u001b[0;34m,\u001b[0m\u001b[0;36m4\u001b[0m\u001b[0;34m)\u001b[0m\u001b[0;34m\u001b[0m\u001b[0;34m\u001b[0m\u001b[0m\n\u001b[0m",
      "\u001b[0;31mAttributeError\u001b[0m: 'RubiksCube' object has no attribute 'perms'"
     ]
    }
   ],
   "source": [
    "np.arange(24)[G.perms[0]].reshape(6,4)"
   ]
  },
  {
   "cell_type": "code",
   "execution_count": 18,
   "metadata": {},
   "outputs": [
    {
     "data": {
      "text/plain": [
       "(1296, 60)"
      ]
     },
     "execution_count": 18,
     "metadata": {},
     "output_type": "execute_result"
    }
   ],
   "source": [
    "T(4)(Cube()).symmetric_basis().shape"
   ]
  },
  {
   "cell_type": "code",
   "execution_count": 8,
   "metadata": {},
   "outputs": [
    {
     "data": {
      "text/plain": [
       "array([3, 0, 1, 2])"
      ]
     },
     "execution_count": 8,
     "metadata": {},
     "output_type": "execute_result"
    }
   ],
   "source": [
    "np.roll(np.arange(4),1)"
   ]
  },
  {
   "cell_type": "code",
   "execution_count": 3,
   "metadata": {},
   "outputs": [],
   "source": [
    "ds =InvertedCube()"
   ]
  },
  {
   "cell_type": "code",
   "execution_count": 4,
   "metadata": {},
   "outputs": [
    {
     "data": {
      "text/plain": [
       "(2, 36)"
      ]
     },
     "execution_count": 4,
     "metadata": {},
     "output_type": "execute_result"
    }
   ],
   "source": [
    "ds.X.shape"
   ]
  },
  {
   "cell_type": "code",
   "execution_count": 4,
   "metadata": {},
   "outputs": [],
   "source": [
    "W_rep = T(1)(Cube())*ds.rep_in(Cube())"
   ]
  },
  {
   "cell_type": "code",
   "execution_count": 13,
   "metadata": {},
   "outputs": [],
   "source": [
    "#W_rep = W_rep(Cube())"
   ]
  },
  {
   "cell_type": "code",
   "execution_count": 14,
   "metadata": {},
   "outputs": [],
   "source": [
    "P = W_rep.symmetric_projector()"
   ]
  },
  {
   "cell_type": "code",
   "execution_count": 15,
   "metadata": {},
   "outputs": [],
   "source": [
    "W = P(np.random.randn(P.shape[-1])).reshape(W_rep.shape)"
   ]
  },
  {
   "cell_type": "code",
   "execution_count": 18,
   "metadata": {},
   "outputs": [
    {
     "data": {
      "text/plain": [
       "(6, 36)"
      ]
     },
     "execution_count": 18,
     "metadata": {},
     "output_type": "execute_result"
    }
   ],
   "source": [
    "W.shape"
   ]
  },
  {
   "cell_type": "code",
   "execution_count": 11,
   "metadata": {},
   "outputs": [],
   "source": [
    "#ds.X@Q_dense"
   ]
  },
  {
   "cell_type": "code",
   "execution_count": 19,
   "metadata": {},
   "outputs": [
    {
     "data": {
      "text/plain": [
       "DeviceArray([[ 4.939117  ,  2.0212417 , -1.6775758 ,  4.899134  ,\n",
       "               1.2750003 ,  0.87473357],\n",
       "             [-1.0132487 ,  0.32094163, -2.0643241 , -0.18619199,\n",
       "              -5.04762   ,  2.4405694 ]], dtype=float32)"
      ]
     },
     "execution_count": 19,
     "metadata": {},
     "output_type": "execute_result"
    }
   ],
   "source": [
    "ds.X@W.T"
   ]
  },
  {
   "cell_type": "code",
   "execution_count": 36,
   "metadata": {},
   "outputs": [
    {
     "data": {
      "text/plain": [
       "(6, 1)"
      ]
     },
     "execution_count": 36,
     "metadata": {},
     "output_type": "execute_result"
    }
   ],
   "source": [
    "T(1)(Cube()).symmetric_basis().shape"
   ]
  },
  {
   "cell_type": "code",
   "execution_count": 37,
   "metadata": {},
   "outputs": [
    {
     "data": {
      "text/plain": [
       "(36, 3)"
      ]
     },
     "execution_count": 37,
     "metadata": {},
     "output_type": "execute_result"
    }
   ],
   "source": [
    "T(2)(Cube()).symmetric_basis().shape"
   ]
  },
  {
   "cell_type": "code",
   "execution_count": 1,
   "metadata": {},
   "outputs": [],
   "source": [
    "import jax\n",
    "#jax.config.update('jax_platform_name', 'cpu')\n",
    "import numpy as np\n",
    "import jax.numpy as jnp\n",
    "from emlp_jax.equivariant_subspaces import T\n",
    "from emlp_jax.groups import *\n",
    "from emlp_jax.datasets import BrokenRubiksCube,InvertedCube\n",
    "from emlp_jax.mlp import uniform_allocation"
   ]
  },
  {
   "cell_type": "code",
   "execution_count": 41,
   "metadata": {},
   "outputs": [],
   "source": [
    "G = Cube()\n",
    "repin = 6*T(1)(G)\n",
    "rep = (138*T(0)+23*T(1))(G)\n",
    "repin=rep\n",
    "rep = 2*T(0)(G)"
   ]
  },
  {
   "cell_type": "code",
   "execution_count": null,
   "metadata": {},
   "outputs": [],
   "source": []
  },
  {
   "cell_type": "code",
   "execution_count": 42,
   "metadata": {},
   "outputs": [],
   "source": [
    "rep_W = rep*repin.T"
   ]
  },
  {
   "cell_type": "code",
   "execution_count": 43,
   "metadata": {},
   "outputs": [],
   "source": [
    "g = G.sample()"
   ]
  },
  {
   "cell_type": "code",
   "execution_count": 44,
   "metadata": {},
   "outputs": [],
   "source": [
    "Q = rep_W.symmetric_basis()"
   ]
  },
  {
   "cell_type": "code",
   "execution_count": 45,
   "metadata": {},
   "outputs": [],
   "source": [
    "vec_W = Q@np.random.randn(Q.shape[-1])"
   ]
  },
  {
   "cell_type": "code",
   "execution_count": 46,
   "metadata": {},
   "outputs": [],
   "source": [
    "W = vec_W.reshape(rep_W.shape)"
   ]
  },
  {
   "cell_type": "code",
   "execution_count": 47,
   "metadata": {},
   "outputs": [
    {
     "data": {
      "text/plain": [
       "(2, 276)"
      ]
     },
     "execution_count": 47,
     "metadata": {},
     "output_type": "execute_result"
    }
   ],
   "source": [
    "W.shape"
   ]
  },
  {
   "cell_type": "code",
   "execution_count": 48,
   "metadata": {},
   "outputs": [],
   "source": [
    "gWginv = rep.rho(g)@(W@repin.rho(jnp.linalg.inv(g)))"
   ]
  },
  {
   "cell_type": "code",
   "execution_count": 49,
   "metadata": {},
   "outputs": [
    {
     "data": {
      "text/plain": [
       "DeviceArray(3.9339066e-06, dtype=float32)"
      ]
     },
     "execution_count": 49,
     "metadata": {},
     "output_type": "execute_result"
    }
   ],
   "source": [
    "jnp.abs(gWginv-W).max()"
   ]
  },
  {
   "cell_type": "code",
   "execution_count": null,
   "metadata": {},
   "outputs": [],
   "source": []
  }
 ],
 "metadata": {
  "kernelspec": {
   "display_name": "Python 3",
   "language": "python",
   "name": "python3"
  },
  "language_info": {
   "codemirror_mode": {
    "name": "ipython",
    "version": 3
   },
   "file_extension": ".py",
   "mimetype": "text/x-python",
   "name": "python",
   "nbconvert_exporter": "python",
   "pygments_lexer": "ipython3",
   "version": "3.8.5"
  }
 },
 "nbformat": 4,
 "nbformat_minor": 4
}
