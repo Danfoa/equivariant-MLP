{
 "cells": [
  {
   "cell_type": "code",
   "execution_count": 1,
   "metadata": {},
   "outputs": [],
   "source": [
    "%load_ext autoreload\n",
    "%autoreload 2\n",
    "import numpy as np#\n",
    "import copy\n",
    "from emlp.solver.representation import *\n",
    "from emlp.solver.groups import *\n",
    "from emlp.models.mlp import uniform_rep\n",
    "import unittest\n",
    "from jax import vmap\n",
    "import jax.numpy as jnp\n",
    "import logging\n",
    "import argparse\n",
    "import sys\n",
    "import copy\n",
    "from functools import partialmethod\n",
    "import logging\n",
    "logging.getLogger().setLevel(logging.INFO)"
   ]
  },
  {
   "cell_type": "code",
   "execution_count": 2,
   "metadata": {},
   "outputs": [],
   "source": [
    "r = ((T(0)+2*T(1)+T(2)).T**2)(S(6))"
   ]
  },
  {
   "cell_type": "code",
   "execution_count": 3,
   "metadata": {},
   "outputs": [
    {
     "name": "stderr",
     "output_type": "stream",
     "text": [
      "INFO:root:V cache miss\n",
      "INFO:root:Solving basis for V, for G=S(6)\n",
      "INFO:root:V² cache miss\n",
      "INFO:root:Solving basis for V², for G=S(6)\n",
      "INFO:root:V³ cache miss\n",
      "INFO:root:Solving basis for V³, for G=S(6)\n",
      "INFO:root:V⁴ cache miss\n",
      "INFO:root:Solving basis for V⁴, for G=S(6)\n"
     ]
    }
   ],
   "source": [
    "Q = r.symmetric_basis()"
   ]
  },
  {
   "cell_type": "code",
   "execution_count": 4,
   "metadata": {},
   "outputs": [
    {
     "data": {
      "application/vnd.jupyter.widget-view+json": {
       "model_id": "8ab4c25033f145abb1d689a950508093",
       "version_major": 2,
       "version_minor": 0
      },
      "text/plain": [
       "sparsifying basis:   0%|          | 0/3000 [00:00<?, ?it/s]"
      ]
     },
     "metadata": {},
     "output_type": "display_data"
    },
    {
     "name": "stderr",
     "output_type": "stream",
     "text": [
      "WARNING:root:basis sparsification diverged, trying lower learning rate 3.33e-03\n"
     ]
    },
    {
     "data": {
      "application/vnd.jupyter.widget-view+json": {
       "model_id": "728be02c2ed042299e43091629da5a89",
       "version_major": 2,
       "version_minor": 0
      },
      "text/plain": [
       "sparsifying basis:   0%|          | 0/3000 [00:00<?, ?it/s]"
      ]
     },
     "metadata": {},
     "output_type": "display_data"
    },
    {
     "name": "stderr",
     "output_type": "stream",
     "text": [
      "ERROR:root:Basis elems did not separate: found only 2371/2401\n"
     ]
    },
    {
     "data": {
      "text/plain": [
       "array([[-1.,  1., -1., ...,  1.,  0.,  0.],\n",
       "       [ 1.,  0., -1., ..., -1.,  0., -1.],\n",
       "       [ 0.,  1., -1., ...,  1.,  1.,  1.],\n",
       "       ...,\n",
       "       [ 0.,  1.,  0., ...,  1.,  0.,  1.],\n",
       "       [ 0.,  1.,  0., ...,  1.,  1.,  0.],\n",
       "       [ 1.,  0., -1., ..., -1.,  1.,  0.]], dtype=float32)"
      ]
     },
     "execution_count": 4,
     "metadata": {},
     "output_type": "execute_result"
    }
   ],
   "source": [
    "sparsify_basis(Q)"
   ]
  },
  {
   "cell_type": "code",
   "execution_count": null,
   "metadata": {},
   "outputs": [],
   "source": []
  }
 ],
 "metadata": {
  "kernelspec": {
   "display_name": "Python 3",
   "language": "python",
   "name": "python3"
  },
  "language_info": {
   "codemirror_mode": {
    "name": "ipython",
    "version": 3
   },
   "file_extension": ".py",
   "mimetype": "text/x-python",
   "name": "python",
   "nbconvert_exporter": "python",
   "pygments_lexer": "ipython3",
   "version": "3.8.5"
  }
 },
 "nbformat": 4,
 "nbformat_minor": 4
}
