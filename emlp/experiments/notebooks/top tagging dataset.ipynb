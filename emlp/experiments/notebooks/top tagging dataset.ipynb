{
 "cells": [
  {
   "cell_type": "code",
   "execution_count": 2,
   "metadata": {},
   "outputs": [
    {
     "name": "stdout",
     "output_type": "stream",
     "text": [
      "The autoreload extension is already loaded. To reload it, use:\n",
      "  %reload_ext autoreload\n"
     ]
    }
   ],
   "source": [
    "import pandas as pd\n",
    "import numpy as np\n",
    "import torch\n",
    "%load_ext autoreload\n",
    "\n",
    "%autoreload 2\n"
   ]
  },
  {
   "cell_type": "code",
   "execution_count": 15,
   "metadata": {},
   "outputs": [],
   "source": [
    "df = pd.read_hdf(\"data/train.h5\", key='table')"
   ]
  },
  {
   "cell_type": "code",
   "execution_count": 4,
   "metadata": {},
   "outputs": [
    {
     "data": {
      "text/html": [
       "<div>\n",
       "<style scoped>\n",
       "    .dataframe tbody tr th:only-of-type {\n",
       "        vertical-align: middle;\n",
       "    }\n",
       "\n",
       "    .dataframe tbody tr th {\n",
       "        vertical-align: top;\n",
       "    }\n",
       "\n",
       "    .dataframe thead th {\n",
       "        text-align: right;\n",
       "    }\n",
       "</style>\n",
       "<table border=\"1\" class=\"dataframe\">\n",
       "  <thead>\n",
       "    <tr style=\"text-align: right;\">\n",
       "      <th></th>\n",
       "      <th>E_0</th>\n",
       "      <th>PX_0</th>\n",
       "      <th>PY_0</th>\n",
       "      <th>PZ_0</th>\n",
       "      <th>E_1</th>\n",
       "      <th>PX_1</th>\n",
       "      <th>PY_1</th>\n",
       "      <th>PZ_1</th>\n",
       "      <th>E_2</th>\n",
       "      <th>PX_2</th>\n",
       "      <th>...</th>\n",
       "      <th>E_199</th>\n",
       "      <th>PX_199</th>\n",
       "      <th>PY_199</th>\n",
       "      <th>PZ_199</th>\n",
       "      <th>truthE</th>\n",
       "      <th>truthPX</th>\n",
       "      <th>truthPY</th>\n",
       "      <th>truthPZ</th>\n",
       "      <th>ttv</th>\n",
       "      <th>is_signal_new</th>\n",
       "    </tr>\n",
       "  </thead>\n",
       "  <tbody>\n",
       "    <tr>\n",
       "      <th>954</th>\n",
       "      <td>266.676880</td>\n",
       "      <td>85.227501</td>\n",
       "      <td>-227.714478</td>\n",
       "      <td>109.539703</td>\n",
       "      <td>145.654129</td>\n",
       "      <td>46.856384</td>\n",
       "      <td>-124.277214</td>\n",
       "      <td>59.789429</td>\n",
       "      <td>76.116646</td>\n",
       "      <td>24.653267</td>\n",
       "      <td>...</td>\n",
       "      <td>0.0</td>\n",
       "      <td>0.0</td>\n",
       "      <td>0.0</td>\n",
       "      <td>0.0</td>\n",
       "      <td>0.0</td>\n",
       "      <td>0.0</td>\n",
       "      <td>0.0</td>\n",
       "      <td>0.0</td>\n",
       "      <td>2</td>\n",
       "      <td>0</td>\n",
       "    </tr>\n",
       "    <tr>\n",
       "      <th>957</th>\n",
       "      <td>385.807739</td>\n",
       "      <td>82.459038</td>\n",
       "      <td>303.009888</td>\n",
       "      <td>-224.127502</td>\n",
       "      <td>107.484184</td>\n",
       "      <td>15.370172</td>\n",
       "      <td>85.792786</td>\n",
       "      <td>-62.898380</td>\n",
       "      <td>69.148743</td>\n",
       "      <td>14.434706</td>\n",
       "      <td>...</td>\n",
       "      <td>0.0</td>\n",
       "      <td>0.0</td>\n",
       "      <td>0.0</td>\n",
       "      <td>0.0</td>\n",
       "      <td>0.0</td>\n",
       "      <td>0.0</td>\n",
       "      <td>0.0</td>\n",
       "      <td>0.0</td>\n",
       "      <td>2</td>\n",
       "      <td>0</td>\n",
       "    </tr>\n",
       "    <tr>\n",
       "      <th>959</th>\n",
       "      <td>144.535309</td>\n",
       "      <td>-108.092529</td>\n",
       "      <td>93.247643</td>\n",
       "      <td>-22.612755</td>\n",
       "      <td>70.963295</td>\n",
       "      <td>-21.669872</td>\n",
       "      <td>46.335262</td>\n",
       "      <td>-49.185867</td>\n",
       "      <td>56.287312</td>\n",
       "      <td>-19.737480</td>\n",
       "      <td>...</td>\n",
       "      <td>0.0</td>\n",
       "      <td>0.0</td>\n",
       "      <td>0.0</td>\n",
       "      <td>0.0</td>\n",
       "      <td>0.0</td>\n",
       "      <td>0.0</td>\n",
       "      <td>0.0</td>\n",
       "      <td>0.0</td>\n",
       "      <td>2</td>\n",
       "      <td>0</td>\n",
       "    </tr>\n",
       "    <tr>\n",
       "      <th>970</th>\n",
       "      <td>82.668480</td>\n",
       "      <td>49.805248</td>\n",
       "      <td>-9.679499</td>\n",
       "      <td>-65.267319</td>\n",
       "      <td>58.262596</td>\n",
       "      <td>38.636459</td>\n",
       "      <td>-7.670141</td>\n",
       "      <td>-42.929283</td>\n",
       "      <td>59.068157</td>\n",
       "      <td>37.110703</td>\n",
       "      <td>...</td>\n",
       "      <td>0.0</td>\n",
       "      <td>0.0</td>\n",
       "      <td>0.0</td>\n",
       "      <td>0.0</td>\n",
       "      <td>0.0</td>\n",
       "      <td>0.0</td>\n",
       "      <td>0.0</td>\n",
       "      <td>0.0</td>\n",
       "      <td>2</td>\n",
       "      <td>0</td>\n",
       "    </tr>\n",
       "    <tr>\n",
       "      <th>979</th>\n",
       "      <td>406.581726</td>\n",
       "      <td>186.811081</td>\n",
       "      <td>-345.960571</td>\n",
       "      <td>103.545181</td>\n",
       "      <td>42.170246</td>\n",
       "      <td>19.375856</td>\n",
       "      <td>-35.882679</td>\n",
       "      <td>10.739602</td>\n",
       "      <td>36.417843</td>\n",
       "      <td>12.717323</td>\n",
       "      <td>...</td>\n",
       "      <td>0.0</td>\n",
       "      <td>0.0</td>\n",
       "      <td>0.0</td>\n",
       "      <td>0.0</td>\n",
       "      <td>0.0</td>\n",
       "      <td>0.0</td>\n",
       "      <td>0.0</td>\n",
       "      <td>0.0</td>\n",
       "      <td>2</td>\n",
       "      <td>0</td>\n",
       "    </tr>\n",
       "  </tbody>\n",
       "</table>\n",
       "<p>5 rows × 806 columns</p>\n",
       "</div>"
      ],
      "text/plain": [
       "            E_0        PX_0        PY_0        PZ_0         E_1       PX_1  \\\n",
       "954  266.676880   85.227501 -227.714478  109.539703  145.654129  46.856384   \n",
       "957  385.807739   82.459038  303.009888 -224.127502  107.484184  15.370172   \n",
       "959  144.535309 -108.092529   93.247643  -22.612755   70.963295 -21.669872   \n",
       "970   82.668480   49.805248   -9.679499  -65.267319   58.262596  38.636459   \n",
       "979  406.581726  186.811081 -345.960571  103.545181   42.170246  19.375856   \n",
       "\n",
       "           PY_1       PZ_1        E_2       PX_2  ...  E_199  PX_199  PY_199  \\\n",
       "954 -124.277214  59.789429  76.116646  24.653267  ...    0.0     0.0     0.0   \n",
       "957   85.792786 -62.898380  69.148743  14.434706  ...    0.0     0.0     0.0   \n",
       "959   46.335262 -49.185867  56.287312 -19.737480  ...    0.0     0.0     0.0   \n",
       "970   -7.670141 -42.929283  59.068157  37.110703  ...    0.0     0.0     0.0   \n",
       "979  -35.882679  10.739602  36.417843  12.717323  ...    0.0     0.0     0.0   \n",
       "\n",
       "     PZ_199  truthE  truthPX  truthPY  truthPZ  ttv  is_signal_new  \n",
       "954     0.0     0.0      0.0      0.0      0.0    2              0  \n",
       "957     0.0     0.0      0.0      0.0      0.0    2              0  \n",
       "959     0.0     0.0      0.0      0.0      0.0    2              0  \n",
       "970     0.0     0.0      0.0      0.0      0.0    2              0  \n",
       "979     0.0     0.0      0.0      0.0      0.0    2              0  \n",
       "\n",
       "[5 rows x 806 columns]"
      ]
     },
     "execution_count": 4,
     "metadata": {},
     "output_type": "execute_result"
    }
   ],
   "source": [
    "df.head()"
   ]
  },
  {
   "cell_type": "code",
   "execution_count": null,
   "metadata": {},
   "outputs": [],
   "source": []
  },
  {
   "cell_type": "code",
   "execution_count": 16,
   "metadata": {},
   "outputs": [
    {
     "data": {
      "text/plain": [
       "(1211000,)"
      ]
     },
     "execution_count": 16,
     "metadata": {},
     "output_type": "execute_result"
    }
   ],
   "source": [
    "df['is_signal_new'].values.shape"
   ]
  },
  {
   "cell_type": "code",
   "execution_count": 5,
   "metadata": {},
   "outputs": [
    {
     "data": {
      "text/plain": [
       "(403000, 806)"
      ]
     },
     "execution_count": 5,
     "metadata": {},
     "output_type": "execute_result"
    }
   ],
   "source": [
    "df.shape"
   ]
  },
  {
   "cell_type": "code",
   "execution_count": 17,
   "metadata": {},
   "outputs": [],
   "source": [
    "def _col_list(prefix, max_particles=200):\n",
    "    return ['%s_%d'%(prefix,i) for i in range(max_particles)]\n",
    "    \n",
    "_px = df[_col_list('PX')].values\n",
    "_py = df[_col_list('PY')].values\n",
    "_pz = df[_col_list('PZ')].values\n",
    "_e = df[_col_list('E')].values\n",
    "\n",
    "mask = _e>0\n",
    "n_particles = np.sum(mask, axis=1)"
   ]
  },
  {
   "cell_type": "code",
   "execution_count": 19,
   "metadata": {},
   "outputs": [
    {
     "data": {
      "text/plain": [
       "array([23, 43, 41, 25, 73, 55, 53, 70, 27, 64, 89, 28, 71, 29, 40, 22, 41,\n",
       "       43, 13, 25, 57, 32, 76, 57, 27, 16, 23, 50, 40, 44, 42, 42, 25, 65,\n",
       "       21, 44, 61, 23, 32, 26, 53, 47, 55, 67, 54, 36, 81, 62, 62, 66, 13,\n",
       "       45, 68, 23, 69, 30, 30, 34, 49, 34, 48, 65, 41, 78, 41, 32, 81, 50,\n",
       "       52, 60, 57, 39, 54, 57, 73, 53, 77, 90, 48, 59, 53, 67, 49, 43, 49,\n",
       "       52, 39, 55, 39, 37, 21, 33, 21, 44, 25, 48, 56, 21, 44, 36])"
      ]
     },
     "execution_count": 19,
     "metadata": {},
     "output_type": "execute_result"
    }
   ],
   "source": [
    "().sum(-1)"
   ]
  },
  {
   "cell_type": "code",
   "execution_count": 21,
   "metadata": {},
   "outputs": [
    {
     "data": {
      "text/plain": [
       "array([1.0327688, 0.4266541, 0.       , 0.       , 0.       , 0.       ,\n",
       "       0.       , 0.       , 0.       , 0.       , 0.       , 0.       ,\n",
       "       0.       , 0.       , 0.       , 0.       , 0.       , 0.       ,\n",
       "       0.       ], dtype=float32)"
      ]
     },
     "execution_count": 21,
     "metadata": {},
     "output_type": "execute_result"
    }
   ],
   "source": [
    "_e[0,21:40]"
   ]
  },
  {
   "cell_type": "code",
   "execution_count": 7,
   "metadata": {},
   "outputs": [
    {
     "name": "stderr",
     "output_type": "stream",
     "text": [
      "/home/marc/anaconda3/envs/freshenv/lib/python3.8/site-packages/seaborn/distributions.py:2557: FutureWarning: `distplot` is a deprecated function and will be removed in a future version. Please adapt your code to use either `displot` (a figure-level function with similar flexibility) or `histplot` (an axes-level function for histograms).\n",
      "  warnings.warn(msg, FutureWarning)\n"
     ]
    },
    {
     "data": {
      "image/png": "[encoded data removed]",
      "text/plain": [
       "<Figure size 432x288 with 1 Axes>"
      ]
     },
     "metadata": {
      "needs_background": "light"
     },
     "output_type": "display_data"
    }
   ],
   "source": [
    "import matplotlib.pyplot as plt\n",
    "import seaborn as sns\n",
    "\n",
    "sns.distplot(n_particles)\n",
    "plt.show()"
   ]
  },
  {
   "cell_type": "code",
   "execution_count": 7,
   "metadata": {},
   "outputs": [
    {
     "data": {
      "text/plain": [
       "0.4999925558312655"
      ]
     },
     "execution_count": 7,
     "metadata": {},
     "output_type": "execute_result"
    }
   ],
   "source": [
    "df['is_signal_new'].mean()"
   ]
  },
  {
   "cell_type": "code",
   "execution_count": 8,
   "metadata": {},
   "outputs": [],
   "source": [
    "from emlp.equivariant_subspaces import *"
   ]
  },
  {
   "cell_type": "code",
   "execution_count": 10,
   "metadata": {},
   "outputs": [],
   "source": [
    "repin = 2*Scalar+3*Vector+T(1,2) + Matrix+Vector\n",
    "repout = T(2,1)+2*Vector+ 3*Scalar+Quad\n",
    "gens = [np.array([[0,-1],[1,0]])]\n",
    "# active_dims,P = matrix_active_subspaces(gens,repout,repin)\n",
    "# params = torch.randn(active_dims).cuda()\n",
    "# W = P(params).cuda()"
   ]
  },
  {
   "cell_type": "code",
   "execution_count": 11,
   "metadata": {},
   "outputs": [
    {
     "data": {
      "text/plain": [
       "(22, 19)"
      ]
     },
     "execution_count": 11,
     "metadata": {},
     "output_type": "execute_result"
    }
   ],
   "source": [
    "repsize(repin,2),repsize(repout,2)"
   ]
  },
  {
   "cell_type": "code",
   "execution_count": 13,
   "metadata": {},
   "outputs": [],
   "source": [
    "#W.shape"
   ]
  },
  {
   "cell_type": "code",
   "execution_count": 14,
   "metadata": {},
   "outputs": [],
   "source": [
    "\n",
    "s = torch.randn(2,4).float()\n",
    "\n",
    "v = torch.randn(2,repsize(repout,2))"
   ]
  },
  {
   "cell_type": "code",
   "execution_count": 15,
   "metadata": {},
   "outputs": [],
   "source": [
    "indices = torch.tensor([0,0,0,0,0,0,0,0,1,1,2,2,0,0,0,3,3,3,3])"
   ]
  },
  {
   "cell_type": "code",
   "execution_count": 16,
   "metadata": {},
   "outputs": [
    {
     "ename": "IndexError",
     "evalue": "Dimension out of range (expected to be in range of [-1, 0], but got 1)",
     "output_type": "error",
     "traceback": [
      "\u001b[0;31m---------------------------------------------------------------------------\u001b[0m",
      "\u001b[0;31mIndexError\u001b[0m                                Traceback (most recent call last)",
      "\u001b[0;32m<ipython-input-16-738116156d88>\u001b[0m in \u001b[0;36m<module>\u001b[0;34m\u001b[0m\n\u001b[0;32m----> 1\u001b[0;31m \u001b[0mtorch\u001b[0m\u001b[0;34m.\u001b[0m\u001b[0mzeros_like\u001b[0m\u001b[0;34m(\u001b[0m\u001b[0mv\u001b[0m\u001b[0;34m)\u001b[0m\u001b[0;34m.\u001b[0m\u001b[0mscatter_\u001b[0m\u001b[0;34m(\u001b[0m\u001b[0;36m0\u001b[0m\u001b[0;34m,\u001b[0m\u001b[0mindices\u001b[0m\u001b[0;34m,\u001b[0m\u001b[0ms\u001b[0m\u001b[0;34m)\u001b[0m\u001b[0;34m\u001b[0m\u001b[0;34m\u001b[0m\u001b[0m\n\u001b[0m",
      "\u001b[0;31mIndexError\u001b[0m: Dimension out of range (expected to be in range of [-1, 0], but got 1)"
     ]
    }
   ],
   "source": [
    "torch.zeros_like(v).scatter_(0,indices,s)"
   ]
  },
  {
   "cell_type": "code",
   "execution_count": 17,
   "metadata": {},
   "outputs": [
    {
     "data": {
      "text/plain": [
       "torch.Size([2, 19])"
      ]
     },
     "execution_count": 17,
     "metadata": {},
     "output_type": "execute_result"
    }
   ],
   "source": [
    "s[:,indices].shape"
   ]
  },
  {
   "cell_type": "code",
   "execution_count": 18,
   "metadata": {},
   "outputs": [
    {
     "data": {
      "text/plain": [
       "torch.Size([19])"
      ]
     },
     "execution_count": 18,
     "metadata": {},
     "output_type": "execute_result"
    }
   ],
   "source": [
    "indices.shape"
   ]
  },
  {
   "cell_type": "code",
   "execution_count": 19,
   "metadata": {},
   "outputs": [
    {
     "data": {
      "text/plain": [
       "torch.Size([2, 4])"
      ]
     },
     "execution_count": 19,
     "metadata": {},
     "output_type": "execute_result"
    }
   ],
   "source": [
    "s.shape"
   ]
  },
  {
   "cell_type": "code",
   "execution_count": 20,
   "metadata": {},
   "outputs": [],
   "source": [
    "from emlp.equivariant_subspaces import T,Scalar,Matrix,Vector,Quad,repsize\n",
    "from emlp.mlp import EMLP,LieLinear\n",
    "import numpy as np\n",
    "import torch"
   ]
  },
  {
   "cell_type": "code",
   "execution_count": 21,
   "metadata": {},
   "outputs": [],
   "source": [
    "A = np.zeros((4,4))\n",
    "rots = [np.copy(A) for i in [1,2,3]]\n",
    "rots[0][1,2] = 1\n",
    "rots[1][2,3] =1\n",
    "rots[2][3,1] = 1\n",
    "rots = [Ai-Ai.T for Ai in rots]\n",
    "lorentzs = [np.copy(A) for i in [1,2,3]]\n",
    "lorentzs[0][0,1] = 1\n",
    "lorentzs[1][0,2] =1\n",
    "lorentzs[2][0,3] = 1\n",
    "lorentzs = [Ai+Ai.T for Ai in lorentzs]\n",
    "algebra = lorentzs+rots"
   ]
  },
  {
   "cell_type": "code",
   "execution_count": 22,
   "metadata": {},
   "outputs": [],
   "source": [
    "#algebra = [Ai[1:,1:] for Ai in rots]"
   ]
  },
  {
   "cell_type": "code",
   "execution_count": 23,
   "metadata": {},
   "outputs": [],
   "source": [
    "repin = T(1,0)\n",
    "#repmiddle = 30*T(0,0)+10*T(1,0)+10*T(0,1)+5*T(2,0)+5*T(1,1)+5*T(0,2)#+2*T(3,0)+2*T(2,1)+2*T(1,2)+2*T(0,3)\n",
    "repout = T(0,0)\n",
    "repmiddle = T(0,0)+T(1,0)+T(0,1)+T(1,1)+T(0,2)+T(2,0)"
   ]
  },
  {
   "cell_type": "code",
   "execution_count": 24,
   "metadata": {},
   "outputs": [
    {
     "data": {
      "text/plain": [
       "T(0, 0)+T(1, 0)+T(0, 1)+T(1, 1)+T(0, 2)+T(2, 0)"
      ]
     },
     "execution_count": 24,
     "metadata": {},
     "output_type": "execute_result"
    }
   ],
   "source": [
    "repmiddle"
   ]
  },
  {
   "cell_type": "code",
   "execution_count": 25,
   "metadata": {},
   "outputs": [
    {
     "data": {
      "text/plain": [
       "[array([[0., 1., 0., 0.],\n",
       "        [1., 0., 0., 0.],\n",
       "        [0., 0., 0., 0.],\n",
       "        [0., 0., 0., 0.]]), array([[0., 0., 1., 0.],\n",
       "        [0., 0., 0., 0.],\n",
       "        [1., 0., 0., 0.],\n",
       "        [0., 0., 0., 0.]]), array([[0., 0., 0., 1.],\n",
       "        [0., 0., 0., 0.],\n",
       "        [0., 0., 0., 0.],\n",
       "        [1., 0., 0., 0.]]), array([[ 0.,  0.,  0.,  0.],\n",
       "        [ 0.,  0.,  1.,  0.],\n",
       "        [ 0., -1.,  0.,  0.],\n",
       "        [ 0.,  0.,  0.,  0.]]), array([[ 0.,  0.,  0.,  0.],\n",
       "        [ 0.,  0.,  0.,  0.],\n",
       "        [ 0.,  0.,  0.,  1.],\n",
       "        [ 0.,  0., -1.,  0.]]), array([[ 0.,  0.,  0.,  0.],\n",
       "        [ 0.,  0.,  0., -1.],\n",
       "        [ 0.,  0.,  0.,  0.],\n",
       "        [ 0.,  1.,  0.,  0.]])]"
      ]
     },
     "execution_count": 25,
     "metadata": {},
     "output_type": "execute_result"
    }
   ],
   "source": [
    "algebra"
   ]
  },
  {
   "cell_type": "code",
   "execution_count": 31,
   "metadata": {},
   "outputs": [
    {
     "data": {
      "text/plain": [
       "5T(0, 0)+T(1, 0)+T(2, 0)+T(3, 0)+T(4, 0)"
      ]
     },
     "execution_count": 31,
     "metadata": {},
     "output_type": "execute_result"
    }
   ],
   "source": [
    "5*T(0,0)+T(1,0)+T(2,0)+T(3,0)+T(4,0)"
   ]
  },
  {
   "cell_type": "code",
   "execution_count": 36,
   "metadata": {},
   "outputs": [
    {
     "name": "stdout",
     "output_type": "stream",
     "text": [
      "1\n",
      "tensor([1.])\n",
      "0\n",
      "tensor([0., 0., 0., 0.])\n",
      "1\n",
      "tensor([-0.5000,  0.0000,  0.0000,  0.0000,  0.0000, -0.5000,  0.0000,  0.0000,\n",
      "         0.0000,  0.0000, -0.5000,  0.0000,  0.0000,  0.0000,  0.0000, -0.5000])\n",
      "1\n",
      "tensor([-0.5000,  0.0000,  0.0000,  0.0000,  0.0000,  0.5000,  0.0000,  0.0000,\n",
      "         0.0000,  0.0000,  0.5000,  0.0000,  0.0000,  0.0000,  0.0000,  0.5000])\n",
      "0\n",
      "tensor([0., 0., 0., 0., 0., 0., 0., 0., 0., 0., 0., 0., 0., 0., 0., 0., 0., 0., 0., 0., 0., 0., 0., 0.,\n",
      "        0., 0., 0., 0., 0., 0., 0., 0., 0., 0., 0., 0., 0., 0., 0., 0., 0., 0., 0., 0., 0., 0., 0., 0.,\n",
      "        0., 0., 0., 0., 0., 0., 0., 0., 0., 0., 0., 0., 0., 0., 0., 0.])\n",
      "4\n",
      "tensor([-1.0435,  0.0000,  0.0000,  0.0000,  0.0000,  1.3101,  0.0000,  0.0000,\n",
      "         0.0000,  0.0000,  1.3101,  0.0000,  0.0000,  0.0000,  0.0000,  1.3101,\n",
      "         0.0000, -0.0762,  0.0000,  0.0000, -0.1904,  0.0000,  0.0000,  0.0000,\n",
      "         0.0000,  0.0000,  0.0000,  0.4351,  0.0000,  0.0000, -0.4351,  0.0000,\n",
      "         0.0000,  0.0000, -0.0762,  0.0000,  0.0000,  0.0000,  0.0000, -0.4351,\n",
      "        -0.1904,  0.0000,  0.0000,  0.0000,  0.0000,  0.4351,  0.0000,  0.0000,\n",
      "         0.0000,  0.0000,  0.0000, -0.0762,  0.0000,  0.0000,  0.4351,  0.0000,\n",
      "         0.0000, -0.4351,  0.0000,  0.0000, -0.1904,  0.0000,  0.0000,  0.0000,\n",
      "         0.0000, -0.1904,  0.0000,  0.0000, -0.0762,  0.0000,  0.0000,  0.0000,\n",
      "         0.0000,  0.0000,  0.0000, -0.4351,  0.0000,  0.0000,  0.4351,  0.0000,\n",
      "         1.3101,  0.0000,  0.0000,  0.0000,  0.0000, -1.0435,  0.0000,  0.0000,\n",
      "         0.0000,  0.0000, -1.3101,  0.0000,  0.0000,  0.0000,  0.0000, -1.3101,\n",
      "         0.0000,  0.0000,  0.0000,  0.4351,  0.0000,  0.0000,  0.0762,  0.0000,\n",
      "         0.0000,  0.1904,  0.0000,  0.0000, -0.4351,  0.0000,  0.0000,  0.0000,\n",
      "         0.0000,  0.0000, -0.4351,  0.0000,  0.0000,  0.0000,  0.0000,  0.0762,\n",
      "         0.4351,  0.0000,  0.0000,  0.0000,  0.0000,  0.1904,  0.0000,  0.0000,\n",
      "         0.0000,  0.0000, -0.1904,  0.0000,  0.0000,  0.0000,  0.0000,  0.4351,\n",
      "        -0.0762,  0.0000,  0.0000,  0.0000,  0.0000, -0.4351,  0.0000,  0.0000,\n",
      "         0.0000,  0.0000,  0.0000, -0.4351,  0.0000,  0.0000,  0.1904,  0.0000,\n",
      "         0.0000,  0.0762,  0.0000,  0.0000,  0.4351,  0.0000,  0.0000,  0.0000,\n",
      "         1.3101,  0.0000,  0.0000,  0.0000,  0.0000, -1.3101,  0.0000,  0.0000,\n",
      "         0.0000,  0.0000, -1.0435,  0.0000,  0.0000,  0.0000,  0.0000, -1.3101,\n",
      "         0.0000,  0.4351,  0.0000,  0.0000, -0.4351,  0.0000,  0.0000,  0.0000,\n",
      "         0.0000,  0.0000,  0.0000,  0.0762,  0.0000,  0.0000,  0.1904,  0.0000,\n",
      "         0.0000,  0.0000,  0.0000, -0.1904,  0.0000,  0.0000, -0.4351,  0.0000,\n",
      "         0.0000,  0.4351,  0.0000,  0.0000, -0.0762,  0.0000,  0.0000,  0.0000,\n",
      "         0.0000,  0.0000,  0.4351,  0.0000,  0.0000,  0.0000,  0.0000,  0.1904,\n",
      "        -0.4351,  0.0000,  0.0000,  0.0000,  0.0000,  0.0762,  0.0000,  0.0000,\n",
      "         0.0000, -0.4351,  0.0000,  0.0000,  0.4351,  0.0000,  0.0000,  0.0000,\n",
      "         0.0000,  0.0000,  0.0000,  0.1904,  0.0000,  0.0000,  0.0762,  0.0000,\n",
      "         1.3101,  0.0000,  0.0000,  0.0000,  0.0000, -1.3101,  0.0000,  0.0000,\n",
      "         0.0000,  0.0000, -1.3101,  0.0000,  0.0000,  0.0000,  0.0000, -1.0435])\n"
     ]
    }
   ],
   "source": [
    "for rep in [T(0,0),T(1,0),T(1,1),T(2,0),T(3,0),T(4,0)]:\n",
    "    print(rep(algebra).symmetric_subspace()[0])\n",
    "    print(rep(algebra).show_subspace())"
   ]
  },
  {
   "cell_type": "code",
   "execution_count": 7,
   "metadata": {},
   "outputs": [],
   "source": [
    "# from emlp.equivariant_subspaces_old import *\n",
    "# for rep in [T(0,0),T(1,0),T(1,1),T(2,0),T(2,1),T(2,2),T(2,3),T(3,3)]:\n",
    "#     print(get_active_subspaces(algebra[:1],rep))"
   ]
  },
  {
   "cell_type": "code",
   "execution_count": 8,
   "metadata": {},
   "outputs": [],
   "source": [
    "#(repin*T(1,1))(algebra).symmetric_subspace()"
   ]
  },
  {
   "cell_type": "code",
   "execution_count": 9,
   "metadata": {},
   "outputs": [
    {
     "name": "stdout",
     "output_type": "stream",
     "text": [
      "W components:248 dim:2 shape:(62, 4) rep:6T(0, 1)+T(1, 1)+T(0, 2)+T(1, 2)+T(0, 3)+T(2, 1) @ d=4\n",
      "bias components:62 dim:9 shape:6T(0, 0)+T(1, 0)+T(0, 1)+T(1, 1)+T(0, 2)+T(2, 0) @ d=4 rep:6T(0, 0)+T(1, 0)+T(0, 1)+T(1, 1)+T(0, 2)+T(2, 0) @ d=4\n",
      "W components:3534 dim:67 shape:(62, 57) rep:6T(0, 0)+7T(0, 1)+7T(1, 0)+9T(1, 1)+8T(2, 0)+8T(0, 2)+4T(2, 1)+2T(3, 0)+4T(1, 2)+2T(0, 3)+3T(2, 2)+2T(3, 1)+2T(1, 3)+T(0, 4)+T(4, 0) @ d=4\n",
      "bias components:62 dim:9 shape:6T(0, 0)+T(1, 0)+T(0, 1)+T(1, 1)+T(0, 2)+T(2, 0) @ d=4 rep:6T(0, 0)+T(1, 0)+T(0, 1)+T(1, 1)+T(0, 2)+T(2, 0) @ d=4\n",
      "W components:57 dim:4 shape:(1, 57) rep:T(0, 0)+T(0, 1)+T(1, 0)+T(1, 1)+T(2, 0)+T(0, 2) @ d=4\n",
      "bias components:1 dim:1 shape:T(0, 0) @ d=4 rep:T(0, 0) @ d=4\n"
     ]
    }
   ],
   "source": [
    "#NN = LieLinear(repin(algebra),repmiddle(algebra))\n",
    "NN =  EMLP(repin,repout,repmiddle,3,algebra)"
   ]
  },
  {
   "cell_type": "code",
   "execution_count": 10,
   "metadata": {},
   "outputs": [],
   "source": [
    "import pandas as pd\n",
    "import numpy as np\n",
    "import torch\n",
    "df = pd.read_hdf(\"data/val.h5\", key='table')\n",
    "p = df[['E_0', 'PX_0', 'PY_0', 'PZ_0']].iloc[:30]"
   ]
  },
  {
   "cell_type": "code",
   "execution_count": 11,
   "metadata": {},
   "outputs": [],
   "source": [
    "p;"
   ]
  },
  {
   "cell_type": "code",
   "execution_count": 12,
   "metadata": {},
   "outputs": [],
   "source": [
    "pp = torch.from_numpy(p.to_numpy())"
   ]
  },
  {
   "cell_type": "code",
   "execution_count": 13,
   "metadata": {},
   "outputs": [
    {
     "data": {
      "text/plain": [
       "torch.Size([30, 4])"
      ]
     },
     "execution_count": 13,
     "metadata": {},
     "output_type": "execute_result"
    }
   ],
   "source": [
    "pp.shape"
   ]
  },
  {
   "cell_type": "code",
   "execution_count": 14,
   "metadata": {},
   "outputs": [],
   "source": [
    "#pp"
   ]
  },
  {
   "cell_type": "code",
   "execution_count": 15,
   "metadata": {},
   "outputs": [
    {
     "name": "stdout",
     "output_type": "stream",
     "text": [
      "tensor(0., grad_fn=<MeanBackward0>)\n",
      "tensor(0., grad_fn=<MeanBackward0>)\n"
     ]
    }
   ],
   "source": [
    "NN.eval()\n",
    "print(NN(0*pp).abs().mean())\n",
    "print(NN(pp).abs().mean())"
   ]
  },
  {
   "cell_type": "code",
   "execution_count": 16,
   "metadata": {},
   "outputs": [
    {
     "data": {
      "text/plain": [
       "Sequential(\n",
       "  (0): Sequential(\n",
       "    (0): LieLinear()\n",
       "    (1): GatedNonlinearity()\n",
       "  )\n",
       "  (1): Sequential(\n",
       "    (0): LieLinear()\n",
       "    (1): GatedNonlinearity()\n",
       "  )\n",
       "  (2): LieLinear()\n",
       ")"
      ]
     },
     "execution_count": 16,
     "metadata": {},
     "output_type": "execute_result"
    }
   ],
   "source": [
    "NN.network"
   ]
  },
  {
   "cell_type": "code",
   "execution_count": 23,
   "metadata": {},
   "outputs": [
    {
     "data": {
      "text/plain": [
       "tensor([  0.0000, -82.5192, -26.3724,  70.4629, -33.8954,  -0.4377,   0.1399,\n",
       "         -0.3737,   0.1798,   0.0000,   0.0000,   0.0000,   0.0000,   0.0000,\n",
       "          0.0000,   0.0000,   0.0000,   0.0000,   0.0000,   0.0000,   0.0000,\n",
       "          0.0000,   0.0000,   0.0000,   0.0000,   0.0000,   0.0000,   0.0000,\n",
       "          0.0000,   0.0000,   0.0000,   0.0000,   0.0000,   0.0000,   0.0000,\n",
       "          0.0000,   0.0000,   0.0000,   0.0000,   0.0000,   0.0000,   0.0000,\n",
       "          0.0000,   0.0000,   0.0000,   0.0000,   0.0000,   0.0000,   0.0000,\n",
       "          0.0000,   0.0000,   0.0000,   0.0000,   0.0000,   0.0000,   0.0000,\n",
       "          0.0000,   0.0000,   0.0000,   0.0000,   0.0000,   0.0000],\n",
       "       grad_fn=<SelectBackward>)"
      ]
     },
     "execution_count": 23,
     "metadata": {},
     "output_type": "execute_result"
    }
   ],
   "source": [
    "NN.network[0][0](pp)[0]"
   ]
  },
  {
   "cell_type": "code",
   "execution_count": 7,
   "metadata": {},
   "outputs": [
    {
     "data": {
      "text/plain": [
       "['__abstractmethods__',\n",
       " '__base__',\n",
       " '__bases__',\n",
       " '__basicsize__',\n",
       " '__call__',\n",
       " '__class__',\n",
       " '__delattr__',\n",
       " '__dict__',\n",
       " '__dictoffset__',\n",
       " '__dir__',\n",
       " '__doc__',\n",
       " '__eq__',\n",
       " '__flags__',\n",
       " '__format__',\n",
       " '__ge__',\n",
       " '__getattribute__',\n",
       " '__gt__',\n",
       " '__hash__',\n",
       " '__init__',\n",
       " '__init_subclass__',\n",
       " '__instancecheck__',\n",
       " '__itemsize__',\n",
       " '__le__',\n",
       " '__lt__',\n",
       " '__module__',\n",
       " '__mro__',\n",
       " '__name__',\n",
       " '__ne__',\n",
       " '__new__',\n",
       " '__prepare__',\n",
       " '__qualname__',\n",
       " '__reduce__',\n",
       " '__reduce_ex__',\n",
       " '__repr__',\n",
       " '__setattr__',\n",
       " '__sizeof__',\n",
       " '__str__',\n",
       " '__subclasscheck__',\n",
       " '__subclasses__',\n",
       " '__subclasshook__',\n",
       " '__text_signature__',\n",
       " '__weakrefoffset__',\n",
       " 'mro']"
      ]
     },
     "execution_count": 7,
     "metadata": {},
     "output_type": "execute_result"
    }
   ],
   "source": [
    "dir(type(object))"
   ]
  },
  {
   "cell_type": "code",
   "execution_count": 8,
   "metadata": {},
   "outputs": [],
   "source": [
    "class Rep(type):\n",
    "    pass"
   ]
  },
  {
   "cell_type": "code",
   "execution_count": 9,
   "metadata": {},
   "outputs": [
    {
     "ename": "TypeError",
     "evalue": "type.__new__() takes exactly 3 arguments (0 given)",
     "output_type": "error",
     "traceback": [
      "\u001b[0;31m---------------------------------------------------------------------------\u001b[0m",
      "\u001b[0;31mTypeError\u001b[0m                                 Traceback (most recent call last)",
      "\u001b[0;32m<ipython-input-9-640e91d6decd>\u001b[0m in \u001b[0;36m<module>\u001b[0;34m\u001b[0m\n\u001b[0;32m----> 1\u001b[0;31m \u001b[0mRep\u001b[0m\u001b[0;34m(\u001b[0m\u001b[0;34m)\u001b[0m\u001b[0;34m\u001b[0m\u001b[0;34m\u001b[0m\u001b[0m\n\u001b[0m",
      "\u001b[0;31mTypeError\u001b[0m: type.__new__() takes exactly 3 arguments (0 given)"
     ]
    }
   ],
   "source": [
    "Rep()"
   ]
  },
  {
   "cell_type": "code",
   "execution_count": 10,
   "metadata": {},
   "outputs": [
    {
     "data": {
      "text/plain": [
       "(2, 1)"
      ]
     },
     "execution_count": 10,
     "metadata": {},
     "output_type": "execute_result"
    }
   ],
   "source": [
    "(1,2)[::-1]"
   ]
  },
  {
   "cell_type": "code",
   "execution_count": null,
   "metadata": {},
   "outputs": [],
   "source": []
  }
 ],
 "metadata": {
  "kernelspec": {
   "display_name": "Python 3",
   "language": "python",
   "name": "python3"
  },
  "language_info": {
   "codemirror_mode": {
    "name": "ipython",
    "version": 3
   },
   "file_extension": ".py",
   "mimetype": "text/x-python",
   "name": "python",
   "nbconvert_exporter": "python",
   "pygments_lexer": "ipython3",
   "version": "3.8.5"
  }
 },
 "nbformat": 4,
 "nbformat_minor": 2
}
