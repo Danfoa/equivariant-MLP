{
 "cells": [
  {
   "cell_type": "markdown",
   "metadata": {},
   "source": [
    "# Implementing New Representations"
   ]
  },
  {
   "cell_type": "markdown",
   "metadata": {},
   "source": [
    "As our solver treats objects very generally, implementing new representations is surprisingly easy. To implement a new [Representation](https://emlp.readthedocs.io/en/latest/package/emlp.solver.representation.html#emlp.models.solver.representation.Rep) you need to implement `size()` which is the dimension of the representation, `rho(M)` which is a mapping from the group elements to the representation matrix, as well `__eq__` and `__hash__` to distinguish different representations. It's also a good idea to implement a `__str__` function to improve readability. All representations implemented this way should have the `.G` attribute specifying the symmetry group.\n",
    "\n",
    "The implementation also requires you to specify whether the representation is regular (whether `rho(M)` outputs a permutaiton matrix) with the `is_regular` attribute, and also the `.T` property that returns the dual of the representation. We plan on removing these two requirements in a later release."
   ]
  },
  {
   "cell_type": "markdown",
   "metadata": {},
   "source": [
    "## Example 1: Irreducible Representations of SO(2) "
   ]
  },
  {
   "cell_type": "markdown",
   "metadata": {},
   "source": [
    "As a first example, we show one can implement the real irreducible representations of the group SO(2). All of irreducible representations $\\psi_n$ of SO(2) are $2$-dimensional (except for $\\psi_0$ which is the same as [Scalar](https://emlp.readthedocs.io/en/latest/package/emlp.solver.representation.html#emlp.models.solver.representation.Scalar) $= \\mathbb{R} = \\psi_0$). These representations can be written $\\psi_n(R_\\theta) = \\begin{bmatrix}\\cos(n\\theta) &\\sin(n\\theta)\\\\-\\sin(n\\theta) &  \\cos(n\\theta) \\end{bmatrix}$ or simply: $\\psi_n(R) = R^n$."
   ]
  },
  {
   "cell_type": "code",
   "execution_count": 70,
   "metadata": {},
   "outputs": [],
   "source": [
    "import jax.numpy as jnp\n",
    "from emlp.solver.representation import Rep,vis\n",
    "from emlp.solver.groups import SO\n",
    "\n",
    "class SO2Irreps(Rep):\n",
    "    \"\"\" (Real) Irreducible representations of SO2 \"\"\"\n",
    "    is_regular=False\n",
    "    def __init__(self,order):\n",
    "        assert order>0, \"Use Scalar for 𝜓₀\"\n",
    "        self.G=SO(2)\n",
    "        self.order = order\n",
    "    def size(self):\n",
    "        return 2\n",
    "    def rho(self,M):\n",
    "        return jnp.linalg.matrix_power(M,self.order)\n",
    "    def __str__(self):\n",
    "        number2sub = str.maketrans(\"0123456789\", \"₀₁₂₃₄₅₆₇₈₉\")\n",
    "        return f\"𝜓{self.order}\".translate(number2sub)\n",
    "    def __eq__(self,other):\n",
    "        return type(self)==type(other) and self.G==other.G and self.order==other.order\n",
    "    def __hash__(self):\n",
    "        return hash((type(self),self.G,self.order))\n",
    "    @property\n",
    "    def T(self):\n",
    "        return self"
   ]
  },
  {
   "cell_type": "markdown",
   "metadata": {},
   "source": [
    "That's it! Now we can use the SO(2) irreps in the type system, and solve for equivariant bases that contain them."
   ]
  },
  {
   "cell_type": "code",
   "execution_count": 71,
   "metadata": {},
   "outputs": [],
   "source": [
    "psi1 = SO2Irreps(1)\n",
    "psi2 = SO2Irreps(2)\n",
    "psi3 = SO2Irreps(3)\n",
    "psi4 = SO2Irreps(4)"
   ]
  },
  {
   "cell_type": "code",
   "execution_count": 72,
   "metadata": {},
   "outputs": [
    {
     "data": {
      "text/plain": [
       "𝜓₃+𝜓₂⊗𝜓₁"
      ]
     },
     "execution_count": 72,
     "metadata": {},
     "output_type": "execute_result"
    }
   ],
   "source": [
    "psi1*psi2+psi3"
   ]
  },
  {
   "cell_type": "markdown",
   "metadata": {},
   "source": [
    "We can verify [schur's lemma](https://en.wikipedia.org/wiki/Schur%27s_lemma), that there are no nontrivial equivariant linear maps from one irrep to another:"
   ]
  },
  {
   "cell_type": "code",
   "execution_count": 60,
   "metadata": {},
   "outputs": [
    {
     "name": "stdout",
     "output_type": "stream",
     "text": [
      "[] [] []\n"
     ]
    }
   ],
   "source": [
    "print((psi1>>psi2).symmetric_basis(),(psi2>>psi3).symmetric_basis(),(psi1>>psi3).symmetric_basis())"
   ]
  },
  {
   "cell_type": "markdown",
   "metadata": {},
   "source": [
    "And we can include non irreducibles in our representation too. For example computing equivariant maps from $T_4 \\rightarrow \\psi_2$."
   ]
  },
  {
   "cell_type": "code",
   "execution_count": 113,
   "metadata": {},
   "outputs": [
    {
     "name": "stdout",
     "output_type": "stream",
     "text": [
      "𝜓₂⊗V⁴ equivariant maps with r=8 basis elements\n"
     ]
    },
    {
     "data": {
      "image/png": "[encoded data removed]",
      "text/plain": [
       "<Figure size 432x288 with 1 Axes>"
      ]
     },
     "metadata": {
      "needs_background": "light"
     },
     "output_type": "display_data"
    }
   ],
   "source": [
    "vis(V(SO(2))**4,psi2,False)\n",
    "Wrep = V(SO(2))**4>>psi2\n",
    "print(\"{} equivariant maps with r={} basis elements\".format(Wrep,Wrep.symmetric_basis().shape[-1]))"
   ]
  },
  {
   "cell_type": "markdown",
   "metadata": {},
   "source": [
    "## Example 2: PseudoScalars, PseudoVectors, ..."
   ]
  },
  {
   "cell_type": "markdown",
   "metadata": {},
   "source": [
    "With a slightly more sophisticated example, we'll now implement the representations known as [PseudoScalars](https://en.wikipedia.org/wiki/Pseudoscalar), [PseudoVectors](https://en.wikipedia.org/wiki/Pseudovector), and other PseudoTensor representations. These representations commonly occur in physics when working with cross products or the Hodge star, and also describe the Fermi statistics of spin 1/2 particles that are antisymmetric under exchange.\n",
    "\n",
    "A pseudoscalar is like a scalar `Scalar` $=\\mathbb{R}$, but incurs a $-1$ under orientation reversing transformations: $\\rho(M) = \\mathrm{sign}(\\mathrm{det}(M))$. Similarly, pseudovectors are like ordinary vectors but can pick up this additional $-1$ factor. In fact, we can convert any representation into a pseudorepresentation by multiplying by a pseudoscalar.\n",
    "\n",
    "<!-- For when the group $G$ is the symmetric group $S_n$, the sign of the determinant of the permutation matrices $\\sigma\\in G$ is nothing but the parity of the permutation $(-1)^{N(\\sigma)}$ -->"
   ]
  },
  {
   "cell_type": "code",
   "execution_count": 139,
   "metadata": {},
   "outputs": [],
   "source": [
    "from emlp.solver.representation import Rep,V,T,vis,Scalar"
   ]
  },
  {
   "cell_type": "code",
   "execution_count": 155,
   "metadata": {},
   "outputs": [],
   "source": [
    "class PseudoScalar(Rep):\n",
    "    is_regular=False\n",
    "    def __init__(self,G=None):\n",
    "        self.G=G\n",
    "    def __call__(self,G):\n",
    "        return PseudoScalar(G)\n",
    "    def size(self):\n",
    "        return 1\n",
    "    def __str__(self):\n",
    "        return \"P\"\n",
    "    def rho(self,M):\n",
    "        sign = jnp.linalg.slogdet(M@jnp.eye(M.shape[0]))[0]\n",
    "        return sign*jnp.eye(1)\n",
    "    def __eq__(self,other):\n",
    "        return type(self)==type(other) and self.G==other.G\n",
    "    def __hash__(self):\n",
    "        return hash((type(self),self.G))\n",
    "    @property\n",
    "    def T(self):\n",
    "        return self"
   ]
  },
  {
   "cell_type": "code",
   "execution_count": 166,
   "metadata": {},
   "outputs": [],
   "source": [
    "G = S(4)\n",
    "P = PseudoScalar(G)\n",
    "W = V(G)"
   ]
  },
  {
   "cell_type": "markdown",
   "metadata": {},
   "source": [
    "We can then build up pseudotensors with multiplication. As expected pseudovectors incur a -1 for odd permutations."
   ]
  },
  {
   "cell_type": "code",
   "execution_count": 178,
   "metadata": {},
   "outputs": [
    {
     "name": "stdout",
     "output_type": "stream",
     "text": [
      "Sample g = \n",
      "[[1. 0. 0. 0.]\n",
      " [0. 0. 0. 1.]\n",
      " [0. 0. 1. 0.]\n",
      " [0. 1. 0. 0.]]\n",
      "Pseudovector 𝜌 = \n",
      "[[-1.  0.  0.  0.]\n",
      " [ 0.  0.  0. -1.]\n",
      " [ 0.  0. -1.  0.]\n",
      " [ 0. -1.  0.  0.]]\n"
     ]
    }
   ],
   "source": [
    "pseudovector = P*W\n",
    "g = G.sample()\n",
    "print(f\"Sample g = \\n{g}\")\n",
    "print(f\"Pseudovector 𝜌 = \\n{pseudovector.rho_dense(g)}\")"
   ]
  },
  {
   "cell_type": "markdown",
   "metadata": {},
   "source": [
    "Again, we can freely mix and match these new representations with existing ones."
   ]
  },
  {
   "cell_type": "code",
   "execution_count": 180,
   "metadata": {},
   "outputs": [
    {
     "data": {
      "text/plain": [
       "P²+V+P⊗V²"
      ]
     },
     "execution_count": 180,
     "metadata": {},
     "output_type": "execute_result"
    }
   ],
   "source": [
    "P*(W**2 +P)+W.T"
   ]
  },
  {
   "cell_type": "markdown",
   "metadata": {},
   "source": [
    "Equivariant maps from matrices to pseodovectors yield a different set of solutions from maps from matrices to vectors."
   ]
  },
  {
   "cell_type": "code",
   "execution_count": 181,
   "metadata": {},
   "outputs": [
    {
     "data": {
      "image/png": "[encoded data removed]",
      "text/plain": [
       "<Figure size 432x288 with 1 Axes>"
      ]
     },
     "metadata": {
      "needs_background": "light"
     },
     "output_type": "display_data"
    }
   ],
   "source": [
    "vis(W**2,pseudovector,cluster=False)"
   ]
  },
  {
   "cell_type": "code",
   "execution_count": 185,
   "metadata": {},
   "outputs": [
    {
     "data": {
      "image/png": "[encoded data removed]",
      "text/plain": [
       "<Figure size 432x288 with 1 Axes>"
      ]
     },
     "metadata": {
      "needs_background": "light"
     },
     "output_type": "display_data"
    }
   ],
   "source": [
    "vis(W**2,W,cluster=False)"
   ]
  },
  {
   "cell_type": "code",
   "execution_count": 196,
   "metadata": {},
   "outputs": [
    {
     "data": {
      "image/png": "[encoded data removed]",
      "text/plain": [
       "<Figure size 432x288 with 1 Axes>"
      ]
     },
     "metadata": {
      "needs_background": "light"
     },
     "output_type": "display_data"
    }
   ],
   "source": [
    "vis(P*W**2,W**2,cluster=False)"
   ]
  },
  {
   "cell_type": "markdown",
   "metadata": {},
   "source": [
    "We can even mix and match with the irreducible representations above."
   ]
  },
  {
   "cell_type": "code",
   "execution_count": 227,
   "metadata": {},
   "outputs": [
    {
     "name": "stdout",
     "output_type": "stream",
     "text": [
      "P⊗𝜓₂⊗V²\n",
      "(8, 2)\n"
     ]
    }
   ],
   "source": [
    "P = PseudoScalar(SO(2))\n",
    "W = V(SO(2))\n",
    "rep = psi2>>P*W**2\n",
    "print(rep)\n",
    "print(rep.symmetric_basis().shape)"
   ]
  },
  {
   "cell_type": "markdown",
   "metadata": {},
   "source": [
    "## Additional Information "
   ]
  },
  {
   "cell_type": "markdown",
   "metadata": {},
   "source": [
    "Several other functions may be optionally implemented to improve performance such as the Lie Algebra representation `drho(A)` which by default is calculated automatically from `rho` as $d\\rho(A) := d\\rho(M)|_{M=I}(A) = \\frac{d}{dt} \\rho(e^{tA})|_{t=0}$, the dual representation `.T`. However, these functions are optional and the representation can function fine without them."
   ]
  },
  {
   "cell_type": "code",
   "execution_count": null,
   "metadata": {},
   "outputs": [],
   "source": []
  }
 ],
 "metadata": {
  "kernelspec": {
   "display_name": "Python 3",
   "language": "python",
   "name": "python3"
  },
  "language_info": {
   "codemirror_mode": {
    "name": "ipython",
    "version": 3
   },
   "file_extension": ".py",
   "mimetype": "text/x-python",
   "name": "python",
   "nbconvert_exporter": "python",
   "pygments_lexer": "ipython3",
   "version": "3.8.5"
  }
 },
 "nbformat": 4,
 "nbformat_minor": 4
}
