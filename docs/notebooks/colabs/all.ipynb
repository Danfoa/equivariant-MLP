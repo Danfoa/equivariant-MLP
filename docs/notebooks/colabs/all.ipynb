{
 "cells": [
  {
   "cell_type": "markdown",
   "metadata": {},
   "source": [
    "First install the repo and requirements."
   ]
  },
  {
   "cell_type": "code",
   "execution_count": null,
   "metadata": {},
   "outputs": [],
   "source": [
    "%pip --quiet install git+https://github.com/mfinzi/equivariant-MLP.git"
   ]
  },
  {
   "cell_type": "markdown",
   "metadata": {},
   "source": [
    "# Getting Started with Equivariant Representations"
   ]
  },
  {
   "cell_type": "markdown",
   "metadata": {},
   "source": [
    "Our general approach to equivariance is centered around the idea of _representations_, a prescription of how a group element acts on a given vector space.\n",
    "\n",
    "Given a vector space $V$ and a group $G$, elements of the group $g\\in G$ can act on a vector $v\\in V$ by the representation matrix $v\\mapsto \\rho(g)v$. The vector space $V$ and the matrix $\\rho$ are often referred to interchangeably as the representation.\n",
    "\n",
    "For example with the cyclic translation group $\\mathbb{Z}_4$, we implement a (faithful) base representation $V$ which cyclicly translates the elements. Sampling an arbitrary transformation, we have"
   ]
  },
  {
   "cell_type": "code",
   "execution_count": 1,
   "metadata": {},
   "outputs": [],
   "source": [
    "from emlp.solver.representation import V,sparsify_basis\n",
    "from emlp.solver.groups import Z,S,SO,O,O13,SO13,RubiksCube\n",
    "import jax.numpy as jnp\n",
    "import numpy as np"
   ]
  },
  {
   "cell_type": "code",
   "execution_count": 2,
   "metadata": {},
   "outputs": [
    {
     "name": "stdout",
     "output_type": "stream",
     "text": [
      "𝜌(g) =\n",
      "[[0. 1. 0. 0.]\n",
      " [0. 0. 1. 0.]\n",
      " [0. 0. 0. 1.]\n",
      " [1. 0. 0. 0.]]\n",
      "v = [1.49013809 2.09202065 1.2159864  1.66514631]\n",
      "𝜌(g)v = [2.0920208 1.2159864 1.6651464 1.490138 ]\n"
     ]
    }
   ],
   "source": [
    "G=Z(4)\n",
    "rep = V(G)\n",
    "v = np.random.randn(rep.size())\n",
    "g = G.sample()\n",
    "print(f\"𝜌(g) =\\n{rep.rho(g)}\")\n",
    "print(f\"v = {v}\")\n",
    "print(f\"𝜌(g)v = {rep.rho(g)@v:}\")"
   ]
  },
  {
   "cell_type": "markdown",
   "metadata": {},
   "source": [
    "The symmetric subspace of the representation is the space of solutions to the constraint $\\forall g\\in G: \\ \\ \\rho(g)v=v$.\n",
    "For any representation, you can get the basis $Q \\in \\mathbb{R}^{n\\times r}$ for this symmetric subspace with `rep.symmetric_basis()` and the matrix $P=QQ^T$ which projects to this subspace with `rep.symmetric_projector()`."
   ]
  },
  {
   "cell_type": "markdown",
   "metadata": {},
   "source": [
    "For example, we can find invariant vectors of the cyclic translation group $\\mathbb{Z}_n$ which is just the constant $\\vec{1}$ scaled to have unit norm."
   ]
  },
  {
   "cell_type": "code",
   "execution_count": 3,
   "metadata": {},
   "outputs": [
    {
     "data": {
      "text/plain": [
       "DeviceArray([[0.44721365],\n",
       "             [0.44721362],\n",
       "             [0.44721365],\n",
       "             [0.44721365],\n",
       "             [0.44721365]], dtype=float32)"
      ]
     },
     "execution_count": 3,
     "metadata": {},
     "output_type": "execute_result"
    }
   ],
   "source": [
    "V(Z(5)).symmetric_basis()"
   ]
  },
  {
   "cell_type": "markdown",
   "metadata": {},
   "source": [
    "## The Representation Type System"
   ]
  },
  {
   "cell_type": "markdown",
   "metadata": {},
   "source": [
    "Each implemented group comes with a faithful 'base' representation $V$. Because faithful representations are one-to-one, we can build any representation by transforming this base representation.\n",
    "\n",
    "We provide several operators to transform and construct representations in different ways built and later go on to show how to do this more generally. In our type system, representations can be combined with the direct sum $\\rho_a \\oplus\\rho_b$ operator, the tensor product $\\rho_a\\otimes\\rho_b$, the dual $\\rho^*$ and these operators are implemented as the python operators `+`, `*`, and `.T`."
   ]
  },
  {
   "cell_type": "code",
   "execution_count": 4,
   "metadata": {},
   "outputs": [
    {
     "data": {
      "text/plain": [
       "((V+V), V⊗V, V*)"
      ]
     },
     "execution_count": 4,
     "metadata": {},
     "output_type": "execute_result"
    }
   ],
   "source": [
    "V+V,  V*V,  V.T"
   ]
  },
  {
   "cell_type": "markdown",
   "metadata": {},
   "source": [
    "We can combine and use these operators interchangeably:"
   ]
  },
  {
   "cell_type": "code",
   "execution_count": 5,
   "metadata": {},
   "outputs": [
    {
     "data": {
      "text/plain": [
       "(V+V*)⊗(V⊗V*+V)"
      ]
     },
     "execution_count": 5,
     "metadata": {},
     "output_type": "execute_result"
    }
   ],
   "source": [
    "(V+V.T)*(V*V.T+V)"
   ]
  },
  {
   "cell_type": "markdown",
   "metadata": {},
   "source": [
    "We use the shorthand $cV$ to mean $V\\oplus V\\oplus...\\oplus V$ and $V^c = V\\otimes V\\otimes...\\otimes V$. Note that this differs from the common notation where $V^c$ denotes the cartesian products the set (like with $\\mathbb{R}^c$) which would be the same as $cV$ in this notation. Being more formal we could distinguish the two by denoting $V^{\\otimes c}=V\\otimes V\\otimes...\\otimes V$ but to stay consistent with the python interface, we will not."
   ]
  },
  {
   "cell_type": "code",
   "execution_count": 6,
   "metadata": {},
   "outputs": [
    {
     "data": {
      "text/plain": [
       "(V+V+V+V+V+V+V+V+V+V)"
      ]
     },
     "execution_count": 6,
     "metadata": {},
     "output_type": "execute_result"
    }
   ],
   "source": [
    "5*V*2"
   ]
  },
  {
   "cell_type": "code",
   "execution_count": 7,
   "metadata": {},
   "outputs": [
    {
     "data": {
      "text/plain": [
       "(V⊗V⊗V+V⊗V⊗V)"
      ]
     },
     "execution_count": 7,
     "metadata": {},
     "output_type": "execute_result"
    }
   ],
   "source": [
    "2*V**3"
   ]
  },
  {
   "cell_type": "markdown",
   "metadata": {},
   "source": [
    "When a particular symmetry group is specified, the representation can be collapsed down to a more compact form:"
   ]
  },
  {
   "cell_type": "code",
   "execution_count": 8,
   "metadata": {},
   "outputs": [
    {
     "data": {
      "text/plain": [
       "2V³"
      ]
     },
     "execution_count": 8,
     "metadata": {},
     "output_type": "execute_result"
    }
   ],
   "source": [
    "G=O(4)\n",
    "2*V(G)**3"
   ]
  },
  {
   "cell_type": "code",
   "execution_count": 9,
   "metadata": {},
   "outputs": [
    {
     "data": {
      "text/plain": [
       "2V³"
      ]
     },
     "execution_count": 9,
     "metadata": {},
     "output_type": "execute_result"
    }
   ],
   "source": [
    "(2*V**3)(G)"
   ]
  },
  {
   "cell_type": "markdown",
   "metadata": {},
   "source": [
    "Although for groups like the Lorentz group $SO(1,3)$ with non orthogonal representations, a distinction needs to be made between the representation and it's dual. In both cases the representation is converted down to a canonical form (but the ordering you gave is preserved as a permutation)."
   ]
  },
  {
   "cell_type": "code",
   "execution_count": 10,
   "metadata": {},
   "outputs": [
    {
     "data": {
      "text/plain": [
       "2V"
      ]
     },
     "execution_count": 10,
     "metadata": {},
     "output_type": "execute_result"
    }
   ],
   "source": [
    "V(SO(3)).T+V(SO(3))"
   ]
  },
  {
   "cell_type": "code",
   "execution_count": 11,
   "metadata": {},
   "outputs": [
    {
     "data": {
      "text/plain": [
       "V+V*"
      ]
     },
     "execution_count": 11,
     "metadata": {},
     "output_type": "execute_result"
    }
   ],
   "source": [
    "V(SO13()).T+V(SO13())"
   ]
  },
  {
   "cell_type": "markdown",
   "metadata": {},
   "source": [
    "Linear maps from $V_1\\rightarrow V_2$ have the type $V_2\\otimes V_1^*$. The `V>>W` is shorthand for `W*V.T` and produces linear maps from `V` to `W`.\n",
    "\n",
    "Imposing (cyclic) Translation Equivariance $G=\\mathbb{Z}_n$ on linear maps $V\\rightarrow V$ yields circular convolutions (circulant matrices) which can be expressed as a linear combination of $n$ basis elements of size $n\\times n$."
   ]
  },
  {
   "cell_type": "markdown",
   "metadata": {},
   "source": [
    "## Exploring and Visualizing Equivariant Bases"
   ]
  },
  {
   "cell_type": "code",
   "execution_count": 12,
   "metadata": {},
   "outputs": [
    {
     "name": "stdout",
     "output_type": "stream",
     "text": [
      "(36, 6)\n"
     ]
    }
   ],
   "source": [
    "G = Z(6)\n",
    "repin = V(G)\n",
    "repout = V(G)\n",
    "conv_basis = (repin>>repout).symmetric_basis()\n",
    "print(f\"Conv basis has shape {conv_basis.shape}\")"
   ]
  },
  {
   "cell_type": "markdown",
   "metadata": {},
   "source": [
    "While we provide an orthogonal basis, these bases are not always easy to make sense of as an array of numbers (any rotation of an orthogonal basis is still an orthogonal basis)"
   ]
  },
  {
   "cell_type": "code",
   "execution_count": 13,
   "metadata": {},
   "outputs": [
    {
     "data": {
      "text/plain": [
       "DeviceArray([-0.00200776, -0.25157794,  0.31927773,  0.0072209 ,\n",
       "             -0.03698727,  0.00357165,  0.00357159, -0.00200781,\n",
       "             -0.25157797,  0.31927782,  0.00722108, -0.03698722,\n",
       "             -0.03698726,  0.00357183, -0.00200774, -0.2515779 ,\n",
       "              0.31927767,  0.00722109,  0.00722104, -0.03698728,\n",
       "              0.00357171, -0.00200778, -0.25157782,  0.31927767,\n",
       "              0.3192777 ,  0.00722104, -0.03698733,  0.00357174,\n",
       "             -0.00200774, -0.2515779 , -0.25157785,  0.3192777 ,\n",
       "              0.00722107, -0.03698731,  0.00357177, -0.0020077 ],            dtype=float32)"
      ]
     },
     "execution_count": 13,
     "metadata": {},
     "output_type": "execute_result"
    }
   ],
   "source": [
    "conv_basis[:,0]"
   ]
  },
  {
   "cell_type": "markdown",
   "metadata": {},
   "source": [
    "To more easily visualize the result, we can define the following function which projects a random vector and then plots components with the same values as different colors, arranged in a desired shape."
   ]
  },
  {
   "cell_type": "code",
   "execution_count": 14,
   "metadata": {},
   "outputs": [],
   "source": [
    "import numpy as np\n",
    "import matplotlib.pyplot as plt\n",
    "from sklearn.cluster import KMeans\n",
    "\n",
    "def vis_basis(basis,shape,cluster=True):\n",
    "    Q=basis@jnp.eye(basis.shape[-1]) # convert to a dense matrix if necessary\n",
    "    v = np.random.randn(Q.shape[0])  # sample random vector\n",
    "    v = Q@(Q.T@v)                    # project onto equivariant subspace\n",
    "    if cluster: # cluster nearby values for better color separation in plot\n",
    "        v = KMeans(n_clusters=Q.shape[-1]).fit(v.reshape(-1,1)).labels_\n",
    "    plt.imshow(v.reshape(shape))\n",
    "    plt.axis('off')\n",
    "\n",
    "def vis(repin,repout,cluster=True):\n",
    "    Q = (repin>>repout).symmetric_basis() # compute the equivariant basis\n",
    "    vis_basis(Q,(repout.size(),repin.size()),cluster) # visualize it"
   ]
  },
  {
   "cell_type": "markdown",
   "metadata": {},
   "source": [
    "Our convolutional basis is the familiar (circulant) convolution matrix."
   ]
  },
  {
   "cell_type": "code",
   "execution_count": 15,
   "metadata": {},
   "outputs": [
    {
     "data": {
      "image/png": "[encoded data removed]",
      "text/plain": [
       "<Figure size 432x288 with 1 Axes>"
      ]
     },
     "metadata": {
      "needs_background": "light"
     },
     "output_type": "display_data"
    }
   ],
   "source": [
    "vis_basis(conv_basis,(repin.size(),repout.size()))"
   ]
  },
  {
   "cell_type": "markdown",
   "metadata": {},
   "source": [
    "2D translation equivariange $G=\\mathbb{Z}_n\\times \\mathbb{Z}_n$ yields 2D convolutions (bicurculant matrices)"
   ]
  },
  {
   "cell_type": "code",
   "execution_count": 16,
   "metadata": {},
   "outputs": [
    {
     "data": {
      "image/png": "[encoded data removed]",
      "text/plain": [
       "<Figure size 432x288 with 1 Axes>"
      ]
     },
     "metadata": {
      "needs_background": "light"
     },
     "output_type": "display_data"
    }
   ],
   "source": [
    "G = Z(3)*Z(4) #[Not recommended way of building product groups, there is a faster path described later]\n",
    "repin = V(G)\n",
    "repout = V(G)\n",
    "vis(repin,repout)"
   ]
  },
  {
   "cell_type": "markdown",
   "metadata": {},
   "source": [
    "How about the permutation group $G=S_n$, where the vector space $V$ represents a set of elements? In deep sets it was shown there are only two basis elements for equivariant linear maps $V\\rightarrow V$."
   ]
  },
  {
   "cell_type": "code",
   "execution_count": 17,
   "metadata": {},
   "outputs": [
    {
     "data": {
      "image/png": "[encoded data removed]",
      "text/plain": [
       "<Figure size 432x288 with 1 Axes>"
      ]
     },
     "metadata": {
      "needs_background": "light"
     },
     "output_type": "display_data"
    }
   ],
   "source": [
    "repin = V(S(6))\n",
    "repout = V(S(6))\n",
    "vis(repin,repout)"
   ]
  },
  {
   "cell_type": "markdown",
   "metadata": {},
   "source": [
    "What about graphs, which are composed both of sets as well as adjacency matrices or graph laplacians? These matrices are examples of objects from $V\\otimes V$ with $G=S_n$, and in Invariant and Equivariant Graph Networks () it was shown through a challenging proof that there are at most 15 basis elements which were derived analytically. We can solve for them here:"
   ]
  },
  {
   "cell_type": "code",
   "execution_count": 18,
   "metadata": {},
   "outputs": [
    {
     "name": "stdout",
     "output_type": "stream",
     "text": [
      "(1296, 15)\n"
     ]
    },
    {
     "data": {
      "image/png": "[encoded data removed]",
      "text/plain": [
       "<Figure size 432x288 with 1 Axes>"
      ]
     },
     "metadata": {
      "needs_background": "light"
     },
     "output_type": "display_data"
    }
   ],
   "source": [
    "repin = V(S(6))**2\n",
    "repout = V(S(6))**2\n",
    "vis(repin,repout)\n",
    "print(f\"Basis matrix of shape {(repin>>repout).symmetric_basis().shape}\")"
   ]
  },
  {
   "cell_type": "markdown",
   "metadata": {},
   "source": [
    "How about the continuous $2$D rotation group $SO(3)$? It's well known that the only equivariant object for the vector space $V^{\\otimes 3}$ is the Levi-Civita symbol $\\epsilon_{ijk}$. Since the values are both $0$, positive, and negative (leading to more than `Q.shape[-1]` clusters) we disable the clustering."
   ]
  },
  {
   "cell_type": "code",
   "execution_count": 19,
   "metadata": {},
   "outputs": [
    {
     "name": "stdout",
     "output_type": "stream",
     "text": [
      "Basis matrix of shape (27, 1)\n"
     ]
    },
    {
     "data": {
      "image/png": "[encoded data removed]",
      "text/plain": [
       "<Figure size 432x288 with 1 Axes>"
      ]
     },
     "metadata": {
      "needs_background": "light"
     },
     "output_type": "display_data"
    }
   ],
   "source": [
    "W = V(SO(3))\n",
    "repin = W**2\n",
    "repout = W\n",
    "Q = (repin>>repout).symmetric_basis()\n",
    "print(f\"Basis matrix of shape {Q.shape}\")\n",
    "vis(repin,repout,cluster=False)"
   ]
  },
  {
   "cell_type": "code",
   "execution_count": 20,
   "metadata": {},
   "outputs": [
    {
     "name": "stdout",
     "output_type": "stream",
     "text": [
      "[[[ 0.  0.  0.]\n",
      "  [ 0.  0.  1.]\n",
      "  [ 0. -1.  0.]]\n",
      "\n",
      " [[ 0.  0. -1.]\n",
      "  [ 0.  0.  0.]\n",
      "  [ 1.  0.  0.]]\n",
      "\n",
      " [[ 0.  1.  0.]\n",
      "  [-1.  0.  0.]\n",
      "  [ 0.  0.  0.]]]\n"
     ]
    }
   ],
   "source": [
    "print(sparsify_basis(Q).reshape(3,3,3))"
   ]
  },
  {
   "cell_type": "markdown",
   "metadata": {},
   "source": [
    "We can also solve for very high dimensional representations which we automatically switch to using the automated iterative Krylov subspace method"
   ]
  },
  {
   "cell_type": "code",
   "execution_count": 21,
   "metadata": {},
   "outputs": [
    {
     "data": {
      "image/png": "[encoded data removed]",
      "text/plain": [
       "<Figure size 432x288 with 1 Axes>"
      ]
     },
     "metadata": {
      "needs_background": "light"
     },
     "output_type": "display_data"
    }
   ],
   "source": [
    "vis(W**3,W**3)"
   ]
  },
  {
   "cell_type": "code",
   "execution_count": 22,
   "metadata": {},
   "outputs": [
    {
     "data": {
      "image/png": "[encoded data removed]",
      "text/plain": [
       "<Figure size 432x288 with 1 Axes>"
      ]
     },
     "metadata": {
      "needs_background": "light"
     },
     "output_type": "display_data"
    }
   ],
   "source": [
    "vis(W**5,W**3)"
   ]
  },
  {
   "cell_type": "code",
   "execution_count": 23,
   "metadata": {
    "scrolled": false
   },
   "outputs": [
    {
     "data": {
      "image/png": "[encoded data removed]",
      "text/plain": [
       "<Figure size 432x288 with 1 Axes>"
      ]
     },
     "metadata": {
      "needs_background": "light"
     },
     "output_type": "display_data"
    }
   ],
   "source": [
    "vis(V(RubiksCube()),V(RubiksCube()))"
   ]
  },
  {
   "cell_type": "markdown",
   "metadata": {},
   "source": [
    "## Composite Representations and Lazy Matrices"
   ]
  },
  {
   "cell_type": "markdown",
   "metadata": {},
   "source": [
    "How about maps from graphs to sets? Lets say a graph consists of one node feature and one edge feature which can be represented with the $\\oplus$ operator."
   ]
  },
  {
   "cell_type": "code",
   "execution_count": 24,
   "metadata": {},
   "outputs": [
    {
     "name": "stdout",
     "output_type": "stream",
     "text": [
      "(252, 7)\n"
     ]
    },
    {
     "data": {
      "image/png": "[encoded data removed]",
      "text/plain": [
       "<Figure size 432x288 with 1 Axes>"
      ]
     },
     "metadata": {
      "needs_background": "light"
     },
     "output_type": "display_data"
    }
   ],
   "source": [
    "W = V(S(6))\n",
    "repin = W+W**2 # (one set feature and one edge feature)\n",
    "repout = W     # (one set feature)\n",
    "vis(repin,repout)\n",
    "print(f\"Basis matrix of shape {(repin>>repout).symmetric_basis().shape}\")"
   ]
  },
  {
   "cell_type": "markdown",
   "metadata": {},
   "source": [
    "Representations that have many copies or multiplicity of a given representation type, such as for the many channels in a neural network, are simply examples of the $\\oplus$ operator (`+` in python). The `rep.symmetric_basis()` and `rep.symmetric_projector()` can return lazy matrices $Q$ and $P=QQ^T$ when the representations are composite (or when the representation is specified lazily). These Lazy matrices are modeled after [scipy LinearOperators](https://docs.scipy.org/doc/scipy/reference/generated/scipy.sparse.linalg.LinearOperator.html). By exploiting structure in the matrices via fast matrix vector multiplies (MVMs), it can be possible to work with extremely large matrices."
   ]
  },
  {
   "cell_type": "markdown",
   "metadata": {},
   "source": [
    "For example with a more realistically sized layer with 100 global constants, 100 set feature channels, and 20 edge feature channels ($100V^0+100V^1+20V^2$) we have"
   ]
  },
  {
   "cell_type": "code",
   "execution_count": 25,
   "metadata": {},
   "outputs": [
    {
     "name": "stdout",
     "output_type": "stream",
     "text": [
      "10000V⁰+20000V+14000V²+4000V³+400V⁴, of size 2016400\n",
      "Basis matrix of shape (2016400, 84000)\n"
     ]
    }
   ],
   "source": [
    "W = V(S(6))\n",
    "repin = 100*W**0 + 100*W+20*W**2\n",
    "repout = repin\n",
    "rep_map = repin>>repout\n",
    "print(f\"{rep_map}, of size {rep_map.size()}\")\n",
    "\n",
    "Q = rep_map.symmetric_basis()\n",
    "print(f\"Basis matrix of shape {Q.shape}\")"
   ]
  },
  {
   "cell_type": "markdown",
   "metadata": {},
   "source": [
    "Unfortunately the larger matrices are harder to visualize as for the matrix above we need 84000 different colors! We are happy to field suggestions for visualizing very large bases."
   ]
  },
  {
   "cell_type": "code",
   "execution_count": 26,
   "metadata": {},
   "outputs": [
    {
     "data": {
      "text/plain": [
       "(-0.5, 1419.5, 1419.5, -0.5)"
      ]
     },
     "execution_count": 26,
     "metadata": {},
     "output_type": "execute_result"
    },
    {
     "data": {
      "image/png": "[encoded data removed]",
      "text/plain": [
       "<Figure size 432x288 with 1 Axes>"
      ]
     },
     "metadata": {
      "needs_background": "light"
     },
     "output_type": "display_data"
    }
   ],
   "source": [
    "P =rep_map.symmetric_projector()\n",
    "v = np.random.randn(P.shape[-1])\n",
    "v = P@v\n",
    "plt.imshow(v.reshape(repout.size(),repin.size()))\n",
    "plt.axis('off');"
   ]
  },
  {
   "cell_type": "code",
   "execution_count": null,
   "metadata": {},
   "outputs": [],
   "source": []
  },
  {
   "cell_type": "markdown",
   "metadata": {},
   "source": [
    "# Constructing Equivariant Models"
   ]
  },
  {
   "cell_type": "markdown",
   "metadata": {},
   "source": [
    "Previously we showed examples of finding equivariant bases for different groups and representations, now we'll show how these bases can be assembled into equivariant neural networks such as EMLP. \n",
    "\n",
    "We will give examples at a high level showing how the specific EMLP model can be applied to different groups and input-output types, and later in a lower level showing how models like EMLP can be constructed with equivariant layers and making use of the equivariant bases."
   ]
  },
  {
   "cell_type": "markdown",
   "metadata": {},
   "source": [
    "## Using EMLP with different groups and representations (high level)"
   ]
  },
  {
   "cell_type": "markdown",
   "metadata": {},
   "source": [
    "![ex 2.13](imgs/EMLP_fig.png)"
   ]
  },
  {
   "cell_type": "markdown",
   "metadata": {},
   "source": [
    "A basic EMLP is a sequence of EMLP layers (containing G-equivariant linear layers, bilinear layers incorporated with a shortcut connection, and gated nonlinearities. While our numerical equivariance solver can work with any finite dimensional linear representation, for EMLP we restrict ourselves to _tensor_ representations."
   ]
  },
  {
   "cell_type": "markdown",
   "metadata": {},
   "source": [
    "By tensor representations, we mean all representations which can be formed by arbitrary combinations of $\\oplus$,$\\otimes$,$^*$ (`+`,`*`,`.T`) of a base representation $\\rho$. This is useful because it simplifies the construction of our bilinear layer, which is a crucial ingredient for expressiveness and universality in EMLP.\n",
    "\n",
    "Following the $T_{(p,q)}=V^{\\otimes p}\\otimes (V^*)^{\\otimes p}$ notation in the paper, we provide the convenience function for constructing higher rank tensors."
   ]
  },
  {
   "cell_type": "code",
   "execution_count": 1,
   "metadata": {},
   "outputs": [
    {
     "name": "stdout",
     "output_type": "stream",
     "text": [
      "V⊗V⊗V*⊗V*⊗V*\n",
      "V²⊗V*³\n"
     ]
    }
   ],
   "source": [
    "from emlp.solver.representation import V\n",
    "from emlp.solver.groups import SO13\n",
    "\n",
    "def T(p,q=0):\n",
    "    return (V**p*V.T**q)\n",
    "\n",
    "print(T(2,3))\n",
    "print(T(2,3)(SO13()))"
   ]
  },
  {
   "cell_type": "markdown",
   "metadata": {},
   "source": [
    "Lets get started with a toy dataset: learning how an inertia matrix depends on the positions and masses of 5 point masses distributed in different ways. The data consists of mappings (positions, masses) --> (inertia matrix) pairs, and has an $G=O(3)$ symmetry (3D rotation and reflections). If we rotate all the positions, the resulting inertia matrix should be correspondingly rotated."
   ]
  },
  {
   "cell_type": "code",
   "execution_count": 2,
   "metadata": {},
   "outputs": [
    {
     "name": "stdout",
     "output_type": "stream",
     "text": [
      "Input type: 5V⁰+5V, output type: V²\n"
     ]
    }
   ],
   "source": [
    "from emlp.models.datasets import Inertia\n",
    "from emlp.solver.groups import SO,O,S,Z\n",
    "trainset = Inertia(1000) # Initialize dataset with 1000 examples\n",
    "testset = Inertia(2000)\n",
    "G = SO(3)\n",
    "print(f\"Input type: {trainset.rep_in(G)}, output type: {trainset.rep_out(G)}\")"
   ]
  },
  {
   "cell_type": "markdown",
   "metadata": {},
   "source": [
    "For convenience, we store in the dataset the types for the input and the output. `5V⁰` are the $5$ mass values and `5V` are the position vectors of those masses, `V²` is the matrix type for the output, equivalent to $T_2$. To initialize the [EMLP](https://emlp.readthedocs.io/en/latest/package/emlp.models.mlp.html#emlp.models.EMLP), we just need these input and output representations, the symmetry group, and the size of the network as parametrized by number of layers and number of channels (the dimension of the feature representation)."
   ]
  },
  {
   "cell_type": "code",
   "execution_count": 3,
   "metadata": {},
   "outputs": [],
   "source": [
    "from emlp.models.mlp import EMLP,MLP\n",
    "model = EMLP(trainset.rep_in,trainset.rep_out,group=G,num_layers=3,ch=384)\n",
    "# uncomment the following line to instead try the MLP baseline\n",
    "#model = MLP(trainset.rep_in,trainset.rep_out,group=G,num_layers=3,ch=384)"
   ]
  },
  {
   "cell_type": "markdown",
   "metadata": {},
   "source": [
    "## Example Objax Training Loop"
   ]
  },
  {
   "cell_type": "markdown",
   "metadata": {},
   "source": [
    "We build our EMLP model with [objax](https://objax.readthedocs.io/en/latest/) because we feel the object oriented design makes building complicated layers easier. Below is a minimal training loop that you could use to train EMLP."
   ]
  },
  {
   "cell_type": "code",
   "execution_count": 4,
   "metadata": {},
   "outputs": [],
   "source": [
    "BS=500\n",
    "lr=3e-3\n",
    "NUM_EPOCHS=500\n",
    "\n",
    "import objax\n",
    "import jax.numpy as jnp\n",
    "import numpy as np\n",
    "from tqdm.auto import tqdm\n",
    "from torch.utils.data import DataLoader\n",
    "from jax import vmap\n",
    "\n",
    "opt = objax.optimizer.Adam(model.vars())\n",
    "\n",
    "@objax.Function.with_vars(model.vars())\n",
    "def loss(x, y,training=True):\n",
    "    yhat = model(x, training=training)\n",
    "    return ((yhat-y)**2).mean()\n",
    "\n",
    "gv = objax.GradValues(loss, model.vars())\n",
    "\n",
    "@objax.Function.with_vars(model.vars()+opt.vars())\n",
    "def train_op(x, y, lr):\n",
    "    g, v = gv(x, y)\n",
    "    opt(lr=lr, grads=g)\n",
    "    return v\n",
    "\n",
    "train_op = objax.Jit(train_op)\n",
    "test_loss = objax.Jit(objax.ForceArgs(loss, training=False))\n",
    "\n",
    "trainloader = DataLoader(trainset,batch_size=BS,shuffle=True)\n",
    "testloader = DataLoader(testset,batch_size=BS,shuffle=True)"
   ]
  },
  {
   "cell_type": "code",
   "execution_count": 5,
   "metadata": {},
   "outputs": [
    {
     "data": {
      "application/vnd.jupyter.widget-view+json": {
       "model_id": "8171a57d004c4a199eea44574eb9e92c",
       "version_major": 2,
       "version_minor": 0
      },
      "text/plain": [
       "  0%|          | 0/500 [00:00<?, ?it/s]"
      ]
     },
     "metadata": {},
     "output_type": "display_data"
    }
   ],
   "source": [
    "test_losses = []\n",
    "train_losses = []\n",
    "for epoch in tqdm(range(NUM_EPOCHS)):\n",
    "    train_losses.append(np.mean([train_op(jnp.array(x),jnp.array(y),lr) for (x,y) in trainloader]))\n",
    "    if not epoch%10:\n",
    "        test_losses.append(np.mean([test_loss(jnp.array(x),jnp.array(y)) for (x,y) in testloader]))"
   ]
  },
  {
   "cell_type": "code",
   "execution_count": 6,
   "metadata": {},
   "outputs": [
    {
     "data": {
      "image/png": "[encoded data removed]",
      "text/plain": [
       "<Figure size 432x288 with 1 Axes>"
      ]
     },
     "metadata": {
      "needs_background": "light"
     },
     "output_type": "display_data"
    }
   ],
   "source": [
    "import matplotlib.pyplot as plt\n",
    "plt.plot(np.arange(NUM_EPOCHS),train_losses,label='Train loss')\n",
    "plt.plot(np.arange(0,NUM_EPOCHS,10),test_losses,label='Test loss')\n",
    "plt.legend()\n",
    "plt.yscale('log')"
   ]
  },
  {
   "cell_type": "code",
   "execution_count": 7,
   "metadata": {},
   "outputs": [],
   "source": [
    "def rel_err(a,b):\n",
    "    return jnp.sqrt(((a-b)**2).mean())/(jnp.sqrt((a**2).mean())+jnp.sqrt((b**2).mean()))#\n",
    "\n",
    "rin,rout = trainset.rep_in(G),trainset.rep_out(G)\n",
    "\n",
    "def equivariance_err(mb):\n",
    "    x,y = mb\n",
    "    x,y= jnp.array(x),jnp.array(y)\n",
    "    gs = G.samples(x.shape[0])\n",
    "    rho_gin = vmap(rin.rho_dense)(gs)\n",
    "    rho_gout = vmap(rout.rho_dense)(gs)\n",
    "    y1 = model((rho_gin@x[...,None])[...,0],training=False)\n",
    "    y2 = (rho_gout@model(x,training=False)[...,None])[...,0]\n",
    "    return rel_err(y1,y2)"
   ]
  },
  {
   "cell_type": "markdown",
   "metadata": {},
   "source": [
    "As expected, the network continues to be equivariant as it is trained."
   ]
  },
  {
   "cell_type": "code",
   "execution_count": 8,
   "metadata": {},
   "outputs": [
    {
     "name": "stdout",
     "output_type": "stream",
     "text": [
      "Average test equivariance error 4.83e-07\n"
     ]
    }
   ],
   "source": [
    "print(f\"Average test equivariance error {np.mean([equivariance_err(mb) for mb in testloader]):.2e}\")"
   ]
  },
  {
   "cell_type": "markdown",
   "metadata": {},
   "source": [
    "## Breaking EMLP down into equivariant layers (mid level)"
   ]
  },
  {
   "cell_type": "markdown",
   "metadata": {},
   "source": [
    "Internally for EMLP, we use representations that [uniformly allocate dimensions](https://emlp.readthedocs.io/en/latest/package/emlp.models.mlp.html#emlp.models.uniform_rep) between different tensor representations."
   ]
  },
  {
   "cell_type": "code",
   "execution_count": 9,
   "metadata": {},
   "outputs": [
    {
     "name": "stdout",
     "output_type": "stream",
     "text": [
      "122V⁰+40V+12V²+3V³+V⁴\n"
     ]
    }
   ],
   "source": [
    "from emlp.models.mlp import uniform_rep\n",
    "r = uniform_rep(512,G)\n",
    "print(r)"
   ]
  },
  {
   "cell_type": "markdown",
   "metadata": {},
   "source": [
    "Below is a trimmed down version of EMLP, so you can see how it is built from the component layers `LieLinear`, `BiLinear`, and `GatedNonlinearities`. These layers can be constructed like ordinary objax modules, using the input and output representations."
   ]
  },
  {
   "cell_type": "code",
   "execution_count": 10,
   "metadata": {},
   "outputs": [],
   "source": [
    "from objax.module import Module\n",
    "from emlp.models.mlp import Sequential,LieLinear,BiLinear,GatedNonlinearity,gated\n",
    "\n",
    "class EMLPBlock(Module):\n",
    "    \"\"\" Basic building block of EMLP consisting of G-Linear, biLinear,\n",
    "        and gated nonlinearity. \"\"\"\n",
    "    def __init__(self,rep_in,rep_out):\n",
    "        super().__init__()\n",
    "        rep_out_wgates = gated(rep_out)\n",
    "        self.linear = LieLinear(rep_in,rep_out_wgates)\n",
    "        self.bilinear = BiLinear(rep_out_wgates,rep_out_wgates)\n",
    "        self.nonlinearity = GatedNonlinearity(rep_out)\n",
    "    def __call__(self,x):\n",
    "        lin = self.linear(x)\n",
    "        preact =self.bilinear(lin)+lin\n",
    "        return self.nonlinearity(preact)\n",
    "\n",
    "class EMLP(Module):\n",
    "    def __init__(self,rep_in,rep_out,group,ch=384,num_layers=3):\n",
    "        super().__init__()\n",
    "        reps = [rep_in(group)]+num_layers*[uniform_rep(ch,group)]\n",
    "        self.network = Sequential(\n",
    "            *[EMLPBlock(rin,rout) for rin,rout in zip(reps,reps[1:])],\n",
    "            LieLinear(reps[-1],rep_out(group))\n",
    "        )\n",
    "    def __call__(self,x,training=True):\n",
    "        return self.network(x)"
   ]
  },
  {
   "cell_type": "markdown",
   "metadata": {},
   "source": [
    "The representations of the hidden layers (taking place of the number of channels in a standard MLP) is by default given by this `uniform_rep` shown above. Unlike this pedagogical implementation you can specify the representation of the hidden layers directly in the [full EMLP](https://emlp.readthedocs.io/en/latest/package/emlp.models.mlp.html#emlp.models.EMLP) by feeding in a representation to the `ch` argument, or even a list of representations to specify each hidden layer."
   ]
  },
  {
   "cell_type": "markdown",
   "metadata": {},
   "source": [
    "Note that since we are using the `GatedNonlinearity`, additional scalar gate channels need to be added to the output representation for the layer directly before the nonlinearity (in this case the `LieLinear` layer) which can be achieved with the `gated` function."
   ]
  },
  {
   "cell_type": "markdown",
   "metadata": {},
   "source": [
    "## The equivariant linear layers (low level)"
   ]
  },
  {
   "cell_type": "markdown",
   "metadata": {},
   "source": [
    "At a lower level, the implementation of the `LieLinear` is fairly straightforward. An unconstrained bias `b` and weight matrix `w` are initialized. The projection matrices $P_b$ and $P_w$ are computed which are used project onto the symmetric subspace for each. Finally, during the forward pass, the unconstrained parameters are reshaped to vectors, projected via the matrices, and reshaped back to the original sizes. Then these projected parameters are applied to the input like a standard linear layer."
   ]
  },
  {
   "cell_type": "code",
   "execution_count": null,
   "metadata": {},
   "outputs": [],
   "source": [
    "class LieLinear(Module):\n",
    "    \"\"\" Basic equivariant Linear layer from repin to repout.\"\"\"\n",
    "    def __init__(self, repin, repout):\n",
    "        nin,nout = repin.size(),repout.size()\n",
    "        self.b = TrainVar(objax.random.uniform((nout,))/jnp.sqrt(nout))\n",
    "        self.w = TrainVar(orthogonal((nout, nin)))\n",
    "        self.rep_W = rep_W = repout*repin.T\n",
    "        \n",
    "        self.Pb = repout.symmetric_projector() # the bias vector has representation repout\n",
    "        self.Pw = rep_W.symmetric_projector()\n",
    "        \n",
    "    def __call__(self, x):\n",
    "        W = (self.Pw@self.w.value.reshape(-1)).reshape(*self.w.value.shape)\n",
    "        b = self.Pb@self.b.value\n",
    "        return x@W.T+b"
   ]
  },
  {
   "cell_type": "markdown",
   "metadata": {},
   "source": [
    "# Implementing a New Group"
   ]
  },
  {
   "cell_type": "markdown",
   "metadata": {},
   "source": [
    "Implementing a new group equivariance in our library is fairly straightforward. \n",
    "You need to specify the discrete and continuous generators of the group in a given representation: $\\rho(h_i)$ and $d\\rho(A_k)$, and then call the init method. These two fields, `self.discrete_generators` and `self.lie_algebra` should be a sequence of square matrices. These can either be specified as dense arrays (such as through `np.ndarray`s of size `(M,n,n)` and `(D,n,n)`) or as `LinearOperator` objects that implement matmul lazily. In general it's possible to implement any matrix group, and we'll go through a few illustrative examples. After checking out these examples, you can browse through the implementations for many other groups [here](https://github.com/mfinzi/equivariant-MLP/blob/master/emlp/solver/groups.py)."
   ]
  },
  {
   "cell_type": "markdown",
   "metadata": {},
   "source": [
    "## Discrete Group Example: Alternating Group $A_n$"
   ]
  },
  {
   "cell_type": "markdown",
   "metadata": {},
   "source": [
    "The alternating group $A_n$ is a discrete group that contains all _even_ permutations from the permutation group $S_n$. There are many different generating sets that we could use, but let's for example choose the [generators](https://math.stackexchange.com/questions/1358030/set-of-generators-for-a-n-the-alternating-group) $(123),(124),...,(12n)$ where each term is a cyclic permutation of those indices. So to implement the group, all we need to do is specify these generators."
   ]
  },
  {
   "cell_type": "code",
   "execution_count": 5,
   "metadata": {},
   "outputs": [],
   "source": [
    "#import logging; logging.getLogger().setLevel(logging.INFO)\n",
    "from emlp.solver.groups import Group,S\n",
    "from emlp.solver.representation import V,T,vis\n",
    "import numpy as np\n",
    "\n",
    "class Alt(Group): \n",
    "    \"\"\" The alternating group in n dimensions\"\"\"\n",
    "    def __init__(self,n):\n",
    "        assert n>2\n",
    "        self.discrete_generators = np.zeros((n-2,n,n))+np.eye(n) # init an array of n-2 identity matrices\n",
    "        for i in range(n-2):\n",
    "            ids = (0,1,i+2)\n",
    "            permed_ids = np.roll(ids,1) # cyclic permutation (0,1,i+2)->(i+2,0,1)\n",
    "            self.discrete_generators[i,ids] = self.discrete_generators[i,permed_ids]\n",
    "        super().__init__(n)"
   ]
  },
  {
   "cell_type": "markdown",
   "metadata": {},
   "source": [
    "High rank objects for $Alt(n)$ have additional equivariant solutions compared to the permutation group $S_n$ that contains it."
   ]
  },
  {
   "cell_type": "code",
   "execution_count": 2,
   "metadata": {},
   "outputs": [
    {
     "name": "stdout",
     "output_type": "stream",
     "text": [
      "T5 basis for Alt(5) of shape  (3125, 63)\n",
      "T5 basis for S(5) of shape  (3125, 52)\n"
     ]
    }
   ],
   "source": [
    "print(\"T5 basis for Alt(5) of shape \",T(5)(Alt(5)).symmetric_basis().shape)\n",
    "print(\"T5 basis for S(5) of shape \",T(5)(S(5)).symmetric_basis().shape)"
   ]
  },
  {
   "cell_type": "markdown",
   "metadata": {},
   "source": [
    "You can verify the equivariance:"
   ]
  },
  {
   "cell_type": "code",
   "execution_count": 3,
   "metadata": {},
   "outputs": [
    {
     "data": {
      "text/plain": [
       "DeviceArray(1.0878562e-06, dtype=float32)"
      ]
     },
     "execution_count": 3,
     "metadata": {},
     "output_type": "execute_result"
    }
   ],
   "source": [
    "from emlp.tests.equivariant_subspaces_tests import rel_error\n",
    "G = Alt(5)\n",
    "rep = T(5)(G)\n",
    "Q = rep.symmetric_basis()\n",
    "gQ = rep.rho(G.sample())@Q\n",
    "rel_error(Q,gQ)"
   ]
  },
  {
   "cell_type": "markdown",
   "metadata": {},
   "source": [
    "## Continuous Group Example: Special Orthogonal Group $\\mathrm{SO}(n)$"
   ]
  },
  {
   "cell_type": "markdown",
   "metadata": {},
   "source": [
    "Many Lie groups lie in the image of the exponential map. A classic example is the special orthogonal group $SO(n)$ consisting of rotations in $n$ dimensions: $\\mathrm{SO}(n) = \\{R \\in \\mathbb{R}^{n\\times n}: R^TR=I, \\mathrm{det}(R)=1\\}$. Because this is a continuous group, we need to specify the Lie Algebra, which can be found by differentiating the constraints at the identity or simply by looking it up on [wikipedia](https://en.wikipedia.org/wiki/3D_rotation_group#Lie_algebra). $\\mathfrak{so}(n) = T_\\mathrm{id}\\mathrm{SO}(n) = \\{A\\in \\mathbb{R}^{n\\times n}: A^\\top=-A \\}$. We can choose any basis for this $n(n-1)$ dimensional subspace of antisymmetric matrices. Since $\\mathrm{exp}(\\mathfrak{so}(n)) = \\mathrm{SO}(n)$, this is all we need to specify."
   ]
  },
  {
   "cell_type": "code",
   "execution_count": 4,
   "metadata": {},
   "outputs": [],
   "source": [
    "class SO(Group): #\n",
    "    def __init__(self,n):\n",
    "        \"\"\" The special orthogonal group SO(n) in n dimensions\"\"\"\n",
    "        self.lie_algebra = np.zeros(((n*(n-1))//2,n,n))\n",
    "        k=0\n",
    "        for i in range(n):\n",
    "            for j in range(i):\n",
    "                self.lie_algebra[k,i,j] = 1\n",
    "                self.lie_algebra[k,j,i] = -1\n",
    "                k+=1\n",
    "        super().__init__(n)"
   ]
  },
  {
   "cell_type": "code",
   "execution_count": 5,
   "metadata": {},
   "outputs": [
    {
     "data": {
      "image/png": "[encoded data removed]",
      "text/plain": [
       "<Figure size 432x288 with 1 Axes>"
      ]
     },
     "metadata": {
      "needs_background": "light"
     },
     "output_type": "display_data"
    }
   ],
   "source": [
    "vis(V(SO(3))**3,V(SO(3))**2,cluster=False)"
   ]
  },
  {
   "cell_type": "markdown",
   "metadata": {},
   "source": [
    "## Lie Group with Multiple Connected Components Example: $\\mathrm{O}(n)$ "
   ]
  },
  {
   "cell_type": "markdown",
   "metadata": {},
   "source": [
    "Lie groups that are not in the image of the exponential map can be a bit more complicated because they often need to be constructued with both continuous and discrete generators. A good example is the orthogonal group $\\mathrm{O}(n)$ consisting of rotations and reflections $\\mathrm{O}(n) = \\{R \\in \\mathbb{R}^{n\\times n}: R^TR=I\\}$. The Lie algebra for $\\mathrm{O}(n)$ is the same as for $\\mathrm{SO}(n)$. $\\mathfrak{o}(n)=\\mathfrak{so}(n)$ and so $\\mathrm{exp}(\\mathfrak{o}(n)) = \\mathrm{SO}(n) \\ne \\mathrm{O}(n)$. Instead, the orthogonal group has $2$ connected components: orthogonal matrices with $\\mathrm{det}(R)=1$ and $\\mathrm{det}(R)=-1$, and so we need a generator to traverse between the two components such as $h = \\begin{bmatrix}-1 &0\\\\ 0 & I\\\\\n",
    "\\end{bmatrix}$. We can reuse the Lie algebra implementation from $\\mathrm{SO}(n)$ and implement the additional discrete generator below."
   ]
  },
  {
   "cell_type": "code",
   "execution_count": 6,
   "metadata": {},
   "outputs": [],
   "source": [
    "class O(SO): #\n",
    "    def __init__(self,n):\n",
    "        \"\"\" The Orthogonal group O(n) in n dimensions\"\"\"\n",
    "        self.discrete_generators = np.eye(n)[None]\n",
    "        self.discrete_generators[0,0,0]=-1\n",
    "        super().__init__(n)"
   ]
  },
  {
   "cell_type": "code",
   "execution_count": 7,
   "metadata": {},
   "outputs": [
    {
     "data": {
      "image/png": "[encoded data removed]",
      "text/plain": [
       "<Figure size 432x288 with 1 Axes>"
      ]
     },
     "metadata": {
      "needs_background": "light"
     },
     "output_type": "display_data"
    }
   ],
   "source": [
    "vis(V(O(3))**3,V(O(3))**2,cluster=False); #Unlike SO(n), O(n) has no solutions for odd parity V^3->V^2 = T5 = odd"
   ]
  },
  {
   "cell_type": "markdown",
   "metadata": {},
   "source": [
    "## Accelerating the solver using lazy matrices"
   ]
  },
  {
   "cell_type": "markdown",
   "metadata": {},
   "source": [
    "For larger representations our solver uses an iterative method that benefits from faster multiplies with the generators. Instead of specifying the generators using dense matrices, you can specify them as `LinearOperator` objects in a way that makes use of known structure (like sparsity, permutation, etc). These LinearOperator objects are modeled after [scipy Linear Operators](https://docs.scipy.org/doc/scipy/reference/generated/scipy.sparse.linalg.LinearOperator.html) but adapted to be compatible with jax and with some additional features.\n",
    "\n",
    "Returning to the alternating group example, we can specify the generators as permutation operators directly. There are many useful LinearOperators implemented in `LinearOperator` which we recommend using if available, but we will go through the minimum steps for implementing a new operator like Permutation as an example.\n",
    "\n",
    "Note that you need to be using quite large representations before any speedups will be felt due to the increased compile times with Jax (we are hoping to speed this up)."
   ]
  },
  {
   "cell_type": "code",
   "execution_count": 1,
   "metadata": {},
   "outputs": [],
   "source": [
    "from emlp.solver.linear_operator_jax import LinearOperator\n",
    "import numpy as np\n",
    "\n",
    "class LazyPerm(LinearOperator):\n",
    "    def __init__(self,perm):\n",
    "        self.perm=perm\n",
    "        self.shape = (len(perm),len(perm))\n",
    "    def _matmat(self,V):\n",
    "        return V[self.perm]\n",
    "    def _matvec(self,V):\n",
    "        return V[self.perm]\n",
    "    def _adjoint(self):\n",
    "        return LazyPerm(np.argsort(self.perm))"
   ]
  },
  {
   "cell_type": "code",
   "execution_count": 2,
   "metadata": {},
   "outputs": [],
   "source": [
    "class AltFast(Group): \n",
    "    \"\"\" The alternating group in n dimensions\"\"\"\n",
    "    def __init__(self,n):\n",
    "        assert n>2\n",
    "        perms =np.zeros((n-2,n)).astype(int)+np.arange(n)[None]\n",
    "        for i in range(n-2):\n",
    "            ids = (0,1,i+2)\n",
    "            permed_ids = np.roll(ids,1) # cyclic permutation (0,1,i+2)->(i+2,0,1)\n",
    "            perms[i,ids] = perms[i,permed_ids]\n",
    "        self.discrete_generators = [LazyPerm(perm) for perm in perms]\n",
    "        super().__init__(n)"
   ]
  },
  {
   "cell_type": "code",
   "execution_count": 3,
   "metadata": {},
   "outputs": [],
   "source": [
    "#import logging; logging.getLogger().setLevel(logging.INFO)"
   ]
  },
  {
   "cell_type": "code",
   "execution_count": 6,
   "metadata": {},
   "outputs": [
    {
     "data": {
      "application/vnd.jupyter.widget-view+json": {
       "model_id": "927c46997bcd412192a648b222ce15cb",
       "version_major": 2,
       "version_minor": 0
      },
      "text/plain": [
       "Krylov Solving for Equivariant Subspace r<=10:   0%|          | 0/100 [00:00<?, ?it/s]"
      ]
     },
     "metadata": {},
     "output_type": "display_data"
    },
    {
     "name": "stdout",
     "output_type": "stream",
     "text": [
      "17.1 s ± 0 ns per loop (mean ± std. dev. of 1 run, 1 loop each)\n"
     ]
    }
   ],
   "source": [
    "%timeit -n1 -r1 T(2)(Alt(100)).symmetric_basis()"
   ]
  },
  {
   "cell_type": "code",
   "execution_count": 7,
   "metadata": {},
   "outputs": [
    {
     "data": {
      "application/vnd.jupyter.widget-view+json": {
       "model_id": "f4ea544ac01b4c6b9fcf9b2502719c60",
       "version_major": 2,
       "version_minor": 0
      },
      "text/plain": [
       "Krylov Solving for Equivariant Subspace r<=10:   0%|          | 0/100 [00:00<?, ?it/s]"
      ]
     },
     "metadata": {},
     "output_type": "display_data"
    },
    {
     "name": "stdout",
     "output_type": "stream",
     "text": [
      "29.2 s ± 0 ns per loop (mean ± std. dev. of 1 run, 1 loop each)\n"
     ]
    }
   ],
   "source": [
    "%timeit -n1 -r1 T(2)(AltFast(100)).symmetric_basis()"
   ]
  },
  {
   "cell_type": "markdown",
   "metadata": {},
   "source": [
    "# Implementing New Representations"
   ]
  },
  {
   "cell_type": "markdown",
   "metadata": {},
   "source": [
    "As our solver treats objects very generally, implementing new representations is surprisingly easy. To implement a new [Representation](https://emlp.readthedocs.io/en/latest/package/emlp.solver.representation.html#emlp.models.solver.representation.Rep) you need to implement `size()` which is the dimension of the representation, `rho(M)` which is a mapping from the group elements to the representation matrix, as well `__eq__` and `__hash__` to distinguish different representations. It's also a good idea to implement a `__str__` function to improve readability. All representations implemented this way should have the `.G` attribute specifying the symmetry group.\n",
    "\n",
    "The implementation also requires you to specify whether the representation is regular (whether `rho(M)` outputs a permutaiton matrix) with the `is_regular` attribute, and also the `.T` property that returns the dual of the representation. We plan on removing these two requirements in a later release."
   ]
  },
  {
   "cell_type": "markdown",
   "metadata": {},
   "source": [
    "## Example 1: Irreducible Representations of SO(2) "
   ]
  },
  {
   "cell_type": "markdown",
   "metadata": {},
   "source": [
    "As a first example, we show one can implement the real irreducible representations of the group SO(2). All of irreducible representations $\\psi_n$ of SO(2) are $2$-dimensional (except for $\\psi_0$ which is the same as [Scalar](https://emlp.readthedocs.io/en/latest/package/emlp.solver.representation.html#emlp.models.solver.representation.Scalar) $= \\mathbb{R} = \\psi_0$). These representations can be written $\\psi_n(R_\\theta) = \\begin{bmatrix}\\cos(n\\theta) &\\sin(n\\theta)\\\\-\\sin(n\\theta) &  \\cos(n\\theta) \\end{bmatrix}$ or simply: $\\psi_n(R) = R^n$."
   ]
  },
  {
   "cell_type": "code",
   "execution_count": 70,
   "metadata": {},
   "outputs": [],
   "source": [
    "import jax.numpy as jnp\n",
    "from emlp.solver.representation import Rep,vis\n",
    "from emlp.solver.groups import SO\n",
    "\n",
    "class SO2Irreps(Rep):\n",
    "    \"\"\" (Real) Irreducible representations of SO2 \"\"\"\n",
    "    is_regular=False\n",
    "    def __init__(self,order):\n",
    "        assert order>0, \"Use Scalar for 𝜓₀\"\n",
    "        self.G=SO(2)\n",
    "        self.order = order\n",
    "    def size(self):\n",
    "        return 2\n",
    "    def rho(self,M):\n",
    "        return jnp.linalg.matrix_power(M,self.order)\n",
    "    def __str__(self):\n",
    "        number2sub = str.maketrans(\"0123456789\", \"₀₁₂₃₄₅₆₇₈₉\")\n",
    "        return f\"𝜓{self.order}\".translate(number2sub)\n",
    "    def __eq__(self,other):\n",
    "        return type(self)==type(other) and self.G==other.G and self.order==other.order\n",
    "    def __hash__(self):\n",
    "        return hash((type(self),self.G,self.order))\n",
    "    @property\n",
    "    def T(self):\n",
    "        return self"
   ]
  },
  {
   "cell_type": "markdown",
   "metadata": {},
   "source": [
    "That's it! Now we can use the SO(2) irreps in the type system, and solve for equivariant bases that contain them."
   ]
  },
  {
   "cell_type": "code",
   "execution_count": 71,
   "metadata": {},
   "outputs": [],
   "source": [
    "psi1 = SO2Irreps(1)\n",
    "psi2 = SO2Irreps(2)\n",
    "psi3 = SO2Irreps(3)\n",
    "psi4 = SO2Irreps(4)"
   ]
  },
  {
   "cell_type": "code",
   "execution_count": 72,
   "metadata": {},
   "outputs": [
    {
     "data": {
      "text/plain": [
       "𝜓₃+𝜓₂⊗𝜓₁"
      ]
     },
     "execution_count": 72,
     "metadata": {},
     "output_type": "execute_result"
    }
   ],
   "source": [
    "psi1*psi2+psi3"
   ]
  },
  {
   "cell_type": "markdown",
   "metadata": {},
   "source": [
    "We can verify [schur's lemma](https://en.wikipedia.org/wiki/Schur%27s_lemma), that there are no nontrivial equivariant linear maps from one irrep to another:"
   ]
  },
  {
   "cell_type": "code",
   "execution_count": 60,
   "metadata": {},
   "outputs": [
    {
     "name": "stdout",
     "output_type": "stream",
     "text": [
      "[] [] []\n"
     ]
    }
   ],
   "source": [
    "print((psi1>>psi2).symmetric_basis(),(psi2>>psi3).symmetric_basis(),(psi1>>psi3).symmetric_basis())"
   ]
  },
  {
   "cell_type": "markdown",
   "metadata": {},
   "source": [
    "And we can include non irreducibles in our representation too. For example computing equivariant maps from $T_4 \\rightarrow \\psi_2$."
   ]
  },
  {
   "cell_type": "code",
   "execution_count": 113,
   "metadata": {},
   "outputs": [
    {
     "name": "stdout",
     "output_type": "stream",
     "text": [
      "𝜓₂⊗V⁴ equivariant maps with r=8 basis elements\n"
     ]
    },
    {
     "data": {
      "image/png": "[encoded data removed]",
      "text/plain": [
       "<Figure size 432x288 with 1 Axes>"
      ]
     },
     "metadata": {
      "needs_background": "light"
     },
     "output_type": "display_data"
    }
   ],
   "source": [
    "vis(V(SO(2))**4,psi2,False)\n",
    "Wrep = V(SO(2))**4>>psi2\n",
    "print(\"{} equivariant maps with r={} basis elements\".format(Wrep,Wrep.symmetric_basis().shape[-1]))"
   ]
  },
  {
   "cell_type": "markdown",
   "metadata": {},
   "source": [
    "## Example 2: PseudoScalars, PseudoVectors, ..."
   ]
  },
  {
   "cell_type": "markdown",
   "metadata": {},
   "source": [
    "With a slightly more sophisticated example, we'll now implement the representations known as [PseudoScalars](https://en.wikipedia.org/wiki/Pseudoscalar), [PseudoVectors](https://en.wikipedia.org/wiki/Pseudovector), and other PseudoTensor representations. These representations commonly occur in physics when working with cross products or the Hodge star, and also describe the Fermi statistics of spin 1/2 particles that are antisymmetric under exchange.\n",
    "\n",
    "A pseudoscalar is like a scalar `Scalar` $=\\mathbb{R}$, but incurs a $-1$ under orientation reversing transformations: $\\rho(M) = \\mathrm{sign}(\\mathrm{det}(M))$. Similarly, pseudovectors are like ordinary vectors but can pick up this additional $-1$ factor. In fact, we can convert any representation into a pseudorepresentation by multiplying by a pseudoscalar.\n",
    "\n",
    "<!-- For when the group $G$ is the symmetric group $S_n$, the sign of the determinant of the permutation matrices $\\sigma\\in G$ is nothing but the parity of the permutation $(-1)^{N(\\sigma)}$ -->"
   ]
  },
  {
   "cell_type": "code",
   "execution_count": 139,
   "metadata": {},
   "outputs": [],
   "source": [
    "from emlp.solver.representation import Rep,V,T,vis,Scalar"
   ]
  },
  {
   "cell_type": "code",
   "execution_count": 155,
   "metadata": {},
   "outputs": [],
   "source": [
    "class PseudoScalar(Rep):\n",
    "    is_regular=False\n",
    "    def __init__(self,G=None):\n",
    "        self.G=G\n",
    "    def __call__(self,G):\n",
    "        return PseudoScalar(G)\n",
    "    def size(self):\n",
    "        return 1\n",
    "    def __str__(self):\n",
    "        return \"P\"\n",
    "    def rho(self,M):\n",
    "        sign = jnp.linalg.slogdet(M@jnp.eye(M.shape[0]))[0]\n",
    "        return sign*jnp.eye(1)\n",
    "    def __eq__(self,other):\n",
    "        return type(self)==type(other) and self.G==other.G\n",
    "    def __hash__(self):\n",
    "        return hash((type(self),self.G))\n",
    "    @property\n",
    "    def T(self):\n",
    "        return self"
   ]
  },
  {
   "cell_type": "code",
   "execution_count": 166,
   "metadata": {},
   "outputs": [],
   "source": [
    "G = S(4)\n",
    "P = PseudoScalar(G)\n",
    "W = V(G)"
   ]
  },
  {
   "cell_type": "markdown",
   "metadata": {},
   "source": [
    "We can then build up pseudotensors with multiplication. As expected pseudovectors incur a -1 for odd permutations."
   ]
  },
  {
   "cell_type": "code",
   "execution_count": 178,
   "metadata": {},
   "outputs": [
    {
     "name": "stdout",
     "output_type": "stream",
     "text": [
      "Sample g = \n",
      "[[1. 0. 0. 0.]\n",
      " [0. 0. 0. 1.]\n",
      " [0. 0. 1. 0.]\n",
      " [0. 1. 0. 0.]]\n",
      "Pseudovector 𝜌 = \n",
      "[[-1.  0.  0.  0.]\n",
      " [ 0.  0.  0. -1.]\n",
      " [ 0.  0. -1.  0.]\n",
      " [ 0. -1.  0.  0.]]\n"
     ]
    }
   ],
   "source": [
    "pseudovector = P*W\n",
    "g = G.sample()\n",
    "print(f\"Sample g = \\n{g}\")\n",
    "print(f\"Pseudovector 𝜌 = \\n{pseudovector.rho_dense(g)}\")"
   ]
  },
  {
   "cell_type": "markdown",
   "metadata": {},
   "source": [
    "Again, we can freely mix and match these new representations with existing ones."
   ]
  },
  {
   "cell_type": "code",
   "execution_count": 180,
   "metadata": {},
   "outputs": [
    {
     "data": {
      "text/plain": [
       "P²+V+P⊗V²"
      ]
     },
     "execution_count": 180,
     "metadata": {},
     "output_type": "execute_result"
    }
   ],
   "source": [
    "P*(W**2 +P)+W.T"
   ]
  },
  {
   "cell_type": "markdown",
   "metadata": {},
   "source": [
    "Equivariant maps from matrices to pseodovectors yield a different set of solutions from maps from matrices to vectors."
   ]
  },
  {
   "cell_type": "code",
   "execution_count": 181,
   "metadata": {},
   "outputs": [
    {
     "data": {
      "image/png": "[encoded data removed]",
      "text/plain": [
       "<Figure size 432x288 with 1 Axes>"
      ]
     },
     "metadata": {
      "needs_background": "light"
     },
     "output_type": "display_data"
    }
   ],
   "source": [
    "vis(W**2,pseudovector,cluster=False)"
   ]
  },
  {
   "cell_type": "code",
   "execution_count": 185,
   "metadata": {},
   "outputs": [
    {
     "data": {
      "image/png": "[encoded data removed]",
      "text/plain": [
       "<Figure size 432x288 with 1 Axes>"
      ]
     },
     "metadata": {
      "needs_background": "light"
     },
     "output_type": "display_data"
    }
   ],
   "source": [
    "vis(W**2,W,cluster=False)"
   ]
  },
  {
   "cell_type": "code",
   "execution_count": 196,
   "metadata": {},
   "outputs": [
    {
     "data": {
      "image/png": "[encoded data removed]",
      "text/plain": [
       "<Figure size 432x288 with 1 Axes>"
      ]
     },
     "metadata": {
      "needs_background": "light"
     },
     "output_type": "display_data"
    }
   ],
   "source": [
    "vis(P*W**2,W**2,cluster=False)"
   ]
  },
  {
   "cell_type": "markdown",
   "metadata": {},
   "source": [
    "We can even mix and match with the irreducible representations above."
   ]
  },
  {
   "cell_type": "code",
   "execution_count": 227,
   "metadata": {},
   "outputs": [
    {
     "name": "stdout",
     "output_type": "stream",
     "text": [
      "P⊗𝜓₂⊗V²\n",
      "(8, 2)\n"
     ]
    }
   ],
   "source": [
    "P = PseudoScalar(SO(2))\n",
    "W = V(SO(2))\n",
    "rep = psi2>>P*W**2\n",
    "print(rep)\n",
    "print(rep.symmetric_basis().shape)"
   ]
  },
  {
   "cell_type": "markdown",
   "metadata": {},
   "source": [
    "## Additional Information "
   ]
  },
  {
   "cell_type": "markdown",
   "metadata": {},
   "source": [
    "Several other functions may be optionally implemented to improve performance such as the Lie Algebra representation `drho(A)` which by default is calculated automatically from `rho` as $d\\rho(A) := d\\rho(M)|_{M=I}(A) = \\frac{d}{dt} \\rho(e^{tA})|_{t=0}$, the dual representation `.T`. However, these functions are optional and the representation can function fine without them."
   ]
  },
  {
   "cell_type": "code",
   "execution_count": null,
   "metadata": {},
   "outputs": [],
   "source": []
  },
  {
   "cell_type": "markdown",
   "metadata": {},
   "source": [
    "# Combining Representations from Different Groups (experimental)\n",
    "## Direct Product groups"
   ]
  },
  {
   "cell_type": "markdown",
   "metadata": {},
   "source": [
    "It is possible to combine representations from different groups. These kinds of representations are relevant when there are multiple structures in the data. For example, a point cloud is a set of vectors which transforms both under permutations and rotations of the vectors. We can formalize this as $V_{S_n}\\otimes V_{SO(3)}$ or in tensor notation $T_1^{S_n}\\otimes T_1^{SO(3)}$. While this object could be expressed as the representation of the product group $V_{S_n \\times SO(3)}$, other objects like $T_k^{S_n}\\otimes T_j^{SO(3)}$ can not be so easily.\n",
    "\n",
    "Nevertheless, we can calculate the symmetric bases for these objects. For example, maps from vector edge features $T_1^{SO(3)}\\otimes T_2^{S_n}$ to matrix node features $T_2^{SO(3)}\\otimes T_1^{S_n}$ can be computed:"
   ]
  },
  {
   "cell_type": "code",
   "execution_count": 1,
   "metadata": {},
   "outputs": [
    {
     "name": "stdout",
     "output_type": "stream",
     "text": [
      "V²_S(4)⊗V_SO(3) --> V_S(4)⊗V²_SO(3)\n"
     ]
    }
   ],
   "source": [
    "from emlp.solver.groups import *\n",
    "from emlp.solver.representation import T,vis,V,Scalar\n",
    "\n",
    "repin,repout = T(1)(SO(3))*T(2)(S(4)),T(2)(SO(3))*T(1)(S(4))\n",
    "print(repin,\"-->\", repout)"
   ]
  },
  {
   "cell_type": "code",
   "execution_count": 7,
   "metadata": {},
   "outputs": [
    {
     "data": {
      "image/png": "[encoded data removed]",
      "text/plain": [
       "<Figure size 432x288 with 1 Axes>"
      ]
     },
     "metadata": {
      "needs_background": "light"
     },
     "output_type": "display_data"
    }
   ],
   "source": [
    "vis(repin,repout,cluster=False)"
   ]
  },
  {
   "cell_type": "markdown",
   "metadata": {},
   "source": [
    "Or perhaps you would like equivariant maps from two sequence of sets and a matrix (under 3D rotations) to itself. You can go wild."
   ]
  },
  {
   "cell_type": "code",
   "execution_count": 2,
   "metadata": {},
   "outputs": [
    {
     "name": "stdout",
     "output_type": "stream",
     "text": [
      "Rep: V²+2V_S(4)⊗V_Z(3)\n",
      "Linear maps: V⁴+4V_S(4)⊗V_Z(3)⊗V²_SO(3)+4V²_S(4)⊗V²_Z(3)\n"
     ]
    }
   ],
   "source": [
    "rep = 2*T(1)(Z(3))*T(1)(S(4))+T(2)(SO(3))\n",
    "print(f\"Rep: {rep}\")\n",
    "print(f\"Linear maps: {rep>>rep}\")"
   ]
  },
  {
   "cell_type": "code",
   "execution_count": 7,
   "metadata": {
    "scrolled": true
   },
   "outputs": [
    {
     "data": {
      "image/png": "[encoded data removed]",
      "text/plain": [
       "<Figure size 432x288 with 1 Axes>"
      ]
     },
     "metadata": {
      "needs_background": "light"
     },
     "output_type": "display_data"
    }
   ],
   "source": [
    "vis(rep,rep)"
   ]
  },
  {
   "cell_type": "markdown",
   "metadata": {},
   "source": [
    "The kronecker product of the individual solutions for different groups can be seen in these basis matrices, in the top left hand corner we have a circulant matrix of deep set solutions (identity + background)"
   ]
  },
  {
   "cell_type": "code",
   "execution_count": 3,
   "metadata": {},
   "outputs": [
    {
     "data": {
      "image/png": "[encoded data removed]",
      "text/plain": [
       "<Figure size 432x288 with 1 Axes>"
      ]
     },
     "metadata": {
      "needs_background": "light"
     },
     "output_type": "display_data"
    }
   ],
   "source": [
    "vis(V(Z(3))*V(S(4)),V(Z(3))*V(S(4)))"
   ]
  },
  {
   "cell_type": "markdown",
   "metadata": {},
   "source": [
    "And in the bottom left we have maps $V_{Z_3}\\otimes V_{S_4} \\rightarrow V_{SO(2)}^{\\otimes 2}$ of which the solutions are the product of $V_{Z_3}\\otimes V_{S_4} \\rightarrow \\mathbb{R}$ (the vector $\\mathbf{1}$) and $\\mathbb{R} \\rightarrow V_{SO(2)}^{\\otimes 2}$ (the flattened $I_{3\\times 3}$)"
   ]
  },
  {
   "cell_type": "code",
   "execution_count": 5,
   "metadata": {},
   "outputs": [
    {
     "data": {
      "image/png": "[encoded data removed]",
      "text/plain": [
       "<Figure size 432x288 with 1 Axes>"
      ]
     },
     "metadata": {
      "needs_background": "light"
     },
     "output_type": "display_data"
    }
   ],
   "source": [
    "vis(V(Z(3))*V(S(4)),T(2)(SO(3)),False)"
   ]
  },
  {
   "cell_type": "markdown",
   "metadata": {},
   "source": [
    "## Wreath Products (coming soon)"
   ]
  },
  {
   "cell_type": "markdown",
   "metadata": {},
   "source": [
    "These are all examples of tensor products of representations, which are in turn a kind of representation on the direct product group $G=G_1\\times G_2$. There are other ways of combining groups however, and for many hierarchical structures there is a larger group of symmetries $G_1\\wr G_2$ that contains $G_1 \\times G_2$ but also other elements. These so called wreath products in the very nice paper [Equivariant Maps for Hierarchical Structures](https://arxiv.org/pdf/2006.03627.pdf). Support for the wreath product of representations is not yet implemented but if this is something that would be useful to you, send me an email."
   ]
  },
  {
   "cell_type": "markdown",
   "metadata": {},
   "source": [
    "# Multilinear Maps"
   ]
  },
  {
   "cell_type": "markdown",
   "metadata": {},
   "source": [
    "Our codebase extends trivially to multilinear maps, since these maps are in fact just linear maps in disguise.\n",
    "\n",
    "If we have a sequence of representations $R_1$, $R_2$, $R_3$ for example, we can write the (bi)linear maps $R_1\\rightarrow R_2\\rightarrow R_3$. This way of thinking about maps of multiple variables borrowed from programming languages and curried functions is very powerful."
   ]
  },
  {
   "cell_type": "markdown",
   "metadata": {},
   "source": [
    "We can think of such an object $R_1\\rightarrow R_2\\rightarrow R_3$ either as $R_1 \\rightarrow (R_2\\rightarrow R_3)$: a linear map from $R_1$ to linear maps from $R_2$ to $R_3$ or as\n",
    "$(R_1\\times R_2) \\rightarrow R_3$: a bilinear map from $R_1$ and $R_2$ to $R_3$. Since linear maps from one representation to another are just another representation in our type system, you can use this way of thinking to find the equivariant solutions to arbitrary multilinear maps."
   ]
  },
  {
   "cell_type": "markdown",
   "metadata": {},
   "source": [
    "For example, we can get the bilinear $SO(4)$ equivariant maps $(R_1\\times R_2) \\rightarrow R_3$ with the code below."
   ]
  },
  {
   "cell_type": "code",
   "execution_count": 1,
   "metadata": {},
   "outputs": [
    {
     "name": "stdout",
     "output_type": "stream",
     "text": [
      "(2940, 27)\n"
     ]
    }
   ],
   "source": [
    "from emlp.solver.groups import SO,rel_err\n",
    "from emlp.solver.representation import V\n",
    "\n",
    "G = SO(4)\n",
    "W = V(G)\n",
    "R1 = 3*W+W**2 # some example representations\n",
    "R2 = W.T+W**0\n",
    "R3 = W**0 +W**2 +W\n",
    "\n",
    "Q = (R1>>(R2>>R3)).symmetric_basis()\n",
    "print(Q.shape)"
   ]
  },
  {
   "cell_type": "markdown",
   "metadata": {},
   "source": [
    "And we can verify that these multilinear solutions are indeed equivariant"
   ]
  },
  {
   "cell_type": "code",
   "execution_count": 2,
   "metadata": {},
   "outputs": [
    {
     "data": {
      "text/plain": [
       "DeviceArray(1.9872947e-07, dtype=float32)"
      ]
     },
     "execution_count": 2,
     "metadata": {},
     "output_type": "execute_result"
    }
   ],
   "source": [
    "import numpy as np\n",
    "\n",
    "example_map = (Q@np.random.randn(Q.shape[-1]))\n",
    "example_map = example_map.reshape(R3.size(),R2.size(),R1.size())\n",
    "\n",
    "x1 = np.random.randn(R1.size())\n",
    "x2 = np.random.randn(R2.size())\n",
    "g = G.sample()\n",
    "\n",
    "out1 = np.einsum(\"ijk,j,k\",example_map,R2.rho(g)@x2,R1.rho(g)@x1)\n",
    "out2 = R3.rho(g)@np.einsum(\"ijk,j,k\",example_map,x2,x1)\n",
    "rel_err(out1,out2)"
   ]
  },
  {
   "cell_type": "markdown",
   "metadata": {},
   "source": [
    "Note that the output mapping is of shape $(\\mathrm{dim}(R_3),\\mathrm{dim}(R_2),\\mathrm{dim}(R_1))$\n",
    "with the inputs to the right as you would expect with a matrix. \n",
    "\n",
    "Note the parenthesis in the expression `(R1>>(R2>>R3))` since the python `>>` associates to the right.\n",
    "The notation $R_1\\rightarrow R_2 \\rightarrow R_3$ or `(R1>>(R2>>R3))` can be a bit confusing since the inputs are on the right. It can be easier in this concept to instead reverse the arrows and express the same object as $R_3\\leftarrow R_2\\leftarrow R_1$ or `R3<<R2<<R1` (with no parens required) that matches the axis ordering of the multilinear map (tensor). \n",
    "\n",
    "You can use `R2<<R1` in place of `R1>>R2` wherever you like, and it is usually more intuitive."
   ]
  },
  {
   "cell_type": "code",
   "execution_count": 3,
   "metadata": {},
   "outputs": [
    {
     "data": {
      "text/plain": [
       "True"
      ]
     },
     "execution_count": 3,
     "metadata": {},
     "output_type": "execute_result"
    }
   ],
   "source": [
    "R3<<R2<<R1 == (R1>>(R2>>R3))"
   ]
  },
  {
   "cell_type": "markdown",
   "metadata": {},
   "source": [
    "# Limited Pytorch Support"
   ]
  },
  {
   "cell_type": "markdown",
   "metadata": {},
   "source": [
    "We strongly recommend that users of our libary write native Jax code. However, we understand that due to existing code and/or constraints from the employer, it is sometimes unavoidable to use other frameworks like PyTorch. \n",
    "\n",
    "To service these requirements, we have added a way that PyTorch users can make use of the equivariant bases $Q\\in \\mathbb{R}^{n\\times r}$ and projection matrices $P = QQ^\\top$ that are computed by our solver. Since these objects are implicitly defined through `LinearOperators`, it is not as straightforward as simply calling `torch.from_numpy(Q)`. However, there is a way to use these operators within PyTorch code while preserving any gradients of the operation. We provide the function `emlp.solver.pytorch_support.torchify_fn` to do this."
   ]
  },
  {
   "cell_type": "code",
   "execution_count": 1,
   "metadata": {},
   "outputs": [],
   "source": [
    "import torch\n",
    "import jax\n",
    "import jax.numpy as jnp\n",
    "from emlp.solver.representation import V\n",
    "from emlp.solver.groups import S\n",
    "\n",
    "W =V(S(4))\n",
    "rep = 3*W+W**2"
   ]
  },
  {
   "cell_type": "code",
   "execution_count": 2,
   "metadata": {},
   "outputs": [],
   "source": [
    "Q = (rep>>rep).symmetric_basis()\n",
    "P = (rep>>rep).symmetric_projector()"
   ]
  },
  {
   "cell_type": "code",
   "execution_count": 3,
   "metadata": {},
   "outputs": [],
   "source": [
    "applyQ = lambda v: Q@v\n",
    "applyP = lambda v: P@v"
   ]
  },
  {
   "cell_type": "markdown",
   "metadata": {},
   "source": [
    "The key is to wrap the desired operations as a function, and then we can apply `torchify_fn`. Now instead of taking jax objects as inputs and outputing jax objects, these functions take in PyTorch objects and output PyTorch objects."
   ]
  },
  {
   "cell_type": "code",
   "execution_count": 4,
   "metadata": {},
   "outputs": [],
   "source": [
    "from emlp.solver.pytorch_support import torchify_fn\n",
    "applyQ_torch = torchify_fn(applyQ)\n",
    "applyP_torch = torchify_fn(applyP)"
   ]
  },
  {
   "cell_type": "code",
   "execution_count": 5,
   "metadata": {},
   "outputs": [],
   "source": [
    "x_torch = torch.arange(Q.shape[-1]).float().cuda()\n",
    "x_torch.requires_grad=True\n",
    "x_jax  = jnp.asarray(x_torch.cpu().data.numpy()) "
   ]
  },
  {
   "cell_type": "code",
   "execution_count": 6,
   "metadata": {},
   "outputs": [
    {
     "name": "stdout",
     "output_type": "stream",
     "text": [
      "jax output:  [0.48484263 0.07053992 0.07053989 0.07053995 1.6988853 ]\n",
      "torch output:  tensor([0.4848, 0.0705, 0.0705, 0.0705, 1.6989], device='cuda:0',\n",
      "       grad_fn=<SliceBackward>)\n"
     ]
    }
   ],
   "source": [
    "Qx1 = applyQ(x_jax)\n",
    "Qx2 = applyQ_torch(x_torch)\n",
    "print(\"jax output: \",Qx1[:5])\n",
    "print(\"torch output: \",Qx2[:5])"
   ]
  },
  {
   "cell_type": "markdown",
   "metadata": {},
   "source": [
    "The outputs match, and note that the torch outputs will be on whichever is the default jax device. Similarly, the gradients of the two objects also match:"
   ]
  },
  {
   "cell_type": "code",
   "execution_count": 7,
   "metadata": {},
   "outputs": [
    {
     "data": {
      "text/plain": [
       "tensor([-2.8704,  2.7858, -2.8704,  2.7858, -2.8704], device='cuda:0')"
      ]
     },
     "execution_count": 7,
     "metadata": {},
     "output_type": "execute_result"
    }
   ],
   "source": [
    "torch.autograd.grad(Qx2.sum(),x_torch)[0][:5]"
   ]
  },
  {
   "cell_type": "code",
   "execution_count": 8,
   "metadata": {},
   "outputs": [
    {
     "data": {
      "text/plain": [
       "DeviceArray([-2.8703732,  2.7858496, -2.8703732,  2.7858496, -2.8703732],            dtype=float32)"
      ]
     },
     "execution_count": 8,
     "metadata": {},
     "output_type": "execute_result"
    }
   ],
   "source": [
    "jax.grad(lambda x: (Q@x).sum())(x_jax)[:5]"
   ]
  },
  {
   "cell_type": "markdown",
   "metadata": {},
   "source": [
    "So you can safely use these torchified functions within your model, and still compute the gradients correctly."
   ]
  }
 ],
 "metadata": {
  "jupytext": {
   "formats": "ipynb,md:myst"
  },
  "kernelspec": {
   "display_name": "Python 3",
   "language": "python",
   "name": "python3"
  },
  "language_info": {
   "codemirror_mode": {
    "name": "ipython",
    "version": 3
   },
   "file_extension": ".py",
   "mimetype": "text/x-python",
   "name": "python",
   "nbconvert_exporter": "python",
   "pygments_lexer": "ipython3",
   "version": "3.8.5"
  }
 },
 "nbformat": 4,
 "nbformat_minor": 4
}
