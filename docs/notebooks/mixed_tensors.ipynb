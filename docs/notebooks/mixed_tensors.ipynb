{
 "cells": [
  {
   "cell_type": "markdown",
   "metadata": {},
   "source": [
    "# Combining Representations from Different Groups (experimental)"
   ]
  },
  {
   "cell_type": "code",
   "execution_count": 10,
   "metadata": {},
   "outputs": [],
   "source": [
    "from emlp.solver.groups import *\n",
    "from emlp.solver.representation import T,vis,V"
   ]
  },
  {
   "cell_type": "code",
   "execution_count": 5,
   "metadata": {},
   "outputs": [],
   "source": [
    "rep = 2*T(1)(Z(3))*T(1)(S(4))+T(2)(SO(3))"
   ]
  },
  {
   "cell_type": "code",
   "execution_count": 6,
   "metadata": {},
   "outputs": [
    {
     "data": {
      "text/plain": [
       "V⁴+4V_Z(3)⊗V²_SO(3)⊗V_S(4)+4V²_Z(3)⊗V²_S(4)"
      ]
     },
     "execution_count": 6,
     "metadata": {},
     "output_type": "execute_result"
    }
   ],
   "source": [
    "(rep>>rep)"
   ]
  },
  {
   "cell_type": "code",
   "execution_count": 7,
   "metadata": {
    "scrolled": true
   },
   "outputs": [
    {
     "data": {
      "image/png": "[encoded data removed]",
      "text/plain": [
       "<Figure size 432x288 with 1 Axes>"
      ]
     },
     "metadata": {
      "needs_background": "light"
     },
     "output_type": "display_data"
    }
   ],
   "source": [
    "vis(rep,rep)"
   ]
  },
  {
   "cell_type": "code",
   "execution_count": 5,
   "metadata": {},
   "outputs": [],
   "source": [
    "#repin,repout = T(2)(SO(3))*T(1)(S(4)),T(1)(SO(3))*T(2)(S(4))\n",
    "repin,repout = T(1)(SO(3))*T(2)(S(4)),T(2)(SO(3))*T(1)(S(4))"
   ]
  },
  {
   "cell_type": "code",
   "execution_count": 6,
   "metadata": {},
   "outputs": [
    {
     "data": {
      "text/plain": [
       "V³_S(4)⊗V³_SO(3)"
      ]
     },
     "execution_count": 6,
     "metadata": {},
     "output_type": "execute_result"
    }
   ],
   "source": [
    "(repin>>repout)"
   ]
  },
  {
   "cell_type": "code",
   "execution_count": 7,
   "metadata": {},
   "outputs": [
    {
     "data": {
      "image/png": "[encoded data removed]",
      "text/plain": [
       "<Figure size 432x288 with 1 Axes>"
      ]
     },
     "metadata": {
      "needs_background": "light"
     },
     "output_type": "display_data"
    }
   ],
   "source": [
    "vis(repin,repout,cluster=False)"
   ]
  },
  {
   "cell_type": "code",
   "execution_count": 8,
   "metadata": {},
   "outputs": [],
   "source": [
    "import numpy as np"
   ]
  },
  {
   "cell_type": "code",
   "execution_count": 9,
   "metadata": {},
   "outputs": [],
   "source": [
    "from emlp.solver.representation import Rep,V,T,vis\n",
    "import jax.numpy as jnp"
   ]
  },
  {
   "cell_type": "code",
   "execution_count": 10,
   "metadata": {},
   "outputs": [],
   "source": [
    "class PseudoScalar(Rep):\n",
    "    is_regular=False\n",
    "    def __init__(self,G=None):\n",
    "        self.G=G\n",
    "    def __call__(self,G):\n",
    "        return PseudoScalar(G)\n",
    "    def size(self):\n",
    "        return 1\n",
    "    def __str__(self):\n",
    "        return \"P\"\n",
    "    def rho(self,M):\n",
    "        sign = jnp.linalg.slogdet(M@jnp.eye(M.shape[0]))[0]\n",
    "        return sign*jnp.eye(1)\n",
    "    def __eq__(self,other):\n",
    "        return type(self)==type(other) and self.G==other.G\n",
    "    def __hash__(self):\n",
    "        return hash((type(self),self.G))\n",
    "    @property\n",
    "    def T(self):\n",
    "        return self"
   ]
  },
  {
   "cell_type": "code",
   "execution_count": null,
   "metadata": {},
   "outputs": [],
   "source": [
    "    "
   ]
  },
  {
   "cell_type": "code",
   "execution_count": 171,
   "metadata": {},
   "outputs": [],
   "source": [
    "#F = Fermi(5)\n",
    "P = PseudoScalar(S(3))\n",
    "W = V(S(3))"
   ]
  },
  {
   "cell_type": "code",
   "execution_count": 172,
   "metadata": {},
   "outputs": [],
   "source": [
    "Q = (P*W**3).symmetric_basis()"
   ]
  },
  {
   "cell_type": "code",
   "execution_count": 173,
   "metadata": {},
   "outputs": [
    {
     "data": {
      "text/plain": [
       "(27, 4)"
      ]
     },
     "execution_count": 173,
     "metadata": {},
     "output_type": "execute_result"
    }
   ],
   "source": [
    "Q.shape"
   ]
  },
  {
   "cell_type": "code",
   "execution_count": 174,
   "metadata": {},
   "outputs": [
    {
     "data": {
      "text/plain": [
       "DeviceArray([[ 1.21046034e-10, -3.31456529e-09,  2.29685071e-08,\n",
       "               7.32013339e-09],\n",
       "             [-6.31171861e-05,  5.55924475e-02, -3.85348558e-01,\n",
       "              -1.22811407e-01],\n",
       "             [ 6.31154981e-05, -5.55924810e-02,  3.85348618e-01,\n",
       "               1.22811541e-01],\n",
       "             [-4.31170277e-02,  1.87860817e-01, -8.43887404e-02,\n",
       "               3.49849045e-01],\n",
       "             [ 3.43581527e-01,  2.07377002e-01,  4.81535234e-02,\n",
       "              -5.73966093e-02],\n",
       "             [-2.16239005e-01,  2.92026043e-01,  9.34502408e-02,\n",
       "              -1.60920069e-01],\n",
       "             [ 4.31172363e-02, -1.87860966e-01,  8.43888894e-02,\n",
       "              -3.49849403e-01],\n",
       "             [ 2.16238961e-01, -2.92026103e-01, -9.34502333e-02,\n",
       "               1.60920024e-01],\n",
       "             [-3.43581647e-01, -2.07377106e-01, -4.81534861e-02,\n",
       "               5.73966280e-02],\n",
       "             [-3.43581408e-01, -2.07376927e-01, -4.81534228e-02,\n",
       "               5.73965237e-02],\n",
       "             [ 4.31171283e-02, -1.87860742e-01,  8.43887478e-02,\n",
       "              -3.49848956e-01],\n",
       "             [ 2.16238916e-01, -2.92026043e-01, -9.34502259e-02,\n",
       "               1.60920054e-01],\n",
       "             [ 6.30937575e-05, -5.55924848e-02,  3.85348499e-01,\n",
       "               1.22811355e-01],\n",
       "             [ 2.86705983e-08,  4.55296387e-08, -4.67108308e-08,\n",
       "               3.61582302e-08],\n",
       "             [-6.30611321e-05,  5.55924699e-02, -3.85348439e-01,\n",
       "              -1.22811392e-01],\n",
       "             [-2.16238976e-01,  2.92026013e-01,  9.34502110e-02,\n",
       "              -1.60919979e-01],\n",
       "             [-4.31172587e-02,  1.87860847e-01, -8.43888000e-02,\n",
       "               3.49849135e-01],\n",
       "             [ 3.43581587e-01,  2.07377106e-01,  4.81534600e-02,\n",
       "              -5.73965684e-02],\n",
       "             [ 3.43581557e-01,  2.07377046e-01,  4.81534563e-02,\n",
       "              -5.73965833e-02],\n",
       "             [-2.16238976e-01,  2.92026073e-01,  9.34502259e-02,\n",
       "              -1.60920024e-01],\n",
       "             [-4.31172289e-02,  1.87860906e-01, -8.43888223e-02,\n",
       "               3.49849224e-01],\n",
       "             [ 2.16238961e-01, -2.92026013e-01, -9.34501886e-02,\n",
       "               1.60919964e-01],\n",
       "             [-3.43581527e-01, -2.07377046e-01, -4.81534488e-02,\n",
       "               5.73965721e-02],\n",
       "             [ 4.31171618e-02, -1.87860787e-01,  8.43887553e-02,\n",
       "              -3.49848986e-01],\n",
       "             [-6.31437943e-05,  5.55924177e-02, -3.85348529e-01,\n",
       "              -1.22811452e-01],\n",
       "             [ 6.31388175e-05, -5.55924028e-02,  3.85348439e-01,\n",
       "               1.22811437e-01],\n",
       "             [-2.89202102e-08, -4.58412259e-08,  3.50695686e-08,\n",
       "              -4.71560035e-08]], dtype=float32)"
      ]
     },
     "execution_count": 174,
     "metadata": {},
     "output_type": "execute_result"
    }
   ],
   "source": [
    "Q#.reshape(2,2)"
   ]
  },
  {
   "cell_type": "code",
   "execution_count": 68,
   "metadata": {},
   "outputs": [
    {
     "data": {
      "text/plain": [
       "720"
      ]
     },
     "execution_count": 68,
     "metadata": {},
     "output_type": "execute_result"
    }
   ],
   "source": [
    "Q = np.array(Q)\n",
    "Q[np.abs(Q)<1e-4]=0\n",
    "Q[np.abs(Q)>1e-4] /= np.abs(Q)[np.abs(Q)>1e-4]\n",
    "(np.abs(Q)>0).sum()"
   ]
  },
  {
   "cell_type": "code",
   "execution_count": 163,
   "metadata": {},
   "outputs": [],
   "source": [
    "G=S(2)\n",
    "Qp = (P*W).rho(G.sample())@Q"
   ]
  },
  {
   "cell_type": "code",
   "execution_count": 167,
   "metadata": {},
   "outputs": [
    {
     "data": {
      "text/plain": [
       "DeviceArray([[0., 1.],\n",
       "             [1., 0.]], dtype=float32)"
      ]
     },
     "execution_count": 167,
     "metadata": {},
     "output_type": "execute_result"
    }
   ],
   "source": [
    "G.sample()"
   ]
  },
  {
   "cell_type": "code",
   "execution_count": 164,
   "metadata": {},
   "outputs": [
    {
     "data": {
      "text/plain": [
       "DeviceArray([[ 0.70710677],\n",
       "             [-0.70710677]], dtype=float32)"
      ]
     },
     "execution_count": 164,
     "metadata": {},
     "output_type": "execute_result"
    }
   ],
   "source": [
    "Qp"
   ]
  },
  {
   "cell_type": "code",
   "execution_count": 97,
   "metadata": {},
   "outputs": [
    {
     "data": {
      "text/plain": [
       "<matplotlib.image.AxesImage at 0x7f99018d31f0>"
      ]
     },
     "execution_count": 97,
     "metadata": {},
     "output_type": "execute_result"
    },
    {
     "data": {
      "image/png": "[encoded data removed]",
      "text/plain": [
       "<Figure size 432x288 with 1 Axes>"
      ]
     },
     "metadata": {
      "needs_background": "light"
     },
     "output_type": "display_data"
    }
   ],
   "source": [
    "g = G.sample()\n",
    "plt.imshow((W**2).rho(g).to_dense())"
   ]
  },
  {
   "cell_type": "code",
   "execution_count": 100,
   "metadata": {},
   "outputs": [
    {
     "data": {
      "text/plain": [
       "DeviceArray(1296, dtype=int32)"
      ]
     },
     "execution_count": 100,
     "metadata": {},
     "output_type": "execute_result"
    }
   ],
   "source": [
    "((W**4).rho(g).to_dense()>0).sum()"
   ]
  },
  {
   "cell_type": "code",
   "execution_count": 84,
   "metadata": {},
   "outputs": [
    {
     "data": {
      "text/plain": [
       "DeviceArray(0., dtype=float32)"
      ]
     },
     "execution_count": 84,
     "metadata": {},
     "output_type": "execute_result"
    }
   ],
   "source": [
    "jnp.abs(Qp+Q).mean()"
   ]
  },
  {
   "cell_type": "code",
   "execution_count": 39,
   "metadata": {},
   "outputs": [
    {
     "data": {
      "text/plain": [
       "(1296, 15)"
      ]
     },
     "execution_count": 39,
     "metadata": {},
     "output_type": "execute_result"
    }
   ],
   "source": [
    "(W**2>>W**2).symmetric_basis().shape"
   ]
  },
  {
   "cell_type": "code",
   "execution_count": 34,
   "metadata": {},
   "outputs": [
    {
     "data": {
      "image/png": "[encoded data removed]",
      "text/plain": [
       "<Figure size 432x288 with 1 Axes>"
      ]
     },
     "metadata": {
      "needs_background": "light"
     },
     "output_type": "display_data"
    }
   ],
   "source": [
    "vis(P*W**3,W**2,False)"
   ]
  },
  {
   "cell_type": "code",
   "execution_count": 158,
   "metadata": {},
   "outputs": [
    {
     "data": {
      "image/png": "[encoded data removed]",
      "text/plain": [
       "<Figure size 432x288 with 1 Axes>"
      ]
     },
     "metadata": {
      "needs_background": "light"
     },
     "output_type": "display_data"
    }
   ],
   "source": [
    "vis(V(SO(3))**2,V(SO(3)),cluster=False)"
   ]
  },
  {
   "cell_type": "code",
   "execution_count": 159,
   "metadata": {},
   "outputs": [
    {
     "ename": "TypeError",
     "evalue": "unsupported operand type(s) for ^: 'PseudoScalar' and 'PseudoScalar'",
     "output_type": "error",
     "traceback": [
      "\u001b[0;31m---------------------------------------------------------------------------\u001b[0m",
      "\u001b[0;31mTypeError\u001b[0m                                 Traceback (most recent call last)",
      "\u001b[0;32m<ipython-input-159-759f454a0663>\u001b[0m in \u001b[0;36m<module>\u001b[0;34m\u001b[0m\n\u001b[0;32m----> 1\u001b[0;31m \u001b[0mP\u001b[0m\u001b[0;34m^\u001b[0m\u001b[0mP\u001b[0m\u001b[0;34m\u001b[0m\u001b[0;34m\u001b[0m\u001b[0m\n\u001b[0m",
      "\u001b[0;31mTypeError\u001b[0m: unsupported operand type(s) for ^: 'PseudoScalar' and 'PseudoScalar'"
     ]
    }
   ],
   "source": [
    "P^P"
   ]
  },
  {
   "cell_type": "code",
   "execution_count": 129,
   "metadata": {},
   "outputs": [
    {
     "data": {
      "text/plain": [
       "DeviceArray([[1.]], dtype=float32)"
      ]
     },
     "execution_count": 129,
     "metadata": {},
     "output_type": "execute_result"
    }
   ],
   "source": [
    "G = S(5)\n",
    "P.rho_dense(G.sample())"
   ]
  },
  {
   "cell_type": "code",
   "execution_count": 98,
   "metadata": {},
   "outputs": [],
   "source": [
    "p = np.array([2,0,1,3])"
   ]
  },
  {
   "cell_type": "code",
   "execution_count": 99,
   "metadata": {},
   "outputs": [
    {
     "data": {
      "text/plain": [
       "array([[0., 1., 0., 0.],\n",
       "       [0., 0., 1., 0.],\n",
       "       [1., 0., 0., 0.],\n",
       "       [0., 0., 0., 1.]])"
      ]
     },
     "execution_count": 99,
     "metadata": {},
     "output_type": "execute_result"
    }
   ],
   "source": [
    "g = np.eye(4)[:,p]\n",
    "g"
   ]
  },
  {
   "cell_type": "code",
   "execution_count": 101,
   "metadata": {},
   "outputs": [
    {
     "data": {
      "text/plain": [
       "array([2., 0., 1., 3.])"
      ]
     },
     "execution_count": 101,
     "metadata": {},
     "output_type": "execute_result"
    }
   ],
   "source": [
    "g.T@np.arange(4)"
   ]
  },
  {
   "cell_type": "code",
   "execution_count": 105,
   "metadata": {},
   "outputs": [
    {
     "name": "stdout",
     "output_type": "stream",
     "text": [
      "[[0. 0. 1. 0. 0.]\n",
      " [0. 0. 0. 0. 1.]\n",
      " [0. 1. 0. 0. 0.]\n",
      " [0. 0. 0. 1. 0.]\n",
      " [1. 0. 0. 0. 0.]]\n"
     ]
    },
    {
     "data": {
      "text/plain": [
       "array([[0., 0., 1., 0., 0.],\n",
       "       [0., 0., 0., 0., 1.],\n",
       "       [0., 1., 0., 0., 0.],\n",
       "       [0., 0., 0., 1., 0.],\n",
       "       [1., 0., 0., 0., 0.]])"
      ]
     },
     "execution_count": 105,
     "metadata": {},
     "output_type": "execute_result"
    }
   ],
   "source": [
    "g = G.sample()\n",
    "print(g)\n",
    "np.eye(5)[(g@np.arange(5)).astype(int),:]"
   ]
  },
  {
   "cell_type": "code",
   "execution_count": 81,
   "metadata": {},
   "outputs": [],
   "source": [
    "Q = (F**2>>W**2).symmetric_basis()"
   ]
  },
  {
   "cell_type": "code",
   "execution_count": 82,
   "metadata": {},
   "outputs": [
    {
     "data": {
      "text/plain": [
       "(625, 15)"
      ]
     },
     "execution_count": 82,
     "metadata": {},
     "output_type": "execute_result"
    }
   ],
   "source": [
    "Q.shape"
   ]
  },
  {
   "cell_type": "code",
   "execution_count": 170,
   "metadata": {},
   "outputs": [
    {
     "data": {
      "image/png": "[encoded data removed]",
      "text/plain": [
       "<Figure size 432x288 with 1 Axes>"
      ]
     },
     "metadata": {
      "needs_background": "light"
     },
     "output_type": "display_data"
    }
   ],
   "source": [
    "vis(P*W**3,W**2,cluster=False)"
   ]
  },
  {
   "cell_type": "code",
   "execution_count": 168,
   "metadata": {},
   "outputs": [
    {
     "data": {
      "text/plain": [
       "5"
      ]
     },
     "execution_count": 168,
     "metadata": {},
     "output_type": "execute_result"
    }
   ],
   "source": [
    "W.size()"
   ]
  },
  {
   "cell_type": "code",
   "execution_count": null,
   "metadata": {},
   "outputs": [],
   "source": [
    "# def parity(perm):\n",
    "#     n = len(perm)\n",
    "#     arange = np.arange(n)\n",
    "#     tri_ids = np.tril_indices(n,k=-1)\n",
    "#     vandermonde = np.prod((perm[:,None]-perm[None,:])[tri_ids])\n",
    "#     vandermonde_orig = np.prod((arange[:,None]-arange[None,:])[tri_ids])\n",
    "#     return vandermonde//vandermonde_orig\n",
    "\n",
    "# class Fermi(Rep):\n",
    "#     is_regular=False\n",
    "#     def __init__(self,n):\n",
    "#         self.G= S(n) # n dimensional permutation group\n",
    "#     def rho(self,M):\n",
    "#         perm = (M@np.arange(M.shape[-1])).astype(int)\n",
    "#         sigma = parity(perm)\n",
    "#         return sigma*M\n",
    "#     def size(self):\n",
    "#         return self.G.d\n",
    "#     def __eq__(self,other):\n",
    "#         return type(self)==type(other) and self.G==other.G\n",
    "#     def __hash__(self):\n",
    "#         return hash((type(self),self.G))\n",
    "#     def __str__(self):\n",
    "#         return \"F\"\n",
    "#     @property\n",
    "#     def T(self):\n",
    "#         return self"
   ]
  }
 ],
 "metadata": {
  "jupytext": {
   "formats": "ipynb,md:myst"
  },
  "kernelspec": {
   "display_name": "Python 3",
   "language": "python",
   "name": "python3"
  },
  "language_info": {
   "codemirror_mode": {
    "name": "ipython",
    "version": 3
   },
   "file_extension": ".py",
   "mimetype": "text/x-python",
   "name": "python",
   "nbconvert_exporter": "python",
   "pygments_lexer": "ipython3",
   "version": "3.8.5"
  }
 },
 "nbformat": 4,
 "nbformat_minor": 2
}
