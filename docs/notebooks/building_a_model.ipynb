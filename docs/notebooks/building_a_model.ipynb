{
 "cells": [
  {
   "cell_type": "markdown",
   "metadata": {},
   "source": [
    "# Constructing Equivariant Models"
   ]
  },
  {
   "cell_type": "markdown",
   "metadata": {},
   "source": [
    "Previously we showed examples of finding equivariant bases for different groups and representations, now we'll show how these bases can be assembled into equivariant neural networks such as EMLP. \n",
    "\n",
    "We will give examples at a high level showing how the specific EMLP model can be applied to different groups and input-output types, and later in a lower level showing how models like EMLP can be constructed with equivariant layers and making use of the equivariant bases."
   ]
  },
  {
   "cell_type": "markdown",
   "metadata": {},
   "source": [
    "## Using EMLP with different groups and representations (high level)"
   ]
  },
  {
   "cell_type": "markdown",
   "metadata": {},
   "source": [
    "![ex 2.13](imgs/EMLP_fig.png)"
   ]
  },
  {
   "cell_type": "markdown",
   "metadata": {},
   "source": [
    "A basic EMLP is a sequence of EMLP layers (containing G-equivariant linear layers, bilinear layers incorporated with a shortcut connection, and gated nonlinearities. While our numerical equivariance solver can work with any finite dimensional linear representation, for EMLP we restrict ourselves to _tensor_ representations."
   ]
  },
  {
   "cell_type": "markdown",
   "metadata": {},
   "source": [
    "By tensor representations, we mean all representations which can be formed by arbitrary combinations of $\\oplus$,$\\otimes$,$^*$ (`+`,`*`,`.T`) of a base representation $\\rho$. This is useful because it simplifies the construction of our bilinear layer, which is a crucial ingredient for expressiveness and universality in EMLP.\n",
    "\n",
    "Following the $T_{(p,q)}=V^{\\otimes p}\\otimes (V^*)^{\\otimes p}$ notation in the paper, we provide the convenience function for constructing higher rank tensors."
   ]
  },
  {
   "cell_type": "code",
   "execution_count": 1,
   "metadata": {},
   "outputs": [
    {
     "name": "stdout",
     "output_type": "stream",
     "text": [
      "V⊗V⊗V*⊗V*⊗V*\n",
      "V²⊗V*³\n"
     ]
    }
   ],
   "source": [
    "from emlp.solver.representation import V\n",
    "from emlp.solver.groups import SO13\n",
    "\n",
    "def T(p,q=0):\n",
    "    return (V**p*V.T**q)\n",
    "\n",
    "print(T(2,3))\n",
    "print(T(2,3)(SO13()))"
   ]
  },
  {
   "cell_type": "markdown",
   "metadata": {},
   "source": [
    "Lets get started with a toy dataset: learning how an inertia matrix depends on the positions and masses of 5 point masses distributed in different ways. The data consists of mappings (positions, masses) --> (inertia matrix) pairs, and has an $G=O(3)$ symmetry (3D rotation and reflections). If we rotate all the positions, the resulting inertia matrix should be correspondingly rotated."
   ]
  },
  {
   "cell_type": "code",
   "execution_count": 82,
   "metadata": {},
   "outputs": [
    {
     "name": "stdout",
     "output_type": "stream",
     "text": [
      "Input type: 5V⁰+5V, output type: V²\n"
     ]
    }
   ],
   "source": [
    "from emlp.models.datasets import Inertia\n",
    "from emlp.solver.groups import SO,O,S,Z\n",
    "trainset = Inertia(1000) # Initialize dataset with 1000 examples\n",
    "testset = Inertia(2000)\n",
    "G = SO(3)\n",
    "print(f\"Input type: {trainset.rep_in(G)}, output type: {trainset.rep_out(G)}\")"
   ]
  },
  {
   "cell_type": "markdown",
   "metadata": {},
   "source": [
    "For convenience, we store in the dataset the types for the input and the output. `5V⁰` are the $5$ mass values and `5V` are the position vectors of those masses, `V²` is the matrix type for the output, equivalent to $T_2$. To initialize the EMLP, we just need these input and output representations, the symmetry group, and the size of the network as parametrized by number of layers and number of channels (the dimension of the feature representation)."
   ]
  },
  {
   "cell_type": "code",
   "execution_count": 83,
   "metadata": {},
   "outputs": [],
   "source": [
    "from emlp.models.mlp import EMLP,MLP\n",
    "model = EMLP(dataset.rep_in,dataset.rep_out,group=G,num_layers=3,ch=384)\n",
    "# uncomment the following line to instead try the MLP baseline\n",
    "#model = MLP(dataset.rep_in,dataset.rep_out,group=G,num_layers=3,ch=384)"
   ]
  },
  {
   "cell_type": "code",
   "execution_count": 84,
   "metadata": {},
   "outputs": [],
   "source": [
    "BS=500\n",
    "lr=3e-3\n",
    "NUM_EPOCHS=1000\n",
    "\n",
    "import objax\n",
    "import jax.numpy as jnp\n",
    "import numpy as np\n",
    "from tqdm.auto import tqdm\n",
    "from torch.utils.data import DataLoader\n",
    "\n",
    "opt = objax.optimizer.Adam(model.vars())\n",
    "\n",
    "@objax.Function.with_vars(model.vars())\n",
    "def loss(x, y,training=True):\n",
    "    yhat = model(x, training=training)\n",
    "    return ((yhat-y)**2).mean()\n",
    "\n",
    "\n",
    "gv = objax.GradValues(loss, model.vars())\n",
    "\n",
    "@objax.Function.with_vars(model.vars())\n",
    "def train_op(x, y, lr):\n",
    "    g, v = gv(x, y)\n",
    "    opt(lr=lr, grads=g)\n",
    "    return v\n",
    "\n",
    "train_op = objax.Jit(train_op)\n",
    "test_loss = objax.Jit(objax.ForceArgs(loss, training=False))\n",
    "\n",
    "trainloader = DataLoader(trainset,batch_size=BS,shuffle=True)\n",
    "testloader = DataLoader(testset,batch_size=BS,shuffle=True)"
   ]
  },
  {
   "cell_type": "code",
   "execution_count": 85,
   "metadata": {},
   "outputs": [
    {
     "data": {
      "application/vnd.jupyter.widget-view+json": {
       "model_id": "9cfe2cccfa94444cbb65bfa76cfd8db6",
       "version_major": 2,
       "version_minor": 0
      },
      "text/plain": [
       "  0%|          | 0/1000 [00:00<?, ?it/s]"
      ]
     },
     "metadata": {},
     "output_type": "display_data"
    }
   ],
   "source": [
    "test_losses = []\n",
    "train_losses = []\n",
    "for epoch in tqdm(range(NUM_EPOCHS)):\n",
    "    train_losses.append(np.mean([train_op(jnp.array(x),jnp.array(y),lr) for (x,y) in trainloader]))\n",
    "    if not epoch%10:\n",
    "        test_losses.append(np.mean([test_loss(jnp.array(x),jnp.array(y)) for (x,y) in testloader]))"
   ]
  },
  {
   "cell_type": "code",
   "execution_count": 86,
   "metadata": {},
   "outputs": [
    {
     "data": {
      "text/plain": [
       "<matplotlib.legend.Legend at 0x7f5e044735e0>"
      ]
     },
     "execution_count": 86,
     "metadata": {},
     "output_type": "execute_result"
    },
    {
     "data": {
      "image/png": "[encoded data removed]",
      "text/plain": [
       "<Figure size 432x288 with 1 Axes>"
      ]
     },
     "metadata": {
      "needs_background": "light"
     },
     "output_type": "display_data"
    }
   ],
   "source": [
    "import matplotlib.pyplot as plt\n",
    "plt.plot(np.arange(NUM_EPOCHS),train_losses,label='Train loss')\n",
    "plt.plot(np.arange(0,NUM_EPOCHS,10),test_losses,label='Test loss')\n",
    "plt.legend()"
   ]
  },
  {
   "cell_type": "code",
   "execution_count": 5,
   "metadata": {},
   "outputs": [],
   "source": [
    "from emlp.models.mlp import uniform_rep\n",
    "r = uniform_rep(512,G)\n",
    "print(r)"
   ]
  },
  {
   "cell_type": "code",
   "execution_count": 5,
   "metadata": {},
   "outputs": [
    {
     "ename": "NameError",
     "evalue": "name 'Module' is not defined",
     "output_type": "error",
     "traceback": [
      "\u001b[0;31m---------------------------------------------------------------------------\u001b[0m",
      "\u001b[0;31mNameError\u001b[0m                                 Traceback (most recent call last)",
      "\u001b[0;32m<ipython-input-5-dfa6aa01e575>\u001b[0m in \u001b[0;36m<module>\u001b[0;34m\u001b[0m\n\u001b[0;32m----> 1\u001b[0;31m \u001b[0;32mclass\u001b[0m \u001b[0mEMLP\u001b[0m\u001b[0;34m(\u001b[0m\u001b[0mModule\u001b[0m\u001b[0;34m,\u001b[0m\u001b[0mmetaclass\u001b[0m\u001b[0;34m=\u001b[0m\u001b[0mNamed\u001b[0m\u001b[0;34m)\u001b[0m\u001b[0;34m:\u001b[0m\u001b[0;34m\u001b[0m\u001b[0;34m\u001b[0m\u001b[0m\n\u001b[0m\u001b[1;32m      2\u001b[0m     \u001b[0;32mdef\u001b[0m \u001b[0m__init__\u001b[0m\u001b[0;34m(\u001b[0m\u001b[0mself\u001b[0m\u001b[0;34m,\u001b[0m\u001b[0mrep_in\u001b[0m\u001b[0;34m,\u001b[0m\u001b[0mrep_out\u001b[0m\u001b[0;34m,\u001b[0m\u001b[0mgroup\u001b[0m\u001b[0;34m,\u001b[0m\u001b[0mch\u001b[0m\u001b[0;34m=\u001b[0m\u001b[0;36m384\u001b[0m\u001b[0;34m,\u001b[0m\u001b[0mnum_layers\u001b[0m\u001b[0;34m=\u001b[0m\u001b[0;36m3\u001b[0m\u001b[0;34m)\u001b[0m\u001b[0;34m:\u001b[0m\u001b[0;31m#@\u001b[0m\u001b[0;34m\u001b[0m\u001b[0;34m\u001b[0m\u001b[0m\n\u001b[1;32m      3\u001b[0m         \u001b[0msuper\u001b[0m\u001b[0;34m(\u001b[0m\u001b[0;34m)\u001b[0m\u001b[0;34m.\u001b[0m\u001b[0m__init__\u001b[0m\u001b[0;34m(\u001b[0m\u001b[0;34m)\u001b[0m\u001b[0;34m\u001b[0m\u001b[0;34m\u001b[0m\u001b[0m\n\u001b[1;32m      4\u001b[0m         \u001b[0mlogging\u001b[0m\u001b[0;34m.\u001b[0m\u001b[0minfo\u001b[0m\u001b[0;34m(\u001b[0m\u001b[0;34m\"Initing EMLP\"\u001b[0m\u001b[0;34m)\u001b[0m\u001b[0;34m\u001b[0m\u001b[0;34m\u001b[0m\u001b[0m\n\u001b[1;32m      5\u001b[0m         \u001b[0mself\u001b[0m\u001b[0;34m.\u001b[0m\u001b[0mrep_in\u001b[0m \u001b[0;34m=\u001b[0m\u001b[0mrep_in\u001b[0m\u001b[0;34m(\u001b[0m\u001b[0mgroup\u001b[0m\u001b[0;34m)\u001b[0m\u001b[0;34m\u001b[0m\u001b[0;34m\u001b[0m\u001b[0m\n",
      "\u001b[0;31mNameError\u001b[0m: name 'Module' is not defined"
     ]
    }
   ],
   "source": [
    "# class EMLP(Module,metaclass=Named):\n",
    "#     def __init__(self,rep_in,rep_out,group,ch=384,num_layers=3):#@\n",
    "#         super().__init__()\n",
    "#         logging.info(\"Initing EMLP\")\n",
    "#         self.rep_in =rep_in(group)\n",
    "#         self.rep_out = rep_out(group)\n",
    "        \n",
    "#         self.G=group\n",
    "#         # Parse ch as a single int, a sequence of ints, a single Rep, a sequence of Reps\n",
    "#         if isinstance(ch,int): middle_layers = num_layers*[uniform_rep(ch,group)]#[uniform_rep(ch,group) for _ in range(num_layers)]\n",
    "#         elif isinstance(ch,Rep): middle_layers = num_layers*[ch(group)]\n",
    "#         else: middle_layers = [(c(group) if isinstance(c,Rep) else uniform_rep(c,group)) for c in ch]\n",
    "#         #assert all((not rep.G is None) for rep in middle_layers[0].reps)\n",
    "#         reps = [self.rep_in]+middle_layers\n",
    "#         #logging.info(f\"Reps: {reps}\")\n",
    "#         self.network = Sequential(\n",
    "#             *[EMLPBlock(rin,rout) for rin,rout in zip(reps,reps[1:])],\n",
    "#             LieLinear(reps[-1],self.rep_out)\n",
    "#         )\n",
    "#         #self.network = LieLinear(self.rep_in,self.rep_out)\n",
    "#     def __call__(self,x,training=True):\n",
    "#         return self.network(x)"
   ]
  },
  {
   "cell_type": "code",
   "execution_count": null,
   "metadata": {},
   "outputs": [],
   "source": []
  },
  {
   "cell_type": "markdown",
   "metadata": {},
   "source": [
    "## Equivariant Linear Layers (low level)"
   ]
  },
  {
   "cell_type": "code",
   "execution_count": null,
   "metadata": {},
   "outputs": [],
   "source": []
  }
 ],
 "metadata": {
  "jupytext": {
   "formats": "ipynb,md:myst"
  },
  "kernelspec": {
   "display_name": "Python 3",
   "language": "python",
   "name": "python3"
  },
  "language_info": {
   "codemirror_mode": {
    "name": "ipython",
    "version": 3
   },
   "file_extension": ".py",
   "mimetype": "text/x-python",
   "name": "python",
   "nbconvert_exporter": "python",
   "pygments_lexer": "ipython3",
   "version": "3.8.5"
  }
 },
 "nbformat": 4,
 "nbformat_minor": 2
}
